{
 "cells": [
  {
   "cell_type": "code",
   "execution_count": 138,
   "id": "b55f2495",
   "metadata": {
    "ExecuteTime": {
     "end_time": "2025-02-03T07:26:38.277308Z",
     "start_time": "2025-02-03T07:26:38.273952Z"
    }
   },
   "outputs": [],
   "source": [
    "import tensorflow as tf\n",
    "import numpy as np\n",
    "from tensorflow.keras import layers, Model\n",
    "import matplotlib.pyplot as plt \n",
    "import seaborn as sns\n",
    "import os\n",
    "import glob\n",
    "import pandas as pd\n",
    "from tqdm import tqdm\n",
    "from sklearn.metrics import confusion_matrix, classification_report\n",
    "from sklearn.preprocessing import StandardScaler"
   ]
  },
  {
   "cell_type": "code",
   "execution_count": 139,
   "id": "44399eca",
   "metadata": {
    "ExecuteTime": {
     "end_time": "2025-02-03T07:26:38.282950Z",
     "start_time": "2025-02-03T07:26:38.279993Z"
    }
   },
   "outputs": [],
   "source": [
    "WINDOW_LENGTH = 256  # data window\n",
    "STRIDE = 128        # stride\n",
    "BATCH_SIZE = 64  # batch\n",
    "EPOCHS = 100  # epoch\n",
    "LEARNING_RATE = 0.0001  # lr\n",
    "PROJ_DIM = 128  # embedding dimension"
   ]
  },
  {
   "cell_type": "code",
   "execution_count": 140,
   "id": "29ebfdbf",
   "metadata": {
    "ExecuteTime": {
     "end_time": "2025-02-03T07:26:38.288126Z",
     "start_time": "2025-02-03T07:26:38.285163Z"
    }
   },
   "outputs": [],
   "source": [
    "datapath = \"../../../data/SisFall_Dataset/\" "
   ]
  },
  {
   "cell_type": "code",
   "execution_count": 141,
   "id": "e3b268bb",
   "metadata": {
    "ExecuteTime": {
     "end_time": "2025-02-03T07:26:38.295836Z",
     "start_time": "2025-02-03T07:26:38.291372Z"
    }
   },
   "outputs": [
    {
     "data": {
      "text/plain": [
       "'\\n        Each file contains nine columns and a different number of rows depending on the test length.\\n        \\n        1st column is the acceleration data in the X axis measured by the sensor ADXL345.\\n        2nd column is the acceleration data in the Y axis measured by the sensor ADXL345.\\n        3rd column is the acceleration data in the Z axis measured by the sensor ADXL345.\\n\\n        4th column is the rotation data in the X axis measured by the sensor ITG3200.\\n        5th column is the rotation data in the Y axis measured by the sensor ITG3200.\\n        6th column is the rotation data in the Z axis measured by the sensor ITG3200.\\n\\n        7th column is the acceleration data in the X axis measured by the sensor MMA8451Q.\\n        8th column is the acceleration data in the Y axis measured by the sensor MMA8451Q.\\n        9th column is the acceleration data in the Z axis measured by the sensor MMA8451Q.\\n        \\n        Data are in bits with the following characteristics:\\n\\n        ADXL345:\\n        Resolution: 13 bits\\n        Range: +-16g\\n\\n        ITG3200\\n        Resolution: 16 bits\\n        Range: +-2000°/s\\n\\n        MMA8451Q:\\n        Resolution: 14 bits\\n        Range: +-8g\\n'"
      ]
     },
     "execution_count": 141,
     "metadata": {},
     "output_type": "execute_result"
    }
   ],
   "source": [
    "'''\n",
    "        Each file contains nine columns and a different number of rows depending on the test length.\n",
    "        \n",
    "        1st column is the acceleration data in the X axis measured by the sensor ADXL345.\n",
    "        2nd column is the acceleration data in the Y axis measured by the sensor ADXL345.\n",
    "        3rd column is the acceleration data in the Z axis measured by the sensor ADXL345.\n",
    "\n",
    "        4th column is the rotation data in the X axis measured by the sensor ITG3200.\n",
    "        5th column is the rotation data in the Y axis measured by the sensor ITG3200.\n",
    "        6th column is the rotation data in the Z axis measured by the sensor ITG3200.\n",
    "\n",
    "        7th column is the acceleration data in the X axis measured by the sensor MMA8451Q.\n",
    "        8th column is the acceleration data in the Y axis measured by the sensor MMA8451Q.\n",
    "        9th column is the acceleration data in the Z axis measured by the sensor MMA8451Q.\n",
    "        \n",
    "        Data are in bits with the following characteristics:\n",
    "\n",
    "        ADXL345:\n",
    "        Resolution: 13 bits\n",
    "        Range: +-16g\n",
    "\n",
    "        ITG3200\n",
    "        Resolution: 16 bits\n",
    "        Range: +-2000°/s\n",
    "\n",
    "        MMA8451Q:\n",
    "        Resolution: 14 bits\n",
    "        Range: +-8g\n",
    "'''"
   ]
  },
  {
   "cell_type": "code",
   "execution_count": 142,
   "id": "0fb769b8",
   "metadata": {
    "ExecuteTime": {
     "end_time": "2025-02-03T07:26:38.303055Z",
     "start_time": "2025-02-03T07:26:38.298153Z"
    }
   },
   "outputs": [],
   "source": [
    "adl_activities = [f'D{str(i).zfill(2)}' for i in range(1, 20)]  # D01-D19\n",
    "fall_activities = [f'F{str(i).zfill(2)}' for i in range(1, 16)]  # F01-F15\n",
    "\n",
    "label2id = {act: 0 for act in adl_activities}\n",
    "label2id.update({act: 1 for act in fall_activities})\n",
    "\n",
    "adult_subjects = [f'SA{str(i).zfill(2)}' for i in range(1, 24)]  # SA01-SA23\n",
    "elderly_subjects = [f'SE{str(i).zfill(2)}' for i in range(1, 16)]  # SE01-SE15\n",
    "\n",
    "train_sa = adult_subjects[:16]    # 16 subjects\n",
    "val_sa = adult_subjects[16:19]    # 3 subjects\n",
    "test_sa = adult_subjects[19:]     # 4 subjects\n",
    "\n",
    "train_se = elderly_subjects[:10]  # 10 subjects\n",
    "val_se = elderly_subjects[10:12]  # 2 subjects\n",
    "test_se = elderly_subjects[12:]   # 3 subjects\n",
    "\n",
    "train_split = train_sa + train_se\n",
    "val_split = val_sa + val_se\n",
    "test_split = test_sa + test_se"
   ]
  },
  {
   "cell_type": "code",
   "execution_count": 143,
   "id": "82deef5e",
   "metadata": {
    "ExecuteTime": {
     "end_time": "2025-02-03T07:26:38.309367Z",
     "start_time": "2025-02-03T07:26:38.305128Z"
    }
   },
   "outputs": [],
   "source": [
    "def read_sensor_file(filepath) :\n",
    "   \"\"\"\n",
    "       first 6 columns : ADXL345 acc + ITG3200 gyro\n",
    "   \"\"\"\n",
    "   with open(filepath, 'r') as file:\n",
    "       content = file.read()\n",
    "\n",
    "   content = content.replace(' ', '')  # delete blank\n",
    "   rows = []\n",
    "\n",
    "   for line in content.split(';\\n'): \n",
    "       if line.strip():\n",
    "           try:\n",
    "               values = [float(x) for x in line.split(',')[:6]]\n",
    "               rows.append(values)\n",
    "           except (ValueError, IndexError):\n",
    "               continue\n",
    "\n",
    "   return np.array(rows)"
   ]
  },
  {
   "cell_type": "code",
   "execution_count": 144,
   "id": "577149ea",
   "metadata": {
    "ExecuteTime": {
     "end_time": "2025-02-03T07:26:38.315647Z",
     "start_time": "2025-02-03T07:26:38.311391Z"
    }
   },
   "outputs": [],
   "source": [
    "def split_sequences(data, labels, \n",
    "                    window_length=WINDOW_LENGTH, \n",
    "                    stride=STRIDE,\n",
    "                    clean=True):\n",
    "    idx = 0\n",
    "    endidx = len(data)\n",
    "    windows = []\n",
    "    window_labels = []\n",
    "    \n",
    "    while idx < endidx - window_length:\n",
    "        data_segment = data[idx:idx+window_length].T\n",
    "        \n",
    "        if clean and len(np.unique(labels[idx:idx + window_length])) > 1:\n",
    "            pass\n",
    "        else:\n",
    "            windows.append(data_segment)\n",
    "            window_labels.append(labels[idx+window_length])\n",
    "        \n",
    "        idx += stride\n",
    "    \n",
    "    if len(windows) == 0:\n",
    "        return None, None\n",
    "    \n",
    "    return np.stack(windows), np.asarray(window_labels)"
   ]
  },
  {
   "cell_type": "code",
   "execution_count": 145,
   "id": "1d0f12dd",
   "metadata": {
    "ExecuteTime": {
     "end_time": "2025-02-03T07:26:54.998618Z",
     "start_time": "2025-02-03T07:26:38.317538Z"
    }
   },
   "outputs": [
    {
     "name": "stderr",
     "output_type": "stream",
     "text": [
      "100%|███████████████████████████████████████████| 26/26 [00:16<00:00,  1.59it/s]\n"
     ]
    },
    {
     "name": "stdout",
     "output_type": "stream",
     "text": [
      "# of windows: 37570\n",
      "data shape: (37570, 6, 256)\n",
      "labels shape: (37570,)\n",
      "{0: 37570}\n"
     ]
    }
   ],
   "source": [
    "'''\n",
    "   TRAIN DATA PREPARING PART\n",
    "   ONLY \"ADL\"\n",
    "'''\n",
    "train_data_normal = []  \n",
    "train_labels_normal = [] \n",
    "\n",
    "for subject in tqdm(train_split):  \n",
    "   subject_dir = os.path.join(datapath, subject)\n",
    "   \n",
    "   if subject.startswith('SE') and subject != 'SE06':\n",
    "       continue\n",
    "       \n",
    "   for activity in adl_activities:\n",
    "       activity_pattern = os.path.join(subject_dir, f\"{activity}*.txt\")\n",
    "       activity_files = glob.glob(activity_pattern)\n",
    "       \n",
    "       for file_path in activity_files:\n",
    "           try:\n",
    "               raw_data = read_sensor_file(file_path)\n",
    "               if raw_data is not None and raw_data.shape[1] == 6:\n",
    "                   sensor_data = raw_data\n",
    "                   activity_labels = np.full(len(sensor_data), label2id[activity])\n",
    "                   \n",
    "                   windows_data, windows_labels = split_sequences(\n",
    "                       sensor_data, activity_labels, \n",
    "                       WINDOW_LENGTH, STRIDE\n",
    "                   )\n",
    "                   \n",
    "                   if windows_data is not None and len(windows_data) > 0:\n",
    "                       train_data_normal.append(windows_data)\n",
    "                       train_labels_normal.append(windows_labels)\n",
    "                   \n",
    "           except Exception as e: \n",
    "               print(f\"Error processing file {file_path}: {e}\")\n",
    "               \n",
    "train_data_normal = np.concatenate(train_data_normal, axis=0)\n",
    "train_labels_normal = np.concatenate(train_labels_normal)\n",
    "\n",
    "print (f\"# of windows: {len(train_data_normal)}\")\n",
    "print (f\"data shape: {train_data_normal.shape}\")\n",
    "print (f\"labels shape: {train_labels_normal.shape}\")\n",
    "unique_labels, counts = np.unique(train_labels_normal, return_counts=True)\n",
    "print (dict(zip(unique_labels, counts)))"
   ]
  },
  {
   "cell_type": "code",
   "execution_count": 146,
   "id": "70c96baf",
   "metadata": {
    "ExecuteTime": {
     "end_time": "2025-02-03T07:27:01.684405Z",
     "start_time": "2025-02-03T07:26:55.004817Z"
    }
   },
   "outputs": [
    {
     "name": "stderr",
     "output_type": "stream",
     "text": [
      "100%|█████████████████████████████████████████████| 7/7 [00:06<00:00,  1.07it/s]"
     ]
    },
    {
     "name": "stdout",
     "output_type": "stream",
     "text": [
      "# of windows: 15319\n",
      "data shape: (15319, 6, 256)\n",
      "labels shape: (15319,)\n",
      "{0: 8764, 1: 6555}\n"
     ]
    },
    {
     "name": "stderr",
     "output_type": "stream",
     "text": [
      "\n"
     ]
    }
   ],
   "source": [
    "'''\n",
    "   TEST DATA PREPARING PART\n",
    "   ADL + FALL\n",
    "'''\n",
    "test_data = []\n",
    "test_labels = []\n",
    "\n",
    "for subject in tqdm(test_split):\n",
    "   subject_dir = os.path.join(datapath, subject)\n",
    "   \n",
    "   is_elderly = subject.startswith('SE')\n",
    "   \n",
    "   if not (is_elderly and subject != 'SE06'): \n",
    "       for activity in adl_activities:\n",
    "           activity_pattern = os.path.join(subject_dir, f\"{activity}*.txt\")\n",
    "           activity_files = glob.glob(activity_pattern)\n",
    "           \n",
    "           for file_path in activity_files:\n",
    "               try:\n",
    "                   raw_data = read_sensor_file(file_path)\n",
    "                   if raw_data is not None and raw_data.shape[1] == 6:\n",
    "                       sensor_data = raw_data\n",
    "                       activity_labels = np.full(len(sensor_data), label2id[activity])\n",
    "                       \n",
    "                       windows_data, windows_labels = split_sequences(\n",
    "                           sensor_data, activity_labels,\n",
    "                           WINDOW_LENGTH, STRIDE\n",
    "                       )\n",
    "                       \n",
    "                       if windows_data is not None and len(windows_data) > 0:\n",
    "                           test_data.append(windows_data)\n",
    "                           test_labels.append(windows_labels)\n",
    "                           \n",
    "               except Exception as e:\n",
    "                   print(f\"Error processing file {file_path}: {e}\")\n",
    "   \n",
    "   if not is_elderly or subject == 'SE06':\n",
    "       for activity in fall_activities:\n",
    "           activity_pattern = os.path.join(subject_dir, f\"{activity}*.txt\")\n",
    "           activity_files = glob.glob(activity_pattern)\n",
    "           \n",
    "           for file_path in activity_files:\n",
    "               try:\n",
    "                   raw_data = read_sensor_file(file_path)\n",
    "                   if raw_data is not None and raw_data.shape[1] == 6:\n",
    "                       sensor_data = raw_data\n",
    "                       activity_labels = np.full(len(sensor_data), label2id[activity])\n",
    "                       \n",
    "                       windows_data, windows_labels = split_sequences(\n",
    "                           sensor_data, activity_labels,\n",
    "                           WINDOW_LENGTH, STRIDE\n",
    "                       )\n",
    "                       \n",
    "                       if windows_data is not None and len(windows_data) > 0:\n",
    "                           test_data.append(windows_data)\n",
    "                           test_labels.append(windows_labels)\n",
    "                           \n",
    "               except Exception as e:\n",
    "                   print(f\"Error processing file {file_path}: {e}\")\n",
    "\n",
    "test_data = np.concatenate(test_data, axis=0)\n",
    "test_labels = np.concatenate(test_labels)\n",
    "\n",
    "print (f\"# of windows: {len(test_data)}\")\n",
    "print (f\"data shape: {test_data.shape}\")\n",
    "print (f\"labels shape: {test_labels.shape}\")\n",
    "unique_labels, counts = np.unique(test_labels, return_counts=True)\n",
    "print(dict(zip(unique_labels, counts)))"
   ]
  },
  {
   "cell_type": "code",
   "execution_count": 147,
   "id": "c5df9c42",
   "metadata": {
    "ExecuteTime": {
     "end_time": "2025-02-03T07:27:02.571666Z",
     "start_time": "2025-02-03T07:27:01.686540Z"
    }
   },
   "outputs": [],
   "source": [
    "train_data_shape = train_data_normal.shape\n",
    "test_data_shape = test_data.shape\n",
    "\n",
    "train_data_2d = train_data_normal.reshape(-1, train_data_normal.shape[-1])\n",
    "test_data_2d = test_data.reshape(-1, test_data.shape[-1])\n",
    "\n",
    "scaler = StandardScaler()\n",
    "train_data_2d = scaler.fit_transform(train_data_2d)\n",
    "test_data_2d = scaler.transform(test_data_2d)\n",
    "\n",
    "train_data_normal = train_data_2d.reshape(train_data_shape)\n",
    "test_data = test_data_2d.reshape(test_data_shape)"
   ]
  },
  {
   "cell_type": "code",
   "execution_count": 148,
   "id": "e248e94c",
   "metadata": {
    "ExecuteTime": {
     "end_time": "2025-02-03T07:27:02.791331Z",
     "start_time": "2025-02-03T07:27:02.573931Z"
    }
   },
   "outputs": [
    {
     "name": "stdout",
     "output_type": "stream",
     "text": [
      "train data - accel shape: (37570, 6, 3)\n",
      "train data - gyro shape: (37570, 6, 253)\n",
      "test data - accel shape: (15319, 6, 3)\n",
      "test data - gyro shape: (15319, 6, 253)\n",
      "# of training batches: 588\n",
      "# of test batches: 240\n"
     ]
    }
   ],
   "source": [
    "train_acc_normal = train_data_normal[..., :3] \n",
    "train_gyro_normal = train_data_normal[..., 3:]  \n",
    "# (x, y, z)\n",
    "\n",
    "test_acc = test_data[..., :3]  \n",
    "test_gyro = test_data[..., 3:] \n",
    "\n",
    "train_dataset = tf.data.Dataset.from_tensor_slices((train_acc_normal, train_gyro_normal))\n",
    "train_dataset = train_dataset.batch(BATCH_SIZE)\n",
    "\n",
    "test_dataset = tf.data.Dataset.from_tensor_slices(\n",
    "    ((test_acc, test_gyro), test_labels)\n",
    ").batch(BATCH_SIZE)\n",
    "\n",
    "print (f\"train data - accel shape: {train_acc_normal.shape}\")\n",
    "print (f\"train data - gyro shape: {train_gyro_normal.shape}\")\n",
    "print (f\"test data - accel shape: {test_acc.shape}\")\n",
    "print (f\"test data - gyro shape: {test_gyro.shape}\")\n",
    "print (f\"# of training batches: {len(train_dataset)}\")\n",
    "print (f\"# of test batches: {len(test_dataset)}\")"
   ]
  },
  {
   "cell_type": "markdown",
   "id": "0005414b",
   "metadata": {},
   "source": [
    "------"
   ]
  },
  {
   "cell_type": "code",
   "execution_count": 149,
   "id": "227d06a5",
   "metadata": {
    "ExecuteTime": {
     "end_time": "2025-02-03T07:27:02.800306Z",
     "start_time": "2025-02-03T07:27:02.793264Z"
    }
   },
   "outputs": [],
   "source": [
    "class Encoder(Model):\n",
    "    def __init__(self, in_feat, out_feat, num_encoders=1, use_skip=True):\n",
    "        super(Encoder, self).__init__()\n",
    "        self.use_skip = use_skip\n",
    "        self.num_encoders = num_encoders\n",
    "        \n",
    "        for i in range(num_encoders):\n",
    "            setattr(self, f'conv1_{i}', layers.Conv1D(filters=out_feat*3, \n",
    "                                                      kernel_size=7, padding='same', \n",
    "                                                      activation='relu'))\n",
    "            setattr(self, f'maxpool1_{i}', layers.MaxPooling1D(pool_size=2, padding='same'))\n",
    "            setattr(self, f'conv2_{i}', layers.Conv1D(filters=out_feat*2, \n",
    "                                                      kernel_size=5, padding='same', \n",
    "                                                      activation='relu'))\n",
    "            setattr(self, f'maxpool2_{i}', layers.MaxPooling1D(pool_size=2, padding='same'))\n",
    "            setattr(self, f'conv3_{i}', layers.Conv1D(filters=out_feat*1, \n",
    "                                                      kernel_size=3, padding='same', \n",
    "                                                      activation='relu'))\n",
    "    \n",
    "    def call(self, x, training=False):\n",
    "        for i in range(self.num_encoders):\n",
    "            if self.use_skip and i > 0:\n",
    "                identity = x\n",
    "            \n",
    "            x = getattr(self, f'conv1_{i}')(x)\n",
    "            x = getattr(self, f'maxpool1_{i}')(x)\n",
    "            x = getattr(self, f'conv2_{i}')(x)\n",
    "            x = getattr(self, f'maxpool2_{i}')(x)\n",
    "            x = getattr(self, f'conv3_{i}')(x)\n",
    "            \n",
    "            if self.use_skip and i > 0:\n",
    "                x = x + identity\n",
    "        \n",
    "        return tf.reduce_mean(x, axis=1)"
   ]
  },
  {
   "cell_type": "code",
   "execution_count": 150,
   "id": "6a17637e",
   "metadata": {
    "ExecuteTime": {
     "end_time": "2025-02-03T07:27:02.808070Z",
     "start_time": "2025-02-03T07:27:02.802079Z"
    }
   },
   "outputs": [],
   "source": [
    "class CAGE(Model):\n",
    "    def __init__(self, n_feat=6, proj_dim=128):\n",
    "        super(CAGE, self).__init__()\n",
    "        self.proj_dim = proj_dim\n",
    "        \n",
    "        self.enc_A = Encoder(n_feat, 64)\n",
    "        self.enc_G = Encoder(n_feat, 64)\n",
    "        \n",
    "        if self.proj_dim > 0:\n",
    "            self.proj_A = layers.Dense(proj_dim, use_bias=False)\n",
    "            self.proj_G = layers.Dense(proj_dim, use_bias=False)\n",
    "        \n",
    "#         self.temperature = tf.Variable(0.1, trainable=True)\n",
    "        self.temperature = tf.constant(0.1)\n",
    "    \n",
    "    def call(self, x_accel, x_gyro, return_feat=False, training=False):\n",
    "        f_accel = self.enc_A(x_accel, training=training)\n",
    "        f_gyro = self.enc_G(x_gyro, training=training)\n",
    "        \n",
    "        if self.proj_dim > 0:\n",
    "            e_accel = self.proj_A(f_accel)\n",
    "            e_gyro = self.proj_G(f_gyro)\n",
    "        else:\n",
    "            e_accel = f_accel\n",
    "            e_gyro = f_gyro\n",
    "        \n",
    "        e_accel = tf.math.l2_normalize(e_accel, axis=1)\n",
    "        e_gyro = tf.math.l2_normalize(e_gyro, axis=1)\n",
    "        \n",
    "        sim_matrix = tf.matmul(e_accel, e_gyro, transpose_b=True) / self.temperature\n",
    "        \n",
    "        if return_feat:\n",
    "            return sim_matrix, (e_accel, e_gyro)\n",
    "        \n",
    "        return sim_matrix"
   ]
  },
  {
   "cell_type": "code",
   "execution_count": 151,
   "id": "e76cde45",
   "metadata": {
    "ExecuteTime": {
     "end_time": "2025-02-03T07:27:02.834312Z",
     "start_time": "2025-02-03T07:27:02.810162Z"
    }
   },
   "outputs": [],
   "source": [
    "model = CAGE(proj_dim=PROJ_DIM)\n",
    "optimizer = tf.keras.optimizers.Adam(\n",
    "    learning_rate=LEARNING_RATE\n",
    ")"
   ]
  },
  {
   "cell_type": "code",
   "execution_count": 152,
   "id": "6ce13c9d",
   "metadata": {
    "ExecuteTime": {
     "end_time": "2025-02-03T07:27:02.840977Z",
     "start_time": "2025-02-03T07:27:02.836500Z"
    }
   },
   "outputs": [],
   "source": [
    "# @tf.function\n",
    "# def contrastive_loss(logits):\n",
    "#     \"\"\"NT-Xent Loss\"\"\"\n",
    "#     batch_size = tf.shape(logits)[0]\n",
    "    \n",
    "#     labels = tf.eye(batch_size) # diagonal matrix \n",
    "    \n",
    "#     '''\n",
    "#         loss calculating using CrossEntropy\n",
    "#     '''\n",
    "#     loss = tf.keras.losses.categorical_crossentropy(\n",
    "#         labels, \n",
    "#         tf.nn.softmax(logits, axis=-1), \n",
    "#         from_logits=False\n",
    "#     )\n",
    "    \n",
    "#     return tf.reduce_mean(loss)\n",
    "\n",
    "def contrastive_loss(sim_matrix):\n",
    "    epsilon = 1e-8\n",
    "    sim_matrix = sim_matrix + epsilon\n",
    "    \n",
    "    batch_size = tf.shape(sim_matrix)[0]\n",
    "    \n",
    "    labels = tf.eye(batch_size)\n",
    "    \n",
    "    loss_1 = tf.keras.losses.categorical_crossentropy(\n",
    "        labels,\n",
    "        tf.nn.softmax(sim_matrix, axis=1),\n",
    "        from_logits=False\n",
    "    )\n",
    "    \n",
    "    loss_2 = tf.keras.losses.categorical_crossentropy(\n",
    "        labels,\n",
    "        tf.nn.softmax(sim_matrix, axis=0),\n",
    "        from_logits=False\n",
    "    )\n",
    "    \n",
    "    total_loss = (loss_1 + loss_2) / 2\n",
    "    return tf.reduce_mean(total_loss)"
   ]
  },
  {
   "cell_type": "code",
   "execution_count": 153,
   "id": "9e1e12a0",
   "metadata": {
    "ExecuteTime": {
     "end_time": "2025-02-03T07:27:02.875760Z",
     "start_time": "2025-02-03T07:27:02.843125Z"
    }
   },
   "outputs": [],
   "source": [
    "@tf.function\n",
    "def train_step(model, optimizer, x_accel, x_gyro):\n",
    "    with tf.GradientTape() as tape:\n",
    "        sim_matrix, (e_accel, e_gyro) = model(x_accel, x_gyro, return_feat=True, training=True)\n",
    "        loss = contrastive_loss(sim_matrix)\n",
    "    \n",
    "    gradients = tape.gradient(loss, model.trainable_variables)\n",
    "    gradients = [tf.clip_by_norm(g, 0.5) if g is not None else g for g in gradients]\n",
    "    optimizer.apply_gradients(zip(gradients, model.trainable_variables))\n",
    "    \n",
    "    return loss"
   ]
  },
  {
   "cell_type": "markdown",
   "id": "17866465",
   "metadata": {},
   "source": [
    "----"
   ]
  },
  {
   "cell_type": "code",
   "execution_count": 154,
   "id": "81059f39",
   "metadata": {
    "ExecuteTime": {
     "end_time": "2025-02-03T07:27:02.880802Z",
     "start_time": "2025-02-03T07:27:02.877792Z"
    }
   },
   "outputs": [
    {
     "name": "stdout",
     "output_type": "stream",
     "text": [
      "<_BatchDataset element_spec=(TensorSpec(shape=(None, 6, 3), dtype=tf.float64, name=None), TensorSpec(shape=(None, 6, 253), dtype=tf.float64, name=None))>\n"
     ]
    }
   ],
   "source": [
    "print (train_dataset)"
   ]
  },
  {
   "cell_type": "code",
   "execution_count": 155,
   "id": "8b185509",
   "metadata": {
    "ExecuteTime": {
     "end_time": "2025-02-03T07:49:46.656640Z",
     "start_time": "2025-02-03T07:27:02.882492Z"
    },
    "scrolled": false
   },
   "outputs": [
    {
     "name": "stderr",
     "output_type": "stream",
     "text": [
      "Epoch 1/100: 100%|████████████████████████████| 588/588 [00:14<00:00, 40.98it/s]\n"
     ]
    },
    {
     "name": "stdout",
     "output_type": "stream",
     "text": [
      "mean value of loss : 2.8906\n",
      "best loss achieved : 2.8906\n"
     ]
    },
    {
     "name": "stderr",
     "output_type": "stream",
     "text": [
      "Epoch 2/100: 100%|████████████████████████████| 588/588 [00:12<00:00, 46.07it/s]\n"
     ]
    },
    {
     "name": "stdout",
     "output_type": "stream",
     "text": [
      "mean value of loss : 2.1060\n",
      "best loss achieved : 2.1060\n"
     ]
    },
    {
     "name": "stderr",
     "output_type": "stream",
     "text": [
      "Epoch 3/100: 100%|████████████████████████████| 588/588 [00:12<00:00, 45.45it/s]\n"
     ]
    },
    {
     "name": "stdout",
     "output_type": "stream",
     "text": [
      "mean value of loss : 1.8527\n",
      "best loss achieved : 1.8527\n"
     ]
    },
    {
     "name": "stderr",
     "output_type": "stream",
     "text": [
      "Epoch 4/100: 100%|████████████████████████████| 588/588 [00:13<00:00, 42.33it/s]\n"
     ]
    },
    {
     "name": "stdout",
     "output_type": "stream",
     "text": [
      "mean value of loss : 1.7047\n",
      "best loss achieved : 1.7047\n"
     ]
    },
    {
     "name": "stderr",
     "output_type": "stream",
     "text": [
      "Epoch 5/100: 100%|████████████████████████████| 588/588 [00:15<00:00, 38.73it/s]\n"
     ]
    },
    {
     "name": "stdout",
     "output_type": "stream",
     "text": [
      "mean value of loss : 1.5933\n",
      "best loss achieved : 1.5933\n"
     ]
    },
    {
     "name": "stderr",
     "output_type": "stream",
     "text": [
      "Epoch 6/100: 100%|████████████████████████████| 588/588 [00:16<00:00, 35.74it/s]\n"
     ]
    },
    {
     "name": "stdout",
     "output_type": "stream",
     "text": [
      "mean value of loss : 1.4942\n",
      "best loss achieved : 1.4942\n"
     ]
    },
    {
     "name": "stderr",
     "output_type": "stream",
     "text": [
      "Epoch 7/100: 100%|████████████████████████████| 588/588 [00:15<00:00, 36.84it/s]\n"
     ]
    },
    {
     "name": "stdout",
     "output_type": "stream",
     "text": [
      "mean value of loss : 1.3837\n",
      "best loss achieved : 1.3837\n"
     ]
    },
    {
     "name": "stderr",
     "output_type": "stream",
     "text": [
      "Epoch 8/100: 100%|████████████████████████████| 588/588 [00:17<00:00, 34.13it/s]\n"
     ]
    },
    {
     "name": "stdout",
     "output_type": "stream",
     "text": [
      "mean value of loss : 1.2833\n",
      "best loss achieved : 1.2833\n"
     ]
    },
    {
     "name": "stderr",
     "output_type": "stream",
     "text": [
      "Epoch 9/100: 100%|████████████████████████████| 588/588 [00:15<00:00, 38.32it/s]\n"
     ]
    },
    {
     "name": "stdout",
     "output_type": "stream",
     "text": [
      "mean value of loss : 1.2126\n",
      "best loss achieved : 1.2126\n"
     ]
    },
    {
     "name": "stderr",
     "output_type": "stream",
     "text": [
      "Epoch 10/100: 100%|███████████████████████████| 588/588 [00:13<00:00, 43.17it/s]\n"
     ]
    },
    {
     "name": "stdout",
     "output_type": "stream",
     "text": [
      "mean value of loss : 1.1479\n",
      "best loss achieved : 1.1479\n"
     ]
    },
    {
     "name": "stderr",
     "output_type": "stream",
     "text": [
      "Epoch 11/100: 100%|███████████████████████████| 588/588 [00:14<00:00, 41.66it/s]\n"
     ]
    },
    {
     "name": "stdout",
     "output_type": "stream",
     "text": [
      "mean value of loss : 1.0967\n",
      "best loss achieved : 1.0967\n"
     ]
    },
    {
     "name": "stderr",
     "output_type": "stream",
     "text": [
      "Epoch 12/100: 100%|███████████████████████████| 588/588 [00:14<00:00, 41.32it/s]\n"
     ]
    },
    {
     "name": "stdout",
     "output_type": "stream",
     "text": [
      "mean value of loss : 1.0622\n",
      "best loss achieved : 1.0622\n"
     ]
    },
    {
     "name": "stderr",
     "output_type": "stream",
     "text": [
      "Epoch 13/100: 100%|███████████████████████████| 588/588 [00:14<00:00, 41.39it/s]\n"
     ]
    },
    {
     "name": "stdout",
     "output_type": "stream",
     "text": [
      "mean value of loss : 1.0257\n",
      "best loss achieved : 1.0257\n"
     ]
    },
    {
     "name": "stderr",
     "output_type": "stream",
     "text": [
      "Epoch 14/100: 100%|███████████████████████████| 588/588 [00:13<00:00, 44.78it/s]\n"
     ]
    },
    {
     "name": "stdout",
     "output_type": "stream",
     "text": [
      "mean value of loss : 1.0043\n",
      "best loss achieved : 1.0043\n"
     ]
    },
    {
     "name": "stderr",
     "output_type": "stream",
     "text": [
      "Epoch 15/100: 100%|███████████████████████████| 588/588 [00:13<00:00, 43.75it/s]\n"
     ]
    },
    {
     "name": "stdout",
     "output_type": "stream",
     "text": [
      "mean value of loss : 0.9668\n",
      "best loss achieved : 0.9668\n"
     ]
    },
    {
     "name": "stderr",
     "output_type": "stream",
     "text": [
      "Epoch 16/100: 100%|███████████████████████████| 588/588 [00:13<00:00, 42.82it/s]\n"
     ]
    },
    {
     "name": "stdout",
     "output_type": "stream",
     "text": [
      "mean value of loss : 0.9572\n",
      "best loss achieved : 0.9572\n"
     ]
    },
    {
     "name": "stderr",
     "output_type": "stream",
     "text": [
      "Epoch 17/100: 100%|███████████████████████████| 588/588 [00:13<00:00, 44.85it/s]\n"
     ]
    },
    {
     "name": "stdout",
     "output_type": "stream",
     "text": [
      "mean value of loss : 0.9229\n",
      "best loss achieved : 0.9229\n"
     ]
    },
    {
     "name": "stderr",
     "output_type": "stream",
     "text": [
      "Epoch 18/100: 100%|███████████████████████████| 588/588 [00:12<00:00, 46.04it/s]\n"
     ]
    },
    {
     "name": "stdout",
     "output_type": "stream",
     "text": [
      "mean value of loss : 0.8964\n",
      "best loss achieved : 0.8964\n"
     ]
    },
    {
     "name": "stderr",
     "output_type": "stream",
     "text": [
      "Epoch 19/100: 100%|███████████████████████████| 588/588 [00:13<00:00, 43.02it/s]\n"
     ]
    },
    {
     "name": "stdout",
     "output_type": "stream",
     "text": [
      "mean value of loss : 0.8883\n",
      "best loss achieved : 0.8883\n"
     ]
    },
    {
     "name": "stderr",
     "output_type": "stream",
     "text": [
      "Epoch 20/100: 100%|███████████████████████████| 588/588 [00:13<00:00, 44.73it/s]\n"
     ]
    },
    {
     "name": "stdout",
     "output_type": "stream",
     "text": [
      "mean value of loss : 0.8640\n",
      "best loss achieved : 0.8640\n"
     ]
    },
    {
     "name": "stderr",
     "output_type": "stream",
     "text": [
      "Epoch 21/100: 100%|███████████████████████████| 588/588 [00:13<00:00, 42.22it/s]\n"
     ]
    },
    {
     "name": "stdout",
     "output_type": "stream",
     "text": [
      "mean value of loss : 0.8461\n",
      "best loss achieved : 0.8461\n"
     ]
    },
    {
     "name": "stderr",
     "output_type": "stream",
     "text": [
      "Epoch 22/100: 100%|███████████████████████████| 588/588 [00:15<00:00, 37.27it/s]\n"
     ]
    },
    {
     "name": "stdout",
     "output_type": "stream",
     "text": [
      "mean value of loss : 0.8455\n",
      "best loss achieved : 0.8455\n"
     ]
    },
    {
     "name": "stderr",
     "output_type": "stream",
     "text": [
      "Epoch 23/100: 100%|███████████████████████████| 588/588 [00:17<00:00, 34.20it/s]\n"
     ]
    },
    {
     "name": "stdout",
     "output_type": "stream",
     "text": [
      "mean value of loss : 0.8142\n",
      "best loss achieved : 0.8142\n"
     ]
    },
    {
     "name": "stderr",
     "output_type": "stream",
     "text": [
      "Epoch 24/100: 100%|███████████████████████████| 588/588 [00:15<00:00, 38.46it/s]\n"
     ]
    },
    {
     "name": "stdout",
     "output_type": "stream",
     "text": [
      "mean value of loss : 0.8113\n",
      "best loss achieved : 0.8113\n"
     ]
    },
    {
     "name": "stderr",
     "output_type": "stream",
     "text": [
      "Epoch 25/100: 100%|███████████████████████████| 588/588 [00:15<00:00, 36.77it/s]\n"
     ]
    },
    {
     "name": "stdout",
     "output_type": "stream",
     "text": [
      "mean value of loss : 0.7980\n",
      "best loss achieved : 0.7980\n"
     ]
    },
    {
     "name": "stderr",
     "output_type": "stream",
     "text": [
      "Epoch 26/100: 100%|███████████████████████████| 588/588 [00:15<00:00, 36.82it/s]\n"
     ]
    },
    {
     "name": "stdout",
     "output_type": "stream",
     "text": [
      "mean value of loss : 0.7747\n",
      "best loss achieved : 0.7747\n"
     ]
    },
    {
     "name": "stderr",
     "output_type": "stream",
     "text": [
      "Epoch 27/100: 100%|███████████████████████████| 588/588 [00:14<00:00, 39.70it/s]\n"
     ]
    },
    {
     "name": "stdout",
     "output_type": "stream",
     "text": [
      "mean value of loss : 0.7713\n",
      "best loss achieved : 0.7713\n"
     ]
    },
    {
     "name": "stderr",
     "output_type": "stream",
     "text": [
      "Epoch 28/100: 100%|███████████████████████████| 588/588 [00:15<00:00, 38.02it/s]\n"
     ]
    },
    {
     "name": "stdout",
     "output_type": "stream",
     "text": [
      "mean value of loss : 0.7564\n",
      "best loss achieved : 0.7564\n"
     ]
    },
    {
     "name": "stderr",
     "output_type": "stream",
     "text": [
      "Epoch 29/100: 100%|███████████████████████████| 588/588 [00:14<00:00, 39.98it/s]\n"
     ]
    },
    {
     "name": "stdout",
     "output_type": "stream",
     "text": [
      "mean value of loss : 0.7413\n",
      "best loss achieved : 0.7413\n"
     ]
    },
    {
     "name": "stderr",
     "output_type": "stream",
     "text": [
      "Epoch 30/100: 100%|███████████████████████████| 588/588 [00:14<00:00, 40.86it/s]\n"
     ]
    },
    {
     "name": "stdout",
     "output_type": "stream",
     "text": [
      "mean value of loss : 0.7292\n",
      "best loss achieved : 0.7292\n"
     ]
    },
    {
     "name": "stderr",
     "output_type": "stream",
     "text": [
      "Epoch 31/100: 100%|███████████████████████████| 588/588 [00:13<00:00, 43.36it/s]\n"
     ]
    },
    {
     "name": "stdout",
     "output_type": "stream",
     "text": [
      "mean value of loss : 0.7176\n",
      "best loss achieved : 0.7176\n"
     ]
    },
    {
     "name": "stderr",
     "output_type": "stream",
     "text": [
      "Epoch 32/100: 100%|███████████████████████████| 588/588 [00:13<00:00, 42.11it/s]\n"
     ]
    },
    {
     "name": "stdout",
     "output_type": "stream",
     "text": [
      "mean value of loss : 0.7133\n",
      "best loss achieved : 0.7133\n"
     ]
    },
    {
     "name": "stderr",
     "output_type": "stream",
     "text": [
      "Epoch 33/100: 100%|███████████████████████████| 588/588 [00:13<00:00, 44.87it/s]\n"
     ]
    },
    {
     "name": "stdout",
     "output_type": "stream",
     "text": [
      "mean value of loss : 0.6927\n",
      "best loss achieved : 0.6927\n"
     ]
    },
    {
     "name": "stderr",
     "output_type": "stream",
     "text": [
      "Epoch 34/100: 100%|███████████████████████████| 588/588 [00:14<00:00, 41.28it/s]\n"
     ]
    },
    {
     "name": "stdout",
     "output_type": "stream",
     "text": [
      "mean value of loss : 0.7017\n"
     ]
    },
    {
     "name": "stderr",
     "output_type": "stream",
     "text": [
      "Epoch 35/100: 100%|███████████████████████████| 588/588 [00:13<00:00, 43.79it/s]\n"
     ]
    },
    {
     "name": "stdout",
     "output_type": "stream",
     "text": [
      "mean value of loss : 0.6872\n",
      "best loss achieved : 0.6872\n"
     ]
    },
    {
     "name": "stderr",
     "output_type": "stream",
     "text": [
      "Epoch 36/100: 100%|███████████████████████████| 588/588 [00:14<00:00, 39.93it/s]\n"
     ]
    },
    {
     "name": "stdout",
     "output_type": "stream",
     "text": [
      "mean value of loss : 0.6797\n",
      "best loss achieved : 0.6797\n"
     ]
    },
    {
     "name": "stderr",
     "output_type": "stream",
     "text": [
      "Epoch 37/100: 100%|███████████████████████████| 588/588 [00:14<00:00, 41.27it/s]\n"
     ]
    },
    {
     "name": "stdout",
     "output_type": "stream",
     "text": [
      "mean value of loss : 0.6682\n",
      "best loss achieved : 0.6682\n"
     ]
    },
    {
     "name": "stderr",
     "output_type": "stream",
     "text": [
      "Epoch 38/100: 100%|███████████████████████████| 588/588 [00:13<00:00, 43.43it/s]\n"
     ]
    },
    {
     "name": "stdout",
     "output_type": "stream",
     "text": [
      "mean value of loss : 0.6763\n"
     ]
    },
    {
     "name": "stderr",
     "output_type": "stream",
     "text": [
      "Epoch 39/100: 100%|███████████████████████████| 588/588 [00:12<00:00, 48.65it/s]\n"
     ]
    },
    {
     "name": "stdout",
     "output_type": "stream",
     "text": [
      "mean value of loss : 0.6547\n",
      "best loss achieved : 0.6547\n"
     ]
    },
    {
     "name": "stderr",
     "output_type": "stream",
     "text": [
      "Epoch 40/100: 100%|███████████████████████████| 588/588 [00:13<00:00, 44.26it/s]\n"
     ]
    },
    {
     "name": "stdout",
     "output_type": "stream",
     "text": [
      "mean value of loss : 0.6467\n",
      "best loss achieved : 0.6467\n"
     ]
    },
    {
     "name": "stderr",
     "output_type": "stream",
     "text": [
      "Epoch 41/100: 100%|███████████████████████████| 588/588 [00:14<00:00, 41.75it/s]\n"
     ]
    },
    {
     "name": "stdout",
     "output_type": "stream",
     "text": [
      "mean value of loss : 0.6329\n",
      "best loss achieved : 0.6329\n"
     ]
    },
    {
     "name": "stderr",
     "output_type": "stream",
     "text": [
      "Epoch 42/100: 100%|███████████████████████████| 588/588 [00:13<00:00, 43.98it/s]\n"
     ]
    },
    {
     "name": "stdout",
     "output_type": "stream",
     "text": [
      "mean value of loss : 0.6404\n"
     ]
    },
    {
     "name": "stderr",
     "output_type": "stream",
     "text": [
      "Epoch 43/100: 100%|███████████████████████████| 588/588 [00:14<00:00, 40.55it/s]\n"
     ]
    },
    {
     "name": "stdout",
     "output_type": "stream",
     "text": [
      "mean value of loss : 0.6313\n",
      "best loss achieved : 0.6313\n"
     ]
    },
    {
     "name": "stderr",
     "output_type": "stream",
     "text": [
      "Epoch 44/100: 100%|███████████████████████████| 588/588 [00:14<00:00, 40.28it/s]\n"
     ]
    },
    {
     "name": "stdout",
     "output_type": "stream",
     "text": [
      "mean value of loss : 0.6182\n",
      "best loss achieved : 0.6182\n"
     ]
    },
    {
     "name": "stderr",
     "output_type": "stream",
     "text": [
      "Epoch 45/100: 100%|███████████████████████████| 588/588 [00:16<00:00, 36.72it/s]\n"
     ]
    },
    {
     "name": "stdout",
     "output_type": "stream",
     "text": [
      "mean value of loss : 0.5980\n",
      "best loss achieved : 0.5980\n"
     ]
    },
    {
     "name": "stderr",
     "output_type": "stream",
     "text": [
      "Epoch 46/100: 100%|███████████████████████████| 588/588 [00:15<00:00, 38.53it/s]\n"
     ]
    },
    {
     "name": "stdout",
     "output_type": "stream",
     "text": [
      "mean value of loss : 0.6040\n"
     ]
    },
    {
     "name": "stderr",
     "output_type": "stream",
     "text": [
      "Epoch 47/100: 100%|███████████████████████████| 588/588 [00:13<00:00, 42.88it/s]\n"
     ]
    },
    {
     "name": "stdout",
     "output_type": "stream",
     "text": [
      "mean value of loss : 0.6077\n"
     ]
    },
    {
     "name": "stderr",
     "output_type": "stream",
     "text": [
      "Epoch 48/100: 100%|███████████████████████████| 588/588 [00:12<00:00, 45.38it/s]\n"
     ]
    },
    {
     "name": "stdout",
     "output_type": "stream",
     "text": [
      "mean value of loss : 0.6011\n"
     ]
    },
    {
     "name": "stderr",
     "output_type": "stream",
     "text": [
      "Epoch 49/100: 100%|███████████████████████████| 588/588 [00:13<00:00, 43.86it/s]\n"
     ]
    },
    {
     "name": "stdout",
     "output_type": "stream",
     "text": [
      "mean value of loss : 0.6047\n"
     ]
    },
    {
     "name": "stderr",
     "output_type": "stream",
     "text": [
      "Epoch 50/100: 100%|███████████████████████████| 588/588 [00:14<00:00, 40.50it/s]\n"
     ]
    },
    {
     "name": "stdout",
     "output_type": "stream",
     "text": [
      "mean value of loss : 0.5822\n",
      "best loss achieved : 0.5822\n"
     ]
    },
    {
     "name": "stderr",
     "output_type": "stream",
     "text": [
      "Epoch 51/100: 100%|███████████████████████████| 588/588 [00:12<00:00, 47.11it/s]\n"
     ]
    },
    {
     "name": "stdout",
     "output_type": "stream",
     "text": [
      "mean value of loss : 0.5774\n",
      "best loss achieved : 0.5774\n"
     ]
    },
    {
     "name": "stderr",
     "output_type": "stream",
     "text": [
      "Epoch 52/100: 100%|███████████████████████████| 588/588 [00:12<00:00, 48.26it/s]\n"
     ]
    },
    {
     "name": "stdout",
     "output_type": "stream",
     "text": [
      "mean value of loss : 0.5913\n"
     ]
    },
    {
     "name": "stderr",
     "output_type": "stream",
     "text": [
      "Epoch 53/100: 100%|███████████████████████████| 588/588 [00:12<00:00, 45.61it/s]\n"
     ]
    },
    {
     "name": "stdout",
     "output_type": "stream",
     "text": [
      "mean value of loss : 0.5701\n",
      "best loss achieved : 0.5701\n"
     ]
    },
    {
     "name": "stderr",
     "output_type": "stream",
     "text": [
      "Epoch 54/100: 100%|███████████████████████████| 588/588 [00:13<00:00, 42.78it/s]\n"
     ]
    },
    {
     "name": "stdout",
     "output_type": "stream",
     "text": [
      "mean value of loss : 0.5877\n"
     ]
    },
    {
     "name": "stderr",
     "output_type": "stream",
     "text": [
      "Epoch 55/100: 100%|███████████████████████████| 588/588 [00:12<00:00, 47.56it/s]\n"
     ]
    },
    {
     "name": "stdout",
     "output_type": "stream",
     "text": [
      "mean value of loss : 0.5718\n"
     ]
    },
    {
     "name": "stderr",
     "output_type": "stream",
     "text": [
      "Epoch 56/100: 100%|███████████████████████████| 588/588 [00:12<00:00, 46.58it/s]\n"
     ]
    },
    {
     "name": "stdout",
     "output_type": "stream",
     "text": [
      "mean value of loss : 0.5624\n",
      "best loss achieved : 0.5624\n"
     ]
    },
    {
     "name": "stderr",
     "output_type": "stream",
     "text": [
      "Epoch 57/100: 100%|███████████████████████████| 588/588 [00:13<00:00, 42.94it/s]\n"
     ]
    },
    {
     "name": "stdout",
     "output_type": "stream",
     "text": [
      "mean value of loss : 0.5685\n"
     ]
    },
    {
     "name": "stderr",
     "output_type": "stream",
     "text": [
      "Epoch 58/100: 100%|███████████████████████████| 588/588 [00:11<00:00, 51.71it/s]\n"
     ]
    },
    {
     "name": "stdout",
     "output_type": "stream",
     "text": [
      "mean value of loss : 0.5559\n",
      "best loss achieved : 0.5559\n"
     ]
    },
    {
     "name": "stderr",
     "output_type": "stream",
     "text": [
      "Epoch 59/100: 100%|███████████████████████████| 588/588 [00:12<00:00, 46.66it/s]\n"
     ]
    },
    {
     "name": "stdout",
     "output_type": "stream",
     "text": [
      "mean value of loss : 0.5680\n"
     ]
    },
    {
     "name": "stderr",
     "output_type": "stream",
     "text": [
      "Epoch 60/100: 100%|███████████████████████████| 588/588 [00:13<00:00, 43.28it/s]\n"
     ]
    },
    {
     "name": "stdout",
     "output_type": "stream",
     "text": [
      "mean value of loss : 0.5576\n"
     ]
    },
    {
     "name": "stderr",
     "output_type": "stream",
     "text": [
      "Epoch 61/100: 100%|███████████████████████████| 588/588 [00:12<00:00, 45.77it/s]\n"
     ]
    },
    {
     "name": "stdout",
     "output_type": "stream",
     "text": [
      "mean value of loss : 0.5776\n"
     ]
    },
    {
     "name": "stderr",
     "output_type": "stream",
     "text": [
      "Epoch 62/100: 100%|███████████████████████████| 588/588 [00:12<00:00, 47.87it/s]\n"
     ]
    },
    {
     "name": "stdout",
     "output_type": "stream",
     "text": [
      "mean value of loss : 0.5319\n",
      "best loss achieved : 0.5319\n"
     ]
    },
    {
     "name": "stderr",
     "output_type": "stream",
     "text": [
      "Epoch 63/100: 100%|███████████████████████████| 588/588 [00:14<00:00, 41.58it/s]\n"
     ]
    },
    {
     "name": "stdout",
     "output_type": "stream",
     "text": [
      "mean value of loss : 0.5304\n",
      "best loss achieved : 0.5304\n"
     ]
    },
    {
     "name": "stderr",
     "output_type": "stream",
     "text": [
      "Epoch 64/100: 100%|███████████████████████████| 588/588 [00:13<00:00, 43.74it/s]\n"
     ]
    },
    {
     "name": "stdout",
     "output_type": "stream",
     "text": [
      "mean value of loss : 0.5250\n",
      "best loss achieved : 0.5250\n"
     ]
    },
    {
     "name": "stderr",
     "output_type": "stream",
     "text": [
      "Epoch 65/100: 100%|███████████████████████████| 588/588 [00:14<00:00, 40.36it/s]\n"
     ]
    },
    {
     "name": "stdout",
     "output_type": "stream",
     "text": [
      "mean value of loss : 0.5226\n",
      "best loss achieved : 0.5226\n"
     ]
    },
    {
     "name": "stderr",
     "output_type": "stream",
     "text": [
      "Epoch 66/100: 100%|███████████████████████████| 588/588 [00:12<00:00, 45.87it/s]\n"
     ]
    },
    {
     "name": "stdout",
     "output_type": "stream",
     "text": [
      "mean value of loss : 0.5353\n"
     ]
    },
    {
     "name": "stderr",
     "output_type": "stream",
     "text": [
      "Epoch 67/100: 100%|███████████████████████████| 588/588 [00:13<00:00, 42.78it/s]\n"
     ]
    },
    {
     "name": "stdout",
     "output_type": "stream",
     "text": [
      "mean value of loss : 0.5155\n",
      "best loss achieved : 0.5155\n"
     ]
    },
    {
     "name": "stderr",
     "output_type": "stream",
     "text": [
      "Epoch 68/100: 100%|███████████████████████████| 588/588 [00:12<00:00, 46.14it/s]\n"
     ]
    },
    {
     "name": "stdout",
     "output_type": "stream",
     "text": [
      "mean value of loss : 0.5090\n",
      "best loss achieved : 0.5090\n"
     ]
    },
    {
     "name": "stderr",
     "output_type": "stream",
     "text": [
      "Epoch 69/100: 100%|███████████████████████████| 588/588 [00:11<00:00, 52.47it/s]\n"
     ]
    },
    {
     "name": "stdout",
     "output_type": "stream",
     "text": [
      "mean value of loss : 0.4969\n",
      "best loss achieved : 0.4969\n"
     ]
    },
    {
     "name": "stderr",
     "output_type": "stream",
     "text": [
      "Epoch 70/100: 100%|███████████████████████████| 588/588 [00:13<00:00, 43.77it/s]\n"
     ]
    },
    {
     "name": "stdout",
     "output_type": "stream",
     "text": [
      "mean value of loss : 0.5139\n"
     ]
    },
    {
     "name": "stderr",
     "output_type": "stream",
     "text": [
      "Epoch 71/100: 100%|███████████████████████████| 588/588 [00:13<00:00, 45.09it/s]\n"
     ]
    },
    {
     "name": "stdout",
     "output_type": "stream",
     "text": [
      "mean value of loss : 0.4987\n"
     ]
    },
    {
     "name": "stderr",
     "output_type": "stream",
     "text": [
      "Epoch 72/100: 100%|███████████████████████████| 588/588 [00:12<00:00, 45.79it/s]\n"
     ]
    },
    {
     "name": "stdout",
     "output_type": "stream",
     "text": [
      "mean value of loss : 0.5205\n"
     ]
    },
    {
     "name": "stderr",
     "output_type": "stream",
     "text": [
      "Epoch 73/100: 100%|███████████████████████████| 588/588 [00:13<00:00, 44.39it/s]\n"
     ]
    },
    {
     "name": "stdout",
     "output_type": "stream",
     "text": [
      "mean value of loss : 0.4972\n"
     ]
    },
    {
     "name": "stderr",
     "output_type": "stream",
     "text": [
      "Epoch 74/100: 100%|███████████████████████████| 588/588 [00:12<00:00, 45.94it/s]\n"
     ]
    },
    {
     "name": "stdout",
     "output_type": "stream",
     "text": [
      "mean value of loss : 0.4993\n"
     ]
    },
    {
     "name": "stderr",
     "output_type": "stream",
     "text": [
      "Epoch 75/100: 100%|███████████████████████████| 588/588 [00:12<00:00, 45.31it/s]\n"
     ]
    },
    {
     "name": "stdout",
     "output_type": "stream",
     "text": [
      "mean value of loss : 0.4905\n",
      "best loss achieved : 0.4905\n"
     ]
    },
    {
     "name": "stderr",
     "output_type": "stream",
     "text": [
      "Epoch 76/100: 100%|███████████████████████████| 588/588 [00:13<00:00, 44.97it/s]\n"
     ]
    },
    {
     "name": "stdout",
     "output_type": "stream",
     "text": [
      "mean value of loss : 0.5056\n"
     ]
    },
    {
     "name": "stderr",
     "output_type": "stream",
     "text": [
      "Epoch 77/100: 100%|███████████████████████████| 588/588 [00:12<00:00, 46.17it/s]\n"
     ]
    },
    {
     "name": "stdout",
     "output_type": "stream",
     "text": [
      "mean value of loss : 0.4833\n",
      "best loss achieved : 0.4833\n"
     ]
    },
    {
     "name": "stderr",
     "output_type": "stream",
     "text": [
      "Epoch 78/100: 100%|███████████████████████████| 588/588 [00:13<00:00, 45.10it/s]\n"
     ]
    },
    {
     "name": "stdout",
     "output_type": "stream",
     "text": [
      "mean value of loss : 0.4876\n"
     ]
    },
    {
     "name": "stderr",
     "output_type": "stream",
     "text": [
      "Epoch 79/100: 100%|███████████████████████████| 588/588 [00:11<00:00, 51.87it/s]\n"
     ]
    },
    {
     "name": "stdout",
     "output_type": "stream",
     "text": [
      "mean value of loss : 0.4898\n"
     ]
    },
    {
     "name": "stderr",
     "output_type": "stream",
     "text": [
      "Epoch 80/100: 100%|███████████████████████████| 588/588 [00:11<00:00, 51.74it/s]\n"
     ]
    },
    {
     "name": "stdout",
     "output_type": "stream",
     "text": [
      "mean value of loss : 0.4672\n",
      "best loss achieved : 0.4672\n"
     ]
    },
    {
     "name": "stderr",
     "output_type": "stream",
     "text": [
      "Epoch 81/100: 100%|███████████████████████████| 588/588 [00:13<00:00, 42.25it/s]\n"
     ]
    },
    {
     "name": "stdout",
     "output_type": "stream",
     "text": [
      "mean value of loss : 0.4724\n"
     ]
    },
    {
     "name": "stderr",
     "output_type": "stream",
     "text": [
      "Epoch 82/100: 100%|███████████████████████████| 588/588 [00:14<00:00, 41.97it/s]\n"
     ]
    },
    {
     "name": "stdout",
     "output_type": "stream",
     "text": [
      "mean value of loss : 0.4715\n"
     ]
    },
    {
     "name": "stderr",
     "output_type": "stream",
     "text": [
      "Epoch 83/100: 100%|███████████████████████████| 588/588 [00:14<00:00, 39.95it/s]\n"
     ]
    },
    {
     "name": "stdout",
     "output_type": "stream",
     "text": [
      "mean value of loss : 0.4764\n"
     ]
    },
    {
     "name": "stderr",
     "output_type": "stream",
     "text": [
      "Epoch 84/100: 100%|███████████████████████████| 588/588 [00:13<00:00, 43.18it/s]\n"
     ]
    },
    {
     "name": "stdout",
     "output_type": "stream",
     "text": [
      "mean value of loss : 0.4800\n"
     ]
    },
    {
     "name": "stderr",
     "output_type": "stream",
     "text": [
      "Epoch 85/100: 100%|███████████████████████████| 588/588 [00:14<00:00, 41.60it/s]\n"
     ]
    },
    {
     "name": "stdout",
     "output_type": "stream",
     "text": [
      "mean value of loss : 0.4855\n"
     ]
    },
    {
     "name": "stderr",
     "output_type": "stream",
     "text": [
      "Epoch 86/100: 100%|███████████████████████████| 588/588 [00:12<00:00, 47.63it/s]\n"
     ]
    },
    {
     "name": "stdout",
     "output_type": "stream",
     "text": [
      "mean value of loss : 0.4576\n",
      "best loss achieved : 0.4576\n"
     ]
    },
    {
     "name": "stderr",
     "output_type": "stream",
     "text": [
      "Epoch 87/100: 100%|███████████████████████████| 588/588 [00:12<00:00, 46.89it/s]\n"
     ]
    },
    {
     "name": "stdout",
     "output_type": "stream",
     "text": [
      "mean value of loss : 0.4609\n"
     ]
    },
    {
     "name": "stderr",
     "output_type": "stream",
     "text": [
      "Epoch 88/100: 100%|███████████████████████████| 588/588 [00:11<00:00, 51.28it/s]\n"
     ]
    },
    {
     "name": "stdout",
     "output_type": "stream",
     "text": [
      "mean value of loss : 0.4495\n",
      "best loss achieved : 0.4495\n"
     ]
    },
    {
     "name": "stderr",
     "output_type": "stream",
     "text": [
      "Epoch 89/100: 100%|███████████████████████████| 588/588 [00:12<00:00, 46.94it/s]\n"
     ]
    },
    {
     "name": "stdout",
     "output_type": "stream",
     "text": [
      "mean value of loss : 0.4674\n"
     ]
    },
    {
     "name": "stderr",
     "output_type": "stream",
     "text": [
      "Epoch 90/100: 100%|███████████████████████████| 588/588 [00:13<00:00, 43.35it/s]\n"
     ]
    },
    {
     "name": "stdout",
     "output_type": "stream",
     "text": [
      "mean value of loss : 0.4748\n"
     ]
    },
    {
     "name": "stderr",
     "output_type": "stream",
     "text": [
      "Epoch 91/100: 100%|███████████████████████████| 588/588 [00:13<00:00, 44.21it/s]\n"
     ]
    },
    {
     "name": "stdout",
     "output_type": "stream",
     "text": [
      "mean value of loss : 0.4641\n"
     ]
    },
    {
     "name": "stderr",
     "output_type": "stream",
     "text": [
      "Epoch 92/100: 100%|███████████████████████████| 588/588 [00:11<00:00, 50.60it/s]\n"
     ]
    },
    {
     "name": "stdout",
     "output_type": "stream",
     "text": [
      "mean value of loss : 0.4428\n",
      "best loss achieved : 0.4428\n"
     ]
    },
    {
     "name": "stderr",
     "output_type": "stream",
     "text": [
      "Epoch 93/100: 100%|███████████████████████████| 588/588 [00:12<00:00, 45.77it/s]\n"
     ]
    },
    {
     "name": "stdout",
     "output_type": "stream",
     "text": [
      "mean value of loss : 0.4308\n",
      "best loss achieved : 0.4308\n"
     ]
    },
    {
     "name": "stderr",
     "output_type": "stream",
     "text": [
      "Epoch 94/100: 100%|███████████████████████████| 588/588 [00:13<00:00, 44.70it/s]\n"
     ]
    },
    {
     "name": "stdout",
     "output_type": "stream",
     "text": [
      "mean value of loss : 0.4579\n"
     ]
    },
    {
     "name": "stderr",
     "output_type": "stream",
     "text": [
      "Epoch 95/100: 100%|███████████████████████████| 588/588 [00:13<00:00, 43.12it/s]\n"
     ]
    },
    {
     "name": "stdout",
     "output_type": "stream",
     "text": [
      "mean value of loss : 0.4451\n"
     ]
    },
    {
     "name": "stderr",
     "output_type": "stream",
     "text": [
      "Epoch 96/100: 100%|███████████████████████████| 588/588 [00:13<00:00, 43.67it/s]\n"
     ]
    },
    {
     "name": "stdout",
     "output_type": "stream",
     "text": [
      "mean value of loss : 0.4439\n"
     ]
    },
    {
     "name": "stderr",
     "output_type": "stream",
     "text": [
      "Epoch 97/100: 100%|███████████████████████████| 588/588 [00:13<00:00, 44.07it/s]\n"
     ]
    },
    {
     "name": "stdout",
     "output_type": "stream",
     "text": [
      "mean value of loss : 0.4453\n"
     ]
    },
    {
     "name": "stderr",
     "output_type": "stream",
     "text": [
      "Epoch 98/100: 100%|███████████████████████████| 588/588 [00:13<00:00, 44.88it/s]\n"
     ]
    },
    {
     "name": "stdout",
     "output_type": "stream",
     "text": [
      "mean value of loss : 0.4325\n"
     ]
    },
    {
     "name": "stderr",
     "output_type": "stream",
     "text": [
      "Epoch 99/100: 100%|███████████████████████████| 588/588 [00:12<00:00, 46.10it/s]\n"
     ]
    },
    {
     "name": "stdout",
     "output_type": "stream",
     "text": [
      "mean value of loss : 0.4372\n"
     ]
    },
    {
     "name": "stderr",
     "output_type": "stream",
     "text": [
      "Epoch 100/100: 100%|██████████████████████████| 588/588 [00:12<00:00, 45.91it/s]"
     ]
    },
    {
     "name": "stdout",
     "output_type": "stream",
     "text": [
      "mean value of loss : 0.4285\n",
      "best loss achieved : 0.4285\n",
      "END THE LEARNING\n",
      "final best loss: 0.4285\n"
     ]
    },
    {
     "name": "stderr",
     "output_type": "stream",
     "text": [
      "\n"
     ]
    }
   ],
   "source": [
    "train_losses = []\n",
    "best_loss = float('inf')\n",
    "\n",
    "for epoch in range(EPOCHS):\n",
    "    epoch_losses = []\n",
    "    \n",
    "    for acc_batch, gyro_batch in tqdm(train_dataset, desc=f'Epoch {epoch + 1}/{EPOCHS}'):\n",
    "        loss = train_step(model, optimizer, acc_batch, gyro_batch)  \n",
    "        epoch_losses.append(loss.numpy())\n",
    "    \n",
    "    avg_loss = np.mean(epoch_losses)\n",
    "    train_losses.append(avg_loss)\n",
    "    \n",
    "    print (f\"mean value of loss : {avg_loss:.4f}\")\n",
    "    \n",
    "    if avg_loss < best_loss:\n",
    "        best_loss = avg_loss\n",
    "        print (f\"best loss achieved : {best_loss:.4f}\")\n",
    "\n",
    "        \n",
    "print(\"END THE LEARNING\")\n",
    "print(f\"final best loss: {best_loss:.4f}\")"
   ]
  },
  {
   "cell_type": "code",
   "execution_count": 156,
   "id": "321c9915",
   "metadata": {
    "ExecuteTime": {
     "end_time": "2025-02-03T07:49:46.853690Z",
     "start_time": "2025-02-03T07:49:46.658596Z"
    }
   },
   "outputs": [
    {
     "data": {
      "image/png": "[encoded data removed]",
      "text/plain": [
       "<Figure size 1000x600 with 1 Axes>"
      ]
     },
     "metadata": {},
     "output_type": "display_data"
    }
   ],
   "source": [
    "plt.figure(figsize=(10, 6))\n",
    "plt.plot(train_losses, label='Training Loss')\n",
    "plt.xlabel('Epoch')\n",
    "plt.ylabel('Loss')\n",
    "plt.title('Training Loss over Epochs')\n",
    "plt.legend()\n",
    "plt.grid(True)\n",
    "plt.show()"
   ]
  },
  {
   "cell_type": "markdown",
   "id": "d5bb415c",
   "metadata": {},
   "source": [
    "----"
   ]
  },
  {
   "cell_type": "code",
   "execution_count": 157,
   "id": "aa4dc234",
   "metadata": {
    "ExecuteTime": {
     "end_time": "2025-02-03T07:49:46.859611Z",
     "start_time": "2025-02-03T07:49:46.855827Z"
    }
   },
   "outputs": [],
   "source": [
    "def compute_similarity_scores(model, data_loader):\n",
    "    similarities = []\n",
    "    labels = []\n",
    "    \n",
    "    for (acc_batch, gyro_batch), batch_labels in data_loader:\n",
    "        # get embeddings\n",
    "        _, (e_accel, e_gyro) = model(acc_batch, gyro_batch, return_feat=True, training=False) \n",
    "        # get embedding of accel and gyro\n",
    "        \n",
    "        # calculate cosine similarity between paired embeddings\n",
    "        batch_similarities = tf.reduce_sum(tf.multiply(e_accel, e_gyro), axis=1)\n",
    "        \n",
    "        similarities.extend(batch_similarities.numpy())\n",
    "        labels.extend(batch_labels.numpy())\n",
    "    \n",
    "    return np.array(similarities), np.array(labels)"
   ]
  },
  {
   "cell_type": "code",
   "execution_count": 158,
   "id": "e913403f",
   "metadata": {
    "ExecuteTime": {
     "end_time": "2025-02-03T07:50:02.652524Z",
     "start_time": "2025-02-03T07:49:46.861413Z"
    }
   },
   "outputs": [
    {
     "name": "stderr",
     "output_type": "stream",
     "text": [
      "Computing normal similarities: 100%|██████████| 588/588 [00:11<00:00, 52.59it/s]\n",
      "Computing test similarities: 100%|████████████| 240/240 [00:04<00:00, 52.17it/s]\n"
     ]
    }
   ],
   "source": [
    "normal_similarities = []\n",
    "for acc_batch, gyro_batch in tqdm(train_dataset, desc='Computing normal similarities'):\n",
    "    # train set embedding -> similarity\n",
    "    _, (e_accel, e_gyro) = model(acc_batch, gyro_batch, return_feat=True, training=False) # <- embedding\n",
    "    sim = tf.reduce_sum(tf.multiply(e_accel, e_gyro), axis=1)\n",
    "    normal_similarities.extend(sim.numpy())\n",
    "\n",
    "test_similarities = []\n",
    "test_pred_labels = []\n",
    "for (acc_batch, gyro_batch), labels in tqdm(test_dataset, desc='Computing test similarities'):\n",
    "    # test set embedding -> simiilarity\n",
    "    _, (e_accel, e_gyro) = model(acc_batch, gyro_batch, return_feat=True, training=False) # <- embedding\n",
    "    sim = tf.reduce_sum(tf.multiply(e_accel, e_gyro), axis=1)\n",
    "    test_similarities.extend(sim.numpy())\n",
    "    test_pred_labels.extend(labels.numpy())"
   ]
  },
  {
   "cell_type": "code",
   "execution_count": 159,
   "id": "d382f18e",
   "metadata": {
    "ExecuteTime": {
     "end_time": "2025-02-03T07:50:07.093186Z",
     "start_time": "2025-02-03T07:50:02.654458Z"
    }
   },
   "outputs": [
    {
     "name": "stdout",
     "output_type": "stream",
     "text": [
      "[ ADL data ]\n",
      "  Mean: 0.8092\n",
      "  Std: 0.1694\n",
      "  Min: -0.5104\n",
      "  Max: 0.9873\n",
      "ADL ind 1 : 0.82348233\n",
      "ADL ind 2 : 0.80410993\n",
      "ADL ind 3 : 0.89996666\n",
      "ADL ind 4 : 0.80685186\n",
      "ADL ind 5 : 0.8040313\n",
      "ADL ind 6 : 0.9329908\n",
      "ADL ind 7 : 0.85843146\n",
      "ADL ind 8 : 0.85680914\n",
      "ADL ind 9 : 0.90270233\n",
      "ADL ind 10 : 0.6861911\n",
      "ADL ind 11 : 0.8501441\n",
      "ADL ind 12 : 0.9139186\n",
      "ADL ind 13 : 0.9436889\n",
      "ADL ind 14 : 0.9149496\n",
      "ADL ind 15 : 0.8102431\n",
      "ADL ind 16 : 0.9196624\n",
      "ADL ind 17 : 0.85825896\n",
      "ADL ind 18 : 0.8545114\n",
      "ADL ind 19 : 0.78775734\n",
      "ADL ind 20 : 0.8777603\n",
      "\n",
      "[ FALL data ]\n",
      "  Mean: 0.7974\n",
      "  Std: 0.1594\n",
      "  Min: -0.5219\n",
      "  Max: 0.9800\n",
      "FALL ind 1 : 0.8781861\n",
      "FALL ind 2 : 0.8456881\n",
      "FALL ind 3 : 0.93536776\n",
      "FALL ind 4 : 0.91352606\n",
      "FALL ind 5 : 0.7428826\n",
      "FALL ind 6 : 0.7493977\n",
      "FALL ind 7 : 0.8467339\n",
      "FALL ind 8 : 0.7320255\n",
      "FALL ind 9 : 0.80731595\n",
      "FALL ind 10 : 0.88609016\n",
      "FALL ind 11 : 0.8380214\n",
      "FALL ind 12 : 0.8750088\n",
      "FALL ind 13 : 0.41145527\n",
      "FALL ind 14 : 0.7775711\n",
      "FALL ind 15 : 0.4127715\n",
      "FALL ind 16 : 0.8014673\n",
      "FALL ind 17 : 0.8303819\n",
      "FALL ind 18 : 0.8600533\n",
      "FALL ind 19 : 0.881817\n",
      "FALL ind 20 : 0.86775476\n"
     ]
    }
   ],
   "source": [
    "def calculate_similarities(model, test_dataset):\n",
    "    normal_similarities = []\n",
    "    fall_similarities = []\n",
    "    \n",
    "    for (acc_batch, gyro_batch), labels in test_dataset:\n",
    "        _, (e_accel, e_gyro) = model(acc_batch, gyro_batch, return_feat=True, training=False)\n",
    "        \n",
    "        sim = tf.reduce_sum(tf.multiply(e_accel, e_gyro), axis=1)\n",
    "        \n",
    "        for sim_score, label in zip(sim.numpy(), labels.numpy()):\n",
    "            if label == 0:  # normal\n",
    "                normal_similarities.append(sim_score)\n",
    "            else:  # fall\n",
    "                fall_similarities.append(sim_score)\n",
    "    \n",
    "    return np.array(normal_similarities), np.array(fall_similarities)\n",
    "\n",
    "normal_sims, fall_sims = calculate_similarities(model, test_dataset)\n",
    "\n",
    "print(\"[ ADL data ]\")\n",
    "print(f\"  Mean: {np.mean(normal_sims):.4f}\")\n",
    "print(f\"  Std: {np.std(normal_sims):.4f}\")\n",
    "print(f\"  Min: {np.min(normal_sims):.4f}\")\n",
    "print(f\"  Max: {np.max(normal_sims):.4f}\")\n",
    "for i in range (20) :\n",
    "    print ('ADL ind', i+1, ':', normal_sims[i])\n",
    "\n",
    "print ()\n",
    "print(\"[ FALL data ]\")\n",
    "print(f\"  Mean: {np.mean(fall_sims):.4f}\")\n",
    "print(f\"  Std: {np.std(fall_sims):.4f}\")\n",
    "print(f\"  Min: {np.min(fall_sims):.4f}\")\n",
    "print(f\"  Max: {np.max(fall_sims):.4f}\")\n",
    "for i in range (20) :\n",
    "    print ('FALL ind', i+1, ':', fall_sims[i])"
   ]
  },
  {
   "cell_type": "code",
   "execution_count": 160,
   "id": "675d6168",
   "metadata": {
    "ExecuteTime": {
     "end_time": "2025-02-03T07:50:07.100157Z",
     "start_time": "2025-02-03T07:50:07.095124Z"
    }
   },
   "outputs": [],
   "source": [
    "threshold = np.percentile(normal_similarities, 10)"
   ]
  },
  {
   "cell_type": "code",
   "execution_count": 161,
   "id": "b40abe82",
   "metadata": {
    "ExecuteTime": {
     "end_time": "2025-02-03T07:50:07.774958Z",
     "start_time": "2025-02-03T07:50:07.109438Z"
    }
   },
   "outputs": [
    {
     "data": {
      "image/png": "[encoded data removed]",
      "text/plain": [
       "<Figure size 640x480 with 1 Axes>"
      ]
     },
     "metadata": {},
     "output_type": "display_data"
    }
   ],
   "source": [
    "indices = range(len(test_similarities))\n",
    "plt.scatter([i for i, l in zip(indices, test_pred_labels) if l == 0], \n",
    "           [s for s, l in zip(test_similarities, test_pred_labels) if l == 0],\n",
    "           c='blue', label='Normal (ADL)', alpha=0.5, s=20)\n",
    "plt.scatter([i for i, l in zip(indices, test_pred_labels) if l == 1],\n",
    "           [s for s, l in zip(test_similarities, test_pred_labels) if l == 1],\n",
    "           c='red', label='Fall', alpha=0.5, s=20)\n",
    "plt.axhline(y=threshold, color='green', linestyle='--', label=f'Threshold ({threshold:.3f})')\n",
    "# plt.ylim(0.0078100, 0.0078150)\n",
    "plt.xlabel('Sample Index')\n",
    "plt.ylabel('Similarity Score')\n",
    "plt.title('Similarity Scores')\n",
    "plt.legend()\n",
    "plt.grid(True)"
   ]
  },
  {
   "cell_type": "code",
   "execution_count": 162,
   "id": "1f74c78b",
   "metadata": {
    "ExecuteTime": {
     "end_time": "2025-02-03T07:50:07.781279Z",
     "start_time": "2025-02-03T07:50:07.776690Z"
    }
   },
   "outputs": [],
   "source": [
    "predictions = [1 if sim < threshold else 0 for sim in test_similarities] \n",
    "true_labels = test_pred_labels"
   ]
  },
  {
   "cell_type": "code",
   "execution_count": 163,
   "id": "53cf03cf",
   "metadata": {
    "ExecuteTime": {
     "end_time": "2025-02-03T07:50:07.931557Z",
     "start_time": "2025-02-03T07:50:07.783953Z"
    }
   },
   "outputs": [
    {
     "data": {
      "image/png": "[encoded data removed]",
      "text/plain": [
       "<Figure size 1000x800 with 2 Axes>"
      ]
     },
     "metadata": {},
     "output_type": "display_data"
    }
   ],
   "source": [
    "cm = confusion_matrix(true_labels, predictions)\n",
    "plt.figure(figsize=(10, 8))\n",
    "sns.heatmap(cm, annot=True, fmt='d', cmap='Blues')\n",
    "plt.title('Confusion Matrix')\n",
    "plt.ylabel('True Label')\n",
    "plt.xlabel('Predicted Label')\n",
    "labels = ['ADL', 'Fall']\n",
    "plt.xticks([0.5, 1.5], labels)\n",
    "plt.yticks([0.5, 1.5], labels)\n",
    "plt.show()"
   ]
  },
  {
   "cell_type": "code",
   "execution_count": 164,
   "id": "2e0d8e3f",
   "metadata": {
    "ExecuteTime": {
     "end_time": "2025-02-03T07:50:07.974421Z",
     "start_time": "2025-02-03T07:50:07.933003Z"
    }
   },
   "outputs": [
    {
     "name": "stdout",
     "output_type": "stream",
     "text": [
      "classification report\n",
      "              precision    recall  f1-score   support\n",
      "\n",
      "         ADL       0.57      0.75      0.65      8764\n",
      "        Fall       0.43      0.25      0.32      6555\n",
      "\n",
      "    accuracy                           0.54     15319\n",
      "   macro avg       0.50      0.50      0.48     15319\n",
      "weighted avg       0.51      0.54      0.51     15319\n",
      "\n"
     ]
    }
   ],
   "source": [
    "print (\"classification report\")\n",
    "print(classification_report(true_labels, predictions, \n",
    "                          target_names=['ADL', 'Fall']))"
   ]
  }
 ],
 "metadata": {
  "kernelspec": {
   "display_name": "Python 3 (ipykernel)",
   "language": "python",
   "name": "python3"
  },
  "language_info": {
   "codemirror_mode": {
    "name": "ipython",
    "version": 3
   },
   "file_extension": ".py",
   "mimetype": "text/x-python",
   "name": "python",
   "nbconvert_exporter": "python",
   "pygments_lexer": "ipython3",
   "version": "3.11.3"
  },
  "varInspector": {
   "cols": {
    "lenName": 16,
    "lenType": 16,
    "lenVar": 40
   },
   "kernels_config": {
    "python": {
     "delete_cmd_postfix": "",
     "delete_cmd_prefix": "del ",
     "library": "var_list.py",
     "varRefreshCmd": "print(var_dic_list())"
    },
    "r": {
     "delete_cmd_postfix": ") ",
     "delete_cmd_prefix": "rm(",
     "library": "var_list.r",
     "varRefreshCmd": "cat(var_dic_list()) "
    }
   },
   "types_to_exclude": [
    "module",
    "function",
    "builtin_function_or_method",
    "instance",
    "_Feature"
   ],
   "window_display": false
  }
 },
 "nbformat": 4,
 "nbformat_minor": 5
}
