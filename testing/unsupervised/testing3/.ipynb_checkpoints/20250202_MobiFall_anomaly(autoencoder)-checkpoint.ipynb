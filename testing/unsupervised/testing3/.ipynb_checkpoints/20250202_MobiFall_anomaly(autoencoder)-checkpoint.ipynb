{
 "cells": [
  {
   "cell_type": "code",
   "execution_count": 63,
   "id": "b55f2495",
   "metadata": {
    "ExecuteTime": {
     "end_time": "2025-02-02T14:45:28.533962Z",
     "start_time": "2025-02-02T14:45:28.512790Z"
    }
   },
   "outputs": [],
   "source": [
    "import tensorflow as tf\n",
    "import numpy as np\n",
    "from tensorflow.keras import layers, Model, Sequential\n",
    "import matplotlib.pyplot as plt \n",
    "import seaborn as sns\n",
    "import os\n",
    "import glob\n",
    "import pandas as pd\n",
    "from tqdm import tqdm"
   ]
  },
  {
   "cell_type": "code",
   "execution_count": 64,
   "id": "44399eca",
   "metadata": {
    "ExecuteTime": {
     "end_time": "2025-02-02T14:45:28.542405Z",
     "start_time": "2025-02-02T14:45:28.536612Z"
    }
   },
   "outputs": [],
   "source": [
    "WINDOW_LENGTH = 256  # data window\n",
    "STRIDE = 128  # stride\n",
    "BATCH_SIZE = 128  # batch\n",
    "EPOCHS = 100  # epoch\n",
    "LEARNING_RATE = 0.001  # lr\n",
    "PROJ_DIM = 128  # embedding dimension\n",
    "\n",
    "HARD_NEGATIVE_FACTOR = 0.1\n",
    "TEMPERATURE = 0.5"
   ]
  },
  {
   "cell_type": "code",
   "execution_count": 65,
   "id": "29ebfdbf",
   "metadata": {
    "ExecuteTime": {
     "end_time": "2025-02-02T14:45:28.547600Z",
     "start_time": "2025-02-02T14:45:28.544501Z"
    }
   },
   "outputs": [],
   "source": [
    "datapath = \"../../../data/MobiFall_Dataset/\" "
   ]
  },
  {
   "cell_type": "code",
   "execution_count": 66,
   "id": "43c4c59f",
   "metadata": {
    "ExecuteTime": {
     "end_time": "2025-02-02T14:45:28.554348Z",
     "start_time": "2025-02-02T14:45:28.550863Z"
    }
   },
   "outputs": [],
   "source": [
    "adl_activities = ['STD', 'WAL', 'JOG', 'JUM', \n",
    "                  'STU', 'STN', 'SCH', 'CSI', 'CSO'] \n",
    "fall_activities = ['FOL', 'FKL', 'BSC', 'SDL'] \n",
    "\n",
    "label2id = {act: 0 for act in adl_activities}\n",
    "label2id.update({act: 1 for act in fall_activities})"
   ]
  },
  {
   "cell_type": "code",
   "execution_count": 67,
   "id": "0fb769b8",
   "metadata": {
    "ExecuteTime": {
     "end_time": "2025-02-02T14:45:28.562615Z",
     "start_time": "2025-02-02T14:45:28.556353Z"
    }
   },
   "outputs": [
    {
     "name": "stdout",
     "output_type": "stream",
     "text": [
      "ADL+Fall subjects: [1, 2, 3, 4, 5, 6, 7, 8, 9, 10, 11]\n",
      "Fall-only subjects: [12, 13, 14, 15, 16, 17, 18, 19, 20, 21, 29, 30, 31]\n",
      "Train subjects (ADL+Fall): [1, 2, 3, 4, 5, 6, 7, 8]\n",
      "Train subjects (Fall only): [12, 13, 14, 15, 16, 17, 18, 19, 20]\n",
      "Total train subjects: [1, 2, 3, 4, 5, 6, 7, 8, 12, 13, 14, 15, 16, 17, 18, 19, 20]\n",
      "\n",
      "Val subjects (ADL+Fall): [9, 10]\n",
      "Val subjects (Fall only): [21, 29]\n",
      "Total val subjects: [9, 10, 21, 29]\n",
      "\n",
      "Test subjects (ADL+Fall): [11]\n",
      "Test subjects (Fall only): [30, 31]\n",
      "Total test subjects: [11, 30, 31]\n",
      "\n",
      "Total number of train subjects: 17\n",
      "Total number of validation subjects: 4\n",
      "Total number of test subjects: 3\n"
     ]
    }
   ],
   "source": [
    "adl_fall_subjects = list(range(1, 12))\n",
    "print(\"ADL+Fall subjects:\", adl_fall_subjects)\n",
    "\n",
    "fall_only_subjects = list(range(12, 22)) + list(range(29, 32))\n",
    "print(\"Fall-only subjects:\", fall_only_subjects)\n",
    "\n",
    "train_split = adl_fall_subjects[:8] + fall_only_subjects[:9]    \n",
    "val_split = adl_fall_subjects[8:10] + fall_only_subjects[9:11]    \n",
    "test_split = adl_fall_subjects[10:] + fall_only_subjects[11:]   \n",
    "\n",
    "print(f\"Train subjects (ADL+Fall): {adl_fall_subjects[:8]}\")\n",
    "print(f\"Train subjects (Fall only): {fall_only_subjects[:9]}\")\n",
    "print(f\"Total train subjects: {train_split}\\n\")\n",
    "\n",
    "print(f\"Val subjects (ADL+Fall): {adl_fall_subjects[8:10]}\")\n",
    "print(f\"Val subjects (Fall only): {fall_only_subjects[9:11]}\")\n",
    "print(f\"Total val subjects: {val_split}\\n\")\n",
    "\n",
    "print(f\"Test subjects (ADL+Fall): {adl_fall_subjects[10:]}\")\n",
    "print(f\"Test subjects (Fall only): {fall_only_subjects[11:]}\")\n",
    "print(f\"Total test subjects: {test_split}\\n\")\n",
    "\n",
    "print(f\"Total number of train subjects: {len(train_split)}\")\n",
    "print(f\"Total number of validation subjects: {len(val_split)}\")\n",
    "print(f\"Total number of test subjects: {len(test_split)}\")"
   ]
  },
  {
   "cell_type": "code",
   "execution_count": 68,
   "id": "82deef5e",
   "metadata": {
    "ExecuteTime": {
     "end_time": "2025-02-02T14:45:28.569606Z",
     "start_time": "2025-02-02T14:45:28.564768Z"
    }
   },
   "outputs": [],
   "source": [
    "def read_sensor_file(filepath):\n",
    "    with open(filepath, 'r') as f:\n",
    "        lines = f.readlines()\n",
    "        \n",
    "        data_start = 0\n",
    "        for i, line in enumerate(lines):\n",
    "            if line.strip() == '@DATA' :  # data tag finding\n",
    "                data_start = i + 1\n",
    "                break\n",
    "        \n",
    "        ###### parsing part\n",
    "        data_lines = []\n",
    "        for line in lines[data_start:]:\n",
    "            if line.strip():  \n",
    "                try:\n",
    "                    values = [float(val.strip()) for val in line.strip().split(',')]\n",
    "                    if all(np.isfinite(values)) : # <-- if finite?\n",
    "                        data_lines.append(values)\n",
    "                except ValueError:\n",
    "                    continue\n",
    "        \n",
    "        df = pd.DataFrame(data_lines) \n",
    "        df = df.fillna(0) # <-- nan -> 0\n",
    "        return df"
   ]
  },
  {
   "cell_type": "code",
   "execution_count": 69,
   "id": "577149ea",
   "metadata": {
    "ExecuteTime": {
     "end_time": "2025-02-02T14:45:28.576027Z",
     "start_time": "2025-02-02T14:45:28.571758Z"
    }
   },
   "outputs": [],
   "source": [
    "def split_sequences(data, labels, \n",
    "                    window_length=WINDOW_LENGTH, \n",
    "                    stride=STRIDE,\n",
    "                    clean=True):\n",
    "    idx = 0\n",
    "    endidx = len(data)\n",
    "    windows = []\n",
    "    window_labels = []\n",
    "    \n",
    "    while idx < endidx - window_length:\n",
    "        data_segment = data[idx:idx+window_length].T\n",
    "        \n",
    "        if clean and len(np.unique(labels[idx:idx + window_length])) > 1:\n",
    "            pass\n",
    "        else:\n",
    "            windows.append(data_segment)\n",
    "            window_labels.append(labels[idx+window_length])\n",
    "        \n",
    "        idx += stride\n",
    "    \n",
    "    if len(windows) == 0:\n",
    "        return None, None\n",
    "    \n",
    "    return np.stack(windows), np.asarray(window_labels)"
   ]
  },
  {
   "cell_type": "code",
   "execution_count": 70,
   "id": "1d0f12dd",
   "metadata": {
    "ExecuteTime": {
     "end_time": "2025-02-02T14:45:38.873121Z",
     "start_time": "2025-02-02T14:45:28.577956Z"
    }
   },
   "outputs": [
    {
     "name": "stderr",
     "output_type": "stream",
     "text": [
      "100%|███████████████████████████████████████████| 17/17 [00:10<00:00,  1.66it/s]"
     ]
    },
    {
     "name": "stdout",
     "output_type": "stream",
     "text": [
      "# of windows: 3842\n",
      "data shape: (3842, 6, 256)\n",
      "shape: (3842,)\n",
      "{0: 3842}\n"
     ]
    },
    {
     "name": "stderr",
     "output_type": "stream",
     "text": [
      "\n"
     ]
    }
   ],
   "source": [
    "'''\n",
    "    TRAIN DATA PREPARING PART\n",
    "    ONLY \"ADL\"\n",
    "'''\n",
    "\n",
    "train_data_normal = []  \n",
    "train_labels_normal = [] \n",
    "\n",
    "for subject_id in tqdm(train_split):\n",
    "    if subject_id >= 12 :  \n",
    "        # Fall-only -> SKIP at train data\n",
    "        continue\n",
    "        \n",
    "    subject_dir = os.path.join(datapath, f\"sub{subject_id}\")\n",
    "    adl_dir = os.path.join(subject_dir, \"ADL\")\n",
    "        \n",
    "    for activity in adl_activities : # ONLY ADL (normal first)\n",
    "        activity_dir = os.path.join(adl_dir, activity)\n",
    "            \n",
    "        acc_pattern = f\"{activity}_acc_{subject_id}_*.txt\"\n",
    "        acc_files = glob.glob(os.path.join(activity_dir, acc_pattern))\n",
    "        \n",
    "        for acc_file in acc_files:\n",
    "            trial_num = acc_file.split('_')[-1]\n",
    "            gyro_file = os.path.join(activity_dir, \n",
    "                                     f\"{activity}_gyro_{subject_id}_{trial_num}\")\n",
    "                \n",
    "            try:\n",
    "                acc_data = read_sensor_file(acc_file)\n",
    "                acc_data.columns = ['timestamp', 'acc_x', 'acc_y', 'acc_z']\n",
    "                \n",
    "                gyro_data = read_sensor_file(gyro_file)\n",
    "                gyro_data.columns = ['timestamp', 'gyro_x', 'gyro_y', 'gyro_z']\n",
    "                \n",
    "                merged_data = pd.merge_asof(\n",
    "                    acc_data.sort_values('timestamp'),\n",
    "                    gyro_data.sort_values('timestamp'),\n",
    "                    on='timestamp',\n",
    "                    direction='nearest',\n",
    "                    tolerance=1e7\n",
    "                )\n",
    "                \n",
    "                merged_data = merged_data.fillna(0)\n",
    "                sensor_data = merged_data[['acc_x', 'acc_y', 'acc_z',\n",
    "                                         'gyro_x', 'gyro_y', 'gyro_z']].values\n",
    "                \n",
    "                activity_labels = np.full(len(sensor_data), label2id[activity])\n",
    "                \n",
    "                windows_data, windows_labels = split_sequences(\n",
    "                    sensor_data, activity_labels, \n",
    "                    WINDOW_LENGTH, STRIDE\n",
    "                )\n",
    "                \n",
    "                if len(windows_data) > 0:\n",
    "                    train_data_normal.append(windows_data)\n",
    "                    train_labels_normal.append(windows_labels)\n",
    "                    \n",
    "            except : \n",
    "                print (error)\n",
    "                \n",
    "train_data_normal = np.concatenate(train_data_normal, axis=0)\n",
    "train_labels_normal = np.concatenate(train_labels_normal)\n",
    "\n",
    "print (f\"# of windows: {len(train_data_normal)}\")\n",
    "print (f\"data shape: {train_data_normal.shape}\")\n",
    "print (f\"shape: {train_labels_normal.shape}\")\n",
    "unique_labels, counts = np.unique(train_labels_normal, return_counts=True)\n",
    "print (dict(zip(unique_labels, counts)))"
   ]
  },
  {
   "cell_type": "code",
   "execution_count": 71,
   "id": "70c96baf",
   "metadata": {
    "ExecuteTime": {
     "end_time": "2025-02-02T14:45:41.286538Z",
     "start_time": "2025-02-02T14:45:38.875140Z"
    }
   },
   "outputs": [
    {
     "name": "stderr",
     "output_type": "stream",
     "text": [
      "100%|█████████████████████████████████████████████| 3/3 [00:02<00:00,  1.26it/s]"
     ]
    },
    {
     "name": "stdout",
     "output_type": "stream",
     "text": [
      "# of windows: 813\n",
      "data shape: (813, 6, 256)\n",
      "shape: (813,)\n",
      "{0: 634, 1: 179}\n"
     ]
    },
    {
     "name": "stderr",
     "output_type": "stream",
     "text": [
      "\n"
     ]
    }
   ],
   "source": [
    "'''\n",
    "    TRAIN DATA PREPARING PART\n",
    "    ADL + FALL\n",
    "'''\n",
    "\n",
    "test_data = []\n",
    "test_labels = []\n",
    "\n",
    "for subject_id in tqdm(test_split):\n",
    "    subject_dir = os.path.join(datapath, f\"sub{subject_id}\")\n",
    "    \n",
    "    if subject_id < 12: # ADL\n",
    "        adl_dir = os.path.join(subject_dir, \"ADL\")\n",
    "        if os.path.exists(adl_dir):\n",
    "            for activity in adl_activities:\n",
    "                activity_dir = os.path.join(adl_dir, activity)\n",
    "                if not os.path.exists(activity_dir):\n",
    "                    continue\n",
    "\n",
    "                acc_pattern = f\"{activity}_acc_{subject_id}_*.txt\"\n",
    "                acc_files = glob.glob(os.path.join(activity_dir, acc_pattern))\n",
    "                \n",
    "                for acc_file in acc_files:\n",
    "                    trial_num = acc_file.split('_')[-1]\n",
    "                    gyro_file = os.path.join(activity_dir, f\"{activity}_gyro_{subject_id}_{trial_num}\")\n",
    "                    \n",
    "                    if not os.path.exists(gyro_file):\n",
    "                        continue\n",
    "                        \n",
    "                    try:\n",
    "                        acc_data = read_sensor_file(acc_file)\n",
    "                        acc_data.columns = ['timestamp', 'acc_x', 'acc_y', 'acc_z']\n",
    "                        \n",
    "                        gyro_data = read_sensor_file(gyro_file)\n",
    "                        gyro_data.columns = ['timestamp', 'gyro_x', 'gyro_y', 'gyro_z']\n",
    "                        \n",
    "                        merged_data = pd.merge_asof(\n",
    "                            acc_data.sort_values('timestamp'),\n",
    "                            gyro_data.sort_values('timestamp'),\n",
    "                            on='timestamp',\n",
    "                            direction='nearest',\n",
    "                            tolerance=1e7\n",
    "                        )\n",
    "                        \n",
    "                        merged_data = merged_data.fillna(0)\n",
    "                        sensor_data = merged_data[['acc_x', 'acc_y', 'acc_z',\n",
    "                                                 'gyro_x', 'gyro_y', 'gyro_z']].values\n",
    "                        \n",
    "                        activity_labels = np.full(len(sensor_data), label2id[activity])\n",
    "                        windows_data, windows_labels = split_sequences(sensor_data, activity_labels)\n",
    "                        \n",
    "                        if len(windows_data) > 0:\n",
    "                            test_data.append(windows_data)\n",
    "                            test_labels.append(windows_labels)\n",
    "                            \n",
    "                    except : \n",
    "                        print(\"error\")\n",
    "                            \n",
    "    \n",
    "    falls_dir = os.path.join(subject_dir, \"FALLS\") # FALL (all subjects)\n",
    "    if os.path.exists(falls_dir):\n",
    "        for activity in fall_activities:\n",
    "            activity_dir = os.path.join(falls_dir, activity)\n",
    "            if not os.path.exists(activity_dir):\n",
    "                continue\n",
    "                \n",
    "            acc_pattern = f\"{activity}_acc_{subject_id}_*.txt\"\n",
    "            acc_files = glob.glob(os.path.join(activity_dir, acc_pattern))\n",
    "            \n",
    "            for acc_file in acc_files:\n",
    "                trial_num = acc_file.split('_')[-1]\n",
    "                gyro_file = os.path.join(activity_dir, f\"{activity}_gyro_{subject_id}_{trial_num}\")\n",
    "                \n",
    "                if not os.path.exists(gyro_file):\n",
    "                    continue\n",
    "                    \n",
    "                try:\n",
    "                    acc_data = read_sensor_file(acc_file)\n",
    "                    acc_data.columns = ['timestamp', 'acc_x', 'acc_y', 'acc_z']\n",
    "                    \n",
    "                    gyro_data = read_sensor_file(gyro_file)\n",
    "                    gyro_data.columns = ['timestamp', 'gyro_x', 'gyro_y', 'gyro_z']\n",
    "                    \n",
    "                    merged_data = pd.merge_asof(\n",
    "                        acc_data.sort_values('timestamp'),\n",
    "                        gyro_data.sort_values('timestamp'),\n",
    "                        on='timestamp',\n",
    "                        direction='nearest',\n",
    "                        tolerance=1e7\n",
    "                    )\n",
    "                    \n",
    "                    merged_data = merged_data.fillna(0)\n",
    "                    sensor_data = merged_data[['acc_x', 'acc_y', 'acc_z',\n",
    "                                             'gyro_x', 'gyro_y', 'gyro_z']].values\n",
    "                    \n",
    "                    activity_labels = np.full(len(sensor_data), label2id[activity])\n",
    "                    windows_data, windows_labels = split_sequences(sensor_data, activity_labels)\n",
    "                    \n",
    "                    if len(windows_data) > 0:\n",
    "                        test_data.append(windows_data)\n",
    "                        test_labels.append(windows_labels)\n",
    "                        \n",
    "                except : \n",
    "                    print ('error')\n",
    "\n",
    "test_data = np.concatenate(test_data, axis=0)\n",
    "test_labels = np.concatenate(test_labels)\n",
    "\n",
    "print(f\"# of windows: {len(test_data)}\")\n",
    "print(f\"data shape: {test_data.shape}\")\n",
    "print(f\"shape: {test_labels.shape}\")\n",
    "unique_labels, counts = np.unique(test_labels, return_counts=True)\n",
    "print(dict(zip(unique_labels, counts)))"
   ]
  },
  {
   "cell_type": "code",
   "execution_count": 72,
   "id": "e248e94c",
   "metadata": {
    "ExecuteTime": {
     "end_time": "2025-02-02T14:45:41.314129Z",
     "start_time": "2025-02-02T14:45:41.293061Z"
    }
   },
   "outputs": [
    {
     "name": "stdout",
     "output_type": "stream",
     "text": [
      "train data - accel shape: (3842, 6, 3)\n",
      "train data - gyro shape: (3842, 6, 3)\n",
      "test data - accel shape: (813, 6, 3)\n",
      "test data - gyro shape: (813, 6, 3)\n",
      "# of training batches: 31\n",
      "# of test batches: 7\n"
     ]
    }
   ],
   "source": [
    "# 데이터 준비 부분 수정\n",
    "train_acc_normal = train_data_normal[..., :3].astype(np.float32)  # (batch, timestep, 3)\n",
    "train_gyro_normal = train_data_normal[..., 3:6].astype(np.float32)  # (batch, timestep, 3)\n",
    "\n",
    "test_acc = test_data[..., :3].astype(np.float32)  # (batch, timestep, 3)\n",
    "test_gyro = test_data[..., 3:6].astype(np.float32)  # (batch, timestep, 3)\n",
    "\n",
    "#ONLY NORMAL (ADL)\n",
    "train_dataset = tf.data.Dataset.from_tensor_slices((train_acc_normal, train_gyro_normal))\n",
    "train_dataset = train_dataset.batch(BATCH_SIZE)\n",
    "\n",
    "test_dataset = tf.data.Dataset.from_tensor_slices(\n",
    "    ((test_acc, test_gyro), test_labels)\n",
    ").batch(BATCH_SIZE)\n",
    "\n",
    "print(f\"train data - accel shape: {train_acc_normal.shape}\")\n",
    "print(f\"train data - gyro shape: {train_gyro_normal.shape}\")\n",
    "print(f\"test data - accel shape: {test_acc.shape}\")\n",
    "print(f\"test data - gyro shape: {test_gyro.shape}\")\n",
    "print(f\"# of training batches: {len(train_dataset)}\")\n",
    "print(f\"# of test batches: {len(test_dataset)}\")"
   ]
  },
  {
   "cell_type": "markdown",
   "id": "0005414b",
   "metadata": {},
   "source": [
    "------"
   ]
  },
  {
   "cell_type": "code",
   "execution_count": 94,
   "id": "227d06a5",
   "metadata": {
    "ExecuteTime": {
     "end_time": "2025-02-02T14:51:07.541946Z",
     "start_time": "2025-02-02T14:51:07.535979Z"
    }
   },
   "outputs": [],
   "source": [
    "class SensorAutoEncoder(Model):\n",
    "    def __init__(self, in_feat, seq_len=6, latent_dim=64):\n",
    "        super(SensorAutoEncoder, self).__init__()\n",
    "        \n",
    "        # Encoder\n",
    "        self.encoder = Sequential([\n",
    "            layers.InputLayer(input_shape=(seq_len, in_feat)),\n",
    "            layers.Conv1D(64, 8, padding='same', activation='relu'),\n",
    "            layers.MaxPooling1D(2, padding='same'),\n",
    "            layers.Conv1D(32, 5, padding='same', activation='relu'),\n",
    "            layers.MaxPooling1D(2, padding='same'),\n",
    "            layers.Conv1D(16, 3, padding='same', activation='relu'),\n",
    "            layers.GlobalAveragePooling1D(),\n",
    "            layers.Dense(latent_dim)\n",
    "        ])\n",
    "        \n",
    "        # DECODER\n",
    "        self.decoder = Sequential([\n",
    "            layers.Dense(seq_len * 16),\n",
    "            layers.Reshape((seq_len, 16)),\n",
    "            layers.Conv1DTranspose(32, 3, padding='same', activation='relu'),\n",
    "            layers.Conv1DTranspose(64, 5, padding='same', activation='relu'),\n",
    "            layers.Conv1DTranspose(in_feat, 8, padding='same')\n",
    "        ])\n",
    "        \n",
    "    def call(self, x, training=False, return_reconstruction=False):\n",
    "        x = tf.cast(x, tf.float32)\n",
    "        z = self.encoder(x, training=training)\n",
    "        \n",
    "        if return_reconstruction:\n",
    "            reconstruction = self.decoder(z, training=training)\n",
    "            return z, reconstruction\n",
    "        return z"
   ]
  },
  {
   "cell_type": "code",
   "execution_count": 95,
   "id": "6a17637e",
   "metadata": {
    "ExecuteTime": {
     "end_time": "2025-02-02T14:51:08.016090Z",
     "start_time": "2025-02-02T14:51:08.009389Z"
    }
   },
   "outputs": [],
   "source": [
    "class CAGE(Model):\n",
    "    def __init__(self, n_feat=3, seq_len=6, proj_dim=128, latent_dim=64):\n",
    "        super(CAGE, self).__init__()\n",
    "        self.proj_dim = proj_dim\n",
    "        \n",
    "        self.enc_A = SensorAutoEncoder(n_feat, seq_len, latent_dim)\n",
    "        self.enc_G = SensorAutoEncoder(n_feat, seq_len, latent_dim)\n",
    "        \n",
    "        if self.proj_dim > 0:\n",
    "            self.proj_A = layers.Dense(proj_dim, use_bias=False)\n",
    "            self.proj_G = layers.Dense(proj_dim, use_bias=False)\n",
    "            \n",
    "        self.temperature = tf.Variable(0.1, trainable=True)\n",
    "    \n",
    "    def call(self, x_accel, x_gyro, training=False):\n",
    "        x_accel = tf.cast(x_accel, tf.float32)\n",
    "        x_gyro = tf.cast(x_gyro, tf.float32)\n",
    "        \n",
    "        z_accel, rec_accel = self.enc_A(x_accel, training=training, return_reconstruction=True)\n",
    "        z_gyro, rec_gyro = self.enc_G(x_gyro, training=training, return_reconstruction=True)\n",
    "        \n",
    "        if self.proj_dim > 0:\n",
    "            e_accel = self.proj_A(z_accel)\n",
    "            e_gyro = self.proj_G(z_gyro)\n",
    "        else:\n",
    "            e_accel = z_accel\n",
    "            e_gyro = z_gyro\n",
    "        \n",
    "        e_accel = tf.math.l2_normalize(e_accel, axis=1)\n",
    "        e_gyro = tf.math.l2_normalize(e_gyro, axis=1)\n",
    "        \n",
    "        logits = tf.matmul(e_accel, e_gyro, transpose_b=True) / self.temperature\n",
    "        \n",
    "        return logits, (rec_accel, rec_gyro)"
   ]
  },
  {
   "cell_type": "code",
   "execution_count": 102,
   "id": "6ce13c9d",
   "metadata": {
    "ExecuteTime": {
     "end_time": "2025-02-02T14:52:15.546849Z",
     "start_time": "2025-02-02T14:52:15.541376Z"
    }
   },
   "outputs": [],
   "source": [
    "@tf.function\n",
    "def combined_loss(logits, x_accel, x_gyro, rec_accel, rec_gyro, \n",
    "                 contrastive_weight=1.0, reconstruction_weight=0.1):\n",
    "    x_accel = tf.cast(x_accel, tf.float32)\n",
    "    x_gyro = tf.cast(x_gyro, tf.float32)\n",
    "    rec_accel = tf.cast(rec_accel, tf.float32)\n",
    "    rec_gyro = tf.cast(rec_gyro, tf.float32)\n",
    "    \n",
    "    batch_size = tf.shape(logits)[0]\n",
    "    labels = tf.eye(batch_size)\n",
    "    \n",
    "    contrastive = tf.keras.losses.categorical_crossentropy(\n",
    "        labels, tf.nn.softmax(logits, axis=-1), from_logits=False\n",
    "    )\n",
    "    \n",
    "    rec_loss_accel = tf.reduce_mean(tf.square(x_accel - rec_accel))\n",
    "    rec_loss_gyro = tf.reduce_mean(tf.square(x_gyro - rec_gyro))\n",
    "    reconstruction = rec_loss_accel + rec_loss_gyro\n",
    "    \n",
    "    return contrastive_weight * contrastive + reconstruction_weight * reconstruction\n"
   ]
  },
  {
   "cell_type": "code",
   "execution_count": 103,
   "id": "9e1e12a0",
   "metadata": {
    "ExecuteTime": {
     "end_time": "2025-02-02T14:52:15.968702Z",
     "start_time": "2025-02-02T14:52:15.949714Z"
    }
   },
   "outputs": [],
   "source": [
    "@tf.function\n",
    "def train_step(model, optimizer, x_accel, x_gyro):\n",
    "    with tf.GradientTape() as tape:\n",
    "        logits, (rec_accel, rec_gyro) = model(x_accel, x_gyro, training=True)\n",
    "        loss = combined_loss(\n",
    "            logits, x_accel, x_gyro, rec_accel, rec_gyro,\n",
    "            contrastive_weight=1.0,\n",
    "            reconstruction_weight=0.1\n",
    "        )\n",
    "        loss = tf.reduce_mean(loss)\n",
    "    \n",
    "    gradients = tape.gradient(loss, model.trainable_variables)\n",
    "    gradients, _ = tf.clip_by_global_norm(gradients, 1.0)\n",
    "    optimizer.apply_gradients(zip(gradients, model.trainable_variables))\n",
    "    \n",
    "    return loss  "
   ]
  },
  {
   "cell_type": "markdown",
   "id": "17866465",
   "metadata": {},
   "source": [
    "----"
   ]
  },
  {
   "cell_type": "code",
   "execution_count": 104,
   "id": "81059f39",
   "metadata": {
    "ExecuteTime": {
     "end_time": "2025-02-02T14:52:16.795904Z",
     "start_time": "2025-02-02T14:52:16.793195Z"
    }
   },
   "outputs": [
    {
     "name": "stdout",
     "output_type": "stream",
     "text": [
      "<_BatchDataset element_spec=(TensorSpec(shape=(None, 6, 3), dtype=tf.float32, name=None), TensorSpec(shape=(None, 6, 3), dtype=tf.float32, name=None))>\n"
     ]
    }
   ],
   "source": [
    "print (train_dataset)"
   ]
  },
  {
   "cell_type": "code",
   "execution_count": 105,
   "id": "1fd5ea2a",
   "metadata": {
    "ExecuteTime": {
     "end_time": "2025-02-02T14:52:17.420075Z",
     "start_time": "2025-02-02T14:52:17.273636Z"
    }
   },
   "outputs": [],
   "source": [
    "model = CAGE(n_feat=3, proj_dim=PROJ_DIM, latent_dim=64)\n",
    "optimizer = tf.keras.optimizers.Adam(learning_rate=LEARNING_RATE)"
   ]
  },
  {
   "cell_type": "code",
   "execution_count": 106,
   "id": "8b185509",
   "metadata": {
    "ExecuteTime": {
     "end_time": "2025-02-02T14:53:20.784037Z",
     "start_time": "2025-02-02T14:52:17.889896Z"
    },
    "scrolled": false
   },
   "outputs": [
    {
     "name": "stderr",
     "output_type": "stream",
     "text": [
      "Epoch 1/100: 100%|██████████████████████████████| 31/31 [00:04<00:00,  6.83it/s]\n"
     ]
    },
    {
     "name": "stdout",
     "output_type": "stream",
     "text": [
      "Epoch 1, Mean Loss: 6.4023\n",
      "New best loss achieved: 6.4023\n"
     ]
    },
    {
     "name": "stderr",
     "output_type": "stream",
     "text": [
      "Epoch 2/100: 100%|██████████████████████████████| 31/31 [00:00<00:00, 61.88it/s]\n"
     ]
    },
    {
     "name": "stdout",
     "output_type": "stream",
     "text": [
      "Epoch 2, Mean Loss: 4.9731\n",
      "New best loss achieved: 4.9731\n"
     ]
    },
    {
     "name": "stderr",
     "output_type": "stream",
     "text": [
      "Epoch 3/100: 100%|██████████████████████████████| 31/31 [00:00<00:00, 59.13it/s]\n"
     ]
    },
    {
     "name": "stdout",
     "output_type": "stream",
     "text": [
      "Epoch 3, Mean Loss: 4.7521\n",
      "New best loss achieved: 4.7521\n"
     ]
    },
    {
     "name": "stderr",
     "output_type": "stream",
     "text": [
      "Epoch 4/100: 100%|██████████████████████████████| 31/31 [00:00<00:00, 53.15it/s]\n"
     ]
    },
    {
     "name": "stdout",
     "output_type": "stream",
     "text": [
      "Epoch 4, Mean Loss: 4.3700\n",
      "New best loss achieved: 4.3700\n"
     ]
    },
    {
     "name": "stderr",
     "output_type": "stream",
     "text": [
      "Epoch 5/100: 100%|██████████████████████████████| 31/31 [00:00<00:00, 56.88it/s]\n"
     ]
    },
    {
     "name": "stdout",
     "output_type": "stream",
     "text": [
      "Epoch 5, Mean Loss: 3.9176\n",
      "New best loss achieved: 3.9176\n"
     ]
    },
    {
     "name": "stderr",
     "output_type": "stream",
     "text": [
      "Epoch 6/100: 100%|██████████████████████████████| 31/31 [00:00<00:00, 47.30it/s]\n"
     ]
    },
    {
     "name": "stdout",
     "output_type": "stream",
     "text": [
      "Epoch 6, Mean Loss: 3.6057\n",
      "New best loss achieved: 3.6057\n"
     ]
    },
    {
     "name": "stderr",
     "output_type": "stream",
     "text": [
      "Epoch 7/100: 100%|██████████████████████████████| 31/31 [00:00<00:00, 49.34it/s]\n"
     ]
    },
    {
     "name": "stdout",
     "output_type": "stream",
     "text": [
      "Epoch 7, Mean Loss: 3.3523\n",
      "New best loss achieved: 3.3523\n"
     ]
    },
    {
     "name": "stderr",
     "output_type": "stream",
     "text": [
      "Epoch 8/100: 100%|██████████████████████████████| 31/31 [00:00<00:00, 47.55it/s]\n"
     ]
    },
    {
     "name": "stdout",
     "output_type": "stream",
     "text": [
      "Epoch 8, Mean Loss: 3.2644\n",
      "New best loss achieved: 3.2644\n"
     ]
    },
    {
     "name": "stderr",
     "output_type": "stream",
     "text": [
      "Epoch 9/100: 100%|██████████████████████████████| 31/31 [00:00<00:00, 54.51it/s]\n"
     ]
    },
    {
     "name": "stdout",
     "output_type": "stream",
     "text": [
      "Epoch 9, Mean Loss: 3.2224\n",
      "New best loss achieved: 3.2224\n"
     ]
    },
    {
     "name": "stderr",
     "output_type": "stream",
     "text": [
      "Epoch 10/100: 100%|█████████████████████████████| 31/31 [00:00<00:00, 54.64it/s]\n"
     ]
    },
    {
     "name": "stdout",
     "output_type": "stream",
     "text": [
      "Epoch 10, Mean Loss: 3.0647\n",
      "New best loss achieved: 3.0647\n"
     ]
    },
    {
     "name": "stderr",
     "output_type": "stream",
     "text": [
      "Epoch 11/100: 100%|█████████████████████████████| 31/31 [00:00<00:00, 48.69it/s]\n"
     ]
    },
    {
     "name": "stdout",
     "output_type": "stream",
     "text": [
      "Epoch 11, Mean Loss: 2.9534\n",
      "New best loss achieved: 2.9534\n"
     ]
    },
    {
     "name": "stderr",
     "output_type": "stream",
     "text": [
      "Epoch 12/100: 100%|█████████████████████████████| 31/31 [00:00<00:00, 43.44it/s]\n"
     ]
    },
    {
     "name": "stdout",
     "output_type": "stream",
     "text": [
      "Epoch 12, Mean Loss: 2.8297\n",
      "New best loss achieved: 2.8297\n"
     ]
    },
    {
     "name": "stderr",
     "output_type": "stream",
     "text": [
      "Epoch 13/100: 100%|█████████████████████████████| 31/31 [00:00<00:00, 50.97it/s]\n"
     ]
    },
    {
     "name": "stdout",
     "output_type": "stream",
     "text": [
      "Epoch 13, Mean Loss: 2.7870\n",
      "New best loss achieved: 2.7870\n"
     ]
    },
    {
     "name": "stderr",
     "output_type": "stream",
     "text": [
      "Epoch 14/100: 100%|█████████████████████████████| 31/31 [00:00<00:00, 57.15it/s]\n"
     ]
    },
    {
     "name": "stdout",
     "output_type": "stream",
     "text": [
      "Epoch 14, Mean Loss: 2.6650\n",
      "New best loss achieved: 2.6650\n"
     ]
    },
    {
     "name": "stderr",
     "output_type": "stream",
     "text": [
      "Epoch 15/100: 100%|█████████████████████████████| 31/31 [00:00<00:00, 52.15it/s]\n"
     ]
    },
    {
     "name": "stdout",
     "output_type": "stream",
     "text": [
      "Epoch 15, Mean Loss: 2.7700\n"
     ]
    },
    {
     "name": "stderr",
     "output_type": "stream",
     "text": [
      "Epoch 16/100: 100%|█████████████████████████████| 31/31 [00:00<00:00, 44.51it/s]\n"
     ]
    },
    {
     "name": "stdout",
     "output_type": "stream",
     "text": [
      "Epoch 16, Mean Loss: 2.7497\n"
     ]
    },
    {
     "name": "stderr",
     "output_type": "stream",
     "text": [
      "Epoch 17/100: 100%|█████████████████████████████| 31/31 [00:00<00:00, 50.66it/s]\n"
     ]
    },
    {
     "name": "stdout",
     "output_type": "stream",
     "text": [
      "Epoch 17, Mean Loss: 2.6708\n"
     ]
    },
    {
     "name": "stderr",
     "output_type": "stream",
     "text": [
      "Epoch 18/100: 100%|█████████████████████████████| 31/31 [00:00<00:00, 57.61it/s]\n"
     ]
    },
    {
     "name": "stdout",
     "output_type": "stream",
     "text": [
      "Epoch 18, Mean Loss: 2.5696\n",
      "New best loss achieved: 2.5696\n"
     ]
    },
    {
     "name": "stderr",
     "output_type": "stream",
     "text": [
      "Epoch 19/100: 100%|█████████████████████████████| 31/31 [00:00<00:00, 52.58it/s]\n"
     ]
    },
    {
     "name": "stdout",
     "output_type": "stream",
     "text": [
      "Epoch 19, Mean Loss: 2.5985\n"
     ]
    },
    {
     "name": "stderr",
     "output_type": "stream",
     "text": [
      "Epoch 20/100: 100%|█████████████████████████████| 31/31 [00:00<00:00, 56.16it/s]\n"
     ]
    },
    {
     "name": "stdout",
     "output_type": "stream",
     "text": [
      "Epoch 20, Mean Loss: 2.7295\n"
     ]
    },
    {
     "name": "stderr",
     "output_type": "stream",
     "text": [
      "Epoch 21/100: 100%|█████████████████████████████| 31/31 [00:00<00:00, 51.57it/s]\n"
     ]
    },
    {
     "name": "stdout",
     "output_type": "stream",
     "text": [
      "Epoch 21, Mean Loss: 2.5904\n"
     ]
    },
    {
     "name": "stderr",
     "output_type": "stream",
     "text": [
      "Epoch 22/100: 100%|█████████████████████████████| 31/31 [00:00<00:00, 48.88it/s]\n"
     ]
    },
    {
     "name": "stdout",
     "output_type": "stream",
     "text": [
      "Epoch 22, Mean Loss: 2.6060\n"
     ]
    },
    {
     "name": "stderr",
     "output_type": "stream",
     "text": [
      "Epoch 23/100: 100%|█████████████████████████████| 31/31 [00:00<00:00, 53.91it/s]\n"
     ]
    },
    {
     "name": "stdout",
     "output_type": "stream",
     "text": [
      "Epoch 23, Mean Loss: 2.5413\n",
      "New best loss achieved: 2.5413\n"
     ]
    },
    {
     "name": "stderr",
     "output_type": "stream",
     "text": [
      "Epoch 24/100: 100%|█████████████████████████████| 31/31 [00:00<00:00, 59.83it/s]\n"
     ]
    },
    {
     "name": "stdout",
     "output_type": "stream",
     "text": [
      "Epoch 24, Mean Loss: 2.5312\n",
      "New best loss achieved: 2.5312\n"
     ]
    },
    {
     "name": "stderr",
     "output_type": "stream",
     "text": [
      "Epoch 25/100: 100%|█████████████████████████████| 31/31 [00:00<00:00, 61.72it/s]\n"
     ]
    },
    {
     "name": "stdout",
     "output_type": "stream",
     "text": [
      "Epoch 25, Mean Loss: 2.5085\n",
      "New best loss achieved: 2.5085\n"
     ]
    },
    {
     "name": "stderr",
     "output_type": "stream",
     "text": [
      "Epoch 26/100: 100%|█████████████████████████████| 31/31 [00:00<00:00, 43.97it/s]\n"
     ]
    },
    {
     "name": "stdout",
     "output_type": "stream",
     "text": [
      "Epoch 26, Mean Loss: 2.3498\n",
      "New best loss achieved: 2.3498\n"
     ]
    },
    {
     "name": "stderr",
     "output_type": "stream",
     "text": [
      "Epoch 27/100: 100%|█████████████████████████████| 31/31 [00:00<00:00, 47.27it/s]\n"
     ]
    },
    {
     "name": "stdout",
     "output_type": "stream",
     "text": [
      "Epoch 27, Mean Loss: 2.4040\n"
     ]
    },
    {
     "name": "stderr",
     "output_type": "stream",
     "text": [
      "Epoch 28/100: 100%|█████████████████████████████| 31/31 [00:00<00:00, 42.93it/s]\n"
     ]
    },
    {
     "name": "stdout",
     "output_type": "stream",
     "text": [
      "Epoch 28, Mean Loss: 2.5185\n"
     ]
    },
    {
     "name": "stderr",
     "output_type": "stream",
     "text": [
      "Epoch 29/100: 100%|█████████████████████████████| 31/31 [00:00<00:00, 54.12it/s]\n"
     ]
    },
    {
     "name": "stdout",
     "output_type": "stream",
     "text": [
      "Epoch 29, Mean Loss: 2.5316\n"
     ]
    },
    {
     "name": "stderr",
     "output_type": "stream",
     "text": [
      "Epoch 30/100: 100%|█████████████████████████████| 31/31 [00:00<00:00, 50.91it/s]\n"
     ]
    },
    {
     "name": "stdout",
     "output_type": "stream",
     "text": [
      "Epoch 30, Mean Loss: 2.5173\n"
     ]
    },
    {
     "name": "stderr",
     "output_type": "stream",
     "text": [
      "Epoch 31/100: 100%|█████████████████████████████| 31/31 [00:00<00:00, 48.59it/s]\n"
     ]
    },
    {
     "name": "stdout",
     "output_type": "stream",
     "text": [
      "Epoch 31, Mean Loss: 2.3731\n"
     ]
    },
    {
     "name": "stderr",
     "output_type": "stream",
     "text": [
      "Epoch 32/100: 100%|█████████████████████████████| 31/31 [00:00<00:00, 50.53it/s]\n"
     ]
    },
    {
     "name": "stdout",
     "output_type": "stream",
     "text": [
      "Epoch 32, Mean Loss: 2.3540\n"
     ]
    },
    {
     "name": "stderr",
     "output_type": "stream",
     "text": [
      "Epoch 33/100: 100%|█████████████████████████████| 31/31 [00:00<00:00, 53.35it/s]\n"
     ]
    },
    {
     "name": "stdout",
     "output_type": "stream",
     "text": [
      "Epoch 33, Mean Loss: 2.4017\n"
     ]
    },
    {
     "name": "stderr",
     "output_type": "stream",
     "text": [
      "Epoch 34/100: 100%|█████████████████████████████| 31/31 [00:00<00:00, 49.50it/s]\n"
     ]
    },
    {
     "name": "stdout",
     "output_type": "stream",
     "text": [
      "Epoch 34, Mean Loss: 2.4923\n"
     ]
    },
    {
     "name": "stderr",
     "output_type": "stream",
     "text": [
      "Epoch 35/100: 100%|█████████████████████████████| 31/31 [00:00<00:00, 59.03it/s]\n"
     ]
    },
    {
     "name": "stdout",
     "output_type": "stream",
     "text": [
      "Epoch 35, Mean Loss: 2.4956\n"
     ]
    },
    {
     "name": "stderr",
     "output_type": "stream",
     "text": [
      "Epoch 36/100: 100%|█████████████████████████████| 31/31 [00:00<00:00, 56.23it/s]\n"
     ]
    },
    {
     "name": "stdout",
     "output_type": "stream",
     "text": [
      "Epoch 36, Mean Loss: 2.3397\n",
      "New best loss achieved: 2.3397\n"
     ]
    },
    {
     "name": "stderr",
     "output_type": "stream",
     "text": [
      "Epoch 37/100: 100%|█████████████████████████████| 31/31 [00:00<00:00, 54.15it/s]\n"
     ]
    },
    {
     "name": "stdout",
     "output_type": "stream",
     "text": [
      "Epoch 37, Mean Loss: 2.2517\n",
      "New best loss achieved: 2.2517\n"
     ]
    },
    {
     "name": "stderr",
     "output_type": "stream",
     "text": [
      "Epoch 38/100: 100%|█████████████████████████████| 31/31 [00:00<00:00, 45.64it/s]\n"
     ]
    },
    {
     "name": "stdout",
     "output_type": "stream",
     "text": [
      "Epoch 38, Mean Loss: 2.3850\n"
     ]
    },
    {
     "name": "stderr",
     "output_type": "stream",
     "text": [
      "Epoch 39/100: 100%|█████████████████████████████| 31/31 [00:00<00:00, 51.41it/s]\n"
     ]
    },
    {
     "name": "stdout",
     "output_type": "stream",
     "text": [
      "Epoch 39, Mean Loss: 2.4790\n"
     ]
    },
    {
     "name": "stderr",
     "output_type": "stream",
     "text": [
      "Epoch 40/100: 100%|█████████████████████████████| 31/31 [00:00<00:00, 57.60it/s]\n"
     ]
    },
    {
     "name": "stdout",
     "output_type": "stream",
     "text": [
      "Epoch 40, Mean Loss: 2.3013\n"
     ]
    },
    {
     "name": "stderr",
     "output_type": "stream",
     "text": [
      "Epoch 41/100: 100%|█████████████████████████████| 31/31 [00:00<00:00, 61.07it/s]\n"
     ]
    },
    {
     "name": "stdout",
     "output_type": "stream",
     "text": [
      "Epoch 41, Mean Loss: 2.4007\n"
     ]
    },
    {
     "name": "stderr",
     "output_type": "stream",
     "text": [
      "Epoch 42/100: 100%|█████████████████████████████| 31/31 [00:00<00:00, 59.64it/s]\n"
     ]
    },
    {
     "name": "stdout",
     "output_type": "stream",
     "text": [
      "Epoch 42, Mean Loss: 2.4161\n"
     ]
    },
    {
     "name": "stderr",
     "output_type": "stream",
     "text": [
      "Epoch 43/100: 100%|█████████████████████████████| 31/31 [00:00<00:00, 53.82it/s]\n"
     ]
    },
    {
     "name": "stdout",
     "output_type": "stream",
     "text": [
      "Epoch 43, Mean Loss: 2.3246\n"
     ]
    },
    {
     "name": "stderr",
     "output_type": "stream",
     "text": [
      "Epoch 44/100: 100%|█████████████████████████████| 31/31 [00:00<00:00, 49.15it/s]\n"
     ]
    },
    {
     "name": "stdout",
     "output_type": "stream",
     "text": [
      "Epoch 44, Mean Loss: 2.2876\n"
     ]
    },
    {
     "name": "stderr",
     "output_type": "stream",
     "text": [
      "Epoch 45/100: 100%|█████████████████████████████| 31/31 [00:00<00:00, 44.73it/s]\n"
     ]
    },
    {
     "name": "stdout",
     "output_type": "stream",
     "text": [
      "Epoch 45, Mean Loss: 2.2787\n"
     ]
    },
    {
     "name": "stderr",
     "output_type": "stream",
     "text": [
      "Epoch 46/100: 100%|█████████████████████████████| 31/31 [00:00<00:00, 52.59it/s]\n"
     ]
    },
    {
     "name": "stdout",
     "output_type": "stream",
     "text": [
      "Epoch 46, Mean Loss: 2.2850\n"
     ]
    },
    {
     "name": "stderr",
     "output_type": "stream",
     "text": [
      "Epoch 47/100: 100%|█████████████████████████████| 31/31 [00:00<00:00, 61.49it/s]\n"
     ]
    },
    {
     "name": "stdout",
     "output_type": "stream",
     "text": [
      "Epoch 47, Mean Loss: 2.3559\n"
     ]
    },
    {
     "name": "stderr",
     "output_type": "stream",
     "text": [
      "Epoch 48/100: 100%|█████████████████████████████| 31/31 [00:00<00:00, 56.13it/s]\n"
     ]
    },
    {
     "name": "stdout",
     "output_type": "stream",
     "text": [
      "Epoch 48, Mean Loss: 2.3891\n"
     ]
    },
    {
     "name": "stderr",
     "output_type": "stream",
     "text": [
      "Epoch 49/100: 100%|█████████████████████████████| 31/31 [00:00<00:00, 47.17it/s]\n"
     ]
    },
    {
     "name": "stdout",
     "output_type": "stream",
     "text": [
      "Epoch 49, Mean Loss: 2.4102\n"
     ]
    },
    {
     "name": "stderr",
     "output_type": "stream",
     "text": [
      "Epoch 50/100: 100%|█████████████████████████████| 31/31 [00:00<00:00, 43.08it/s]\n"
     ]
    },
    {
     "name": "stdout",
     "output_type": "stream",
     "text": [
      "Epoch 50, Mean Loss: 2.2133\n",
      "New best loss achieved: 2.2133\n"
     ]
    },
    {
     "name": "stderr",
     "output_type": "stream",
     "text": [
      "Epoch 51/100: 100%|█████████████████████████████| 31/31 [00:00<00:00, 49.17it/s]\n"
     ]
    },
    {
     "name": "stdout",
     "output_type": "stream",
     "text": [
      "Epoch 51, Mean Loss: 2.1418\n",
      "New best loss achieved: 2.1418\n"
     ]
    },
    {
     "name": "stderr",
     "output_type": "stream",
     "text": [
      "Epoch 52/100: 100%|█████████████████████████████| 31/31 [00:00<00:00, 51.53it/s]\n"
     ]
    },
    {
     "name": "stdout",
     "output_type": "stream",
     "text": [
      "Epoch 52, Mean Loss: 2.3103\n"
     ]
    },
    {
     "name": "stderr",
     "output_type": "stream",
     "text": [
      "Epoch 53/100: 100%|█████████████████████████████| 31/31 [00:00<00:00, 53.03it/s]\n"
     ]
    },
    {
     "name": "stdout",
     "output_type": "stream",
     "text": [
      "Epoch 53, Mean Loss: 2.2943\n"
     ]
    },
    {
     "name": "stderr",
     "output_type": "stream",
     "text": [
      "Epoch 54/100: 100%|█████████████████████████████| 31/31 [00:00<00:00, 51.28it/s]\n"
     ]
    },
    {
     "name": "stdout",
     "output_type": "stream",
     "text": [
      "Epoch 54, Mean Loss: 2.2051\n"
     ]
    },
    {
     "name": "stderr",
     "output_type": "stream",
     "text": [
      "Epoch 55/100: 100%|█████████████████████████████| 31/31 [00:00<00:00, 54.87it/s]\n"
     ]
    },
    {
     "name": "stdout",
     "output_type": "stream",
     "text": [
      "Epoch 55, Mean Loss: 2.1667\n"
     ]
    },
    {
     "name": "stderr",
     "output_type": "stream",
     "text": [
      "Epoch 56/100: 100%|█████████████████████████████| 31/31 [00:00<00:00, 59.81it/s]\n"
     ]
    },
    {
     "name": "stdout",
     "output_type": "stream",
     "text": [
      "Epoch 56, Mean Loss: 2.1549\n"
     ]
    },
    {
     "name": "stderr",
     "output_type": "stream",
     "text": [
      "Epoch 57/100: 100%|█████████████████████████████| 31/31 [00:00<00:00, 61.29it/s]\n"
     ]
    },
    {
     "name": "stdout",
     "output_type": "stream",
     "text": [
      "Epoch 57, Mean Loss: 2.1016\n",
      "New best loss achieved: 2.1016\n"
     ]
    },
    {
     "name": "stderr",
     "output_type": "stream",
     "text": [
      "Epoch 58/100: 100%|█████████████████████████████| 31/31 [00:00<00:00, 53.20it/s]\n"
     ]
    },
    {
     "name": "stdout",
     "output_type": "stream",
     "text": [
      "Epoch 58, Mean Loss: 2.2172\n"
     ]
    },
    {
     "name": "stderr",
     "output_type": "stream",
     "text": [
      "Epoch 59/100: 100%|█████████████████████████████| 31/31 [00:00<00:00, 48.48it/s]\n"
     ]
    },
    {
     "name": "stdout",
     "output_type": "stream",
     "text": [
      "Epoch 59, Mean Loss: 2.1564\n"
     ]
    },
    {
     "name": "stderr",
     "output_type": "stream",
     "text": [
      "Epoch 60/100: 100%|█████████████████████████████| 31/31 [00:00<00:00, 50.62it/s]\n"
     ]
    },
    {
     "name": "stdout",
     "output_type": "stream",
     "text": [
      "Epoch 60, Mean Loss: 3.0402\n"
     ]
    },
    {
     "name": "stderr",
     "output_type": "stream",
     "text": [
      "Epoch 61/100: 100%|█████████████████████████████| 31/31 [00:00<00:00, 53.24it/s]\n"
     ]
    },
    {
     "name": "stdout",
     "output_type": "stream",
     "text": [
      "Epoch 61, Mean Loss: 2.2676\n"
     ]
    },
    {
     "name": "stderr",
     "output_type": "stream",
     "text": [
      "Epoch 62/100: 100%|█████████████████████████████| 31/31 [00:00<00:00, 55.48it/s]\n"
     ]
    },
    {
     "name": "stdout",
     "output_type": "stream",
     "text": [
      "Epoch 62, Mean Loss: 2.1746\n"
     ]
    },
    {
     "name": "stderr",
     "output_type": "stream",
     "text": [
      "Epoch 63/100: 100%|█████████████████████████████| 31/31 [00:00<00:00, 50.53it/s]\n"
     ]
    },
    {
     "name": "stdout",
     "output_type": "stream",
     "text": [
      "Epoch 63, Mean Loss: 2.1530\n"
     ]
    },
    {
     "name": "stderr",
     "output_type": "stream",
     "text": [
      "Epoch 64/100: 100%|█████████████████████████████| 31/31 [00:00<00:00, 48.92it/s]\n"
     ]
    },
    {
     "name": "stdout",
     "output_type": "stream",
     "text": [
      "Epoch 64, Mean Loss: 2.1209\n"
     ]
    },
    {
     "name": "stderr",
     "output_type": "stream",
     "text": [
      "Epoch 65/100: 100%|█████████████████████████████| 31/31 [00:00<00:00, 49.83it/s]\n"
     ]
    },
    {
     "name": "stdout",
     "output_type": "stream",
     "text": [
      "Epoch 65, Mean Loss: 2.1462\n"
     ]
    },
    {
     "name": "stderr",
     "output_type": "stream",
     "text": [
      "Epoch 66/100: 100%|█████████████████████████████| 31/31 [00:00<00:00, 62.03it/s]\n"
     ]
    },
    {
     "name": "stdout",
     "output_type": "stream",
     "text": [
      "Epoch 66, Mean Loss: 2.3156\n"
     ]
    },
    {
     "name": "stderr",
     "output_type": "stream",
     "text": [
      "Epoch 67/100: 100%|█████████████████████████████| 31/31 [00:00<00:00, 58.68it/s]\n"
     ]
    },
    {
     "name": "stdout",
     "output_type": "stream",
     "text": [
      "Epoch 67, Mean Loss: 2.2876\n"
     ]
    },
    {
     "name": "stderr",
     "output_type": "stream",
     "text": [
      "Epoch 68/100: 100%|█████████████████████████████| 31/31 [00:00<00:00, 46.98it/s]\n"
     ]
    },
    {
     "name": "stdout",
     "output_type": "stream",
     "text": [
      "Epoch 68, Mean Loss: 2.1672\n"
     ]
    },
    {
     "name": "stderr",
     "output_type": "stream",
     "text": [
      "Epoch 69/100: 100%|█████████████████████████████| 31/31 [00:00<00:00, 49.28it/s]\n"
     ]
    },
    {
     "name": "stdout",
     "output_type": "stream",
     "text": [
      "Epoch 69, Mean Loss: 2.1671\n"
     ]
    },
    {
     "name": "stderr",
     "output_type": "stream",
     "text": [
      "Epoch 70/100: 100%|█████████████████████████████| 31/31 [00:00<00:00, 49.99it/s]\n"
     ]
    },
    {
     "name": "stdout",
     "output_type": "stream",
     "text": [
      "Epoch 70, Mean Loss: 2.1696\n"
     ]
    },
    {
     "name": "stderr",
     "output_type": "stream",
     "text": [
      "Epoch 71/100: 100%|█████████████████████████████| 31/31 [00:00<00:00, 50.57it/s]\n"
     ]
    },
    {
     "name": "stdout",
     "output_type": "stream",
     "text": [
      "Epoch 71, Mean Loss: 2.0311\n",
      "New best loss achieved: 2.0311\n"
     ]
    },
    {
     "name": "stderr",
     "output_type": "stream",
     "text": [
      "Epoch 72/100: 100%|█████████████████████████████| 31/31 [00:00<00:00, 62.15it/s]\n"
     ]
    },
    {
     "name": "stdout",
     "output_type": "stream",
     "text": [
      "Epoch 72, Mean Loss: 2.2299\n"
     ]
    },
    {
     "name": "stderr",
     "output_type": "stream",
     "text": [
      "Epoch 73/100: 100%|█████████████████████████████| 31/31 [00:00<00:00, 59.42it/s]\n"
     ]
    },
    {
     "name": "stdout",
     "output_type": "stream",
     "text": [
      "Epoch 73, Mean Loss: 2.1889\n"
     ]
    },
    {
     "name": "stderr",
     "output_type": "stream",
     "text": [
      "Epoch 74/100: 100%|█████████████████████████████| 31/31 [00:00<00:00, 54.30it/s]\n"
     ]
    },
    {
     "name": "stdout",
     "output_type": "stream",
     "text": [
      "Epoch 74, Mean Loss: 2.1412\n"
     ]
    },
    {
     "name": "stderr",
     "output_type": "stream",
     "text": [
      "Epoch 75/100: 100%|█████████████████████████████| 31/31 [00:00<00:00, 52.87it/s]\n"
     ]
    },
    {
     "name": "stdout",
     "output_type": "stream",
     "text": [
      "Epoch 75, Mean Loss: 2.0190\n",
      "New best loss achieved: 2.0190\n"
     ]
    },
    {
     "name": "stderr",
     "output_type": "stream",
     "text": [
      "Epoch 76/100: 100%|█████████████████████████████| 31/31 [00:00<00:00, 52.59it/s]\n"
     ]
    },
    {
     "name": "stdout",
     "output_type": "stream",
     "text": [
      "Epoch 76, Mean Loss: 2.0079\n",
      "New best loss achieved: 2.0079\n"
     ]
    },
    {
     "name": "stderr",
     "output_type": "stream",
     "text": [
      "Epoch 77/100: 100%|█████████████████████████████| 31/31 [00:00<00:00, 54.34it/s]\n"
     ]
    },
    {
     "name": "stdout",
     "output_type": "stream",
     "text": [
      "Epoch 77, Mean Loss: 2.0196\n"
     ]
    },
    {
     "name": "stderr",
     "output_type": "stream",
     "text": [
      "Epoch 78/100: 100%|█████████████████████████████| 31/31 [00:00<00:00, 52.84it/s]\n"
     ]
    },
    {
     "name": "stdout",
     "output_type": "stream",
     "text": [
      "Epoch 78, Mean Loss: 2.1645\n"
     ]
    },
    {
     "name": "stderr",
     "output_type": "stream",
     "text": [
      "Epoch 79/100: 100%|█████████████████████████████| 31/31 [00:00<00:00, 44.60it/s]\n"
     ]
    },
    {
     "name": "stdout",
     "output_type": "stream",
     "text": [
      "Epoch 79, Mean Loss: 2.2015\n"
     ]
    },
    {
     "name": "stderr",
     "output_type": "stream",
     "text": [
      "Epoch 80/100: 100%|█████████████████████████████| 31/31 [00:00<00:00, 45.90it/s]\n"
     ]
    },
    {
     "name": "stdout",
     "output_type": "stream",
     "text": [
      "Epoch 80, Mean Loss: 2.0904\n"
     ]
    },
    {
     "name": "stderr",
     "output_type": "stream",
     "text": [
      "Epoch 81/100: 100%|█████████████████████████████| 31/31 [00:00<00:00, 60.04it/s]\n"
     ]
    },
    {
     "name": "stdout",
     "output_type": "stream",
     "text": [
      "Epoch 81, Mean Loss: 2.1884\n"
     ]
    },
    {
     "name": "stderr",
     "output_type": "stream",
     "text": [
      "Epoch 82/100: 100%|█████████████████████████████| 31/31 [00:00<00:00, 62.27it/s]\n"
     ]
    },
    {
     "name": "stdout",
     "output_type": "stream",
     "text": [
      "Epoch 82, Mean Loss: 2.0177\n"
     ]
    },
    {
     "name": "stderr",
     "output_type": "stream",
     "text": [
      "Epoch 83/100: 100%|█████████████████████████████| 31/31 [00:00<00:00, 63.36it/s]\n"
     ]
    },
    {
     "name": "stdout",
     "output_type": "stream",
     "text": [
      "Epoch 83, Mean Loss: 2.2136\n"
     ]
    },
    {
     "name": "stderr",
     "output_type": "stream",
     "text": [
      "Epoch 84/100: 100%|█████████████████████████████| 31/31 [00:00<00:00, 51.12it/s]\n"
     ]
    },
    {
     "name": "stdout",
     "output_type": "stream",
     "text": [
      "Epoch 84, Mean Loss: 1.9887\n",
      "New best loss achieved: 1.9887\n"
     ]
    },
    {
     "name": "stderr",
     "output_type": "stream",
     "text": [
      "Epoch 85/100: 100%|█████████████████████████████| 31/31 [00:00<00:00, 51.55it/s]\n"
     ]
    },
    {
     "name": "stdout",
     "output_type": "stream",
     "text": [
      "Epoch 85, Mean Loss: 2.0377\n"
     ]
    },
    {
     "name": "stderr",
     "output_type": "stream",
     "text": [
      "Epoch 86/100: 100%|█████████████████████████████| 31/31 [00:00<00:00, 55.87it/s]\n"
     ]
    },
    {
     "name": "stdout",
     "output_type": "stream",
     "text": [
      "Epoch 86, Mean Loss: 2.0152\n"
     ]
    },
    {
     "name": "stderr",
     "output_type": "stream",
     "text": [
      "Epoch 87/100: 100%|█████████████████████████████| 31/31 [00:00<00:00, 56.02it/s]\n"
     ]
    },
    {
     "name": "stdout",
     "output_type": "stream",
     "text": [
      "Epoch 87, Mean Loss: 2.0455\n"
     ]
    },
    {
     "name": "stderr",
     "output_type": "stream",
     "text": [
      "Epoch 88/100: 100%|█████████████████████████████| 31/31 [00:00<00:00, 49.42it/s]\n"
     ]
    },
    {
     "name": "stdout",
     "output_type": "stream",
     "text": [
      "Epoch 88, Mean Loss: 1.9574\n",
      "New best loss achieved: 1.9574\n"
     ]
    },
    {
     "name": "stderr",
     "output_type": "stream",
     "text": [
      "Epoch 89/100: 100%|█████████████████████████████| 31/31 [00:00<00:00, 55.91it/s]\n"
     ]
    },
    {
     "name": "stdout",
     "output_type": "stream",
     "text": [
      "Epoch 89, Mean Loss: 2.1582\n"
     ]
    },
    {
     "name": "stderr",
     "output_type": "stream",
     "text": [
      "Epoch 90/100: 100%|█████████████████████████████| 31/31 [00:00<00:00, 58.36it/s]\n"
     ]
    },
    {
     "name": "stdout",
     "output_type": "stream",
     "text": [
      "Epoch 90, Mean Loss: 1.9609\n"
     ]
    },
    {
     "name": "stderr",
     "output_type": "stream",
     "text": [
      "Epoch 91/100: 100%|█████████████████████████████| 31/31 [00:00<00:00, 63.64it/s]\n"
     ]
    },
    {
     "name": "stdout",
     "output_type": "stream",
     "text": [
      "Epoch 91, Mean Loss: 1.9772\n"
     ]
    },
    {
     "name": "stderr",
     "output_type": "stream",
     "text": [
      "Epoch 92/100: 100%|█████████████████████████████| 31/31 [00:00<00:00, 56.65it/s]\n"
     ]
    },
    {
     "name": "stdout",
     "output_type": "stream",
     "text": [
      "Epoch 92, Mean Loss: 2.0727\n"
     ]
    },
    {
     "name": "stderr",
     "output_type": "stream",
     "text": [
      "Epoch 93/100: 100%|█████████████████████████████| 31/31 [00:00<00:00, 51.42it/s]\n"
     ]
    },
    {
     "name": "stdout",
     "output_type": "stream",
     "text": [
      "Epoch 93, Mean Loss: 2.0728\n"
     ]
    },
    {
     "name": "stderr",
     "output_type": "stream",
     "text": [
      "Epoch 94/100: 100%|█████████████████████████████| 31/31 [00:00<00:00, 51.59it/s]\n"
     ]
    },
    {
     "name": "stdout",
     "output_type": "stream",
     "text": [
      "Epoch 94, Mean Loss: 1.9127\n",
      "New best loss achieved: 1.9127\n"
     ]
    },
    {
     "name": "stderr",
     "output_type": "stream",
     "text": [
      "Epoch 95/100: 100%|█████████████████████████████| 31/31 [00:00<00:00, 61.02it/s]\n"
     ]
    },
    {
     "name": "stdout",
     "output_type": "stream",
     "text": [
      "Epoch 95, Mean Loss: 2.0776\n"
     ]
    },
    {
     "name": "stderr",
     "output_type": "stream",
     "text": [
      "Epoch 96/100: 100%|█████████████████████████████| 31/31 [00:00<00:00, 64.57it/s]\n"
     ]
    },
    {
     "name": "stdout",
     "output_type": "stream",
     "text": [
      "Epoch 96, Mean Loss: 1.8035\n",
      "New best loss achieved: 1.8035\n"
     ]
    },
    {
     "name": "stderr",
     "output_type": "stream",
     "text": [
      "Epoch 97/100: 100%|█████████████████████████████| 31/31 [00:00<00:00, 57.34it/s]\n"
     ]
    },
    {
     "name": "stdout",
     "output_type": "stream",
     "text": [
      "Epoch 97, Mean Loss: 2.0895\n"
     ]
    },
    {
     "name": "stderr",
     "output_type": "stream",
     "text": [
      "Epoch 98/100: 100%|█████████████████████████████| 31/31 [00:00<00:00, 51.13it/s]\n"
     ]
    },
    {
     "name": "stdout",
     "output_type": "stream",
     "text": [
      "Epoch 98, Mean Loss: 1.9709\n"
     ]
    },
    {
     "name": "stderr",
     "output_type": "stream",
     "text": [
      "Epoch 99/100: 100%|█████████████████████████████| 31/31 [00:00<00:00, 52.10it/s]\n"
     ]
    },
    {
     "name": "stdout",
     "output_type": "stream",
     "text": [
      "Epoch 99, Mean Loss: 1.9822\n"
     ]
    },
    {
     "name": "stderr",
     "output_type": "stream",
     "text": [
      "Epoch 100/100: 100%|████████████████████████████| 31/31 [00:00<00:00, 51.11it/s]"
     ]
    },
    {
     "name": "stdout",
     "output_type": "stream",
     "text": [
      "Epoch 100, Mean Loss: 2.1251\n",
      "END THE LEARNING\n",
      "final best loss: 1.8035\n"
     ]
    },
    {
     "name": "stderr",
     "output_type": "stream",
     "text": [
      "\n"
     ]
    }
   ],
   "source": [
    "train_losses = []\n",
    "best_loss = float('inf')\n",
    "\n",
    "for epoch in range(EPOCHS):\n",
    "    epoch_losses = []\n",
    "    \n",
    "    for acc_batch, gyro_batch in tqdm(train_dataset, desc=f'Epoch {epoch + 1}/{EPOCHS}'):\n",
    "        loss = train_step(model, optimizer, acc_batch, gyro_batch)\n",
    "        epoch_losses.append(float(loss.numpy()))\n",
    "    \n",
    "    avg_loss = np.mean(epoch_losses)\n",
    "    train_losses.append(avg_loss)\n",
    "    \n",
    "    print(f\"Epoch {epoch + 1}, Mean Loss: {avg_loss:.4f}\")\n",
    "    \n",
    "    if avg_loss < best_loss:\n",
    "        best_loss = avg_loss\n",
    "        print(f\"New best loss achieved: {best_loss:.4f}\")\n",
    "\n",
    "print (\"END THE LEARNING\")\n",
    "print (f\"final best loss: {best_loss:.4f}\")"
   ]
  },
  {
   "cell_type": "code",
   "execution_count": 108,
   "id": "321c9915",
   "metadata": {
    "ExecuteTime": {
     "end_time": "2025-02-02T14:53:42.465916Z",
     "start_time": "2025-02-02T14:53:42.257952Z"
    }
   },
   "outputs": [
    {
     "data": {
      "image/png": "[encoded data removed]",
      "text/plain": [
       "<Figure size 1000x600 with 1 Axes>"
      ]
     },
     "metadata": {},
     "output_type": "display_data"
    }
   ],
   "source": [
    "plt.figure(figsize=(10, 6))\n",
    "plt.plot(train_losses, label='Training Loss')\n",
    "plt.xlabel('Epoch')\n",
    "plt.ylabel('Loss')\n",
    "plt.title('Training Loss over Epochs')\n",
    "plt.legend()\n",
    "plt.grid(True)\n",
    "plt.show()"
   ]
  },
  {
   "cell_type": "code",
   "execution_count": 110,
   "id": "e913403f",
   "metadata": {
    "ExecuteTime": {
     "end_time": "2025-02-02T14:54:26.543927Z",
     "start_time": "2025-02-02T14:54:24.692305Z"
    }
   },
   "outputs": [
    {
     "name": "stderr",
     "output_type": "stream",
     "text": [
      "Computing normal similarities: 100%|████████████| 31/31 [00:01<00:00, 20.38it/s]\n",
      "Computing test similarities: 100%|████████████████| 7/7 [00:00<00:00, 21.82it/s]\n"
     ]
    }
   ],
   "source": [
    "normal_similarities = []\n",
    "for acc_batch, gyro_batch in tqdm(train_dataset, desc='Computing normal similarities'):\n",
    "    logits, _ = model(acc_batch, gyro_batch, training=False)\n",
    "    sim = tf.nn.softmax(logits, axis=-1)\n",
    "    batch_similarities = tf.reduce_mean(sim, axis=1)\n",
    "    normal_similarities.extend(batch_similarities.numpy())\n",
    "\n",
    "test_similarities = []\n",
    "test_pred_labels = []\n",
    "for (acc_batch, gyro_batch), labels in tqdm(test_dataset, desc='Computing test similarities'):\n",
    "    logits, _ = model(acc_batch, gyro_batch, training=False) \n",
    "    sim = tf.nn.softmax(logits, axis=-1)\n",
    "    batch_similarities = tf.reduce_mean(sim, axis=1)\n",
    "    test_similarities.extend(batch_similarities.numpy())\n",
    "    test_pred_labels.extend(labels.numpy())"
   ]
  },
  {
   "cell_type": "code",
   "execution_count": 111,
   "id": "675d6168",
   "metadata": {
    "ExecuteTime": {
     "end_time": "2025-02-02T14:54:27.111487Z",
     "start_time": "2025-02-02T14:54:27.107912Z"
    }
   },
   "outputs": [],
   "source": [
    "threshold = np.percentile(normal_similarities, 5)"
   ]
  },
  {
   "cell_type": "code",
   "execution_count": 112,
   "id": "b40abe82",
   "metadata": {
    "ExecuteTime": {
     "end_time": "2025-02-02T14:54:28.058863Z",
     "start_time": "2025-02-02T14:54:27.846814Z"
    }
   },
   "outputs": [
    {
     "data": {
      "image/png": "[encoded data removed]",
      "text/plain": [
       "<Figure size 640x480 with 1 Axes>"
      ]
     },
     "metadata": {},
     "output_type": "display_data"
    }
   ],
   "source": [
    "indices = range(len(test_similarities))\n",
    "plt.scatter([i for i, l in zip(indices, test_pred_labels) if l == 0], \n",
    "           [s for s, l in zip(test_similarities, test_pred_labels) if l == 0],\n",
    "           c='blue', label='Normal (ADL)', alpha=0.5, s=20)\n",
    "plt.scatter([i for i, l in zip(indices, test_pred_labels) if l == 1],\n",
    "           [s for s, l in zip(test_similarities, test_pred_labels) if l == 1],\n",
    "           c='red', label='Fall', alpha=0.5, s=20)\n",
    "plt.axhline(y=threshold, color='green', linestyle='--', label=f'Threshold ({threshold:.3f})')\n",
    "plt.ylim(0.0078100, 0.0078150)\n",
    "plt.xlabel('Sample Index')\n",
    "plt.ylabel('Similarity Score')\n",
    "plt.title('Similarity Scores over Time')\n",
    "plt.legend()\n",
    "plt.grid(True)"
   ]
  },
  {
   "cell_type": "code",
   "execution_count": 113,
   "id": "1f74c78b",
   "metadata": {
    "ExecuteTime": {
     "end_time": "2025-02-02T14:54:30.620369Z",
     "start_time": "2025-02-02T14:54:30.415702Z"
    }
   },
   "outputs": [],
   "source": [
    "from sklearn.metrics import confusion_matrix, classification_report\n",
    "\n",
    "predictions = [1 if sim < threshold else 0 for sim in test_similarities] \n",
    "true_labels = test_pred_labels"
   ]
  },
  {
   "cell_type": "code",
   "execution_count": 114,
   "id": "53cf03cf",
   "metadata": {
    "ExecuteTime": {
     "end_time": "2025-02-02T14:54:31.214858Z",
     "start_time": "2025-02-02T14:54:31.053361Z"
    }
   },
   "outputs": [
    {
     "data": {
      "image/png": "[encoded data removed]",
      "text/plain": [
       "<Figure size 1000x800 with 2 Axes>"
      ]
     },
     "metadata": {},
     "output_type": "display_data"
    }
   ],
   "source": [
    "cm = confusion_matrix(true_labels, predictions)\n",
    "plt.figure(figsize=(10, 8))\n",
    "sns.heatmap(cm, annot=True, fmt='d', cmap='Blues')\n",
    "plt.title('Confusion Matrix')\n",
    "plt.ylabel('True Label')\n",
    "plt.xlabel('Predicted Label')\n",
    "labels = ['ADL', 'Fall']\n",
    "plt.xticks([0.5, 1.5], labels)\n",
    "plt.yticks([0.5, 1.5], labels)\n",
    "plt.show()"
   ]
  },
  {
   "cell_type": "code",
   "execution_count": 115,
   "id": "2e0d8e3f",
   "metadata": {
    "ExecuteTime": {
     "end_time": "2025-02-02T14:54:34.220595Z",
     "start_time": "2025-02-02T14:54:34.208431Z"
    }
   },
   "outputs": [
    {
     "name": "stdout",
     "output_type": "stream",
     "text": [
      "classification report\n",
      "              precision    recall  f1-score   support\n",
      "\n",
      "         ADL       0.78      0.97      0.86       634\n",
      "        Fall       0.12      0.02      0.03       179\n",
      "\n",
      "    accuracy                           0.76       813\n",
      "   macro avg       0.45      0.49      0.45       813\n",
      "weighted avg       0.63      0.76      0.68       813\n",
      "\n"
     ]
    }
   ],
   "source": [
    "print (\"classification report\")\n",
    "print(classification_report(true_labels, predictions, \n",
    "                          target_names=['ADL', 'Fall']))"
   ]
  },
  {
   "cell_type": "code",
   "execution_count": 116,
   "id": "d382f18e",
   "metadata": {
    "ExecuteTime": {
     "end_time": "2025-02-02T14:54:35.078342Z",
     "start_time": "2025-02-02T14:54:34.980961Z"
    }
   },
   "outputs": [
    {
     "ename": "InvalidArgumentError",
     "evalue": "{{function_node __wrapped__Pack_N_2_device_/job:localhost/replica:0/task:0/device:CPU:0}} Shapes of all inputs must match: values[0].shape = [128,128] != values[1].shape = [2,128,6,3] [Op:Pack] name: ",
     "output_type": "error",
     "traceback": [
      "\u001b[0;31m---------------------------------------------------------------------------\u001b[0m",
      "\u001b[0;31mInvalidArgumentError\u001b[0m                      Traceback (most recent call last)",
      "Cell \u001b[0;32mIn[116], line 18\u001b[0m\n\u001b[1;32m     14\u001b[0m                 fall_similarities\u001b[38;5;241m.\u001b[39mappend(sim_score)\n\u001b[1;32m     16\u001b[0m     \u001b[38;5;28;01mreturn\u001b[39;00m np\u001b[38;5;241m.\u001b[39marray(normal_similarities), np\u001b[38;5;241m.\u001b[39marray(fall_similarities)\n\u001b[0;32m---> 18\u001b[0m normal_sims, fall_sims \u001b[38;5;241m=\u001b[39m \u001b[43mcalculate_similarities\u001b[49m\u001b[43m(\u001b[49m\u001b[43mmodel\u001b[49m\u001b[43m,\u001b[49m\u001b[43m \u001b[49m\u001b[43mtest_dataset\u001b[49m\u001b[43m)\u001b[49m\n\u001b[1;32m     20\u001b[0m \u001b[38;5;28mprint\u001b[39m(\u001b[38;5;124m\"\u001b[39m\u001b[38;5;124m[ ADL data ]\u001b[39m\u001b[38;5;124m\"\u001b[39m)\n\u001b[1;32m     21\u001b[0m \u001b[38;5;28mprint\u001b[39m(\u001b[38;5;124mf\u001b[39m\u001b[38;5;124m\"\u001b[39m\u001b[38;5;124m  Mean: \u001b[39m\u001b[38;5;132;01m{\u001b[39;00mnp\u001b[38;5;241m.\u001b[39mmean(normal_sims)\u001b[38;5;132;01m:\u001b[39;00m\u001b[38;5;124m.4f\u001b[39m\u001b[38;5;132;01m}\u001b[39;00m\u001b[38;5;124m\"\u001b[39m)\n",
      "Cell \u001b[0;32mIn[116], line 7\u001b[0m, in \u001b[0;36mcalculate_similarities\u001b[0;34m(model, test_dataset)\u001b[0m\n\u001b[1;32m      5\u001b[0m \u001b[38;5;28;01mfor\u001b[39;00m (acc_batch, gyro_batch), labels \u001b[38;5;129;01min\u001b[39;00m test_dataset:\n\u001b[1;32m      6\u001b[0m     logits \u001b[38;5;241m=\u001b[39m model(acc_batch, gyro_batch, training\u001b[38;5;241m=\u001b[39m\u001b[38;5;28;01mFalse\u001b[39;00m)\n\u001b[0;32m----> 7\u001b[0m     sim \u001b[38;5;241m=\u001b[39m \u001b[43mtf\u001b[49m\u001b[38;5;241;43m.\u001b[39;49m\u001b[43mnn\u001b[49m\u001b[38;5;241;43m.\u001b[39;49m\u001b[43msoftmax\u001b[49m\u001b[43m(\u001b[49m\u001b[43mlogits\u001b[49m\u001b[43m,\u001b[49m\u001b[43m \u001b[49m\u001b[43maxis\u001b[49m\u001b[38;5;241;43m=\u001b[39;49m\u001b[38;5;241;43m-\u001b[39;49m\u001b[38;5;241;43m1\u001b[39;49m\u001b[43m)\u001b[49m\n\u001b[1;32m      8\u001b[0m     batch_similarities \u001b[38;5;241m=\u001b[39m tf\u001b[38;5;241m.\u001b[39mreduce_mean(sim, axis\u001b[38;5;241m=\u001b[39m\u001b[38;5;241m1\u001b[39m)\n\u001b[1;32m     10\u001b[0m     \u001b[38;5;28;01mfor\u001b[39;00m sim_score, label \u001b[38;5;129;01min\u001b[39;00m \u001b[38;5;28mzip\u001b[39m(batch_similarities\u001b[38;5;241m.\u001b[39mnumpy(), labels\u001b[38;5;241m.\u001b[39mnumpy()):\n",
      "File \u001b[0;32m/Library/Frameworks/Python.framework/Versions/3.11/lib/python3.11/site-packages/tensorflow/python/util/traceback_utils.py:153\u001b[0m, in \u001b[0;36mfilter_traceback.<locals>.error_handler\u001b[0;34m(*args, **kwargs)\u001b[0m\n\u001b[1;32m    151\u001b[0m \u001b[38;5;28;01mexcept\u001b[39;00m \u001b[38;5;167;01mException\u001b[39;00m \u001b[38;5;28;01mas\u001b[39;00m e:\n\u001b[1;32m    152\u001b[0m   filtered_tb \u001b[38;5;241m=\u001b[39m _process_traceback_frames(e\u001b[38;5;241m.\u001b[39m__traceback__)\n\u001b[0;32m--> 153\u001b[0m   \u001b[38;5;28;01mraise\u001b[39;00m e\u001b[38;5;241m.\u001b[39mwith_traceback(filtered_tb) \u001b[38;5;28;01mfrom\u001b[39;00m \u001b[38;5;28;01mNone\u001b[39;00m\n\u001b[1;32m    154\u001b[0m \u001b[38;5;28;01mfinally\u001b[39;00m:\n\u001b[1;32m    155\u001b[0m   \u001b[38;5;28;01mdel\u001b[39;00m filtered_tb\n",
      "File \u001b[0;32m/Library/Frameworks/Python.framework/Versions/3.11/lib/python3.11/site-packages/tensorflow/python/framework/ops.py:5883\u001b[0m, in \u001b[0;36mraise_from_not_ok_status\u001b[0;34m(e, name)\u001b[0m\n\u001b[1;32m   5881\u001b[0m \u001b[38;5;28;01mdef\u001b[39;00m \u001b[38;5;21mraise_from_not_ok_status\u001b[39m(e, name) \u001b[38;5;241m-\u001b[39m\u001b[38;5;241m>\u001b[39m NoReturn:\n\u001b[1;32m   5882\u001b[0m   e\u001b[38;5;241m.\u001b[39mmessage \u001b[38;5;241m+\u001b[39m\u001b[38;5;241m=\u001b[39m (\u001b[38;5;124m\"\u001b[39m\u001b[38;5;124m name: \u001b[39m\u001b[38;5;124m\"\u001b[39m \u001b[38;5;241m+\u001b[39m \u001b[38;5;28mstr\u001b[39m(name \u001b[38;5;28;01mif\u001b[39;00m name \u001b[38;5;129;01mis\u001b[39;00m \u001b[38;5;129;01mnot\u001b[39;00m \u001b[38;5;28;01mNone\u001b[39;00m \u001b[38;5;28;01melse\u001b[39;00m \u001b[38;5;124m\"\u001b[39m\u001b[38;5;124m\"\u001b[39m))\n\u001b[0;32m-> 5883\u001b[0m   \u001b[38;5;28;01mraise\u001b[39;00m core\u001b[38;5;241m.\u001b[39m_status_to_exception(e) \u001b[38;5;28;01mfrom\u001b[39;00m \u001b[38;5;28;01mNone\u001b[39;00m\n",
      "\u001b[0;31mInvalidArgumentError\u001b[0m: {{function_node __wrapped__Pack_N_2_device_/job:localhost/replica:0/task:0/device:CPU:0}} Shapes of all inputs must match: values[0].shape = [128,128] != values[1].shape = [2,128,6,3] [Op:Pack] name: "
     ]
    }
   ],
   "source": [
    "def calculate_similarities(model, test_dataset):\n",
    "    normal_similarities = []\n",
    "    fall_similarities = []\n",
    "    \n",
    "    for (acc_batch, gyro_batch), labels in test_dataset:\n",
    "        logits = model(acc_batch, gyro_batch, training=False)\n",
    "        sim = tf.nn.softmax(logits, axis=-1)\n",
    "        batch_similarities = tf.reduce_mean(sim, axis=1)\n",
    "        \n",
    "        for sim_score, label in zip(batch_similarities.numpy(), labels.numpy()):\n",
    "            if label == 0:  # normal\n",
    "                normal_similarities.append(sim_score)\n",
    "            else:  # fall\n",
    "                fall_similarities.append(sim_score)\n",
    "    \n",
    "    return np.array(normal_similarities), np.array(fall_similarities)\n",
    "\n",
    "normal_sims, fall_sims = calculate_similarities(model, test_dataset)\n",
    "\n",
    "print(\"[ ADL data ]\")\n",
    "print(f\"  Mean: {np.mean(normal_sims):.4f}\")\n",
    "print(f\"  Std: {np.std(normal_sims):.4f}\")\n",
    "print(f\"  Min: {np.min(normal_sims):.4f}\")\n",
    "print(f\"  Max: {np.max(normal_sims):.4f}\")\n",
    "for i in range (20) :\n",
    "    print ('ADL ind', i+1, ':', normal_sims[i])\n",
    "\n",
    "print ()\n",
    "print(\"[ FALL data ]\")\n",
    "print(f\"  Mean: {np.mean(fall_sims):.4f}\")\n",
    "print(f\"  Std: {np.std(fall_sims):.4f}\")\n",
    "print(f\"  Min: {np.min(fall_sims):.4f}\")\n",
    "print(f\"  Max: {np.max(fall_sims):.4f}\")\n",
    "for i in range (20) :\n",
    "    print ('FALL ind', i+1, ':', fall_sims[i])"
   ]
  },
  {
   "cell_type": "code",
   "execution_count": null,
   "id": "afe01a02",
   "metadata": {},
   "outputs": [],
   "source": []
  }
 ],
 "metadata": {
  "kernelspec": {
   "display_name": "Python 3 (ipykernel)",
   "language": "python",
   "name": "python3"
  },
  "language_info": {
   "codemirror_mode": {
    "name": "ipython",
    "version": 3
   },
   "file_extension": ".py",
   "mimetype": "text/x-python",
   "name": "python",
   "nbconvert_exporter": "python",
   "pygments_lexer": "ipython3",
   "version": "3.11.3"
  },
  "varInspector": {
   "cols": {
    "lenName": 16,
    "lenType": 16,
    "lenVar": 40
   },
   "kernels_config": {
    "python": {
     "delete_cmd_postfix": "",
     "delete_cmd_prefix": "del ",
     "library": "var_list.py",
     "varRefreshCmd": "print(var_dic_list())"
    },
    "r": {
     "delete_cmd_postfix": ") ",
     "delete_cmd_prefix": "rm(",
     "library": "var_list.r",
     "varRefreshCmd": "cat(var_dic_list()) "
    }
   },
   "types_to_exclude": [
    "module",
    "function",
    "builtin_function_or_method",
    "instance",
    "_Feature"
   ],
   "window_display": false
  }
 },
 "nbformat": 4,
 "nbformat_minor": 5
}
