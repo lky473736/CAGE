{
 "cells": [
  {
   "cell_type": "code",
   "execution_count": 1,
   "id": "b55f2495",
   "metadata": {
    "ExecuteTime": {
     "end_time": "2025-02-04T03:32:56.126629Z",
     "start_time": "2025-02-04T03:32:49.152475Z"
    }
   },
   "outputs": [
    {
     "name": "stderr",
     "output_type": "stream",
     "text": [
      "2025-02-04 12:32:50.897970: I tensorflow/core/platform/cpu_feature_guard.cc:182] This TensorFlow binary is optimized to use available CPU instructions in performance-critical operations.\n",
      "To enable the following instructions: AVX2 FMA, in other operations, rebuild TensorFlow with the appropriate compiler flags.\n"
     ]
    }
   ],
   "source": [
    "import tensorflow as tf\n",
    "import numpy as np\n",
    "from tensorflow.keras import layers, Model\n",
    "import matplotlib.pyplot as plt \n",
    "import seaborn as sns\n",
    "import os\n",
    "import glob\n",
    "import pandas as pd\n",
    "from tqdm import tqdm\n",
    "from sklearn.metrics import confusion_matrix, classification_report\n",
    "from sklearn.preprocessing import StandardScaler"
   ]
  },
  {
   "cell_type": "code",
   "execution_count": 2,
   "id": "44399eca",
   "metadata": {
    "ExecuteTime": {
     "end_time": "2025-02-04T03:32:56.134488Z",
     "start_time": "2025-02-04T03:32:56.130325Z"
    }
   },
   "outputs": [],
   "source": [
    "WINDOW_LENGTH = 256  # data window\n",
    "STRIDE = 128        # stride\n",
    "BATCH_SIZE = 64  # batch\n",
    "EPOCHS = 100  # epoch\n",
    "LEARNING_RATE = 0.0001  # lr\n",
    "PROJ_DIM = 128  # embedding dimension"
   ]
  },
  {
   "cell_type": "code",
   "execution_count": 3,
   "id": "29ebfdbf",
   "metadata": {
    "ExecuteTime": {
     "end_time": "2025-02-04T03:32:56.139388Z",
     "start_time": "2025-02-04T03:32:56.136819Z"
    }
   },
   "outputs": [],
   "source": [
    "datapath = \"../../../data/SisFall_Dataset/\" "
   ]
  },
  {
   "cell_type": "code",
   "execution_count": 4,
   "id": "e3b268bb",
   "metadata": {
    "ExecuteTime": {
     "end_time": "2025-02-04T03:32:56.148303Z",
     "start_time": "2025-02-04T03:32:56.141739Z"
    }
   },
   "outputs": [
    {
     "data": {
      "text/plain": [
       "'\\n        Each file contains nine columns and a different number of rows depending on the test length.\\n        \\n        1st column is the acceleration data in the X axis measured by the sensor ADXL345.\\n        2nd column is the acceleration data in the Y axis measured by the sensor ADXL345.\\n        3rd column is the acceleration data in the Z axis measured by the sensor ADXL345.\\n\\n        4th column is the rotation data in the X axis measured by the sensor ITG3200.\\n        5th column is the rotation data in the Y axis measured by the sensor ITG3200.\\n        6th column is the rotation data in the Z axis measured by the sensor ITG3200.\\n\\n        7th column is the acceleration data in the X axis measured by the sensor MMA8451Q.\\n        8th column is the acceleration data in the Y axis measured by the sensor MMA8451Q.\\n        9th column is the acceleration data in the Z axis measured by the sensor MMA8451Q.\\n        \\n        Data are in bits with the following characteristics:\\n\\n        ADXL345:\\n        Resolution: 13 bits\\n        Range: +-16g\\n\\n        ITG3200\\n        Resolution: 16 bits\\n        Range: +-2000°/s\\n\\n        MMA8451Q:\\n        Resolution: 14 bits\\n        Range: +-8g\\n'"
      ]
     },
     "execution_count": 4,
     "metadata": {},
     "output_type": "execute_result"
    }
   ],
   "source": [
    "'''\n",
    "        Each file contains nine columns and a different number of rows depending on the test length.\n",
    "        \n",
    "        1st column is the acceleration data in the X axis measured by the sensor ADXL345.\n",
    "        2nd column is the acceleration data in the Y axis measured by the sensor ADXL345.\n",
    "        3rd column is the acceleration data in the Z axis measured by the sensor ADXL345.\n",
    "\n",
    "        4th column is the rotation data in the X axis measured by the sensor ITG3200.\n",
    "        5th column is the rotation data in the Y axis measured by the sensor ITG3200.\n",
    "        6th column is the rotation data in the Z axis measured by the sensor ITG3200.\n",
    "\n",
    "        7th column is the acceleration data in the X axis measured by the sensor MMA8451Q.\n",
    "        8th column is the acceleration data in the Y axis measured by the sensor MMA8451Q.\n",
    "        9th column is the acceleration data in the Z axis measured by the sensor MMA8451Q.\n",
    "        \n",
    "        Data are in bits with the following characteristics:\n",
    "\n",
    "        ADXL345:\n",
    "        Resolution: 13 bits\n",
    "        Range: +-16g\n",
    "\n",
    "        ITG3200\n",
    "        Resolution: 16 bits\n",
    "        Range: +-2000°/s\n",
    "\n",
    "        MMA8451Q:\n",
    "        Resolution: 14 bits\n",
    "        Range: +-8g\n",
    "'''"
   ]
  },
  {
   "cell_type": "code",
   "execution_count": 5,
   "id": "0fb769b8",
   "metadata": {
    "ExecuteTime": {
     "end_time": "2025-02-04T03:32:56.155725Z",
     "start_time": "2025-02-04T03:32:56.150257Z"
    }
   },
   "outputs": [],
   "source": [
    "adl_activities = [f'D{str(i).zfill(2)}' for i in range(1, 20)]  # D01-D19\n",
    "fall_activities = [f'F{str(i).zfill(2)}' for i in range(1, 16)]  # F01-F15\n",
    "\n",
    "label2id = {act: 0 for act in adl_activities}\n",
    "label2id.update({act: 1 for act in fall_activities})\n",
    "\n",
    "adult_subjects = [f'SA{str(i).zfill(2)}' for i in range(1, 24)]  # SA01-SA23\n",
    "elderly_subjects = [f'SE{str(i).zfill(2)}' for i in range(1, 16)]  # SE01-SE15\n",
    "\n",
    "train_sa = adult_subjects[:16]    # 16 subjects\n",
    "val_sa = adult_subjects[16:19]    # 3 subjects\n",
    "test_sa = adult_subjects[19:]     # 4 subjects\n",
    "\n",
    "train_se = elderly_subjects[:10]  # 10 subjects\n",
    "val_se = elderly_subjects[10:12]  # 2 subjects\n",
    "test_se = elderly_subjects[12:]   # 3 subjects\n",
    "\n",
    "train_split = train_sa + train_se\n",
    "val_split = val_sa + val_se\n",
    "test_split = test_sa + test_se\n",
    "\n",
    "all_subjects = adult_subjects + elderly_subjects  # all subjects"
   ]
  },
  {
   "cell_type": "code",
   "execution_count": 6,
   "id": "82deef5e",
   "metadata": {
    "ExecuteTime": {
     "end_time": "2025-02-04T03:32:56.161919Z",
     "start_time": "2025-02-04T03:32:56.157549Z"
    }
   },
   "outputs": [],
   "source": [
    "def read_sensor_file(filepath) :\n",
    "   \"\"\"\n",
    "       first 6 columns : ADXL345 acc + ITG3200 gyro\n",
    "   \"\"\"\n",
    "   with open(filepath, 'r') as file:\n",
    "       content = file.read()\n",
    "\n",
    "   content = content.replace(' ', '')  # delete blank\n",
    "   rows = []\n",
    "\n",
    "   for line in content.split(';\\n'): \n",
    "       if line.strip():\n",
    "           try:\n",
    "               values = [float(x) for x in line.split(',')[:6]]\n",
    "               rows.append(values)\n",
    "           except (ValueError, IndexError):\n",
    "               continue\n",
    "\n",
    "   return np.array(rows)"
   ]
  },
  {
   "cell_type": "code",
   "execution_count": 7,
   "id": "577149ea",
   "metadata": {
    "ExecuteTime": {
     "end_time": "2025-02-04T03:32:56.168174Z",
     "start_time": "2025-02-04T03:32:56.163841Z"
    }
   },
   "outputs": [],
   "source": [
    "def split_sequences(data, labels, \n",
    "                    window_length=WINDOW_LENGTH, \n",
    "                    stride=STRIDE,\n",
    "                    clean=True):\n",
    "    idx = 0\n",
    "    endidx = len(data)\n",
    "    windows = []\n",
    "    window_labels = []\n",
    "    \n",
    "    while idx < endidx - window_length:\n",
    "        data_segment = data[idx:idx+window_length].T\n",
    "        \n",
    "        if clean and len(np.unique(labels[idx:idx + window_length])) > 1:\n",
    "            pass\n",
    "        else:\n",
    "            windows.append(data_segment)\n",
    "            window_labels.append(labels[idx+window_length])\n",
    "        \n",
    "        idx += stride\n",
    "    \n",
    "    if len(windows) == 0:\n",
    "        return None, None\n",
    "    \n",
    "    return np.stack(windows), np.asarray(window_labels)"
   ]
  },
  {
   "cell_type": "code",
   "execution_count": 8,
   "id": "1d0f12dd",
   "metadata": {
    "ExecuteTime": {
     "end_time": "2025-02-04T03:33:15.139299Z",
     "start_time": "2025-02-04T03:32:56.172988Z"
    }
   },
   "outputs": [
    {
     "name": "stderr",
     "output_type": "stream",
     "text": [
      "Processing training data (ADL): 100%|███████████| 38/38 [00:18<00:00,  2.07it/s]\n"
     ]
    },
    {
     "name": "stdout",
     "output_type": "stream",
     "text": [
      "# of windows: 52925\n",
      "data shape: (52925, 6, 256)\n",
      "labels shape: (52925,)\n",
      "{0: 52925}\n"
     ]
    }
   ],
   "source": [
    "'''\n",
    "   TRAIN DATA PREPARING PART\n",
    "   ONLY \"ADL\"\n",
    "'''\n",
    "train_data_normal = []  \n",
    "train_labels_normal = [] \n",
    "\n",
    "# for subject in tqdm(train_split):  \n",
    "for subject in tqdm(all_subjects, desc=\"Processing training data (ADL)\"):\n",
    "   subject_dir = os.path.join(datapath, subject)\n",
    "   \n",
    "   if subject.startswith('SE') and subject != 'SE06':\n",
    "       continue\n",
    "       \n",
    "   for activity in adl_activities:\n",
    "       activity_pattern = os.path.join(subject_dir, f\"{activity}*.txt\")\n",
    "       activity_files = glob.glob(activity_pattern)\n",
    "       \n",
    "       for file_path in activity_files:\n",
    "           try:\n",
    "               raw_data = read_sensor_file(file_path)\n",
    "               if raw_data is not None and raw_data.shape[1] == 6:\n",
    "                   sensor_data = raw_data\n",
    "                   activity_labels = np.full(len(sensor_data), label2id[activity])\n",
    "                   \n",
    "                   windows_data, windows_labels = split_sequences(\n",
    "                       sensor_data, activity_labels, \n",
    "                       WINDOW_LENGTH, STRIDE\n",
    "                   )\n",
    "                   \n",
    "                   if windows_data is not None and len(windows_data) > 0:\n",
    "                       train_data_normal.append(windows_data)\n",
    "                       train_labels_normal.append(windows_labels)\n",
    "                   \n",
    "           except Exception as e: \n",
    "               print(f\"Error processing file {file_path}: {e}\")\n",
    "               \n",
    "train_data_normal = np.concatenate(train_data_normal, axis=0)\n",
    "train_labels_normal = np.concatenate(train_labels_normal)\n",
    "\n",
    "print (f\"# of windows: {len(train_data_normal)}\")\n",
    "print (f\"data shape: {train_data_normal.shape}\")\n",
    "print (f\"labels shape: {train_labels_normal.shape}\")\n",
    "unique_labels, counts = np.unique(train_labels_normal, return_counts=True)\n",
    "print (dict(zip(unique_labels, counts)))"
   ]
  },
  {
   "cell_type": "code",
   "execution_count": 9,
   "id": "70c96baf",
   "metadata": {
    "ExecuteTime": {
     "end_time": "2025-02-04T03:33:48.625457Z",
     "start_time": "2025-02-04T03:33:15.141607Z"
    }
   },
   "outputs": [
    {
     "name": "stderr",
     "output_type": "stream",
     "text": [
      "Processing test data (ADL + FALL): 100%|████████| 38/38 [00:32<00:00,  1.17it/s]\n"
     ]
    },
    {
     "name": "stdout",
     "output_type": "stream",
     "text": [
      "# of windows: 92480\n",
      "data shape: (92480, 6, 256)\n",
      "labels shape: (92480,)\n",
      "{0: 52925, 1: 39555}\n"
     ]
    }
   ],
   "source": [
    "'''\n",
    "   TEST DATA PREPARING PART\n",
    "   ADL + FALL\n",
    "'''\n",
    "test_data = []\n",
    "test_labels = []\n",
    "\n",
    "# for subject in tqdm(test_split):\n",
    "for subject in tqdm(all_subjects, desc=\"Processing test data (ADL + FALL)\"):\n",
    "   subject_dir = os.path.join(datapath, subject)\n",
    "   \n",
    "   is_elderly = subject.startswith('SE')\n",
    "   \n",
    "   if not (is_elderly and subject != 'SE06'): \n",
    "       for activity in adl_activities:\n",
    "           activity_pattern = os.path.join(subject_dir, f\"{activity}*.txt\")\n",
    "           activity_files = glob.glob(activity_pattern)\n",
    "           \n",
    "           for file_path in activity_files:\n",
    "               try:\n",
    "                   raw_data = read_sensor_file(file_path)\n",
    "                   if raw_data is not None and raw_data.shape[1] == 6:\n",
    "                       sensor_data = raw_data\n",
    "                       activity_labels = np.full(len(sensor_data), label2id[activity])\n",
    "                       \n",
    "                       windows_data, windows_labels = split_sequences(\n",
    "                           sensor_data, activity_labels,\n",
    "                           WINDOW_LENGTH, STRIDE\n",
    "                       )\n",
    "                       \n",
    "                       if windows_data is not None and len(windows_data) > 0:\n",
    "                           test_data.append(windows_data)\n",
    "                           test_labels.append(windows_labels)\n",
    "                           \n",
    "               except Exception as e:\n",
    "                   print(f\"Error processing file {file_path}: {e}\")\n",
    "   \n",
    "   if not is_elderly or subject == 'SE06':\n",
    "       for activity in fall_activities:\n",
    "           activity_pattern = os.path.join(subject_dir, f\"{activity}*.txt\")\n",
    "           activity_files = glob.glob(activity_pattern)\n",
    "           \n",
    "           for file_path in activity_files:\n",
    "               try:\n",
    "                   raw_data = read_sensor_file(file_path)\n",
    "                   if raw_data is not None and raw_data.shape[1] == 6:\n",
    "                       sensor_data = raw_data\n",
    "                       activity_labels = np.full(len(sensor_data), label2id[activity])\n",
    "                       \n",
    "                       windows_data, windows_labels = split_sequences(\n",
    "                           sensor_data, activity_labels,\n",
    "                           WINDOW_LENGTH, STRIDE\n",
    "                       )\n",
    "                       \n",
    "                       if windows_data is not None and len(windows_data) > 0:\n",
    "                           test_data.append(windows_data)\n",
    "                           test_labels.append(windows_labels)\n",
    "                           \n",
    "               except Exception as e:\n",
    "                   print(f\"Error processing file {file_path}: {e}\")\n",
    "\n",
    "test_data = np.concatenate(test_data, axis=0)\n",
    "test_labels = np.concatenate(test_labels)\n",
    "\n",
    "print (f\"# of windows: {len(test_data)}\")\n",
    "print (f\"data shape: {test_data.shape}\")\n",
    "print (f\"labels shape: {test_labels.shape}\")\n",
    "unique_labels, counts = np.unique(test_labels, return_counts=True)\n",
    "print(dict(zip(unique_labels, counts)))"
   ]
  },
  {
   "cell_type": "code",
   "execution_count": 10,
   "id": "c5df9c42",
   "metadata": {
    "ExecuteTime": {
     "end_time": "2025-02-04T03:33:52.822167Z",
     "start_time": "2025-02-04T03:33:48.628033Z"
    }
   },
   "outputs": [],
   "source": [
    "train_data_shape = train_data_normal.shape\n",
    "test_data_shape = test_data.shape\n",
    "\n",
    "train_data_2d = train_data_normal.reshape(-1, train_data_normal.shape[-1])\n",
    "test_data_2d = test_data.reshape(-1, test_data.shape[-1])\n",
    "\n",
    "scaler = StandardScaler()\n",
    "train_data_2d = scaler.fit_transform(train_data_2d)\n",
    "test_data_2d = scaler.transform(test_data_2d)\n",
    "\n",
    "train_data_normal = train_data_2d.reshape(train_data_shape)\n",
    "test_data = test_data_2d.reshape(test_data_shape)"
   ]
  },
  {
   "cell_type": "code",
   "execution_count": 11,
   "id": "e248e94c",
   "metadata": {
    "ExecuteTime": {
     "end_time": "2025-02-04T03:33:52.947363Z",
     "start_time": "2025-02-04T03:33:52.824226Z"
    }
   },
   "outputs": [
    {
     "name": "stdout",
     "output_type": "stream",
     "text": [
      "train data - accel shape: (52925, 6, 3)\n",
      "train data - gyro shape: (52925, 6, 3)\n",
      "test data - accel shape: (92480, 6, 3)\n",
      "test data - gyro shape: (92480, 6, 3)\n",
      "# of training batches: 827\n",
      "# of test batches: 1445\n"
     ]
    }
   ],
   "source": [
    "train_acc_normal = train_data_normal[..., :3] \n",
    "train_gyro_normal = train_data_normal[..., 3:6]  \n",
    "# (x, y, z)\n",
    "\n",
    "test_acc = test_data[..., :3]  \n",
    "test_gyro = test_data[..., 3:6] \n",
    "\n",
    "train_dataset = tf.data.Dataset.from_tensor_slices((train_acc_normal, train_gyro_normal))\n",
    "train_dataset = train_dataset.batch(BATCH_SIZE)\n",
    "\n",
    "test_dataset = tf.data.Dataset.from_tensor_slices(\n",
    "    ((test_acc, test_gyro), test_labels)\n",
    ").batch(BATCH_SIZE)\n",
    "\n",
    "print (f\"train data - accel shape: {train_acc_normal.shape}\")\n",
    "print (f\"train data - gyro shape: {train_gyro_normal.shape}\")\n",
    "print (f\"test data - accel shape: {test_acc.shape}\")\n",
    "print (f\"test data - gyro shape: {test_gyro.shape}\")\n",
    "print (f\"# of training batches: {len(train_dataset)}\")\n",
    "print (f\"# of test batches: {len(test_dataset)}\")"
   ]
  },
  {
   "cell_type": "markdown",
   "id": "0005414b",
   "metadata": {},
   "source": [
    "------"
   ]
  },
  {
   "cell_type": "code",
   "execution_count": 12,
   "id": "227d06a5",
   "metadata": {
    "ExecuteTime": {
     "end_time": "2025-02-04T03:33:52.956608Z",
     "start_time": "2025-02-04T03:33:52.949713Z"
    }
   },
   "outputs": [],
   "source": [
    "class Encoder(Model):\n",
    "    def __init__(self, in_feat, out_feat, num_encoders=1, use_skip=True):\n",
    "        super(Encoder, self).__init__()\n",
    "        self.use_skip = use_skip\n",
    "        self.num_encoders = num_encoders\n",
    "        \n",
    "        for i in range(num_encoders):\n",
    "            setattr(self, f'conv1_{i}', layers.Conv1D(filters=out_feat*3, \n",
    "                                                      kernel_size=7, padding='same', \n",
    "                                                      activation='relu'))\n",
    "            setattr(self, f'maxpool1_{i}', layers.MaxPooling1D(pool_size=2, padding='same'))\n",
    "            setattr(self, f'conv2_{i}', layers.Conv1D(filters=out_feat*2, \n",
    "                                                      kernel_size=5, padding='same', \n",
    "                                                      activation='relu'))\n",
    "            setattr(self, f'maxpool2_{i}', layers.MaxPooling1D(pool_size=2, padding='same'))\n",
    "            setattr(self, f'conv3_{i}', layers.Conv1D(filters=out_feat*1, \n",
    "                                                      kernel_size=3, padding='same', \n",
    "                                                      activation='relu'))\n",
    "    \n",
    "    def call(self, x, training=False):\n",
    "        for i in range(self.num_encoders):\n",
    "            if self.use_skip and i > 0:\n",
    "                identity = x\n",
    "            \n",
    "            x = getattr(self, f'conv1_{i}')(x)\n",
    "            x = getattr(self, f'maxpool1_{i}')(x)\n",
    "            x = getattr(self, f'conv2_{i}')(x)\n",
    "            x = getattr(self, f'maxpool2_{i}')(x)\n",
    "            x = getattr(self, f'conv3_{i}')(x)\n",
    "            \n",
    "            if self.use_skip and i > 0:\n",
    "                x = x + identity\n",
    "        \n",
    "        return tf.reduce_mean(x, axis=1)"
   ]
  },
  {
   "cell_type": "code",
   "execution_count": 13,
   "id": "b3126f88",
   "metadata": {
    "ExecuteTime": {
     "end_time": "2025-02-04T03:33:52.963905Z",
     "start_time": "2025-02-04T03:33:52.958655Z"
    }
   },
   "outputs": [],
   "source": [
    "class Decoder(Model):\n",
    "    def __init__(self, in_feat, out_feat):\n",
    "        super(Decoder, self).__init__()\n",
    "        \n",
    "        self.reshape = layers.Reshape((1, in_feat))\n",
    "        \n",
    "        self.conv1 = layers.Conv1DTranspose(\n",
    "            filters=out_feat*3,\n",
    "            kernel_size=3,\n",
    "            padding='same',\n",
    "            activation='relu'\n",
    "        )\n",
    "        self.upsample1 = layers.UpSampling1D(size=3)  # 1 -> 3\n",
    "        \n",
    "        self.conv2 = layers.Conv1DTranspose(\n",
    "            filters=out_feat*2,\n",
    "            kernel_size=5,\n",
    "            padding='same',\n",
    "            activation='relu'\n",
    "        )\n",
    "        self.upsample2 = layers.UpSampling1D(size=2)  # 3 -> 6\n",
    "        \n",
    "        self.conv3 = layers.Conv1DTranspose(\n",
    "            filters=3,  # x,y,z\n",
    "            kernel_size=7,\n",
    "            padding='same'\n",
    "        )\n",
    "    \n",
    "    def call(self, x, training=False):\n",
    "        x = self.reshape(x)  # (batch, 1, features)\n",
    "        x = self.conv1(x)\n",
    "        x = self.upsample1(x)  # (batch, 3, features)\n",
    "        x = self.conv2(x)\n",
    "        x = self.upsample2(x)  # (batch, 6, features)\n",
    "        x = self.conv3(x)\n",
    "        return x"
   ]
  },
  {
   "cell_type": "code",
   "execution_count": 14,
   "id": "6a17637e",
   "metadata": {
    "ExecuteTime": {
     "end_time": "2025-02-04T03:33:52.972468Z",
     "start_time": "2025-02-04T03:33:52.965902Z"
    }
   },
   "outputs": [],
   "source": [
    "class CAGE(Model):\n",
    "   def __init__(self, n_feat=3, proj_dim=128):\n",
    "       super(CAGE, self).__init__()\n",
    "       self.proj_dim = proj_dim\n",
    "       \n",
    "       self.enc_A = Encoder(n_feat, 64)\n",
    "       self.enc_G = Encoder(n_feat, 64)\n",
    "       \n",
    "       self.dec_A = Decoder(64, n_feat)\n",
    "       self.dec_G = Decoder(64, n_feat)\n",
    "       \n",
    "       if self.proj_dim > 0:\n",
    "           self.proj_A = layers.Dense(proj_dim, use_bias=False)\n",
    "           self.proj_G = layers.Dense(proj_dim, use_bias=False)\n",
    "       \n",
    "       self.temperature = tf.constant(0.1)\n",
    "   \n",
    "   def call(self, x_accel, x_gyro, return_feat=False, training=False):\n",
    "       f_accel = self.enc_A(x_accel, training=training)\n",
    "       f_gyro = self.enc_G(x_gyro, training=training)\n",
    "       \n",
    "       x_accel_recon = self.dec_A(f_accel)\n",
    "       x_gyro_recon = self.dec_G(f_gyro)\n",
    "       \n",
    "       if self.proj_dim > 0:\n",
    "           e_accel = self.proj_A(f_accel)\n",
    "           e_gyro = self.proj_G(f_gyro)\n",
    "       else:\n",
    "           e_accel = f_accel\n",
    "           e_gyro = f_gyro\n",
    "       \n",
    "       e_accel = tf.math.l2_normalize(e_accel, axis=1)\n",
    "       e_gyro = tf.math.l2_normalize(e_gyro, axis=1)\n",
    "       \n",
    "       sim_matrix = tf.matmul(e_accel, e_gyro, transpose_b=True) / self.temperature\n",
    "       \n",
    "       if return_feat:\n",
    "           return sim_matrix, (x_accel_recon, x_gyro_recon), (e_accel, e_gyro)\n",
    "       \n",
    "       return sim_matrix, (x_accel_recon, x_gyro_recon)"
   ]
  },
  {
   "cell_type": "code",
   "execution_count": 15,
   "id": "e76cde45",
   "metadata": {
    "ExecuteTime": {
     "end_time": "2025-02-04T03:33:53.039587Z",
     "start_time": "2025-02-04T03:33:52.974378Z"
    }
   },
   "outputs": [],
   "source": [
    "model = CAGE(proj_dim=PROJ_DIM)\n",
    "optimizer = tf.keras.optimizers.Adam(\n",
    "    learning_rate=LEARNING_RATE\n",
    ")"
   ]
  },
  {
   "cell_type": "code",
   "execution_count": 16,
   "id": "6ce13c9d",
   "metadata": {
    "ExecuteTime": {
     "end_time": "2025-02-04T03:33:53.048693Z",
     "start_time": "2025-02-04T03:33:53.041833Z"
    }
   },
   "outputs": [],
   "source": [
    "# @tf.function\n",
    "# def contrastive_loss(logits):\n",
    "#     \"\"\"NT-Xent Loss\"\"\"\n",
    "#     batch_size = tf.shape(logits)[0]\n",
    "    \n",
    "#     labels = tf.eye(batch_size) # diagonal matrix \n",
    "    \n",
    "#     '''\n",
    "#         loss calculating using CrossEntropy\n",
    "#     '''\n",
    "#     loss = tf.keras.losses.categorical_crossentropy(\n",
    "#         labels, \n",
    "#         tf.nn.softmax(logits, axis=-1), \n",
    "#         from_logits=False\n",
    "#     )\n",
    "    \n",
    "#     return tf.reduce_mean(loss)\n",
    "\n",
    "def contrastive_loss(sim_matrix):\n",
    "    epsilon = 1e-8\n",
    "    sim_matrix = sim_matrix + epsilon\n",
    "    \n",
    "    batch_size = tf.shape(sim_matrix)[0]\n",
    "    \n",
    "    labels = tf.eye(batch_size)\n",
    "    \n",
    "    loss_1 = tf.keras.losses.categorical_crossentropy(\n",
    "        labels,\n",
    "        tf.nn.softmax(sim_matrix, axis=1),\n",
    "        from_logits=False\n",
    "    )\n",
    "    \n",
    "    loss_2 = tf.keras.losses.categorical_crossentropy(\n",
    "        labels,\n",
    "        tf.nn.softmax(sim_matrix, axis=0),\n",
    "        from_logits=False\n",
    "    )\n",
    "    \n",
    "    total_loss = (loss_1 + loss_2) / 2\n",
    "    return tf.reduce_mean(total_loss)"
   ]
  },
  {
   "cell_type": "code",
   "execution_count": 17,
   "id": "528a26d2",
   "metadata": {
    "ExecuteTime": {
     "end_time": "2025-02-04T03:33:53.056344Z",
     "start_time": "2025-02-04T03:33:53.051019Z"
    }
   },
   "outputs": [],
   "source": [
    "def reconstruction_loss(x_original, x_recon):\n",
    "    x_original = tf.cast(x_original, tf.float32)\n",
    "    x_recon = tf.cast(x_recon, tf.float32)\n",
    "    return tf.reduce_mean(tf.square(x_original - x_recon))\n",
    "\n",
    "def combined_loss(sim_matrix, x_accel, x_gyro, x_accel_recon, x_gyro_recon):\n",
    "    sim_loss = contrastive_loss(sim_matrix)\n",
    "    \n",
    "    x_accel = tf.cast(x_accel, tf.float32)\n",
    "    x_gyro = tf.cast(x_gyro, tf.float32)\n",
    "    x_accel_recon = tf.cast(x_accel_recon, tf.float32)\n",
    "    x_gyro_recon = tf.cast(x_gyro_recon, tf.float32)\n",
    "    \n",
    "    recon_loss_accel = reconstruction_loss(x_accel, x_accel_recon)\n",
    "    recon_loss_gyro = reconstruction_loss(x_gyro, x_gyro_recon)\n",
    "    total_recon_loss = (recon_loss_accel + recon_loss_gyro) / 2\n",
    "    \n",
    "    alpha = 0.5  \n",
    "    beta = 0.5   \n",
    "    \n",
    "    return alpha * sim_loss + beta * total_recon_loss"
   ]
  },
  {
   "cell_type": "code",
   "execution_count": 18,
   "id": "9e1e12a0",
   "metadata": {
    "ExecuteTime": {
     "end_time": "2025-02-04T03:33:53.063807Z",
     "start_time": "2025-02-04T03:33:53.058469Z"
    }
   },
   "outputs": [],
   "source": [
    "@tf.function\n",
    "def train_step(model, optimizer, x_accel, x_gyro):\n",
    "    with tf.GradientTape() as tape:\n",
    "        sim_matrix, (x_accel_recon, x_gyro_recon), _ = model(x_accel, \n",
    "                                                             x_gyro, \n",
    "                                                             return_feat=True, \n",
    "                                                             training=True)\n",
    "        loss = combined_loss(sim_matrix, x_accel, x_gyro, x_accel_recon, x_gyro_recon)\n",
    "    \n",
    "    gradients = tape.gradient(loss, model.trainable_variables)\n",
    "    gradients = [tf.clip_by_norm(g, 0.5) if g is not None else g for g in gradients]\n",
    "    optimizer.apply_gradients(zip(gradients, model.trainable_variables))\n",
    "    \n",
    "    return loss"
   ]
  },
  {
   "cell_type": "markdown",
   "id": "17866465",
   "metadata": {},
   "source": [
    "----"
   ]
  },
  {
   "cell_type": "code",
   "execution_count": 19,
   "id": "81059f39",
   "metadata": {
    "ExecuteTime": {
     "end_time": "2025-02-04T03:33:53.071951Z",
     "start_time": "2025-02-04T03:33:53.066486Z"
    }
   },
   "outputs": [
    {
     "name": "stdout",
     "output_type": "stream",
     "text": [
      "<_BatchDataset element_spec=(TensorSpec(shape=(None, 6, 3), dtype=tf.float64, name=None), TensorSpec(shape=(None, 6, 3), dtype=tf.float64, name=None))>\n"
     ]
    }
   ],
   "source": [
    "print (train_dataset)"
   ]
  },
  {
   "cell_type": "code",
   "execution_count": 20,
   "id": "8b185509",
   "metadata": {
    "ExecuteTime": {
     "end_time": "2025-02-04T03:55:35.594679Z",
     "start_time": "2025-02-04T03:33:53.077182Z"
    },
    "scrolled": false
   },
   "outputs": [
    {
     "name": "stderr",
     "output_type": "stream",
     "text": [
      "Epoch 1/100: 100%|████████████████████████████| 827/827 [00:14<00:00, 55.94it/s]\n"
     ]
    },
    {
     "name": "stdout",
     "output_type": "stream",
     "text": [
      "mean value of loss : 1.3635\n",
      "best loss achieved : 1.3635\n"
     ]
    },
    {
     "name": "stderr",
     "output_type": "stream",
     "text": [
      "Epoch 2/100: 100%|████████████████████████████| 827/827 [00:12<00:00, 65.64it/s]\n"
     ]
    },
    {
     "name": "stdout",
     "output_type": "stream",
     "text": [
      "mean value of loss : 0.9991\n",
      "best loss achieved : 0.9991\n"
     ]
    },
    {
     "name": "stderr",
     "output_type": "stream",
     "text": [
      "Epoch 3/100: 100%|████████████████████████████| 827/827 [00:12<00:00, 64.07it/s]\n"
     ]
    },
    {
     "name": "stdout",
     "output_type": "stream",
     "text": [
      "mean value of loss : 0.8369\n",
      "best loss achieved : 0.8369\n"
     ]
    },
    {
     "name": "stderr",
     "output_type": "stream",
     "text": [
      "Epoch 4/100: 100%|████████████████████████████| 827/827 [00:12<00:00, 65.59it/s]\n"
     ]
    },
    {
     "name": "stdout",
     "output_type": "stream",
     "text": [
      "mean value of loss : 0.7279\n",
      "best loss achieved : 0.7279\n"
     ]
    },
    {
     "name": "stderr",
     "output_type": "stream",
     "text": [
      "Epoch 5/100: 100%|████████████████████████████| 827/827 [00:12<00:00, 68.31it/s]\n"
     ]
    },
    {
     "name": "stdout",
     "output_type": "stream",
     "text": [
      "mean value of loss : 0.6439\n",
      "best loss achieved : 0.6439\n"
     ]
    },
    {
     "name": "stderr",
     "output_type": "stream",
     "text": [
      "Epoch 6/100: 100%|████████████████████████████| 827/827 [00:14<00:00, 58.81it/s]\n"
     ]
    },
    {
     "name": "stdout",
     "output_type": "stream",
     "text": [
      "mean value of loss : 0.5881\n",
      "best loss achieved : 0.5881\n"
     ]
    },
    {
     "name": "stderr",
     "output_type": "stream",
     "text": [
      "Epoch 7/100: 100%|████████████████████████████| 827/827 [00:34<00:00, 24.24it/s]\n"
     ]
    },
    {
     "name": "stdout",
     "output_type": "stream",
     "text": [
      "mean value of loss : 0.5332\n",
      "best loss achieved : 0.5332\n"
     ]
    },
    {
     "name": "stderr",
     "output_type": "stream",
     "text": [
      "Epoch 8/100: 100%|████████████████████████████| 827/827 [00:41<00:00, 20.16it/s]\n"
     ]
    },
    {
     "name": "stdout",
     "output_type": "stream",
     "text": [
      "mean value of loss : 0.4915\n",
      "best loss achieved : 0.4915\n"
     ]
    },
    {
     "name": "stderr",
     "output_type": "stream",
     "text": [
      "Epoch 9/100: 100%|████████████████████████████| 827/827 [00:14<00:00, 57.68it/s]\n"
     ]
    },
    {
     "name": "stdout",
     "output_type": "stream",
     "text": [
      "mean value of loss : 0.4464\n",
      "best loss achieved : 0.4464\n"
     ]
    },
    {
     "name": "stderr",
     "output_type": "stream",
     "text": [
      "Epoch 10/100: 100%|███████████████████████████| 827/827 [00:11<00:00, 72.02it/s]\n"
     ]
    },
    {
     "name": "stdout",
     "output_type": "stream",
     "text": [
      "mean value of loss : 0.4028\n",
      "best loss achieved : 0.4028\n"
     ]
    },
    {
     "name": "stderr",
     "output_type": "stream",
     "text": [
      "Epoch 11/100: 100%|███████████████████████████| 827/827 [00:11<00:00, 74.06it/s]\n"
     ]
    },
    {
     "name": "stdout",
     "output_type": "stream",
     "text": [
      "mean value of loss : 0.3725\n",
      "best loss achieved : 0.3725\n"
     ]
    },
    {
     "name": "stderr",
     "output_type": "stream",
     "text": [
      "Epoch 12/100: 100%|███████████████████████████| 827/827 [00:10<00:00, 78.11it/s]\n"
     ]
    },
    {
     "name": "stdout",
     "output_type": "stream",
     "text": [
      "mean value of loss : 0.3514\n",
      "best loss achieved : 0.3514\n"
     ]
    },
    {
     "name": "stderr",
     "output_type": "stream",
     "text": [
      "Epoch 13/100: 100%|███████████████████████████| 827/827 [00:11<00:00, 71.69it/s]\n"
     ]
    },
    {
     "name": "stdout",
     "output_type": "stream",
     "text": [
      "mean value of loss : 0.3348\n",
      "best loss achieved : 0.3348\n"
     ]
    },
    {
     "name": "stderr",
     "output_type": "stream",
     "text": [
      "Epoch 14/100: 100%|███████████████████████████| 827/827 [00:13<00:00, 62.05it/s]\n"
     ]
    },
    {
     "name": "stdout",
     "output_type": "stream",
     "text": [
      "mean value of loss : 0.3251\n",
      "best loss achieved : 0.3251\n"
     ]
    },
    {
     "name": "stderr",
     "output_type": "stream",
     "text": [
      "Epoch 15/100: 100%|███████████████████████████| 827/827 [00:11<00:00, 71.31it/s]\n"
     ]
    },
    {
     "name": "stdout",
     "output_type": "stream",
     "text": [
      "mean value of loss : 0.3155\n",
      "best loss achieved : 0.3155\n"
     ]
    },
    {
     "name": "stderr",
     "output_type": "stream",
     "text": [
      "Epoch 16/100: 100%|███████████████████████████| 827/827 [00:11<00:00, 69.62it/s]\n"
     ]
    },
    {
     "name": "stdout",
     "output_type": "stream",
     "text": [
      "mean value of loss : 0.3052\n",
      "best loss achieved : 0.3052\n"
     ]
    },
    {
     "name": "stderr",
     "output_type": "stream",
     "text": [
      "Epoch 17/100: 100%|███████████████████████████| 827/827 [00:12<00:00, 63.79it/s]\n"
     ]
    },
    {
     "name": "stdout",
     "output_type": "stream",
     "text": [
      "mean value of loss : 0.2953\n",
      "best loss achieved : 0.2953\n"
     ]
    },
    {
     "name": "stderr",
     "output_type": "stream",
     "text": [
      "Epoch 18/100: 100%|███████████████████████████| 827/827 [00:13<00:00, 62.38it/s]\n"
     ]
    },
    {
     "name": "stdout",
     "output_type": "stream",
     "text": [
      "mean value of loss : 0.2909\n",
      "best loss achieved : 0.2909\n"
     ]
    },
    {
     "name": "stderr",
     "output_type": "stream",
     "text": [
      "Epoch 19/100: 100%|███████████████████████████| 827/827 [00:11<00:00, 69.32it/s]\n"
     ]
    },
    {
     "name": "stdout",
     "output_type": "stream",
     "text": [
      "mean value of loss : 0.2818\n",
      "best loss achieved : 0.2818\n"
     ]
    },
    {
     "name": "stderr",
     "output_type": "stream",
     "text": [
      "Epoch 20/100: 100%|███████████████████████████| 827/827 [00:12<00:00, 66.76it/s]\n"
     ]
    },
    {
     "name": "stdout",
     "output_type": "stream",
     "text": [
      "mean value of loss : 0.2755\n",
      "best loss achieved : 0.2755\n"
     ]
    },
    {
     "name": "stderr",
     "output_type": "stream",
     "text": [
      "Epoch 21/100: 100%|███████████████████████████| 827/827 [00:14<00:00, 57.05it/s]\n"
     ]
    },
    {
     "name": "stdout",
     "output_type": "stream",
     "text": [
      "mean value of loss : 0.2709\n",
      "best loss achieved : 0.2709\n"
     ]
    },
    {
     "name": "stderr",
     "output_type": "stream",
     "text": [
      "Epoch 22/100: 100%|███████████████████████████| 827/827 [00:15<00:00, 54.16it/s]\n"
     ]
    },
    {
     "name": "stdout",
     "output_type": "stream",
     "text": [
      "mean value of loss : 0.2660\n",
      "best loss achieved : 0.2660\n"
     ]
    },
    {
     "name": "stderr",
     "output_type": "stream",
     "text": [
      "Epoch 23/100: 100%|███████████████████████████| 827/827 [00:14<00:00, 55.31it/s]\n"
     ]
    },
    {
     "name": "stdout",
     "output_type": "stream",
     "text": [
      "mean value of loss : 0.2589\n",
      "best loss achieved : 0.2589\n"
     ]
    },
    {
     "name": "stderr",
     "output_type": "stream",
     "text": [
      "Epoch 24/100: 100%|███████████████████████████| 827/827 [00:13<00:00, 60.69it/s]\n"
     ]
    },
    {
     "name": "stdout",
     "output_type": "stream",
     "text": [
      "mean value of loss : 0.2567\n",
      "best loss achieved : 0.2567\n"
     ]
    },
    {
     "name": "stderr",
     "output_type": "stream",
     "text": [
      "Epoch 25/100: 100%|███████████████████████████| 827/827 [00:14<00:00, 56.21it/s]\n"
     ]
    },
    {
     "name": "stdout",
     "output_type": "stream",
     "text": [
      "mean value of loss : 0.2499\n",
      "best loss achieved : 0.2499\n"
     ]
    },
    {
     "name": "stderr",
     "output_type": "stream",
     "text": [
      "Epoch 26/100: 100%|███████████████████████████| 827/827 [00:13<00:00, 60.26it/s]\n"
     ]
    },
    {
     "name": "stdout",
     "output_type": "stream",
     "text": [
      "mean value of loss : 0.2461\n",
      "best loss achieved : 0.2461\n"
     ]
    },
    {
     "name": "stderr",
     "output_type": "stream",
     "text": [
      "Epoch 27/100: 100%|███████████████████████████| 827/827 [00:14<00:00, 58.45it/s]\n"
     ]
    },
    {
     "name": "stdout",
     "output_type": "stream",
     "text": [
      "mean value of loss : 0.2461\n",
      "best loss achieved : 0.2461\n"
     ]
    },
    {
     "name": "stderr",
     "output_type": "stream",
     "text": [
      "Epoch 28/100: 100%|███████████████████████████| 827/827 [00:12<00:00, 67.75it/s]\n"
     ]
    },
    {
     "name": "stdout",
     "output_type": "stream",
     "text": [
      "mean value of loss : 0.2424\n",
      "best loss achieved : 0.2424\n"
     ]
    },
    {
     "name": "stderr",
     "output_type": "stream",
     "text": [
      "Epoch 29/100: 100%|███████████████████████████| 827/827 [00:12<00:00, 65.72it/s]\n"
     ]
    },
    {
     "name": "stdout",
     "output_type": "stream",
     "text": [
      "mean value of loss : 0.2371\n",
      "best loss achieved : 0.2371\n"
     ]
    },
    {
     "name": "stderr",
     "output_type": "stream",
     "text": [
      "Epoch 30/100: 100%|███████████████████████████| 827/827 [00:11<00:00, 69.92it/s]\n"
     ]
    },
    {
     "name": "stdout",
     "output_type": "stream",
     "text": [
      "mean value of loss : 0.2354\n",
      "best loss achieved : 0.2354\n"
     ]
    },
    {
     "name": "stderr",
     "output_type": "stream",
     "text": [
      "Epoch 31/100: 100%|███████████████████████████| 827/827 [00:12<00:00, 66.12it/s]\n"
     ]
    },
    {
     "name": "stdout",
     "output_type": "stream",
     "text": [
      "mean value of loss : 0.2323\n",
      "best loss achieved : 0.2323\n"
     ]
    },
    {
     "name": "stderr",
     "output_type": "stream",
     "text": [
      "Epoch 32/100: 100%|███████████████████████████| 827/827 [00:11<00:00, 68.97it/s]\n"
     ]
    },
    {
     "name": "stdout",
     "output_type": "stream",
     "text": [
      "mean value of loss : 0.2304\n",
      "best loss achieved : 0.2304\n"
     ]
    },
    {
     "name": "stderr",
     "output_type": "stream",
     "text": [
      "Epoch 33/100: 100%|███████████████████████████| 827/827 [00:11<00:00, 74.16it/s]\n"
     ]
    },
    {
     "name": "stdout",
     "output_type": "stream",
     "text": [
      "mean value of loss : 0.2269\n",
      "best loss achieved : 0.2269\n"
     ]
    },
    {
     "name": "stderr",
     "output_type": "stream",
     "text": [
      "Epoch 34/100: 100%|███████████████████████████| 827/827 [00:11<00:00, 74.04it/s]\n"
     ]
    },
    {
     "name": "stdout",
     "output_type": "stream",
     "text": [
      "mean value of loss : 0.2218\n",
      "best loss achieved : 0.2218\n"
     ]
    },
    {
     "name": "stderr",
     "output_type": "stream",
     "text": [
      "Epoch 35/100: 100%|███████████████████████████| 827/827 [00:12<00:00, 68.64it/s]\n"
     ]
    },
    {
     "name": "stdout",
     "output_type": "stream",
     "text": [
      "mean value of loss : 0.2199\n",
      "best loss achieved : 0.2199\n"
     ]
    },
    {
     "name": "stderr",
     "output_type": "stream",
     "text": [
      "Epoch 36/100: 100%|███████████████████████████| 827/827 [00:10<00:00, 75.69it/s]\n"
     ]
    },
    {
     "name": "stdout",
     "output_type": "stream",
     "text": [
      "mean value of loss : 0.2179\n",
      "best loss achieved : 0.2179\n"
     ]
    },
    {
     "name": "stderr",
     "output_type": "stream",
     "text": [
      "Epoch 37/100: 100%|███████████████████████████| 827/827 [00:11<00:00, 73.77it/s]\n"
     ]
    },
    {
     "name": "stdout",
     "output_type": "stream",
     "text": [
      "mean value of loss : 0.2137\n",
      "best loss achieved : 0.2137\n"
     ]
    },
    {
     "name": "stderr",
     "output_type": "stream",
     "text": [
      "Epoch 38/100: 100%|███████████████████████████| 827/827 [00:12<00:00, 66.80it/s]\n"
     ]
    },
    {
     "name": "stdout",
     "output_type": "stream",
     "text": [
      "mean value of loss : 0.2134\n",
      "best loss achieved : 0.2134\n"
     ]
    },
    {
     "name": "stderr",
     "output_type": "stream",
     "text": [
      "Epoch 39/100: 100%|███████████████████████████| 827/827 [00:11<00:00, 73.37it/s]\n"
     ]
    },
    {
     "name": "stdout",
     "output_type": "stream",
     "text": [
      "mean value of loss : 0.2097\n",
      "best loss achieved : 0.2097\n"
     ]
    },
    {
     "name": "stderr",
     "output_type": "stream",
     "text": [
      "Epoch 40/100: 100%|███████████████████████████| 827/827 [00:11<00:00, 73.67it/s]\n"
     ]
    },
    {
     "name": "stdout",
     "output_type": "stream",
     "text": [
      "mean value of loss : 0.2102\n"
     ]
    },
    {
     "name": "stderr",
     "output_type": "stream",
     "text": [
      "Epoch 41/100: 100%|███████████████████████████| 827/827 [00:11<00:00, 75.14it/s]\n"
     ]
    },
    {
     "name": "stdout",
     "output_type": "stream",
     "text": [
      "mean value of loss : 0.2047\n",
      "best loss achieved : 0.2047\n"
     ]
    },
    {
     "name": "stderr",
     "output_type": "stream",
     "text": [
      "Epoch 42/100: 100%|███████████████████████████| 827/827 [00:12<00:00, 68.22it/s]\n"
     ]
    },
    {
     "name": "stdout",
     "output_type": "stream",
     "text": [
      "mean value of loss : 0.2049\n"
     ]
    },
    {
     "name": "stderr",
     "output_type": "stream",
     "text": [
      "Epoch 43/100: 100%|███████████████████████████| 827/827 [00:12<00:00, 65.68it/s]\n"
     ]
    },
    {
     "name": "stdout",
     "output_type": "stream",
     "text": [
      "mean value of loss : 0.2040\n",
      "best loss achieved : 0.2040\n"
     ]
    },
    {
     "name": "stderr",
     "output_type": "stream",
     "text": [
      "Epoch 44/100: 100%|███████████████████████████| 827/827 [00:13<00:00, 61.42it/s]\n"
     ]
    },
    {
     "name": "stdout",
     "output_type": "stream",
     "text": [
      "mean value of loss : 0.2029\n",
      "best loss achieved : 0.2029\n"
     ]
    },
    {
     "name": "stderr",
     "output_type": "stream",
     "text": [
      "Epoch 45/100: 100%|███████████████████████████| 827/827 [00:11<00:00, 70.29it/s]\n"
     ]
    },
    {
     "name": "stdout",
     "output_type": "stream",
     "text": [
      "mean value of loss : 0.1986\n",
      "best loss achieved : 0.1986\n"
     ]
    },
    {
     "name": "stderr",
     "output_type": "stream",
     "text": [
      "Epoch 46/100: 100%|███████████████████████████| 827/827 [00:12<00:00, 65.79it/s]\n"
     ]
    },
    {
     "name": "stdout",
     "output_type": "stream",
     "text": [
      "mean value of loss : 0.1979\n",
      "best loss achieved : 0.1979\n"
     ]
    },
    {
     "name": "stderr",
     "output_type": "stream",
     "text": [
      "Epoch 47/100: 100%|███████████████████████████| 827/827 [00:12<00:00, 66.91it/s]\n"
     ]
    },
    {
     "name": "stdout",
     "output_type": "stream",
     "text": [
      "mean value of loss : 0.1963\n",
      "best loss achieved : 0.1963\n"
     ]
    },
    {
     "name": "stderr",
     "output_type": "stream",
     "text": [
      "Epoch 48/100: 100%|███████████████████████████| 827/827 [00:12<00:00, 65.47it/s]\n"
     ]
    },
    {
     "name": "stdout",
     "output_type": "stream",
     "text": [
      "mean value of loss : 0.1925\n",
      "best loss achieved : 0.1925\n"
     ]
    },
    {
     "name": "stderr",
     "output_type": "stream",
     "text": [
      "Epoch 49/100: 100%|███████████████████████████| 827/827 [00:13<00:00, 60.03it/s]\n"
     ]
    },
    {
     "name": "stdout",
     "output_type": "stream",
     "text": [
      "mean value of loss : 0.1930\n"
     ]
    },
    {
     "name": "stderr",
     "output_type": "stream",
     "text": [
      "Epoch 50/100: 100%|███████████████████████████| 827/827 [00:12<00:00, 66.05it/s]\n"
     ]
    },
    {
     "name": "stdout",
     "output_type": "stream",
     "text": [
      "mean value of loss : 0.1926\n"
     ]
    },
    {
     "name": "stderr",
     "output_type": "stream",
     "text": [
      "Epoch 51/100: 100%|███████████████████████████| 827/827 [00:12<00:00, 64.50it/s]\n"
     ]
    },
    {
     "name": "stdout",
     "output_type": "stream",
     "text": [
      "mean value of loss : 0.1904\n",
      "best loss achieved : 0.1904\n"
     ]
    },
    {
     "name": "stderr",
     "output_type": "stream",
     "text": [
      "Epoch 52/100: 100%|███████████████████████████| 827/827 [00:13<00:00, 59.80it/s]\n"
     ]
    },
    {
     "name": "stdout",
     "output_type": "stream",
     "text": [
      "mean value of loss : 0.1858\n",
      "best loss achieved : 0.1858\n"
     ]
    },
    {
     "name": "stderr",
     "output_type": "stream",
     "text": [
      "Epoch 53/100: 100%|███████████████████████████| 827/827 [00:14<00:00, 58.10it/s]\n"
     ]
    },
    {
     "name": "stdout",
     "output_type": "stream",
     "text": [
      "mean value of loss : 0.1843\n",
      "best loss achieved : 0.1843\n"
     ]
    },
    {
     "name": "stderr",
     "output_type": "stream",
     "text": [
      "Epoch 54/100: 100%|███████████████████████████| 827/827 [00:14<00:00, 56.25it/s]\n"
     ]
    },
    {
     "name": "stdout",
     "output_type": "stream",
     "text": [
      "mean value of loss : 0.1826\n",
      "best loss achieved : 0.1826\n"
     ]
    },
    {
     "name": "stderr",
     "output_type": "stream",
     "text": [
      "Epoch 55/100: 100%|███████████████████████████| 827/827 [00:19<00:00, 42.52it/s]\n"
     ]
    },
    {
     "name": "stdout",
     "output_type": "stream",
     "text": [
      "mean value of loss : 0.1834\n"
     ]
    },
    {
     "name": "stderr",
     "output_type": "stream",
     "text": [
      "Epoch 56/100: 100%|███████████████████████████| 827/827 [00:13<00:00, 59.75it/s]\n"
     ]
    },
    {
     "name": "stdout",
     "output_type": "stream",
     "text": [
      "mean value of loss : 0.1793\n",
      "best loss achieved : 0.1793\n"
     ]
    },
    {
     "name": "stderr",
     "output_type": "stream",
     "text": [
      "Epoch 57/100: 100%|███████████████████████████| 827/827 [00:13<00:00, 61.66it/s]\n"
     ]
    },
    {
     "name": "stdout",
     "output_type": "stream",
     "text": [
      "mean value of loss : 0.1787\n",
      "best loss achieved : 0.1787\n"
     ]
    },
    {
     "name": "stderr",
     "output_type": "stream",
     "text": [
      "Epoch 58/100: 100%|███████████████████████████| 827/827 [00:11<00:00, 69.90it/s]\n"
     ]
    },
    {
     "name": "stdout",
     "output_type": "stream",
     "text": [
      "mean value of loss : 0.1799\n"
     ]
    },
    {
     "name": "stderr",
     "output_type": "stream",
     "text": [
      "Epoch 59/100: 100%|███████████████████████████| 827/827 [00:11<00:00, 69.65it/s]\n"
     ]
    },
    {
     "name": "stdout",
     "output_type": "stream",
     "text": [
      "mean value of loss : 0.1754\n",
      "best loss achieved : 0.1754\n"
     ]
    },
    {
     "name": "stderr",
     "output_type": "stream",
     "text": [
      "Epoch 60/100: 100%|███████████████████████████| 827/827 [00:13<00:00, 62.18it/s]\n"
     ]
    },
    {
     "name": "stdout",
     "output_type": "stream",
     "text": [
      "mean value of loss : 0.1749\n",
      "best loss achieved : 0.1749\n"
     ]
    },
    {
     "name": "stderr",
     "output_type": "stream",
     "text": [
      "Epoch 61/100: 100%|███████████████████████████| 827/827 [00:13<00:00, 60.00it/s]\n"
     ]
    },
    {
     "name": "stdout",
     "output_type": "stream",
     "text": [
      "mean value of loss : 0.1731\n",
      "best loss achieved : 0.1731\n"
     ]
    },
    {
     "name": "stderr",
     "output_type": "stream",
     "text": [
      "Epoch 62/100: 100%|███████████████████████████| 827/827 [00:13<00:00, 61.59it/s]\n"
     ]
    },
    {
     "name": "stdout",
     "output_type": "stream",
     "text": [
      "mean value of loss : 0.1726\n",
      "best loss achieved : 0.1726\n"
     ]
    },
    {
     "name": "stderr",
     "output_type": "stream",
     "text": [
      "Epoch 63/100: 100%|███████████████████████████| 827/827 [00:13<00:00, 62.25it/s]\n"
     ]
    },
    {
     "name": "stdout",
     "output_type": "stream",
     "text": [
      "mean value of loss : 0.1715\n",
      "best loss achieved : 0.1715\n"
     ]
    },
    {
     "name": "stderr",
     "output_type": "stream",
     "text": [
      "Epoch 64/100: 100%|███████████████████████████| 827/827 [00:13<00:00, 62.23it/s]\n"
     ]
    },
    {
     "name": "stdout",
     "output_type": "stream",
     "text": [
      "mean value of loss : 0.1707\n",
      "best loss achieved : 0.1707\n"
     ]
    },
    {
     "name": "stderr",
     "output_type": "stream",
     "text": [
      "Epoch 65/100: 100%|███████████████████████████| 827/827 [00:12<00:00, 64.83it/s]\n"
     ]
    },
    {
     "name": "stdout",
     "output_type": "stream",
     "text": [
      "mean value of loss : 0.1707\n",
      "best loss achieved : 0.1707\n"
     ]
    },
    {
     "name": "stderr",
     "output_type": "stream",
     "text": [
      "Epoch 66/100: 100%|███████████████████████████| 827/827 [00:12<00:00, 66.03it/s]\n"
     ]
    },
    {
     "name": "stdout",
     "output_type": "stream",
     "text": [
      "mean value of loss : 0.1688\n",
      "best loss achieved : 0.1688\n"
     ]
    },
    {
     "name": "stderr",
     "output_type": "stream",
     "text": [
      "Epoch 67/100: 100%|███████████████████████████| 827/827 [00:11<00:00, 71.21it/s]\n"
     ]
    },
    {
     "name": "stdout",
     "output_type": "stream",
     "text": [
      "mean value of loss : 0.1668\n",
      "best loss achieved : 0.1668\n"
     ]
    },
    {
     "name": "stderr",
     "output_type": "stream",
     "text": [
      "Epoch 68/100: 100%|███████████████████████████| 827/827 [00:11<00:00, 71.17it/s]\n"
     ]
    },
    {
     "name": "stdout",
     "output_type": "stream",
     "text": [
      "mean value of loss : 0.1666\n",
      "best loss achieved : 0.1666\n"
     ]
    },
    {
     "name": "stderr",
     "output_type": "stream",
     "text": [
      "Epoch 69/100: 100%|███████████████████████████| 827/827 [00:11<00:00, 70.52it/s]\n"
     ]
    },
    {
     "name": "stdout",
     "output_type": "stream",
     "text": [
      "mean value of loss : 0.1638\n",
      "best loss achieved : 0.1638\n"
     ]
    },
    {
     "name": "stderr",
     "output_type": "stream",
     "text": [
      "Epoch 70/100: 100%|███████████████████████████| 827/827 [00:11<00:00, 74.69it/s]\n"
     ]
    },
    {
     "name": "stdout",
     "output_type": "stream",
     "text": [
      "mean value of loss : 0.1660\n"
     ]
    },
    {
     "name": "stderr",
     "output_type": "stream",
     "text": [
      "Epoch 71/100: 100%|███████████████████████████| 827/827 [00:11<00:00, 73.10it/s]\n"
     ]
    },
    {
     "name": "stdout",
     "output_type": "stream",
     "text": [
      "mean value of loss : 0.1635\n",
      "best loss achieved : 0.1635\n"
     ]
    },
    {
     "name": "stderr",
     "output_type": "stream",
     "text": [
      "Epoch 72/100: 100%|███████████████████████████| 827/827 [00:10<00:00, 77.52it/s]\n"
     ]
    },
    {
     "name": "stdout",
     "output_type": "stream",
     "text": [
      "mean value of loss : 0.1619\n",
      "best loss achieved : 0.1619\n"
     ]
    },
    {
     "name": "stderr",
     "output_type": "stream",
     "text": [
      "Epoch 73/100: 100%|███████████████████████████| 827/827 [00:11<00:00, 74.83it/s]\n"
     ]
    },
    {
     "name": "stdout",
     "output_type": "stream",
     "text": [
      "mean value of loss : 0.1607\n",
      "best loss achieved : 0.1607\n"
     ]
    },
    {
     "name": "stderr",
     "output_type": "stream",
     "text": [
      "Epoch 74/100: 100%|███████████████████████████| 827/827 [00:11<00:00, 71.77it/s]\n"
     ]
    },
    {
     "name": "stdout",
     "output_type": "stream",
     "text": [
      "mean value of loss : 0.1587\n",
      "best loss achieved : 0.1587\n"
     ]
    },
    {
     "name": "stderr",
     "output_type": "stream",
     "text": [
      "Epoch 75/100: 100%|███████████████████████████| 827/827 [00:11<00:00, 72.75it/s]\n"
     ]
    },
    {
     "name": "stdout",
     "output_type": "stream",
     "text": [
      "mean value of loss : 0.1596\n"
     ]
    },
    {
     "name": "stderr",
     "output_type": "stream",
     "text": [
      "Epoch 76/100: 100%|███████████████████████████| 827/827 [00:11<00:00, 74.51it/s]\n"
     ]
    },
    {
     "name": "stdout",
     "output_type": "stream",
     "text": [
      "mean value of loss : 0.1568\n",
      "best loss achieved : 0.1568\n"
     ]
    },
    {
     "name": "stderr",
     "output_type": "stream",
     "text": [
      "Epoch 77/100: 100%|███████████████████████████| 827/827 [00:10<00:00, 78.13it/s]\n"
     ]
    },
    {
     "name": "stdout",
     "output_type": "stream",
     "text": [
      "mean value of loss : 0.1560\n",
      "best loss achieved : 0.1560\n"
     ]
    },
    {
     "name": "stderr",
     "output_type": "stream",
     "text": [
      "Epoch 78/100: 100%|███████████████████████████| 827/827 [00:10<00:00, 77.32it/s]\n"
     ]
    },
    {
     "name": "stdout",
     "output_type": "stream",
     "text": [
      "mean value of loss : 0.1551\n",
      "best loss achieved : 0.1551\n"
     ]
    },
    {
     "name": "stderr",
     "output_type": "stream",
     "text": [
      "Epoch 79/100: 100%|███████████████████████████| 827/827 [00:11<00:00, 70.14it/s]\n"
     ]
    },
    {
     "name": "stdout",
     "output_type": "stream",
     "text": [
      "mean value of loss : 0.1528\n",
      "best loss achieved : 0.1528\n"
     ]
    },
    {
     "name": "stderr",
     "output_type": "stream",
     "text": [
      "Epoch 80/100: 100%|███████████████████████████| 827/827 [00:11<00:00, 73.03it/s]\n"
     ]
    },
    {
     "name": "stdout",
     "output_type": "stream",
     "text": [
      "mean value of loss : 0.1542\n"
     ]
    },
    {
     "name": "stderr",
     "output_type": "stream",
     "text": [
      "Epoch 81/100: 100%|███████████████████████████| 827/827 [00:11<00:00, 73.74it/s]\n"
     ]
    },
    {
     "name": "stdout",
     "output_type": "stream",
     "text": [
      "mean value of loss : 0.1538\n"
     ]
    },
    {
     "name": "stderr",
     "output_type": "stream",
     "text": [
      "Epoch 82/100: 100%|███████████████████████████| 827/827 [00:12<00:00, 64.95it/s]\n"
     ]
    },
    {
     "name": "stdout",
     "output_type": "stream",
     "text": [
      "mean value of loss : 0.1501\n",
      "best loss achieved : 0.1501\n"
     ]
    },
    {
     "name": "stderr",
     "output_type": "stream",
     "text": [
      "Epoch 83/100: 100%|███████████████████████████| 827/827 [00:14<00:00, 58.79it/s]\n"
     ]
    },
    {
     "name": "stdout",
     "output_type": "stream",
     "text": [
      "mean value of loss : 0.1500\n",
      "best loss achieved : 0.1500\n"
     ]
    },
    {
     "name": "stderr",
     "output_type": "stream",
     "text": [
      "Epoch 84/100: 100%|███████████████████████████| 827/827 [00:12<00:00, 64.13it/s]\n"
     ]
    },
    {
     "name": "stdout",
     "output_type": "stream",
     "text": [
      "mean value of loss : 0.1519\n"
     ]
    },
    {
     "name": "stderr",
     "output_type": "stream",
     "text": [
      "Epoch 85/100: 100%|███████████████████████████| 827/827 [00:11<00:00, 70.63it/s]\n"
     ]
    },
    {
     "name": "stdout",
     "output_type": "stream",
     "text": [
      "mean value of loss : 0.1497\n",
      "best loss achieved : 0.1497\n"
     ]
    },
    {
     "name": "stderr",
     "output_type": "stream",
     "text": [
      "Epoch 86/100: 100%|███████████████████████████| 827/827 [00:12<00:00, 67.87it/s]\n"
     ]
    },
    {
     "name": "stdout",
     "output_type": "stream",
     "text": [
      "mean value of loss : 0.1485\n",
      "best loss achieved : 0.1485\n"
     ]
    },
    {
     "name": "stderr",
     "output_type": "stream",
     "text": [
      "Epoch 87/100: 100%|███████████████████████████| 827/827 [00:13<00:00, 62.05it/s]\n"
     ]
    },
    {
     "name": "stdout",
     "output_type": "stream",
     "text": [
      "mean value of loss : 0.1477\n",
      "best loss achieved : 0.1477\n"
     ]
    },
    {
     "name": "stderr",
     "output_type": "stream",
     "text": [
      "Epoch 88/100: 100%|███████████████████████████| 827/827 [00:12<00:00, 65.60it/s]\n"
     ]
    },
    {
     "name": "stdout",
     "output_type": "stream",
     "text": [
      "mean value of loss : 0.1464\n",
      "best loss achieved : 0.1464\n"
     ]
    },
    {
     "name": "stderr",
     "output_type": "stream",
     "text": [
      "Epoch 89/100: 100%|███████████████████████████| 827/827 [00:12<00:00, 64.31it/s]\n"
     ]
    },
    {
     "name": "stdout",
     "output_type": "stream",
     "text": [
      "mean value of loss : 0.1447\n",
      "best loss achieved : 0.1447\n"
     ]
    },
    {
     "name": "stderr",
     "output_type": "stream",
     "text": [
      "Epoch 90/100: 100%|███████████████████████████| 827/827 [00:12<00:00, 66.41it/s]\n"
     ]
    },
    {
     "name": "stdout",
     "output_type": "stream",
     "text": [
      "mean value of loss : 0.1446\n",
      "best loss achieved : 0.1446\n"
     ]
    },
    {
     "name": "stderr",
     "output_type": "stream",
     "text": [
      "Epoch 91/100: 100%|███████████████████████████| 827/827 [00:12<00:00, 67.60it/s]\n"
     ]
    },
    {
     "name": "stdout",
     "output_type": "stream",
     "text": [
      "mean value of loss : 0.1440\n",
      "best loss achieved : 0.1440\n"
     ]
    },
    {
     "name": "stderr",
     "output_type": "stream",
     "text": [
      "Epoch 92/100: 100%|███████████████████████████| 827/827 [00:12<00:00, 65.64it/s]\n"
     ]
    },
    {
     "name": "stdout",
     "output_type": "stream",
     "text": [
      "mean value of loss : 0.1428\n",
      "best loss achieved : 0.1428\n"
     ]
    },
    {
     "name": "stderr",
     "output_type": "stream",
     "text": [
      "Epoch 93/100: 100%|███████████████████████████| 827/827 [00:12<00:00, 67.42it/s]\n"
     ]
    },
    {
     "name": "stdout",
     "output_type": "stream",
     "text": [
      "mean value of loss : 0.1418\n",
      "best loss achieved : 0.1418\n"
     ]
    },
    {
     "name": "stderr",
     "output_type": "stream",
     "text": [
      "Epoch 94/100: 100%|███████████████████████████| 827/827 [00:11<00:00, 70.86it/s]\n"
     ]
    },
    {
     "name": "stdout",
     "output_type": "stream",
     "text": [
      "mean value of loss : 0.1422\n"
     ]
    },
    {
     "name": "stderr",
     "output_type": "stream",
     "text": [
      "Epoch 95/100: 100%|███████████████████████████| 827/827 [00:12<00:00, 65.81it/s]\n"
     ]
    },
    {
     "name": "stdout",
     "output_type": "stream",
     "text": [
      "mean value of loss : 0.1445\n"
     ]
    },
    {
     "name": "stderr",
     "output_type": "stream",
     "text": [
      "Epoch 96/100: 100%|███████████████████████████| 827/827 [00:11<00:00, 69.82it/s]\n"
     ]
    },
    {
     "name": "stdout",
     "output_type": "stream",
     "text": [
      "mean value of loss : 0.1430\n"
     ]
    },
    {
     "name": "stderr",
     "output_type": "stream",
     "text": [
      "Epoch 97/100: 100%|███████████████████████████| 827/827 [00:12<00:00, 68.13it/s]\n"
     ]
    },
    {
     "name": "stdout",
     "output_type": "stream",
     "text": [
      "mean value of loss : 0.1408\n",
      "best loss achieved : 0.1408\n"
     ]
    },
    {
     "name": "stderr",
     "output_type": "stream",
     "text": [
      "Epoch 98/100: 100%|███████████████████████████| 827/827 [00:12<00:00, 64.60it/s]\n"
     ]
    },
    {
     "name": "stdout",
     "output_type": "stream",
     "text": [
      "mean value of loss : 0.1396\n",
      "best loss achieved : 0.1396\n"
     ]
    },
    {
     "name": "stderr",
     "output_type": "stream",
     "text": [
      "Epoch 99/100: 100%|███████████████████████████| 827/827 [00:11<00:00, 71.73it/s]\n"
     ]
    },
    {
     "name": "stdout",
     "output_type": "stream",
     "text": [
      "mean value of loss : 0.1398\n"
     ]
    },
    {
     "name": "stderr",
     "output_type": "stream",
     "text": [
      "Epoch 100/100: 100%|██████████████████████████| 827/827 [00:11<00:00, 70.42it/s]"
     ]
    },
    {
     "name": "stdout",
     "output_type": "stream",
     "text": [
      "mean value of loss : 0.1404\n",
      "END THE LEARNING\n",
      "final best loss: 0.1396\n"
     ]
    },
    {
     "name": "stderr",
     "output_type": "stream",
     "text": [
      "\n"
     ]
    }
   ],
   "source": [
    "train_losses = []\n",
    "best_loss = float('inf')\n",
    "\n",
    "for epoch in range(EPOCHS):\n",
    "    epoch_losses = []\n",
    "    \n",
    "    for acc_batch, gyro_batch in tqdm(train_dataset, desc=f'Epoch {epoch + 1}/{EPOCHS}'):\n",
    "        loss = train_step(model, optimizer, acc_batch, gyro_batch)  \n",
    "        epoch_losses.append(loss.numpy())\n",
    "    \n",
    "    avg_loss = np.mean(epoch_losses)\n",
    "    train_losses.append(avg_loss)\n",
    "    \n",
    "    print (f\"mean value of loss : {avg_loss:.4f}\")\n",
    "    \n",
    "    if avg_loss < best_loss:\n",
    "        best_loss = avg_loss\n",
    "        print (f\"best loss achieved : {best_loss:.4f}\")\n",
    "\n",
    "        \n",
    "print(\"END THE LEARNING\")\n",
    "print(f\"final best loss: {best_loss:.4f}\")"
   ]
  },
  {
   "cell_type": "code",
   "execution_count": 21,
   "id": "321c9915",
   "metadata": {
    "ExecuteTime": {
     "end_time": "2025-02-04T03:55:35.835826Z",
     "start_time": "2025-02-04T03:55:35.597198Z"
    }
   },
   "outputs": [
    {
     "data": {
      "image/png": "[encoded data removed]",
      "text/plain": [
       "<Figure size 1000x600 with 1 Axes>"
      ]
     },
     "metadata": {},
     "output_type": "display_data"
    }
   ],
   "source": [
    "plt.figure(figsize=(10, 6))\n",
    "plt.plot(train_losses, label='Training Loss')\n",
    "plt.xlabel('Epoch')\n",
    "plt.ylabel('Loss')\n",
    "plt.title('Training Loss over Epochs')\n",
    "plt.legend()\n",
    "plt.grid(True)\n",
    "plt.show()"
   ]
  },
  {
   "cell_type": "markdown",
   "id": "d5bb415c",
   "metadata": {},
   "source": [
    "----"
   ]
  },
  {
   "cell_type": "code",
   "execution_count": 22,
   "id": "aa4dc234",
   "metadata": {
    "ExecuteTime": {
     "end_time": "2025-02-04T03:55:35.842965Z",
     "start_time": "2025-02-04T03:55:35.837888Z"
    }
   },
   "outputs": [],
   "source": [
    "def compute_anomaly_scores(model, data_loader):\n",
    "    similarities = []\n",
    "    recon_errors = []\n",
    "    labels = []\n",
    "    \n",
    "    for (acc_batch, gyro_batch), batch_labels in data_loader:\n",
    "        acc_batch = tf.cast(acc_batch, tf.float32)\n",
    "        gyro_batch = tf.cast(gyro_batch, tf.float32)\n",
    "        \n",
    "        sim_matrix, (acc_recon, gyro_recon), (e_accel, e_gyro) = model(\n",
    "            acc_batch, gyro_batch, return_feat=True, training=False\n",
    "        )\n",
    "        \n",
    "        acc_recon = tf.cast(acc_recon, tf.float32)\n",
    "        gyro_recon = tf.cast(gyro_recon, tf.float32)\n",
    "        \n",
    "        # similarities\n",
    "        batch_similarities = tf.reduce_sum(tf.multiply(e_accel, e_gyro), axis=1)\n",
    "        \n",
    "        # reconstruction\n",
    "        recon_error_acc = tf.reduce_mean(tf.square(acc_batch - acc_recon), axis=[1,2])\n",
    "        recon_error_gyro = tf.reduce_mean(tf.square(gyro_batch - gyro_recon), axis=[1,2])\n",
    "        batch_recon_errors = (recon_error_acc + recon_error_gyro) / 2\n",
    "        \n",
    "        similarities.extend(batch_similarities.numpy())\n",
    "        recon_errors.extend(batch_recon_errors.numpy())\n",
    "        labels.extend(batch_labels.numpy())\n",
    "    \n",
    "    return np.array(similarities), np.array(recon_errors), np.array(labels)"
   ]
  },
  {
   "cell_type": "code",
   "execution_count": 25,
   "id": "e913403f",
   "metadata": {
    "ExecuteTime": {
     "end_time": "2025-02-04T03:57:47.345410Z",
     "start_time": "2025-02-04T03:57:47.340872Z"
    }
   },
   "outputs": [],
   "source": [
    "normal_similarities = []\n",
    "normal_recon_errors = []\n",
    "for acc_batch, gyro_batch in tqdm(train_dataset):\n",
    "    sim_matrix, (acc_recon, gyro_recon), (e_accel, e_gyro) = model(\n",
    "        acc_batch, gyro_batch, return_feat=True, training=False\n",
    "    )\n",
    "    \n",
    "    sim = tf.reduce_sum(tf.multiply(e_accel, e_gyro), axis=1)\n",
    "    \n",
    "    acc_batch = tf.cast(acc_batch, tf.float32)\n",
    "    acc_recon = tf.cast(acc_recon, tf.float32)\n",
    "    gyro_batch = tf.cast(gyro_batch, tf.float32)\n",
    "    gyro_recon = tf.cast(gyro_recon, tf.float32)\n",
    "    \n",
    "    recon_acc = tf.reduce_mean(tf.square(acc_batch - acc_recon), axis=[1,2])\n",
    "    recon_gyro = tf.reduce_mean(tf.square(gyro_batch - gyro_recon), axis=[1,2])\n",
    "    recon_error = (recon_acc + recon_gyro) / 2\n",
    "    \n",
    "    normal_similarities.extend(sim.numpy())\n",
    "    normal_recon_errors.extend(recon_error.numpy())\n",
    "\n",
    "test_similarities, test_recon_errors, test_labels = compute_anomaly_scores(model, test_dataset)"
   ]
  },
  {
   "cell_type": "code",
   "execution_count": 26,
   "id": "d382f18e",
   "metadata": {
    "ExecuteTime": {
     "end_time": "2025-02-04T03:58:53.811908Z",
     "start_time": "2025-02-04T03:57:56.092245Z"
    }
   },
   "outputs": [
    {
     "name": "stdout",
     "output_type": "stream",
     "text": [
      "[ ADL data ]\n",
      "  Mean: 0.9178\n",
      "  Std: 0.0658\n",
      "  Min: -0.1395\n",
      "  Max: 0.9887\n",
      "ADL ind 1 : 0.87327594\n",
      "ADL ind 2 : 0.9463725\n",
      "ADL ind 3 : 0.948074\n",
      "ADL ind 4 : 0.9511323\n",
      "ADL ind 5 : 0.96918464\n",
      "ADL ind 6 : 0.95477897\n",
      "ADL ind 7 : 0.9512745\n",
      "ADL ind 8 : 0.91442025\n",
      "ADL ind 9 : 0.9647955\n",
      "ADL ind 10 : 0.9715897\n",
      "ADL ind 11 : 0.94419444\n",
      "ADL ind 12 : 0.96995556\n",
      "ADL ind 13 : 0.92409444\n",
      "ADL ind 14 : 0.9453811\n",
      "ADL ind 15 : 0.96694964\n",
      "ADL ind 16 : 0.9631189\n",
      "ADL ind 17 : 0.9617288\n",
      "ADL ind 18 : 0.91180766\n",
      "ADL ind 19 : 0.94234765\n",
      "ADL ind 20 : 0.90052235\n",
      "\n",
      "[ FALL data ]\n",
      "  Mean: 0.8766\n",
      "  Std: 0.0972\n",
      "  Min: -0.4740\n",
      "  Max: 0.9898\n",
      "FALL ind 1 : 0.85291827\n",
      "FALL ind 2 : 0.9561565\n",
      "FALL ind 3 : 0.88790095\n",
      "FALL ind 4 : 0.9762526\n",
      "FALL ind 5 : 0.9039582\n",
      "FALL ind 6 : 0.9573002\n",
      "FALL ind 7 : 0.9670977\n",
      "FALL ind 8 : 0.95544386\n",
      "FALL ind 9 : 0.9463334\n",
      "FALL ind 10 : 0.9657792\n",
      "FALL ind 11 : 0.9649739\n",
      "FALL ind 12 : 0.9575284\n",
      "FALL ind 13 : 0.96827364\n",
      "FALL ind 14 : 0.95728874\n",
      "FALL ind 15 : 0.9382112\n",
      "FALL ind 16 : 0.72786725\n",
      "FALL ind 17 : 0.66792226\n",
      "FALL ind 18 : 0.59237075\n",
      "FALL ind 19 : 0.50623447\n",
      "FALL ind 20 : 0.547174\n"
     ]
    }
   ],
   "source": [
    "def calculate_similarities(model, test_dataset):\n",
    "    normal_similarities = []\n",
    "    fall_similarities = []\n",
    "    \n",
    "    for (acc_batch, gyro_batch), labels in test_dataset:\n",
    "        _, _, (e_accel, e_gyro) = model(acc_batch, gyro_batch, return_feat=True, training=False)\n",
    "        \n",
    "        sim = tf.reduce_sum(tf.multiply(e_accel, e_gyro), axis=1)\n",
    "        sim_numpy = sim.numpy()\n",
    "        labels_numpy = labels.numpy()\n",
    "        \n",
    "        normal_mask = (labels_numpy == 0)\n",
    "        fall_mask = (labels_numpy == 1)\n",
    "        \n",
    "        normal_similarities.extend(sim_numpy[normal_mask])\n",
    "        fall_similarities.extend(sim_numpy[fall_mask])\n",
    "    \n",
    "    return np.array(normal_similarities), np.array(fall_similarities)\n",
    "\n",
    "normal_sims, fall_sims = calculate_similarities(model, test_dataset)\n",
    "\n",
    "print(\"[ ADL data ]\")\n",
    "print(f\"  Mean: {np.mean(normal_sims):.4f}\")\n",
    "print(f\"  Std: {np.std(normal_sims):.4f}\")\n",
    "print(f\"  Min: {np.min(normal_sims):.4f}\")\n",
    "print(f\"  Max: {np.max(normal_sims):.4f}\")\n",
    "for i in range (20) :\n",
    "    print ('ADL ind', i+1, ':', normal_sims[i])\n",
    "\n",
    "print ()\n",
    "print(\"[ FALL data ]\")\n",
    "print(f\"  Mean: {np.mean(fall_sims):.4f}\")\n",
    "print(f\"  Std: {np.std(fall_sims):.4f}\")\n",
    "print(f\"  Min: {np.min(fall_sims):.4f}\")\n",
    "print(f\"  Max: {np.max(fall_sims):.4f}\")\n",
    "for i in range (20) :\n",
    "    print ('FALL ind', i+1, ':', fall_sims[i])"
   ]
  },
  {
   "cell_type": "code",
   "execution_count": 27,
   "id": "675d6168",
   "metadata": {
    "ExecuteTime": {
     "end_time": "2025-02-04T03:59:06.122862Z",
     "start_time": "2025-02-04T03:59:06.107450Z"
    }
   },
   "outputs": [
    {
     "data": {
      "text/plain": [
       "'\\n    low similarities + high reconstruction error == FALL\\n'"
      ]
     },
     "execution_count": 27,
     "metadata": {},
     "output_type": "execute_result"
    }
   ],
   "source": [
    "sim_threshold = np.percentile(normal_similarities, 10)\n",
    "recon_threshold = np.percentile(normal_recon_errors, 90)\n",
    "\n",
    "anomaly_scores = (1 - test_similarities) * 0.5 + test_recon_errors * 0.5\n",
    "threshold = np.percentile(anomaly_scores, 90)\n",
    "\n",
    "'''\n",
    "    low similarities + high reconstruction error == FALL\n",
    "'''"
   ]
  },
  {
   "cell_type": "code",
   "execution_count": 29,
   "id": "b40abe82",
   "metadata": {
    "ExecuteTime": {
     "end_time": "2025-02-04T03:59:22.017763Z",
     "start_time": "2025-02-04T03:59:19.027389Z"
    }
   },
   "outputs": [
    {
     "data": {
      "image/png": "[encoded data removed]",
      "text/plain": [
       "<Figure size 640x480 with 1 Axes>"
      ]
     },
     "metadata": {},
     "output_type": "display_data"
    }
   ],
   "source": [
    "indices = range(len(test_similarities))\n",
    "plt.scatter([i for i, l in zip(indices, test_labels) if l == 0], \n",
    "           [s for s, l in zip(test_similarities, test_labels) if l == 0],\n",
    "           c='blue', label='Normal (ADL)', alpha=0.5, s=20)\n",
    "plt.scatter([i for i, l in zip(indices, test_labels) if l == 1],\n",
    "           [s for s, l in zip(test_similarities, test_labels) if l == 1],\n",
    "           c='red', label='Fall', alpha=0.5, s=20)\n",
    "plt.axhline(y=sim_threshold, color='green', linestyle='--', \n",
    "           label=f'Similarity Threshold ({sim_threshold:.3f})')\n",
    "plt.xlabel('Sample Index')\n",
    "plt.ylabel('Similarity Score')\n",
    "plt.title('Similarity Scores')\n",
    "plt.legend()\n",
    "plt.grid(True)"
   ]
  },
  {
   "cell_type": "code",
   "execution_count": 30,
   "id": "fe7b0982",
   "metadata": {
    "ExecuteTime": {
     "end_time": "2025-02-04T03:59:28.531593Z",
     "start_time": "2025-02-04T03:59:27.551891Z"
    }
   },
   "outputs": [
    {
     "data": {
      "image/png": "[encoded data removed]",
      "text/plain": [
       "<Figure size 640x480 with 1 Axes>"
      ]
     },
     "metadata": {},
     "output_type": "display_data"
    }
   ],
   "source": [
    "plt.scatter([i for i, l in zip(indices, test_labels) if l == 0], \n",
    "           [r for r, l in zip(test_recon_errors, test_labels) if l == 0],\n",
    "           c='blue', label='Normal (ADL)', alpha=0.5, s=20)\n",
    "plt.scatter([i for i, l in zip(indices, test_labels) if l == 1],\n",
    "           [r for r, l in zip(test_recon_errors, test_labels) if l == 1],\n",
    "           c='red', label='Fall', alpha=0.5, s=20)\n",
    "plt.axhline(y=recon_threshold, color='green', linestyle='--', \n",
    "           label=f'Reconstruction Threshold ({recon_threshold:.3f})')\n",
    "plt.xlabel('Sample Index')\n",
    "plt.ylabel('Reconstruction Error')\n",
    "plt.title('Reconstruction Errors')\n",
    "plt.legend()\n",
    "plt.grid(True)\n",
    "\n",
    "plt.tight_layout()\n",
    "plt.show()"
   ]
  },
  {
   "cell_type": "code",
   "execution_count": 31,
   "id": "16cd0e99",
   "metadata": {
    "ExecuteTime": {
     "end_time": "2025-02-04T03:59:36.441956Z",
     "start_time": "2025-02-04T03:59:35.567187Z"
    }
   },
   "outputs": [
    {
     "data": {
      "image/png": "[encoded data removed]",
      "text/plain": [
       "<Figure size 1000x600 with 1 Axes>"
      ]
     },
     "metadata": {},
     "output_type": "display_data"
    }
   ],
   "source": [
    "plt.figure(figsize=(10, 6))\n",
    "plt.scatter([i for i, l in zip(indices, test_labels) if l == 0], \n",
    "           [s for s, l in zip(anomaly_scores, test_labels) if l == 0],\n",
    "           c='blue', label='Normal (ADL)', alpha=0.5, s=20)\n",
    "plt.scatter([i for i, l in zip(indices, test_labels) if l == 1],\n",
    "           [s for s, l in zip(anomaly_scores, test_labels) if l == 1],\n",
    "           c='red', label='Fall', alpha=0.5, s=20)\n",
    "plt.axhline(y=threshold, color='green', linestyle='--', \n",
    "           label=f'Threshold ({threshold:.3f})')\n",
    "plt.xlabel('Sample Index')\n",
    "plt.ylabel('Anomaly Score')\n",
    "plt.title('Combined Anomaly Scores')\n",
    "plt.legend()\n",
    "plt.grid(True)\n",
    "plt.show()"
   ]
  }
 ],
 "metadata": {
  "kernelspec": {
   "display_name": "Python 3 (ipykernel)",
   "language": "python",
   "name": "python3"
  },
  "language_info": {
   "codemirror_mode": {
    "name": "ipython",
    "version": 3
   },
   "file_extension": ".py",
   "mimetype": "text/x-python",
   "name": "python",
   "nbconvert_exporter": "python",
   "pygments_lexer": "ipython3",
   "version": "3.11.3"
  },
  "varInspector": {
   "cols": {
    "lenName": 16,
    "lenType": 16,
    "lenVar": 40
   },
   "kernels_config": {
    "python": {
     "delete_cmd_postfix": "",
     "delete_cmd_prefix": "del ",
     "library": "var_list.py",
     "varRefreshCmd": "print(var_dic_list())"
    },
    "r": {
     "delete_cmd_postfix": ") ",
     "delete_cmd_prefix": "rm(",
     "library": "var_list.r",
     "varRefreshCmd": "cat(var_dic_list()) "
    }
   },
   "types_to_exclude": [
    "module",
    "function",
    "builtin_function_or_method",
    "instance",
    "_Feature"
   ],
   "window_display": false
  }
 },
 "nbformat": 4,
 "nbformat_minor": 5
}
