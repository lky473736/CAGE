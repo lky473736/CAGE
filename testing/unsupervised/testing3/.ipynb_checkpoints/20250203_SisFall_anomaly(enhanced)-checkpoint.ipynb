{
 "cells": [
  {
   "cell_type": "code",
   "execution_count": 9,
   "id": "b55f2495",
   "metadata": {
    "ExecuteTime": {
     "end_time": "2025-02-03T08:29:47.714440Z",
     "start_time": "2025-02-03T08:29:47.710901Z"
    }
   },
   "outputs": [],
   "source": [
    "import tensorflow as tf\n",
    "import numpy as np\n",
    "from tensorflow.keras import layers, Model\n",
    "import matplotlib.pyplot as plt \n",
    "import seaborn as sns\n",
    "import os\n",
    "import glob\n",
    "import pandas as pd\n",
    "from tqdm import tqdm\n",
    "from sklearn.metrics import confusion_matrix, classification_report\n",
    "from sklearn.preprocessing import StandardScaler"
   ]
  },
  {
   "cell_type": "code",
   "execution_count": 10,
   "id": "44399eca",
   "metadata": {
    "ExecuteTime": {
     "end_time": "2025-02-03T08:29:47.719868Z",
     "start_time": "2025-02-03T08:29:47.716964Z"
    }
   },
   "outputs": [],
   "source": [
    "WINDOW_LENGTH = 256  # data window\n",
    "STRIDE = 128        # stride\n",
    "BATCH_SIZE = 64  # batch\n",
    "EPOCHS = 100  # epoch\n",
    "LEARNING_RATE = 0.0001  # lr\n",
    "PROJ_DIM = 128  # embedding dimension"
   ]
  },
  {
   "cell_type": "code",
   "execution_count": 11,
   "id": "29ebfdbf",
   "metadata": {
    "ExecuteTime": {
     "end_time": "2025-02-03T08:29:47.724468Z",
     "start_time": "2025-02-03T08:29:47.722257Z"
    }
   },
   "outputs": [],
   "source": [
    "datapath = \"../../../data/SisFall_dataset/\" "
   ]
  },
  {
   "cell_type": "code",
   "execution_count": 12,
   "id": "43c4c59f",
   "metadata": {
    "ExecuteTime": {
     "end_time": "2025-02-03T08:29:47.732062Z",
     "start_time": "2025-02-03T08:29:47.727978Z"
    }
   },
   "outputs": [
    {
     "data": {
      "text/plain": [
       "'\\n        Each file contains nine columns and a different number of rows depending on the test length.\\n        \\n        1st column is the acceleration data in the X axis measured by the sensor ADXL345.\\n        2nd column is the acceleration data in the Y axis measured by the sensor ADXL345.\\n        3rd column is the acceleration data in the Z axis measured by the sensor ADXL345.\\n\\n        4th column is the rotation data in the X axis measured by the sensor ITG3200.\\n        5th column is the rotation data in the Y axis measured by the sensor ITG3200.\\n        6th column is the rotation data in the Z axis measured by the sensor ITG3200.\\n\\n        7th column is the acceleration data in the X axis measured by the sensor MMA8451Q.\\n        8th column is the acceleration data in the Y axis measured by the sensor MMA8451Q.\\n        9th column is the acceleration data in the Z axis measured by the sensor MMA8451Q.\\n        \\n        Data are in bits with the following characteristics:\\n\\n        ADXL345:\\n        Resolution: 13 bits\\n        Range: +-16g\\n\\n        ITG3200\\n        Resolution: 16 bits\\n        Range: +-2000°/s\\n\\n        MMA8451Q:\\n        Resolution: 14 bits\\n        Range: +-8g\\n'"
      ]
     },
     "execution_count": 12,
     "metadata": {},
     "output_type": "execute_result"
    }
   ],
   "source": [
    "'''\n",
    "        Each file contains nine columns and a different number of rows depending on the test length.\n",
    "        \n",
    "        1st column is the acceleration data in the X axis measured by the sensor ADXL345.\n",
    "        2nd column is the acceleration data in the Y axis measured by the sensor ADXL345.\n",
    "        3rd column is the acceleration data in the Z axis measured by the sensor ADXL345.\n",
    "\n",
    "        4th column is the rotation data in the X axis measured by the sensor ITG3200.\n",
    "        5th column is the rotation data in the Y axis measured by the sensor ITG3200.\n",
    "        6th column is the rotation data in the Z axis measured by the sensor ITG3200.\n",
    "\n",
    "        7th column is the acceleration data in the X axis measured by the sensor MMA8451Q.\n",
    "        8th column is the acceleration data in the Y axis measured by the sensor MMA8451Q.\n",
    "        9th column is the acceleration data in the Z axis measured by the sensor MMA8451Q.\n",
    "        \n",
    "        Data are in bits with the following characteristics:\n",
    "\n",
    "        ADXL345:\n",
    "        Resolution: 13 bits\n",
    "        Range: +-16g\n",
    "\n",
    "        ITG3200\n",
    "        Resolution: 16 bits\n",
    "        Range: +-2000°/s\n",
    "\n",
    "        MMA8451Q:\n",
    "        Resolution: 14 bits\n",
    "        Range: +-8g\n",
    "'''"
   ]
  },
  {
   "cell_type": "code",
   "execution_count": 13,
   "id": "0fb769b8",
   "metadata": {
    "ExecuteTime": {
     "end_time": "2025-02-03T08:29:47.739188Z",
     "start_time": "2025-02-03T08:29:47.734080Z"
    }
   },
   "outputs": [],
   "source": [
    "adl_activities = [f'D{str(i).zfill(2)}' for i in range(1, 20)]  # D01-D19\n",
    "fall_activities = [f'F{str(i).zfill(2)}' for i in range(1, 16)]  # F01-F15\n",
    "\n",
    "label2id = {act: 0 for act in adl_activities}\n",
    "label2id.update({act: 1 for act in fall_activities})\n",
    "\n",
    "adult_subjects = [f'SA{str(i).zfill(2)}' for i in range(1, 24)]  # SA01-SA23\n",
    "elderly_subjects = [f'SE{str(i).zfill(2)}' for i in range(1, 16)]  # SE01-SE15\n",
    "\n",
    "train_sa = adult_subjects[:16]    # 16 subjects\n",
    "val_sa = adult_subjects[16:19]    # 3 subjects\n",
    "test_sa = adult_subjects[19:]     # 4 subjects\n",
    "\n",
    "train_se = elderly_subjects[:10]  # 10 subjects\n",
    "val_se = elderly_subjects[10:12]  # 2 subjects\n",
    "test_se = elderly_subjects[12:]   # 3 subjects\n",
    "\n",
    "train_split = train_sa + train_se\n",
    "val_split = val_sa + val_se\n",
    "test_split = test_sa + test_se"
   ]
  },
  {
   "cell_type": "code",
   "execution_count": 14,
   "id": "82deef5e",
   "metadata": {
    "ExecuteTime": {
     "end_time": "2025-02-03T08:29:47.745133Z",
     "start_time": "2025-02-03T08:29:47.741214Z"
    }
   },
   "outputs": [],
   "source": [
    "def read_sensor_file(filepath) :\n",
    "   \"\"\"\n",
    "       first 6 columns : ADXL345 acc + ITG3200 gyro\n",
    "   \"\"\"\n",
    "   with open(filepath, 'r') as file:\n",
    "       content = file.read()\n",
    "\n",
    "   content = content.replace(' ', '')  # delete blank\n",
    "   rows = []\n",
    "\n",
    "   for line in content.split(';\\n'): \n",
    "       if line.strip():\n",
    "           try:\n",
    "               values = [float(x) for x in line.split(',')[:6]]\n",
    "               rows.append(values)\n",
    "           except (ValueError, IndexError):\n",
    "               continue\n",
    "\n",
    "   return np.array(rows)"
   ]
  },
  {
   "cell_type": "code",
   "execution_count": 15,
   "id": "577149ea",
   "metadata": {
    "ExecuteTime": {
     "end_time": "2025-02-03T08:29:47.751773Z",
     "start_time": "2025-02-03T08:29:47.747223Z"
    }
   },
   "outputs": [],
   "source": [
    "def split_sequences(data, labels, \n",
    "                    window_length=WINDOW_LENGTH, \n",
    "                    stride=STRIDE,\n",
    "                    clean=True):\n",
    "    idx = 0\n",
    "    endidx = len(data)\n",
    "    windows = []\n",
    "    window_labels = []\n",
    "    \n",
    "    while idx < endidx - window_length:\n",
    "        data_segment = data[idx:idx+window_length].T\n",
    "        \n",
    "        if clean and len(np.unique(labels[idx:idx + window_length])) > 1:\n",
    "            pass\n",
    "        else:\n",
    "            windows.append(data_segment)\n",
    "            window_labels.append(labels[idx+window_length])\n",
    "        \n",
    "        idx += stride\n",
    "    \n",
    "    if len(windows) == 0:\n",
    "        return None, None\n",
    "    \n",
    "    return np.stack(windows), np.asarray(window_labels)"
   ]
  },
  {
   "cell_type": "code",
   "execution_count": 16,
   "id": "1d0f12dd",
   "metadata": {
    "ExecuteTime": {
     "end_time": "2025-02-03T08:30:02.296070Z",
     "start_time": "2025-02-03T08:29:47.753364Z"
    }
   },
   "outputs": [
    {
     "name": "stderr",
     "output_type": "stream",
     "text": [
      "100%|███████████████████████████████████████████| 26/26 [00:14<00:00,  1.85it/s]\n"
     ]
    },
    {
     "name": "stdout",
     "output_type": "stream",
     "text": [
      "# of windows: 37570\n",
      "data shape: (37570, 6, 256)\n",
      "labels shape: (37570,)\n",
      "{0: 37570}\n"
     ]
    }
   ],
   "source": [
    "'''\n",
    "   TRAIN DATA PREPARING PART\n",
    "   ONLY \"ADL\"\n",
    "'''\n",
    "train_data_normal = []  \n",
    "train_labels_normal = [] \n",
    "\n",
    "for subject in tqdm(train_split):  \n",
    "   subject_dir = os.path.join(datapath, subject)\n",
    "   \n",
    "   if subject.startswith('SE') and subject != 'SE06':\n",
    "       continue\n",
    "       \n",
    "   for activity in adl_activities:\n",
    "       activity_pattern = os.path.join(subject_dir, f\"{activity}*.txt\")\n",
    "       activity_files = glob.glob(activity_pattern)\n",
    "       \n",
    "       for file_path in activity_files:\n",
    "           try:\n",
    "               raw_data = read_sensor_file(file_path)\n",
    "               if raw_data is not None and raw_data.shape[1] == 6:\n",
    "                   sensor_data = raw_data\n",
    "                   activity_labels = np.full(len(sensor_data), label2id[activity])\n",
    "                   \n",
    "                   windows_data, windows_labels = split_sequences(\n",
    "                       sensor_data, activity_labels, \n",
    "                       WINDOW_LENGTH, STRIDE\n",
    "                   )\n",
    "                   \n",
    "                   if windows_data is not None and len(windows_data) > 0:\n",
    "                       train_data_normal.append(windows_data)\n",
    "                       train_labels_normal.append(windows_labels)\n",
    "                   \n",
    "           except Exception as e: \n",
    "               print(f\"Error processing file {file_path}: {e}\")\n",
    "               \n",
    "train_data_normal = np.concatenate(train_data_normal, axis=0)\n",
    "train_labels_normal = np.concatenate(train_labels_normal)\n",
    "\n",
    "print (f\"# of windows: {len(train_data_normal)}\")\n",
    "print (f\"data shape: {train_data_normal.shape}\")\n",
    "print (f\"labels shape: {train_labels_normal.shape}\")\n",
    "unique_labels, counts = np.unique(train_labels_normal, return_counts=True)\n",
    "print (dict(zip(unique_labels, counts)))"
   ]
  },
  {
   "cell_type": "code",
   "execution_count": 17,
   "id": "70c96baf",
   "metadata": {
    "ExecuteTime": {
     "end_time": "2025-02-03T08:30:08.640669Z",
     "start_time": "2025-02-03T08:30:02.298223Z"
    }
   },
   "outputs": [
    {
     "name": "stderr",
     "output_type": "stream",
     "text": [
      "100%|█████████████████████████████████████████████| 7/7 [00:06<00:00,  1.14it/s]"
     ]
    },
    {
     "name": "stdout",
     "output_type": "stream",
     "text": [
      "# of windows: 15319\n",
      "data shape: (15319, 6, 256)\n",
      "labels shape: (15319,)\n",
      "{0: 8764, 1: 6555}\n"
     ]
    },
    {
     "name": "stderr",
     "output_type": "stream",
     "text": [
      "\n"
     ]
    }
   ],
   "source": [
    "'''\n",
    "   TEST DATA PREPARING PART\n",
    "   ADL + FALL\n",
    "'''\n",
    "test_data = []\n",
    "test_labels = []\n",
    "\n",
    "for subject in tqdm(test_split):\n",
    "   subject_dir = os.path.join(datapath, subject)\n",
    "   \n",
    "   is_elderly = subject.startswith('SE')\n",
    "   \n",
    "   if not (is_elderly and subject != 'SE06'): \n",
    "       for activity in adl_activities:\n",
    "           activity_pattern = os.path.join(subject_dir, f\"{activity}*.txt\")\n",
    "           activity_files = glob.glob(activity_pattern)\n",
    "           \n",
    "           for file_path in activity_files:\n",
    "               try:\n",
    "                   raw_data = read_sensor_file(file_path)\n",
    "                   if raw_data is not None and raw_data.shape[1] == 6:\n",
    "                       sensor_data = raw_data\n",
    "                       activity_labels = np.full(len(sensor_data), label2id[activity])\n",
    "                       \n",
    "                       windows_data, windows_labels = split_sequences(\n",
    "                           sensor_data, activity_labels,\n",
    "                           WINDOW_LENGTH, STRIDE\n",
    "                       )\n",
    "                       \n",
    "                       if windows_data is not None and len(windows_data) > 0:\n",
    "                           test_data.append(windows_data)\n",
    "                           test_labels.append(windows_labels)\n",
    "                           \n",
    "               except Exception as e:\n",
    "                   print(f\"Error processing file {file_path}: {e}\")\n",
    "   \n",
    "   if not is_elderly or subject == 'SE06':\n",
    "       for activity in fall_activities:\n",
    "           activity_pattern = os.path.join(subject_dir, f\"{activity}*.txt\")\n",
    "           activity_files = glob.glob(activity_pattern)\n",
    "           \n",
    "           for file_path in activity_files:\n",
    "               try:\n",
    "                   raw_data = read_sensor_file(file_path)\n",
    "                   if raw_data is not None and raw_data.shape[1] == 6:\n",
    "                       sensor_data = raw_data\n",
    "                       activity_labels = np.full(len(sensor_data), label2id[activity])\n",
    "                       \n",
    "                       windows_data, windows_labels = split_sequences(\n",
    "                           sensor_data, activity_labels,\n",
    "                           WINDOW_LENGTH, STRIDE\n",
    "                       )\n",
    "                       \n",
    "                       if windows_data is not None and len(windows_data) > 0:\n",
    "                           test_data.append(windows_data)\n",
    "                           test_labels.append(windows_labels)\n",
    "                           \n",
    "               except Exception as e:\n",
    "                   print(f\"Error processing file {file_path}: {e}\")\n",
    "\n",
    "test_data = np.concatenate(test_data, axis=0)\n",
    "test_labels = np.concatenate(test_labels)\n",
    "\n",
    "print (f\"# of windows: {len(test_data)}\")\n",
    "print (f\"data shape: {test_data.shape}\")\n",
    "print (f\"labels shape: {test_labels.shape}\")\n",
    "unique_labels, counts = np.unique(test_labels, return_counts=True)\n",
    "print(dict(zip(unique_labels, counts)))"
   ]
  },
  {
   "cell_type": "code",
   "execution_count": 18,
   "id": "c5df9c42",
   "metadata": {
    "ExecuteTime": {
     "end_time": "2025-02-03T08:30:10.148693Z",
     "start_time": "2025-02-03T08:30:08.646974Z"
    }
   },
   "outputs": [],
   "source": [
    "train_data_shape = train_data_normal.shape\n",
    "test_data_shape = test_data.shape\n",
    "\n",
    "train_data_2d = train_data_normal.reshape(-1, train_data_normal.shape[-1])\n",
    "test_data_2d = test_data.reshape(-1, test_data.shape[-1])\n",
    "\n",
    "scaler = StandardScaler()\n",
    "train_data_2d = scaler.fit_transform(train_data_2d)\n",
    "test_data_2d = scaler.transform(test_data_2d)\n",
    "\n",
    "train_data_normal = train_data_2d.reshape(train_data_shape)\n",
    "test_data = test_data_2d.reshape(test_data_shape)"
   ]
  },
  {
   "cell_type": "code",
   "execution_count": 19,
   "id": "e248e94c",
   "metadata": {
    "ExecuteTime": {
     "end_time": "2025-02-03T08:30:10.297487Z",
     "start_time": "2025-02-03T08:30:10.150879Z"
    }
   },
   "outputs": [
    {
     "name": "stdout",
     "output_type": "stream",
     "text": [
      "train data - accel shape: (37570, 6, 3)\n",
      "train data - gyro shape: (37570, 6, 253)\n",
      "test data - accel shape: (15319, 6, 3)\n",
      "test data - gyro shape: (15319, 6, 253)\n",
      "# of training batches: 588\n",
      "# of test batches: 240\n"
     ]
    }
   ],
   "source": [
    "train_acc_normal = train_data_normal[..., :3] \n",
    "train_gyro_normal = train_data_normal[..., 3:]  \n",
    "# (x, y, z)\n",
    "\n",
    "test_acc = test_data[..., :3]  \n",
    "test_gyro = test_data[..., 3:] \n",
    "\n",
    "train_dataset = tf.data.Dataset.from_tensor_slices((train_acc_normal, train_gyro_normal))\n",
    "train_dataset = train_dataset.batch(BATCH_SIZE)\n",
    "\n",
    "test_dataset = tf.data.Dataset.from_tensor_slices(\n",
    "    ((test_acc, test_gyro), test_labels)\n",
    ").batch(BATCH_SIZE)\n",
    "\n",
    "print (f\"train data - accel shape: {train_acc_normal.shape}\")\n",
    "print (f\"train data - gyro shape: {train_gyro_normal.shape}\")\n",
    "print (f\"test data - accel shape: {test_acc.shape}\")\n",
    "print (f\"test data - gyro shape: {test_gyro.shape}\")\n",
    "print (f\"# of training batches: {len(train_dataset)}\")\n",
    "print (f\"# of test batches: {len(test_dataset)}\")"
   ]
  },
  {
   "cell_type": "markdown",
   "id": "0005414b",
   "metadata": {},
   "source": [
    "------"
   ]
  },
  {
   "cell_type": "code",
   "execution_count": 20,
   "id": "227d06a5",
   "metadata": {
    "ExecuteTime": {
     "end_time": "2025-02-03T08:30:10.302828Z",
     "start_time": "2025-02-03T08:30:10.299564Z"
    }
   },
   "outputs": [],
   "source": [
    "# class Encoder(Model):\n",
    "#     def __init__(self, in_feat, out_feat, num_encoders=1, use_skip=True):\n",
    "#         super(Encoder, self).__init__()\n",
    "#         self.use_skip = use_skip\n",
    "#         self.num_encoders = num_encoders\n",
    "        \n",
    "#         for i in range(num_encoders):\n",
    "#             setattr(self, f'conv1_{i}', layers.Conv1D(filters=out_feat*3, \n",
    "#                                                       kernel_size=7, padding='same', \n",
    "#                                                       activation='relu'))\n",
    "#             setattr(self, f'maxpool1_{i}', layers.MaxPooling1D(pool_size=2, padding='same'))\n",
    "#             setattr(self, f'conv2_{i}', layers.Conv1D(filters=out_feat*2, \n",
    "#                                                       kernel_size=5, padding='same', \n",
    "#                                                       activation='relu'))\n",
    "#             setattr(self, f'maxpool2_{i}', layers.MaxPooling1D(pool_size=2, padding='same'))\n",
    "#             setattr(self, f'conv3_{i}', layers.Conv1D(filters=out_feat*1, \n",
    "#                                                       kernel_size=3, padding='same', \n",
    "#                                                       activation='relu'))\n",
    "    \n",
    "#     def call(self, x, training=False):\n",
    "#         for i in range(self.num_encoders):\n",
    "#             if self.use_skip and i > 0:\n",
    "#                 identity = x\n",
    "            \n",
    "#             x = getattr(self, f'conv1_{i}')(x)\n",
    "#             x = getattr(self, f'maxpool1_{i}')(x)\n",
    "#             x = getattr(self, f'conv2_{i}')(x)\n",
    "#             x = getattr(self, f'maxpool2_{i}')(x)\n",
    "#             x = getattr(self, f'conv3_{i}')(x)\n",
    "            \n",
    "#             if self.use_skip and i > 0:\n",
    "#                 x = x + identity\n",
    "        \n",
    "#         return tf.reduce_mean(x, axis=1)"
   ]
  },
  {
   "cell_type": "code",
   "execution_count": 21,
   "id": "5c8b9acf",
   "metadata": {
    "ExecuteTime": {
     "end_time": "2025-02-03T08:30:10.311986Z",
     "start_time": "2025-02-03T08:30:10.304557Z"
    }
   },
   "outputs": [],
   "source": [
    "class Encoder(Model):\n",
    "    def __init__(self, in_feat, out_feat, num_encoders=1):\n",
    "        super(Encoder, self).__init__()\n",
    "        \n",
    "        # Initial convolution layers\n",
    "        self.conv1 = layers.Conv1D(filters=256, kernel_size=7, padding='same')\n",
    "        self.bn1 = layers.BatchNormalization()\n",
    "        self.act1 = layers.LeakyReLU(0.2)\n",
    "        self.pool1 = layers.MaxPooling1D(pool_size=2, padding='same')\n",
    "        \n",
    "        self.conv2 = layers.Conv1D(filters=128, kernel_size=5, padding='same')\n",
    "        self.bn2 = layers.BatchNormalization()\n",
    "        self.act2 = layers.LeakyReLU(0.2)\n",
    "        self.pool2 = layers.MaxPooling1D(pool_size=2, padding='same')\n",
    "        \n",
    "        self.attention = layers.MultiHeadAttention(num_heads=8, key_dim=32)\n",
    "        self.attention_norm = layers.LayerNormalization()\n",
    "        \n",
    "        self.conv3 = layers.Conv1D(filters=64, kernel_size=3, padding='same')\n",
    "        self.bn3 = layers.BatchNormalization()\n",
    "        self.act3 = layers.LeakyReLU(0.2)\n",
    "        \n",
    "        self.global_pool = layers.GlobalAveragePooling1D()\n",
    "        self.dropout = layers.Dropout(0.3)\n",
    "        self.dense = layers.Dense(out_feat)\n",
    "    \n",
    "    def call(self, x, training=False):\n",
    "        x = self.conv1(x)\n",
    "        x = self.bn1(x)\n",
    "        x = self.act1(x)\n",
    "        x = self.pool1(x)\n",
    "        \n",
    "        x = self.conv2(x)\n",
    "        x = self.bn2(x)\n",
    "        x = self.act2(x)\n",
    "        x = self.pool2(x)\n",
    "        \n",
    "        attention_output = self.attention(x, x, x)\n",
    "        x = self.attention_norm(x + attention_output)\n",
    "        \n",
    "        x = self.conv3(x)\n",
    "        x = self.bn3(x)\n",
    "        x = self.act3(x)\n",
    "        \n",
    "        x = self.global_pool(x)\n",
    "        x = self.dropout(x, training=training)\n",
    "        x = self.dense(x)\n",
    "        \n",
    "        return x"
   ]
  },
  {
   "cell_type": "code",
   "execution_count": 22,
   "id": "6a17637e",
   "metadata": {
    "ExecuteTime": {
     "end_time": "2025-02-03T08:30:10.316798Z",
     "start_time": "2025-02-03T08:30:10.314017Z"
    }
   },
   "outputs": [],
   "source": [
    "# class CAGE(Model):\n",
    "#     def __init__(self, n_feat=6, proj_dim=128):\n",
    "#         super(CAGE, self).__init__()\n",
    "#         self.proj_dim = proj_dim\n",
    "        \n",
    "#         self.enc_A = Encoder(n_feat, 64)\n",
    "#         self.enc_G = Encoder(n_feat, 64)\n",
    "        \n",
    "#         if self.proj_dim > 0:\n",
    "#             self.proj_A = layers.Dense(proj_dim, use_bias=False)\n",
    "#             self.proj_G = layers.Dense(proj_dim, use_bias=False)\n",
    "        \n",
    "#         self.temperature = tf.Variable(0.1, trainable=True)\n",
    "    \n",
    "#     def call(self, x_accel, x_gyro, return_feat=False, training=False):\n",
    "#         f_accel = self.enc_A(x_accel, training=training)\n",
    "#         f_gyro = self.enc_G(x_gyro, training=training)\n",
    "        \n",
    "#         if self.proj_dim > 0:\n",
    "#             e_accel = self.proj_A(f_accel)\n",
    "#             e_gyro = self.proj_G(f_gyro)\n",
    "#         else:\n",
    "#             e_accel = f_accel\n",
    "#             e_gyro = f_gyro\n",
    "        \n",
    "#         e_accel = tf.math.l2_normalize(e_accel, axis=1)\n",
    "#         e_gyro = tf.math.l2_normalize(e_gyro, axis=1)\n",
    "        \n",
    "#         sim_matrix = tf.matmul(e_accel, e_gyro, transpose_b=True) / self.temperature\n",
    "        \n",
    "#         if return_feat:\n",
    "#             return sim_matrix, (e_accel, e_gyro)\n",
    "        \n",
    "#         return sim_matrix"
   ]
  },
  {
   "cell_type": "code",
   "execution_count": 23,
   "id": "188d2876",
   "metadata": {
    "ExecuteTime": {
     "end_time": "2025-02-03T08:30:10.324850Z",
     "start_time": "2025-02-03T08:30:10.318669Z"
    }
   },
   "outputs": [],
   "source": [
    "class CAGE(Model):\n",
    "    def __init__(self, n_feat=6, proj_dim=128):\n",
    "        super(CAGE, self).__init__()\n",
    "        self.proj_dim = proj_dim\n",
    "        \n",
    "        # encoders\n",
    "        self.enc_A = Encoder(n_feat, 64)\n",
    "        self.enc_G = Encoder(n_feat, 64)\n",
    "        \n",
    "        if self.proj_dim > 0:\n",
    "            self.proj_A = tf.keras.Sequential([\n",
    "                layers.Dense(proj_dim * 2, use_bias=False),\n",
    "                layers.BatchNormalization(),\n",
    "                layers.ReLU(),\n",
    "                layers.Dense(proj_dim, use_bias=False)\n",
    "            ])\n",
    "            self.proj_G = tf.keras.Sequential([\n",
    "                layers.Dense(proj_dim * 2, use_bias=False),\n",
    "                layers.BatchNormalization(),\n",
    "                layers.ReLU(),\n",
    "                layers.Dense(proj_dim, use_bias=False)\n",
    "            ])\n",
    "        \n",
    "        self.temperature = tf.Variable(0.5, trainable=True) # 0.07 -> 0.5\n",
    "    \n",
    "    def call(self, x_accel, x_gyro, return_feat=False, training=False):\n",
    "        f_accel = self.enc_A(x_accel, training=training)\n",
    "        f_gyro = self.enc_G(x_gyro, training=training)\n",
    "        \n",
    "        if self.proj_dim > 0:\n",
    "            e_accel = self.proj_A(f_accel)\n",
    "            e_gyro = self.proj_G(f_gyro)\n",
    "        else:\n",
    "            e_accel = f_accel\n",
    "            e_gyro = f_gyro\n",
    "        \n",
    "        e_accel = tf.math.l2_normalize(e_accel, axis=1)\n",
    "        e_gyro = tf.math.l2_normalize(e_gyro, axis=1)\n",
    "        \n",
    "        sim_matrix = tf.matmul(e_accel, e_gyro, transpose_b=True) / self.temperature\n",
    "        \n",
    "        if return_feat:\n",
    "            return sim_matrix, (e_accel, e_gyro)\n",
    "        \n",
    "        return sim_matrix"
   ]
  },
  {
   "cell_type": "code",
   "execution_count": 24,
   "id": "e76cde45",
   "metadata": {
    "ExecuteTime": {
     "end_time": "2025-02-03T08:30:10.391869Z",
     "start_time": "2025-02-03T08:30:10.327069Z"
    }
   },
   "outputs": [],
   "source": [
    "initial_learning_rate = 0.001\n",
    "lr_schedule = tf.keras.optimizers.schedules.ExponentialDecay(\n",
    "    initial_learning_rate,\n",
    "    decay_steps=1000,\n",
    "    decay_rate=0.9\n",
    ")\n",
    "\n",
    "model = CAGE(proj_dim=PROJ_DIM)\n",
    "optimizer = tf.keras.optimizers.Adam(learning_rate=lr_schedule)"
   ]
  },
  {
   "cell_type": "code",
   "execution_count": 25,
   "id": "6ce13c9d",
   "metadata": {
    "ExecuteTime": {
     "end_time": "2025-02-03T08:30:10.396039Z",
     "start_time": "2025-02-03T08:30:10.393599Z"
    }
   },
   "outputs": [],
   "source": [
    "# # @tf.function\n",
    "# # def contrastive_loss(logits):\n",
    "# #     \"\"\"NT-Xent Loss\"\"\"\n",
    "# #     batch_size = tf.shape(logits)[0]\n",
    "    \n",
    "# #     labels = tf.eye(batch_size) # diagonal matrix \n",
    "    \n",
    "# #     '''\n",
    "# #         loss calculating using CrossEntropy\n",
    "# #     '''\n",
    "# #     loss = tf.keras.losses.categorical_crossentropy(\n",
    "# #         labels, \n",
    "# #         tf.nn.softmax(logits, axis=-1), \n",
    "# #         from_logits=False\n",
    "# #     )\n",
    "    \n",
    "# #     return tf.reduce_mean(loss)\n",
    "\n",
    "# def contrastive_loss(sim_matrix):\n",
    "#     batch_size = tf.shape(sim_matrix)[0]\n",
    "    \n",
    "#     labels = tf.eye(batch_size)\n",
    "    \n",
    "#     loss_1 = tf.keras.losses.categorical_crossentropy(\n",
    "#         labels,\n",
    "#         tf.nn.softmax(sim_matrix, axis=1),\n",
    "#         from_logits=False\n",
    "#     )\n",
    "    \n",
    "#     loss_2 = tf.keras.losses.categorical_crossentropy(\n",
    "#         labels,\n",
    "#         tf.nn.softmax(sim_matrix, axis=0),\n",
    "#         from_logits=False\n",
    "#     )\n",
    "    \n",
    "#     total_loss = (loss_1 + loss_2) / 2\n",
    "#     return tf.reduce_mean(total_loss)"
   ]
  },
  {
   "cell_type": "code",
   "execution_count": 26,
   "id": "78b6c350",
   "metadata": {
    "ExecuteTime": {
     "end_time": "2025-02-03T08:30:10.401340Z",
     "start_time": "2025-02-03T08:30:10.397860Z"
    }
   },
   "outputs": [],
   "source": [
    "def contrastive_loss(sim_matrix, temperature=0.5):\n",
    "    batch_size = tf.shape(sim_matrix)[0]\n",
    "    \n",
    "    pos_mask = tf.eye(batch_size)\n",
    "    pos_sim = tf.reduce_sum(sim_matrix * pos_mask, axis=1)\n",
    "    \n",
    "    # Hard negative mining\n",
    "    neg_mask = 1 - pos_mask\n",
    "    neg_sim = sim_matrix * neg_mask - pos_mask * 1e9\n",
    "    hardest_neg_sim = tf.reduce_max(neg_sim, axis=1)\n",
    "    \n",
    "    # InfoNCE loss with numerical stability\n",
    "    logits = tf.concat([pos_sim[:, None], neg_sim], axis=1)\n",
    "    labels = tf.zeros(batch_size, dtype=tf.int32)\n",
    "    \n",
    "    loss = tf.nn.sparse_softmax_cross_entropy_with_logits(labels=labels, logits=logits/temperature)\n",
    "    \n",
    "    return tf.reduce_mean(loss)"
   ]
  },
  {
   "cell_type": "code",
   "execution_count": 27,
   "id": "9e1e12a0",
   "metadata": {
    "ExecuteTime": {
     "end_time": "2025-02-03T08:30:10.405031Z",
     "start_time": "2025-02-03T08:30:10.403125Z"
    }
   },
   "outputs": [],
   "source": [
    "# @tf.function\n",
    "# def train_step(model, optimizer, x_accel, x_gyro):\n",
    "#     with tf.GradientTape() as tape:\n",
    "#         sim_matrix, (e_accel, e_gyro) = model(x_accel, x_gyro, return_feat=True, training=True)\n",
    "#         loss = contrastive_loss(sim_matrix)\n",
    "    \n",
    "#     gradients = tape.gradient(loss, model.trainable_variables)\n",
    "#     gradients = [tf.clip_by_norm(g, 1.0) if g is not None else g for g in gradients]\n",
    "#     optimizer.apply_gradients(zip(gradients, model.trainable_variables))\n",
    "    \n",
    "#     return loss"
   ]
  },
  {
   "cell_type": "code",
   "execution_count": 28,
   "id": "39d478ae",
   "metadata": {
    "ExecuteTime": {
     "end_time": "2025-02-03T08:30:10.410577Z",
     "start_time": "2025-02-03T08:30:10.406664Z"
    }
   },
   "outputs": [],
   "source": [
    "@tf.function\n",
    "def train_step(model, optimizer, x_accel, x_gyro):\n",
    "    with tf.GradientTape() as tape:\n",
    "        sim_matrix, (e_accel, e_gyro) = model(x_accel, x_gyro, return_feat=True, training=True)\n",
    "        loss = contrastive_loss(sim_matrix)\n",
    "        \n",
    "        loss = tf.where(tf.math.is_finite(loss), loss, 1.0)\n",
    "    \n",
    "    gradients = tape.gradient(loss, model.trainable_variables)\n",
    "    gradients = [tf.clip_by_norm(g, 0.5) if g is not None else g for g in gradients] # <- gradient clipping\n",
    "    optimizer.apply_gradients(zip(gradients, model.trainable_variables))\n",
    "    \n",
    "    return loss"
   ]
  },
  {
   "cell_type": "markdown",
   "id": "17866465",
   "metadata": {},
   "source": [
    "----"
   ]
  },
  {
   "cell_type": "code",
   "execution_count": 29,
   "id": "81059f39",
   "metadata": {
    "ExecuteTime": {
     "end_time": "2025-02-03T08:30:10.414670Z",
     "start_time": "2025-02-03T08:30:10.412276Z"
    }
   },
   "outputs": [
    {
     "name": "stdout",
     "output_type": "stream",
     "text": [
      "<_BatchDataset element_spec=(TensorSpec(shape=(None, 6, 3), dtype=tf.float64, name=None), TensorSpec(shape=(None, 6, 253), dtype=tf.float64, name=None))>\n"
     ]
    }
   ],
   "source": [
    "print (train_dataset)"
   ]
  },
  {
   "cell_type": "code",
   "execution_count": 30,
   "id": "8b185509",
   "metadata": {
    "ExecuteTime": {
     "end_time": "2025-02-03T09:11:34.108686Z",
     "start_time": "2025-02-03T08:30:10.416166Z"
    },
    "scrolled": true
   },
   "outputs": [
    {
     "name": "stderr",
     "output_type": "stream",
     "text": [
      "Epoch 1/100: 100%|████████████████████████████| 588/588 [00:33<00:00, 17.35it/s]\n"
     ]
    },
    {
     "name": "stdout",
     "output_type": "stream",
     "text": [
      "mean value of loss : 2.7209\n",
      "best loss achieved : 2.7209\n"
     ]
    },
    {
     "name": "stderr",
     "output_type": "stream",
     "text": [
      "Epoch 2/100: 100%|████████████████████████████| 588/588 [00:23<00:00, 24.92it/s]\n"
     ]
    },
    {
     "name": "stdout",
     "output_type": "stream",
     "text": [
      "mean value of loss : 1.7791\n",
      "best loss achieved : 1.7791\n"
     ]
    },
    {
     "name": "stderr",
     "output_type": "stream",
     "text": [
      "Epoch 3/100: 100%|████████████████████████████| 588/588 [00:23<00:00, 24.98it/s]\n"
     ]
    },
    {
     "name": "stdout",
     "output_type": "stream",
     "text": [
      "mean value of loss : 1.4669\n",
      "best loss achieved : 1.4669\n"
     ]
    },
    {
     "name": "stderr",
     "output_type": "stream",
     "text": [
      "Epoch 4/100: 100%|████████████████████████████| 588/588 [00:23<00:00, 24.99it/s]\n"
     ]
    },
    {
     "name": "stdout",
     "output_type": "stream",
     "text": [
      "mean value of loss : 1.3246\n",
      "best loss achieved : 1.3246\n"
     ]
    },
    {
     "name": "stderr",
     "output_type": "stream",
     "text": [
      "Epoch 5/100: 100%|████████████████████████████| 588/588 [00:21<00:00, 27.51it/s]\n"
     ]
    },
    {
     "name": "stdout",
     "output_type": "stream",
     "text": [
      "mean value of loss : 1.2024\n",
      "best loss achieved : 1.2024\n"
     ]
    },
    {
     "name": "stderr",
     "output_type": "stream",
     "text": [
      "Epoch 6/100: 100%|████████████████████████████| 588/588 [00:22<00:00, 26.36it/s]\n"
     ]
    },
    {
     "name": "stdout",
     "output_type": "stream",
     "text": [
      "mean value of loss : 1.1476\n",
      "best loss achieved : 1.1476\n"
     ]
    },
    {
     "name": "stderr",
     "output_type": "stream",
     "text": [
      "Epoch 7/100: 100%|████████████████████████████| 588/588 [00:21<00:00, 26.74it/s]\n"
     ]
    },
    {
     "name": "stdout",
     "output_type": "stream",
     "text": [
      "mean value of loss : 1.0659\n",
      "best loss achieved : 1.0659\n"
     ]
    },
    {
     "name": "stderr",
     "output_type": "stream",
     "text": [
      "Epoch 8/100: 100%|████████████████████████████| 588/588 [00:19<00:00, 29.74it/s]\n"
     ]
    },
    {
     "name": "stdout",
     "output_type": "stream",
     "text": [
      "mean value of loss : 1.0327\n",
      "best loss achieved : 1.0327\n"
     ]
    },
    {
     "name": "stderr",
     "output_type": "stream",
     "text": [
      "Epoch 9/100: 100%|████████████████████████████| 588/588 [00:22<00:00, 26.00it/s]\n"
     ]
    },
    {
     "name": "stdout",
     "output_type": "stream",
     "text": [
      "mean value of loss : 1.0349\n"
     ]
    },
    {
     "name": "stderr",
     "output_type": "stream",
     "text": [
      "Epoch 10/100: 100%|███████████████████████████| 588/588 [00:24<00:00, 24.23it/s]\n"
     ]
    },
    {
     "name": "stdout",
     "output_type": "stream",
     "text": [
      "mean value of loss : 0.9690\n",
      "best loss achieved : 0.9690\n"
     ]
    },
    {
     "name": "stderr",
     "output_type": "stream",
     "text": [
      "Epoch 11/100: 100%|███████████████████████████| 588/588 [00:23<00:00, 24.78it/s]\n"
     ]
    },
    {
     "name": "stdout",
     "output_type": "stream",
     "text": [
      "mean value of loss : 0.8938\n",
      "best loss achieved : 0.8938\n"
     ]
    },
    {
     "name": "stderr",
     "output_type": "stream",
     "text": [
      "Epoch 12/100: 100%|███████████████████████████| 588/588 [00:21<00:00, 26.79it/s]\n"
     ]
    },
    {
     "name": "stdout",
     "output_type": "stream",
     "text": [
      "mean value of loss : 0.8913\n",
      "best loss achieved : 0.8913\n"
     ]
    },
    {
     "name": "stderr",
     "output_type": "stream",
     "text": [
      "Epoch 13/100: 100%|███████████████████████████| 588/588 [00:21<00:00, 27.64it/s]\n"
     ]
    },
    {
     "name": "stdout",
     "output_type": "stream",
     "text": [
      "mean value of loss : 0.8849\n",
      "best loss achieved : 0.8849\n"
     ]
    },
    {
     "name": "stderr",
     "output_type": "stream",
     "text": [
      "Epoch 14/100: 100%|███████████████████████████| 588/588 [00:21<00:00, 27.14it/s]\n"
     ]
    },
    {
     "name": "stdout",
     "output_type": "stream",
     "text": [
      "mean value of loss : 0.8393\n",
      "best loss achieved : 0.8393\n"
     ]
    },
    {
     "name": "stderr",
     "output_type": "stream",
     "text": [
      "Epoch 15/100: 100%|███████████████████████████| 588/588 [00:22<00:00, 26.42it/s]\n"
     ]
    },
    {
     "name": "stdout",
     "output_type": "stream",
     "text": [
      "mean value of loss : 0.7780\n",
      "best loss achieved : 0.7780\n"
     ]
    },
    {
     "name": "stderr",
     "output_type": "stream",
     "text": [
      "Epoch 16/100: 100%|███████████████████████████| 588/588 [00:22<00:00, 26.12it/s]\n"
     ]
    },
    {
     "name": "stdout",
     "output_type": "stream",
     "text": [
      "mean value of loss : 0.7446\n",
      "best loss achieved : 0.7446\n"
     ]
    },
    {
     "name": "stderr",
     "output_type": "stream",
     "text": [
      "Epoch 17/100: 100%|███████████████████████████| 588/588 [00:23<00:00, 24.83it/s]\n"
     ]
    },
    {
     "name": "stdout",
     "output_type": "stream",
     "text": [
      "mean value of loss : 0.7393\n",
      "best loss achieved : 0.7393\n"
     ]
    },
    {
     "name": "stderr",
     "output_type": "stream",
     "text": [
      "Epoch 18/100: 100%|███████████████████████████| 588/588 [00:30<00:00, 19.53it/s]\n"
     ]
    },
    {
     "name": "stdout",
     "output_type": "stream",
     "text": [
      "mean value of loss : 0.7158\n",
      "best loss achieved : 0.7158\n"
     ]
    },
    {
     "name": "stderr",
     "output_type": "stream",
     "text": [
      "Epoch 19/100: 100%|███████████████████████████| 588/588 [00:27<00:00, 21.22it/s]\n"
     ]
    },
    {
     "name": "stdout",
     "output_type": "stream",
     "text": [
      "mean value of loss : 0.6944\n",
      "best loss achieved : 0.6944\n"
     ]
    },
    {
     "name": "stderr",
     "output_type": "stream",
     "text": [
      "Epoch 20/100: 100%|███████████████████████████| 588/588 [00:27<00:00, 21.14it/s]\n"
     ]
    },
    {
     "name": "stdout",
     "output_type": "stream",
     "text": [
      "mean value of loss : 0.7046\n"
     ]
    },
    {
     "name": "stderr",
     "output_type": "stream",
     "text": [
      "Epoch 21/100: 100%|███████████████████████████| 588/588 [00:25<00:00, 23.42it/s]\n"
     ]
    },
    {
     "name": "stdout",
     "output_type": "stream",
     "text": [
      "mean value of loss : 0.6864\n",
      "best loss achieved : 0.6864\n"
     ]
    },
    {
     "name": "stderr",
     "output_type": "stream",
     "text": [
      "Epoch 22/100: 100%|███████████████████████████| 588/588 [00:26<00:00, 22.35it/s]\n"
     ]
    },
    {
     "name": "stdout",
     "output_type": "stream",
     "text": [
      "mean value of loss : 0.6201\n",
      "best loss achieved : 0.6201\n"
     ]
    },
    {
     "name": "stderr",
     "output_type": "stream",
     "text": [
      "Epoch 23/100: 100%|███████████████████████████| 588/588 [00:27<00:00, 21.47it/s]\n"
     ]
    },
    {
     "name": "stdout",
     "output_type": "stream",
     "text": [
      "mean value of loss : 0.6107\n",
      "best loss achieved : 0.6107\n"
     ]
    },
    {
     "name": "stderr",
     "output_type": "stream",
     "text": [
      "Epoch 24/100: 100%|███████████████████████████| 588/588 [00:25<00:00, 23.07it/s]\n"
     ]
    },
    {
     "name": "stdout",
     "output_type": "stream",
     "text": [
      "mean value of loss : 0.5888\n",
      "best loss achieved : 0.5888\n"
     ]
    },
    {
     "name": "stderr",
     "output_type": "stream",
     "text": [
      "Epoch 25/100: 100%|███████████████████████████| 588/588 [00:22<00:00, 25.76it/s]\n"
     ]
    },
    {
     "name": "stdout",
     "output_type": "stream",
     "text": [
      "mean value of loss : 0.5698\n",
      "best loss achieved : 0.5698\n"
     ]
    },
    {
     "name": "stderr",
     "output_type": "stream",
     "text": [
      "Epoch 26/100: 100%|███████████████████████████| 588/588 [00:25<00:00, 22.93it/s]\n"
     ]
    },
    {
     "name": "stdout",
     "output_type": "stream",
     "text": [
      "mean value of loss : 0.5475\n",
      "best loss achieved : 0.5475\n"
     ]
    },
    {
     "name": "stderr",
     "output_type": "stream",
     "text": [
      "Epoch 27/100: 100%|███████████████████████████| 588/588 [00:24<00:00, 24.22it/s]\n"
     ]
    },
    {
     "name": "stdout",
     "output_type": "stream",
     "text": [
      "mean value of loss : 0.5495\n"
     ]
    },
    {
     "name": "stderr",
     "output_type": "stream",
     "text": [
      "Epoch 28/100: 100%|███████████████████████████| 588/588 [00:24<00:00, 23.59it/s]\n"
     ]
    },
    {
     "name": "stdout",
     "output_type": "stream",
     "text": [
      "mean value of loss : 0.5521\n"
     ]
    },
    {
     "name": "stderr",
     "output_type": "stream",
     "text": [
      "Epoch 29/100: 100%|███████████████████████████| 588/588 [00:25<00:00, 22.99it/s]\n"
     ]
    },
    {
     "name": "stdout",
     "output_type": "stream",
     "text": [
      "mean value of loss : 0.5369\n",
      "best loss achieved : 0.5369\n"
     ]
    },
    {
     "name": "stderr",
     "output_type": "stream",
     "text": [
      "Epoch 30/100: 100%|███████████████████████████| 588/588 [00:27<00:00, 21.10it/s]\n"
     ]
    },
    {
     "name": "stdout",
     "output_type": "stream",
     "text": [
      "mean value of loss : 0.5126\n",
      "best loss achieved : 0.5126\n"
     ]
    },
    {
     "name": "stderr",
     "output_type": "stream",
     "text": [
      "Epoch 31/100: 100%|███████████████████████████| 588/588 [00:26<00:00, 21.95it/s]\n"
     ]
    },
    {
     "name": "stdout",
     "output_type": "stream",
     "text": [
      "mean value of loss : 0.4995\n",
      "best loss achieved : 0.4995\n"
     ]
    },
    {
     "name": "stderr",
     "output_type": "stream",
     "text": [
      "Epoch 32/100: 100%|███████████████████████████| 588/588 [00:23<00:00, 24.92it/s]\n"
     ]
    },
    {
     "name": "stdout",
     "output_type": "stream",
     "text": [
      "mean value of loss : 0.4833\n",
      "best loss achieved : 0.4833\n"
     ]
    },
    {
     "name": "stderr",
     "output_type": "stream",
     "text": [
      "Epoch 33/100: 100%|███████████████████████████| 588/588 [00:24<00:00, 23.86it/s]\n"
     ]
    },
    {
     "name": "stdout",
     "output_type": "stream",
     "text": [
      "mean value of loss : 0.4805\n",
      "best loss achieved : 0.4805\n"
     ]
    },
    {
     "name": "stderr",
     "output_type": "stream",
     "text": [
      "Epoch 34/100: 100%|███████████████████████████| 588/588 [00:24<00:00, 24.17it/s]\n"
     ]
    },
    {
     "name": "stdout",
     "output_type": "stream",
     "text": [
      "mean value of loss : 0.4695\n",
      "best loss achieved : 0.4695\n"
     ]
    },
    {
     "name": "stderr",
     "output_type": "stream",
     "text": [
      "Epoch 35/100: 100%|███████████████████████████| 588/588 [00:23<00:00, 25.56it/s]\n"
     ]
    },
    {
     "name": "stdout",
     "output_type": "stream",
     "text": [
      "mean value of loss : 0.4551\n",
      "best loss achieved : 0.4551\n"
     ]
    },
    {
     "name": "stderr",
     "output_type": "stream",
     "text": [
      "Epoch 36/100: 100%|███████████████████████████| 588/588 [00:25<00:00, 23.50it/s]\n"
     ]
    },
    {
     "name": "stdout",
     "output_type": "stream",
     "text": [
      "mean value of loss : 0.4505\n",
      "best loss achieved : 0.4505\n"
     ]
    },
    {
     "name": "stderr",
     "output_type": "stream",
     "text": [
      "Epoch 37/100: 100%|███████████████████████████| 588/588 [00:28<00:00, 20.62it/s]\n"
     ]
    },
    {
     "name": "stdout",
     "output_type": "stream",
     "text": [
      "mean value of loss : 0.4409\n",
      "best loss achieved : 0.4409\n"
     ]
    },
    {
     "name": "stderr",
     "output_type": "stream",
     "text": [
      "Epoch 38/100: 100%|███████████████████████████| 588/588 [00:27<00:00, 21.59it/s]\n"
     ]
    },
    {
     "name": "stdout",
     "output_type": "stream",
     "text": [
      "mean value of loss : 0.4354\n",
      "best loss achieved : 0.4354\n"
     ]
    },
    {
     "name": "stderr",
     "output_type": "stream",
     "text": [
      "Epoch 39/100: 100%|███████████████████████████| 588/588 [00:26<00:00, 21.93it/s]\n"
     ]
    },
    {
     "name": "stdout",
     "output_type": "stream",
     "text": [
      "mean value of loss : 0.4378\n"
     ]
    },
    {
     "name": "stderr",
     "output_type": "stream",
     "text": [
      "Epoch 40/100: 100%|███████████████████████████| 588/588 [00:25<00:00, 23.41it/s]\n"
     ]
    },
    {
     "name": "stdout",
     "output_type": "stream",
     "text": [
      "mean value of loss : 0.4226\n",
      "best loss achieved : 0.4226\n"
     ]
    },
    {
     "name": "stderr",
     "output_type": "stream",
     "text": [
      "Epoch 41/100: 100%|███████████████████████████| 588/588 [00:25<00:00, 22.99it/s]\n"
     ]
    },
    {
     "name": "stdout",
     "output_type": "stream",
     "text": [
      "mean value of loss : 0.4115\n",
      "best loss achieved : 0.4115\n"
     ]
    },
    {
     "name": "stderr",
     "output_type": "stream",
     "text": [
      "Epoch 42/100: 100%|███████████████████████████| 588/588 [00:25<00:00, 22.63it/s]\n"
     ]
    },
    {
     "name": "stdout",
     "output_type": "stream",
     "text": [
      "mean value of loss : 0.4119\n"
     ]
    },
    {
     "name": "stderr",
     "output_type": "stream",
     "text": [
      "Epoch 43/100: 100%|███████████████████████████| 588/588 [00:28<00:00, 20.29it/s]\n"
     ]
    },
    {
     "name": "stdout",
     "output_type": "stream",
     "text": [
      "mean value of loss : 0.4091\n",
      "best loss achieved : 0.4091\n"
     ]
    },
    {
     "name": "stderr",
     "output_type": "stream",
     "text": [
      "Epoch 44/100: 100%|███████████████████████████| 588/588 [00:24<00:00, 23.91it/s]\n"
     ]
    },
    {
     "name": "stdout",
     "output_type": "stream",
     "text": [
      "mean value of loss : 0.4043\n",
      "best loss achieved : 0.4043\n"
     ]
    },
    {
     "name": "stderr",
     "output_type": "stream",
     "text": [
      "Epoch 45/100: 100%|███████████████████████████| 588/588 [00:20<00:00, 28.39it/s]\n"
     ]
    },
    {
     "name": "stdout",
     "output_type": "stream",
     "text": [
      "mean value of loss : 0.3933\n",
      "best loss achieved : 0.3933\n"
     ]
    },
    {
     "name": "stderr",
     "output_type": "stream",
     "text": [
      "Epoch 46/100: 100%|███████████████████████████| 588/588 [00:23<00:00, 24.57it/s]\n"
     ]
    },
    {
     "name": "stdout",
     "output_type": "stream",
     "text": [
      "mean value of loss : 0.3938\n"
     ]
    },
    {
     "name": "stderr",
     "output_type": "stream",
     "text": [
      "Epoch 47/100: 100%|███████████████████████████| 588/588 [00:23<00:00, 24.96it/s]\n"
     ]
    },
    {
     "name": "stdout",
     "output_type": "stream",
     "text": [
      "mean value of loss : 0.3885\n",
      "best loss achieved : 0.3885\n"
     ]
    },
    {
     "name": "stderr",
     "output_type": "stream",
     "text": [
      "Epoch 48/100: 100%|███████████████████████████| 588/588 [00:25<00:00, 23.12it/s]\n"
     ]
    },
    {
     "name": "stdout",
     "output_type": "stream",
     "text": [
      "mean value of loss : 0.3878\n",
      "best loss achieved : 0.3878\n"
     ]
    },
    {
     "name": "stderr",
     "output_type": "stream",
     "text": [
      "Epoch 49/100: 100%|███████████████████████████| 588/588 [00:27<00:00, 21.26it/s]\n"
     ]
    },
    {
     "name": "stdout",
     "output_type": "stream",
     "text": [
      "mean value of loss : 0.3820\n",
      "best loss achieved : 0.3820\n"
     ]
    },
    {
     "name": "stderr",
     "output_type": "stream",
     "text": [
      "Epoch 50/100: 100%|███████████████████████████| 588/588 [00:25<00:00, 23.40it/s]\n"
     ]
    },
    {
     "name": "stdout",
     "output_type": "stream",
     "text": [
      "mean value of loss : 0.3810\n",
      "best loss achieved : 0.3810\n"
     ]
    },
    {
     "name": "stderr",
     "output_type": "stream",
     "text": [
      "Epoch 51/100: 100%|███████████████████████████| 588/588 [00:23<00:00, 24.76it/s]\n"
     ]
    },
    {
     "name": "stdout",
     "output_type": "stream",
     "text": [
      "mean value of loss : 0.3788\n",
      "best loss achieved : 0.3788\n"
     ]
    },
    {
     "name": "stderr",
     "output_type": "stream",
     "text": [
      "Epoch 52/100: 100%|███████████████████████████| 588/588 [00:22<00:00, 25.97it/s]\n"
     ]
    },
    {
     "name": "stdout",
     "output_type": "stream",
     "text": [
      "mean value of loss : 0.3739\n",
      "best loss achieved : 0.3739\n"
     ]
    },
    {
     "name": "stderr",
     "output_type": "stream",
     "text": [
      "Epoch 53/100: 100%|███████████████████████████| 588/588 [00:23<00:00, 24.67it/s]\n"
     ]
    },
    {
     "name": "stdout",
     "output_type": "stream",
     "text": [
      "mean value of loss : 0.3756\n"
     ]
    },
    {
     "name": "stderr",
     "output_type": "stream",
     "text": [
      "Epoch 54/100: 100%|███████████████████████████| 588/588 [00:22<00:00, 25.65it/s]\n"
     ]
    },
    {
     "name": "stdout",
     "output_type": "stream",
     "text": [
      "mean value of loss : 0.3707\n",
      "best loss achieved : 0.3707\n"
     ]
    },
    {
     "name": "stderr",
     "output_type": "stream",
     "text": [
      "Epoch 55/100: 100%|███████████████████████████| 588/588 [00:23<00:00, 24.85it/s]\n"
     ]
    },
    {
     "name": "stdout",
     "output_type": "stream",
     "text": [
      "mean value of loss : 0.3642\n",
      "best loss achieved : 0.3642\n"
     ]
    },
    {
     "name": "stderr",
     "output_type": "stream",
     "text": [
      "Epoch 56/100: 100%|███████████████████████████| 588/588 [00:24<00:00, 24.08it/s]\n"
     ]
    },
    {
     "name": "stdout",
     "output_type": "stream",
     "text": [
      "mean value of loss : 0.3624\n",
      "best loss achieved : 0.3624\n"
     ]
    },
    {
     "name": "stderr",
     "output_type": "stream",
     "text": [
      "Epoch 57/100: 100%|███████████████████████████| 588/588 [00:23<00:00, 25.38it/s]\n"
     ]
    },
    {
     "name": "stdout",
     "output_type": "stream",
     "text": [
      "mean value of loss : 0.3562\n",
      "best loss achieved : 0.3562\n"
     ]
    },
    {
     "name": "stderr",
     "output_type": "stream",
     "text": [
      "Epoch 58/100: 100%|███████████████████████████| 588/588 [00:22<00:00, 26.23it/s]\n"
     ]
    },
    {
     "name": "stdout",
     "output_type": "stream",
     "text": [
      "mean value of loss : 0.3609\n"
     ]
    },
    {
     "name": "stderr",
     "output_type": "stream",
     "text": [
      "Epoch 59/100: 100%|███████████████████████████| 588/588 [00:24<00:00, 24.23it/s]\n"
     ]
    },
    {
     "name": "stdout",
     "output_type": "stream",
     "text": [
      "mean value of loss : 0.3553\n",
      "best loss achieved : 0.3553\n"
     ]
    },
    {
     "name": "stderr",
     "output_type": "stream",
     "text": [
      "Epoch 60/100: 100%|███████████████████████████| 588/588 [00:24<00:00, 23.69it/s]\n"
     ]
    },
    {
     "name": "stdout",
     "output_type": "stream",
     "text": [
      "mean value of loss : 0.3535\n",
      "best loss achieved : 0.3535\n"
     ]
    },
    {
     "name": "stderr",
     "output_type": "stream",
     "text": [
      "Epoch 61/100: 100%|███████████████████████████| 588/588 [00:26<00:00, 21.89it/s]\n"
     ]
    },
    {
     "name": "stdout",
     "output_type": "stream",
     "text": [
      "mean value of loss : 0.3536\n"
     ]
    },
    {
     "name": "stderr",
     "output_type": "stream",
     "text": [
      "Epoch 62/100: 100%|███████████████████████████| 588/588 [00:23<00:00, 25.31it/s]\n"
     ]
    },
    {
     "name": "stdout",
     "output_type": "stream",
     "text": [
      "mean value of loss : 0.3585\n"
     ]
    },
    {
     "name": "stderr",
     "output_type": "stream",
     "text": [
      "Epoch 63/100: 100%|███████████████████████████| 588/588 [00:24<00:00, 24.05it/s]\n"
     ]
    },
    {
     "name": "stdout",
     "output_type": "stream",
     "text": [
      "mean value of loss : 0.3467\n",
      "best loss achieved : 0.3467\n"
     ]
    },
    {
     "name": "stderr",
     "output_type": "stream",
     "text": [
      "Epoch 64/100: 100%|███████████████████████████| 588/588 [00:24<00:00, 23.82it/s]\n"
     ]
    },
    {
     "name": "stdout",
     "output_type": "stream",
     "text": [
      "mean value of loss : 0.3483\n"
     ]
    },
    {
     "name": "stderr",
     "output_type": "stream",
     "text": [
      "Epoch 65/100: 100%|███████████████████████████| 588/588 [00:25<00:00, 23.25it/s]\n"
     ]
    },
    {
     "name": "stdout",
     "output_type": "stream",
     "text": [
      "mean value of loss : 0.3461\n",
      "best loss achieved : 0.3461\n"
     ]
    },
    {
     "name": "stderr",
     "output_type": "stream",
     "text": [
      "Epoch 66/100: 100%|███████████████████████████| 588/588 [00:22<00:00, 26.33it/s]\n"
     ]
    },
    {
     "name": "stdout",
     "output_type": "stream",
     "text": [
      "mean value of loss : 0.3419\n",
      "best loss achieved : 0.3419\n"
     ]
    },
    {
     "name": "stderr",
     "output_type": "stream",
     "text": [
      "Epoch 67/100: 100%|███████████████████████████| 588/588 [00:23<00:00, 24.61it/s]\n"
     ]
    },
    {
     "name": "stdout",
     "output_type": "stream",
     "text": [
      "mean value of loss : 0.3427\n"
     ]
    },
    {
     "name": "stderr",
     "output_type": "stream",
     "text": [
      "Epoch 68/100: 100%|███████████████████████████| 588/588 [00:23<00:00, 24.89it/s]\n"
     ]
    },
    {
     "name": "stdout",
     "output_type": "stream",
     "text": [
      "mean value of loss : 0.3476\n"
     ]
    },
    {
     "name": "stderr",
     "output_type": "stream",
     "text": [
      "Epoch 69/100: 100%|███████████████████████████| 588/588 [00:23<00:00, 24.58it/s]\n"
     ]
    },
    {
     "name": "stdout",
     "output_type": "stream",
     "text": [
      "mean value of loss : 0.3425\n"
     ]
    },
    {
     "name": "stderr",
     "output_type": "stream",
     "text": [
      "Epoch 70/100: 100%|███████████████████████████| 588/588 [00:24<00:00, 24.37it/s]\n"
     ]
    },
    {
     "name": "stdout",
     "output_type": "stream",
     "text": [
      "mean value of loss : 0.3455\n"
     ]
    },
    {
     "name": "stderr",
     "output_type": "stream",
     "text": [
      "Epoch 71/100: 100%|███████████████████████████| 588/588 [00:26<00:00, 22.39it/s]\n"
     ]
    },
    {
     "name": "stdout",
     "output_type": "stream",
     "text": [
      "mean value of loss : 0.3398\n",
      "best loss achieved : 0.3398\n"
     ]
    },
    {
     "name": "stderr",
     "output_type": "stream",
     "text": [
      "Epoch 72/100: 100%|███████████████████████████| 588/588 [00:27<00:00, 21.20it/s]\n"
     ]
    },
    {
     "name": "stdout",
     "output_type": "stream",
     "text": [
      "mean value of loss : 0.3393\n",
      "best loss achieved : 0.3393\n"
     ]
    },
    {
     "name": "stderr",
     "output_type": "stream",
     "text": [
      "Epoch 73/100: 100%|███████████████████████████| 588/588 [00:25<00:00, 22.77it/s]\n"
     ]
    },
    {
     "name": "stdout",
     "output_type": "stream",
     "text": [
      "mean value of loss : 0.3355\n",
      "best loss achieved : 0.3355\n"
     ]
    },
    {
     "name": "stderr",
     "output_type": "stream",
     "text": [
      "Epoch 74/100: 100%|███████████████████████████| 588/588 [00:23<00:00, 24.65it/s]\n"
     ]
    },
    {
     "name": "stdout",
     "output_type": "stream",
     "text": [
      "mean value of loss : 0.3380\n"
     ]
    },
    {
     "name": "stderr",
     "output_type": "stream",
     "text": [
      "Epoch 75/100: 100%|███████████████████████████| 588/588 [00:26<00:00, 22.06it/s]\n"
     ]
    },
    {
     "name": "stdout",
     "output_type": "stream",
     "text": [
      "mean value of loss : 0.3453\n"
     ]
    },
    {
     "name": "stderr",
     "output_type": "stream",
     "text": [
      "Epoch 76/100: 100%|███████████████████████████| 588/588 [00:26<00:00, 21.93it/s]\n"
     ]
    },
    {
     "name": "stdout",
     "output_type": "stream",
     "text": [
      "mean value of loss : 0.3352\n",
      "best loss achieved : 0.3352\n"
     ]
    },
    {
     "name": "stderr",
     "output_type": "stream",
     "text": [
      "Epoch 77/100: 100%|███████████████████████████| 588/588 [00:26<00:00, 22.16it/s]\n"
     ]
    },
    {
     "name": "stdout",
     "output_type": "stream",
     "text": [
      "mean value of loss : 0.3398\n"
     ]
    },
    {
     "name": "stderr",
     "output_type": "stream",
     "text": [
      "Epoch 78/100: 100%|███████████████████████████| 588/588 [00:23<00:00, 24.85it/s]\n"
     ]
    },
    {
     "name": "stdout",
     "output_type": "stream",
     "text": [
      "mean value of loss : 0.3362\n"
     ]
    },
    {
     "name": "stderr",
     "output_type": "stream",
     "text": [
      "Epoch 79/100: 100%|███████████████████████████| 588/588 [00:24<00:00, 24.11it/s]\n"
     ]
    },
    {
     "name": "stdout",
     "output_type": "stream",
     "text": [
      "mean value of loss : 0.3359\n"
     ]
    },
    {
     "name": "stderr",
     "output_type": "stream",
     "text": [
      "Epoch 80/100: 100%|███████████████████████████| 588/588 [00:27<00:00, 21.42it/s]\n"
     ]
    },
    {
     "name": "stdout",
     "output_type": "stream",
     "text": [
      "mean value of loss : 0.3327\n",
      "best loss achieved : 0.3327\n"
     ]
    },
    {
     "name": "stderr",
     "output_type": "stream",
     "text": [
      "Epoch 81/100: 100%|███████████████████████████| 588/588 [00:26<00:00, 22.37it/s]\n"
     ]
    },
    {
     "name": "stdout",
     "output_type": "stream",
     "text": [
      "mean value of loss : 0.3362\n"
     ]
    },
    {
     "name": "stderr",
     "output_type": "stream",
     "text": [
      "Epoch 82/100: 100%|███████████████████████████| 588/588 [00:24<00:00, 23.69it/s]\n"
     ]
    },
    {
     "name": "stdout",
     "output_type": "stream",
     "text": [
      "mean value of loss : 0.3327\n",
      "best loss achieved : 0.3327\n"
     ]
    },
    {
     "name": "stderr",
     "output_type": "stream",
     "text": [
      "Epoch 83/100: 100%|███████████████████████████| 588/588 [00:25<00:00, 22.99it/s]\n"
     ]
    },
    {
     "name": "stdout",
     "output_type": "stream",
     "text": [
      "mean value of loss : 0.3374\n"
     ]
    },
    {
     "name": "stderr",
     "output_type": "stream",
     "text": [
      "Epoch 84/100: 100%|███████████████████████████| 588/588 [00:29<00:00, 20.09it/s]\n"
     ]
    },
    {
     "name": "stdout",
     "output_type": "stream",
     "text": [
      "mean value of loss : 0.3370\n"
     ]
    },
    {
     "name": "stderr",
     "output_type": "stream",
     "text": [
      "Epoch 85/100: 100%|███████████████████████████| 588/588 [00:24<00:00, 24.14it/s]\n"
     ]
    },
    {
     "name": "stdout",
     "output_type": "stream",
     "text": [
      "mean value of loss : 0.3298\n",
      "best loss achieved : 0.3298\n"
     ]
    },
    {
     "name": "stderr",
     "output_type": "stream",
     "text": [
      "Epoch 86/100: 100%|███████████████████████████| 588/588 [00:23<00:00, 24.52it/s]\n"
     ]
    },
    {
     "name": "stdout",
     "output_type": "stream",
     "text": [
      "mean value of loss : 0.3353\n"
     ]
    },
    {
     "name": "stderr",
     "output_type": "stream",
     "text": [
      "Epoch 87/100: 100%|███████████████████████████| 588/588 [00:23<00:00, 25.56it/s]\n"
     ]
    },
    {
     "name": "stdout",
     "output_type": "stream",
     "text": [
      "mean value of loss : 0.3372\n"
     ]
    },
    {
     "name": "stderr",
     "output_type": "stream",
     "text": [
      "Epoch 88/100: 100%|███████████████████████████| 588/588 [00:25<00:00, 22.91it/s]\n"
     ]
    },
    {
     "name": "stdout",
     "output_type": "stream",
     "text": [
      "mean value of loss : 0.3334\n"
     ]
    },
    {
     "name": "stderr",
     "output_type": "stream",
     "text": [
      "Epoch 89/100: 100%|███████████████████████████| 588/588 [00:26<00:00, 22.29it/s]\n"
     ]
    },
    {
     "name": "stdout",
     "output_type": "stream",
     "text": [
      "mean value of loss : 0.3296\n",
      "best loss achieved : 0.3296\n"
     ]
    },
    {
     "name": "stderr",
     "output_type": "stream",
     "text": [
      "Epoch 90/100: 100%|███████████████████████████| 588/588 [00:22<00:00, 26.04it/s]\n"
     ]
    },
    {
     "name": "stdout",
     "output_type": "stream",
     "text": [
      "mean value of loss : 0.3354\n"
     ]
    },
    {
     "name": "stderr",
     "output_type": "stream",
     "text": [
      "Epoch 91/100: 100%|███████████████████████████| 588/588 [00:24<00:00, 24.06it/s]\n"
     ]
    },
    {
     "name": "stdout",
     "output_type": "stream",
     "text": [
      "mean value of loss : 0.3314\n"
     ]
    },
    {
     "name": "stderr",
     "output_type": "stream",
     "text": [
      "Epoch 92/100: 100%|███████████████████████████| 588/588 [00:26<00:00, 22.12it/s]\n"
     ]
    },
    {
     "name": "stdout",
     "output_type": "stream",
     "text": [
      "mean value of loss : 0.3261\n",
      "best loss achieved : 0.3261\n"
     ]
    },
    {
     "name": "stderr",
     "output_type": "stream",
     "text": [
      "Epoch 93/100: 100%|███████████████████████████| 588/588 [00:24<00:00, 24.24it/s]\n"
     ]
    },
    {
     "name": "stdout",
     "output_type": "stream",
     "text": [
      "mean value of loss : 0.3357\n"
     ]
    },
    {
     "name": "stderr",
     "output_type": "stream",
     "text": [
      "Epoch 94/100: 100%|███████████████████████████| 588/588 [00:22<00:00, 26.64it/s]\n"
     ]
    },
    {
     "name": "stdout",
     "output_type": "stream",
     "text": [
      "mean value of loss : 0.3293\n"
     ]
    },
    {
     "name": "stderr",
     "output_type": "stream",
     "text": [
      "Epoch 95/100: 100%|███████████████████████████| 588/588 [00:25<00:00, 23.35it/s]\n"
     ]
    },
    {
     "name": "stdout",
     "output_type": "stream",
     "text": [
      "mean value of loss : 0.3296\n"
     ]
    },
    {
     "name": "stderr",
     "output_type": "stream",
     "text": [
      "Epoch 96/100: 100%|███████████████████████████| 588/588 [00:26<00:00, 22.09it/s]\n"
     ]
    },
    {
     "name": "stdout",
     "output_type": "stream",
     "text": [
      "mean value of loss : 0.3277\n"
     ]
    },
    {
     "name": "stderr",
     "output_type": "stream",
     "text": [
      "Epoch 97/100: 100%|███████████████████████████| 588/588 [00:25<00:00, 22.73it/s]\n"
     ]
    },
    {
     "name": "stdout",
     "output_type": "stream",
     "text": [
      "mean value of loss : 0.3315\n"
     ]
    },
    {
     "name": "stderr",
     "output_type": "stream",
     "text": [
      "Epoch 98/100: 100%|███████████████████████████| 588/588 [00:27<00:00, 21.36it/s]\n"
     ]
    },
    {
     "name": "stdout",
     "output_type": "stream",
     "text": [
      "mean value of loss : 0.3291\n"
     ]
    },
    {
     "name": "stderr",
     "output_type": "stream",
     "text": [
      "Epoch 99/100: 100%|███████████████████████████| 588/588 [00:25<00:00, 23.04it/s]\n"
     ]
    },
    {
     "name": "stdout",
     "output_type": "stream",
     "text": [
      "mean value of loss : 0.3280\n"
     ]
    },
    {
     "name": "stderr",
     "output_type": "stream",
     "text": [
      "Epoch 100/100: 100%|██████████████████████████| 588/588 [00:24<00:00, 24.19it/s]"
     ]
    },
    {
     "name": "stdout",
     "output_type": "stream",
     "text": [
      "mean value of loss : 0.3268\n",
      "END THE LEARNING\n",
      "final best loss: 0.3261\n"
     ]
    },
    {
     "name": "stderr",
     "output_type": "stream",
     "text": [
      "\n"
     ]
    }
   ],
   "source": [
    "train_losses = []\n",
    "best_loss = float('inf')\n",
    "\n",
    "for epoch in range(EPOCHS):\n",
    "    epoch_losses = []\n",
    "    \n",
    "    for acc_batch, gyro_batch in tqdm(train_dataset, desc=f'Epoch {epoch + 1}/{EPOCHS}'):\n",
    "        loss = train_step(model, optimizer, acc_batch, gyro_batch)  \n",
    "        epoch_losses.append(loss.numpy())\n",
    "    \n",
    "    avg_loss = np.mean(epoch_losses)\n",
    "    train_losses.append(avg_loss)\n",
    "    \n",
    "    print (f\"mean value of loss : {avg_loss:.4f}\")\n",
    "    \n",
    "    if avg_loss < best_loss:\n",
    "        best_loss = avg_loss\n",
    "        print (f\"best loss achieved : {best_loss:.4f}\")\n",
    "\n",
    "        \n",
    "print(\"END THE LEARNING\")\n",
    "print(f\"final best loss: {best_loss:.4f}\")"
   ]
  },
  {
   "cell_type": "code",
   "execution_count": 31,
   "id": "321c9915",
   "metadata": {
    "ExecuteTime": {
     "end_time": "2025-02-03T09:11:34.290462Z",
     "start_time": "2025-02-03T09:11:34.110855Z"
    }
   },
   "outputs": [
    {
     "data": {
      "image/png": "[encoded data removed]",
      "text/plain": [
       "<Figure size 1000x600 with 1 Axes>"
      ]
     },
     "metadata": {},
     "output_type": "display_data"
    }
   ],
   "source": [
    "plt.figure(figsize=(10, 6))\n",
    "plt.plot(train_losses, label='Training Loss')\n",
    "plt.xlabel('Epoch')\n",
    "plt.ylabel('Loss')\n",
    "plt.title('Training Loss over Epochs')\n",
    "plt.legend()\n",
    "plt.grid(True)\n",
    "plt.show()"
   ]
  },
  {
   "cell_type": "markdown",
   "id": "d5bb415c",
   "metadata": {},
   "source": [
    "----"
   ]
  },
  {
   "cell_type": "code",
   "execution_count": 32,
   "id": "aa4dc234",
   "metadata": {
    "ExecuteTime": {
     "end_time": "2025-02-03T09:11:34.296308Z",
     "start_time": "2025-02-03T09:11:34.292724Z"
    }
   },
   "outputs": [],
   "source": [
    "def compute_similarity_scores(model, data_loader):\n",
    "    similarities = []\n",
    "    labels = []\n",
    "    \n",
    "    for (acc_batch, gyro_batch), batch_labels in data_loader:\n",
    "        # get embeddings\n",
    "        _, (e_accel, e_gyro) = model(acc_batch, gyro_batch, return_feat=True, training=False) \n",
    "        # get embedding of accel and gyro\n",
    "        \n",
    "        # calculate cosine similarity between paired embeddings\n",
    "        batch_similarities = tf.reduce_sum(tf.multiply(e_accel, e_gyro), axis=1)\n",
    "        \n",
    "        similarities.extend(batch_similarities.numpy())\n",
    "        labels.extend(batch_labels.numpy())\n",
    "    \n",
    "    return np.array(similarities), np.array(labels)"
   ]
  },
  {
   "cell_type": "code",
   "execution_count": 33,
   "id": "e913403f",
   "metadata": {
    "ExecuteTime": {
     "end_time": "2025-02-03T09:12:29.978074Z",
     "start_time": "2025-02-03T09:11:34.298086Z"
    }
   },
   "outputs": [
    {
     "name": "stderr",
     "output_type": "stream",
     "text": [
      "Computing normal similarities: 100%|██████████| 588/588 [00:39<00:00, 15.05it/s]\n",
      "Computing test similarities: 100%|████████████| 240/240 [00:16<00:00, 14.45it/s]\n"
     ]
    }
   ],
   "source": [
    "normal_similarities = []\n",
    "for acc_batch, gyro_batch in tqdm(train_dataset, desc='Computing normal similarities'):\n",
    "    # train set embedding -> similarity\n",
    "    _, (e_accel, e_gyro) = model(acc_batch, gyro_batch, return_feat=True, training=False) # <- embedding\n",
    "    sim = tf.reduce_sum(tf.multiply(e_accel, e_gyro), axis=1)\n",
    "    normal_similarities.extend(sim.numpy())\n",
    "\n",
    "test_similarities = []\n",
    "test_pred_labels = []\n",
    "for (acc_batch, gyro_batch), labels in tqdm(test_dataset, desc='Computing test similarities'):\n",
    "    # test set embedding -> simiilarity\n",
    "    _, (e_accel, e_gyro) = model(acc_batch, gyro_batch, return_feat=True, training=False) # <- embedding\n",
    "    sim = tf.reduce_sum(tf.multiply(e_accel, e_gyro), axis=1)\n",
    "    test_similarities.extend(sim.numpy())\n",
    "    test_pred_labels.extend(labels.numpy())"
   ]
  },
  {
   "cell_type": "code",
   "execution_count": 39,
   "id": "d382f18e",
   "metadata": {
    "ExecuteTime": {
     "end_time": "2025-02-03T09:12:43.121322Z",
     "start_time": "2025-02-03T09:12:30.636091Z"
    }
   },
   "outputs": [
    {
     "name": "stdout",
     "output_type": "stream",
     "text": [
      "[ ADL data ]\n",
      "  Mean: 0.9951\n",
      "  Std: 0.0015\n",
      "  Min: 0.9671\n",
      "  Max: 0.9976\n",
      "ADL ind 1 : 0.9946265\n",
      "ADL ind 2 : 0.9952879\n",
      "ADL ind 3 : 0.99615467\n",
      "ADL ind 4 : 0.995717\n",
      "ADL ind 5 : 0.9955928\n",
      "ADL ind 6 : 0.9955975\n",
      "ADL ind 7 : 0.99567044\n",
      "ADL ind 8 : 0.9959919\n",
      "ADL ind 9 : 0.9949013\n",
      "ADL ind 10 : 0.9963604\n",
      "ADL ind 11 : 0.99411213\n",
      "ADL ind 12 : 0.99446505\n",
      "ADL ind 13 : 0.99559426\n",
      "ADL ind 14 : 0.9963188\n",
      "ADL ind 15 : 0.9957963\n",
      "ADL ind 16 : 0.9946896\n",
      "ADL ind 17 : 0.99425143\n",
      "ADL ind 18 : 0.9957265\n",
      "ADL ind 19 : 0.9961254\n",
      "ADL ind 20 : 0.99538404\n",
      "\n",
      "[ FALL data ]\n",
      "  Mean: 0.9955\n",
      "  Std: 0.0016\n",
      "  Min: 0.9397\n",
      "  Max: 0.9977\n",
      "FALL ind 1 : 0.9960091\n",
      "FALL ind 2 : 0.9960071\n",
      "FALL ind 3 : 0.996335\n",
      "FALL ind 4 : 0.99450946\n",
      "FALL ind 5 : 0.99507356\n",
      "FALL ind 6 : 0.9950103\n",
      "FALL ind 7 : 0.9955665\n",
      "FALL ind 8 : 0.99428463\n",
      "FALL ind 9 : 0.99502945\n",
      "FALL ind 10 : 0.99444014\n",
      "FALL ind 11 : 0.995983\n",
      "FALL ind 12 : 0.9951836\n",
      "FALL ind 13 : 0.9944236\n",
      "FALL ind 14 : 0.9926801\n",
      "FALL ind 15 : 0.9860575\n",
      "FALL ind 16 : 0.99615\n",
      "FALL ind 17 : 0.9961865\n",
      "FALL ind 18 : 0.9962034\n",
      "FALL ind 19 : 0.9962052\n",
      "FALL ind 20 : 0.99620295\n"
     ]
    }
   ],
   "source": [
    "def calculate_similarities(model, test_dataset):\n",
    "    normal_similarities = []\n",
    "    fall_similarities = []\n",
    "    \n",
    "    for (acc_batch, gyro_batch), labels in test_dataset:\n",
    "        _, (e_accel, e_gyro) = model(acc_batch, gyro_batch, return_feat=True, training=False)\n",
    "        \n",
    "        sim = tf.reduce_sum(tf.multiply(e_accel, e_gyro), axis=1)\n",
    "        \n",
    "        for sim_score, label in zip(sim.numpy(), labels.numpy()):\n",
    "            if label == 0:  # normal\n",
    "                normal_similarities.append(sim_score)\n",
    "            else:  # fall\n",
    "                fall_similarities.append(sim_score)\n",
    "    \n",
    "    return np.array(normal_similarities), np.array(fall_similarities)\n",
    "\n",
    "normal_sims, fall_sims = calculate_similarities(model, test_dataset)\n",
    "\n",
    "print(\"[ ADL data ]\")\n",
    "print(f\"  Mean: {np.mean(normal_sims):.4f}\")\n",
    "print(f\"  Std: {np.std(normal_sims):.4f}\")\n",
    "print(f\"  Min: {np.min(normal_sims):.4f}\")\n",
    "print(f\"  Max: {np.max(normal_sims):.4f}\")\n",
    "for i in range (20) :\n",
    "    print ('ADL ind', i+1, ':', normal_sims[i])\n",
    "\n",
    "print ()\n",
    "print(\"[ FALL data ]\")\n",
    "print(f\"  Mean: {np.mean(fall_sims):.4f}\")\n",
    "print(f\"  Std: {np.std(fall_sims):.4f}\")\n",
    "print(f\"  Min: {np.min(fall_sims):.4f}\")\n",
    "print(f\"  Max: {np.max(fall_sims):.4f}\")\n",
    "for i in range (20) :\n",
    "    print ('FALL ind', i+1, ':', fall_sims[i])"
   ]
  },
  {
   "cell_type": "code",
   "execution_count": 34,
   "id": "675d6168",
   "metadata": {
    "ExecuteTime": {
     "end_time": "2025-02-03T09:12:29.990634Z",
     "start_time": "2025-02-03T09:12:29.980211Z"
    }
   },
   "outputs": [],
   "source": [
    "threshold = np.percentile(normal_similarities, 10)"
   ]
  },
  {
   "cell_type": "code",
   "execution_count": 35,
   "id": "b40abe82",
   "metadata": {
    "ExecuteTime": {
     "end_time": "2025-02-03T09:12:30.427304Z",
     "start_time": "2025-02-03T09:12:29.992532Z"
    }
   },
   "outputs": [
    {
     "data": {
      "image/png": "[encoded data removed]",
      "text/plain": [
       "<Figure size 640x480 with 1 Axes>"
      ]
     },
     "metadata": {},
     "output_type": "display_data"
    }
   ],
   "source": [
    "indices = range(len(test_similarities))\n",
    "plt.scatter([i for i, l in zip(indices, test_pred_labels) if l == 0], \n",
    "           [s for s, l in zip(test_similarities, test_pred_labels) if l == 0],\n",
    "           c='blue', label='Normal (ADL)', alpha=0.5, s=20)\n",
    "plt.scatter([i for i, l in zip(indices, test_pred_labels) if l == 1],\n",
    "           [s for s, l in zip(test_similarities, test_pred_labels) if l == 1],\n",
    "           c='red', label='Fall', alpha=0.5, s=20)\n",
    "plt.axhline(y=threshold, color='green', linestyle='--', label=f'Threshold ({threshold:.3f})')\n",
    "# plt.ylim(0.0078100, 0.0078150)\n",
    "plt.xlabel('Sample Index')\n",
    "plt.ylabel('Similarity Score')\n",
    "plt.title('Similarity Scores')\n",
    "plt.legend()\n",
    "plt.grid(True)"
   ]
  },
  {
   "cell_type": "code",
   "execution_count": 36,
   "id": "1f74c78b",
   "metadata": {
    "ExecuteTime": {
     "end_time": "2025-02-03T09:12:30.440125Z",
     "start_time": "2025-02-03T09:12:30.435559Z"
    }
   },
   "outputs": [],
   "source": [
    "predictions = [1 if sim < threshold else 0 for sim in test_similarities] \n",
    "true_labels = test_pred_labels"
   ]
  },
  {
   "cell_type": "code",
   "execution_count": 37,
   "id": "53cf03cf",
   "metadata": {
    "ExecuteTime": {
     "end_time": "2025-02-03T09:12:30.598144Z",
     "start_time": "2025-02-03T09:12:30.441517Z"
    }
   },
   "outputs": [
    {
     "data": {
      "image/png": "[encoded data removed]",
      "text/plain": [
       "<Figure size 1000x800 with 2 Axes>"
      ]
     },
     "metadata": {},
     "output_type": "display_data"
    }
   ],
   "source": [
    "cm = confusion_matrix(true_labels, predictions)\n",
    "plt.figure(figsize=(10, 8))\n",
    "sns.heatmap(cm, annot=True, fmt='d', cmap='Blues')\n",
    "plt.title('Confusion Matrix')\n",
    "plt.ylabel('True Label')\n",
    "plt.xlabel('Predicted Label')\n",
    "labels = ['ADL', 'Fall']\n",
    "plt.xticks([0.5, 1.5], labels)\n",
    "plt.yticks([0.5, 1.5], labels)\n",
    "plt.show()"
   ]
  },
  {
   "cell_type": "code",
   "execution_count": 38,
   "id": "2e0d8e3f",
   "metadata": {
    "ExecuteTime": {
     "end_time": "2025-02-03T09:12:30.634109Z",
     "start_time": "2025-02-03T09:12:30.599573Z"
    }
   },
   "outputs": [
    {
     "name": "stdout",
     "output_type": "stream",
     "text": [
      "classification report\n",
      "              precision    recall  f1-score   support\n",
      "\n",
      "         ADL       0.56      0.86      0.68      8764\n",
      "        Fall       0.34      0.09      0.14      6555\n",
      "\n",
      "    accuracy                           0.53     15319\n",
      "   macro avg       0.45      0.48      0.41     15319\n",
      "weighted avg       0.46      0.53      0.45     15319\n",
      "\n"
     ]
    }
   ],
   "source": [
    "print (\"classification report\")\n",
    "print(classification_report(true_labels, predictions, \n",
    "                          target_names=['ADL', 'Fall']))"
   ]
  }
 ],
 "metadata": {
  "kernelspec": {
   "display_name": "Python 3 (ipykernel)",
   "language": "python",
   "name": "python3"
  },
  "language_info": {
   "codemirror_mode": {
    "name": "ipython",
    "version": 3
   },
   "file_extension": ".py",
   "mimetype": "text/x-python",
   "name": "python",
   "nbconvert_exporter": "python",
   "pygments_lexer": "ipython3",
   "version": "3.11.3"
  },
  "varInspector": {
   "cols": {
    "lenName": 16,
    "lenType": 16,
    "lenVar": 40
   },
   "kernels_config": {
    "python": {
     "delete_cmd_postfix": "",
     "delete_cmd_prefix": "del ",
     "library": "var_list.py",
     "varRefreshCmd": "print(var_dic_list())"
    },
    "r": {
     "delete_cmd_postfix": ") ",
     "delete_cmd_prefix": "rm(",
     "library": "var_list.r",
     "varRefreshCmd": "cat(var_dic_list()) "
    }
   },
   "types_to_exclude": [
    "module",
    "function",
    "builtin_function_or_method",
    "instance",
    "_Feature"
   ],
   "window_display": false
  }
 },
 "nbformat": 4,
 "nbformat_minor": 5
}
