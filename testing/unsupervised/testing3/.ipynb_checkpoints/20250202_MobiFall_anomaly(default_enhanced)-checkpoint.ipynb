{
 "cells": [
  {
   "cell_type": "code",
   "execution_count": 48,
   "id": "b55f2495",
   "metadata": {
    "ExecuteTime": {
     "end_time": "2025-02-02T11:42:13.124604Z",
     "start_time": "2025-02-02T11:42:13.121338Z"
    }
   },
   "outputs": [],
   "source": [
    "import tensorflow as tf\n",
    "import numpy as np\n",
    "from tensorflow.keras import layers, Model\n",
    "import matplotlib.pyplot as plt \n",
    "import seaborn as sns\n",
    "import os\n",
    "import glob\n",
    "import pandas as pd\n",
    "from tqdm import tqdm"
   ]
  },
  {
   "cell_type": "code",
   "execution_count": 49,
   "id": "44399eca",
   "metadata": {
    "ExecuteTime": {
     "end_time": "2025-02-02T11:42:13.130128Z",
     "start_time": "2025-02-02T11:42:13.127214Z"
    }
   },
   "outputs": [],
   "source": [
    "WINDOW_LENGTH = 128  # data window\n",
    "STRIDE = WINDOW_LENGTH // 2  # stride\n",
    "BATCH_SIZE = 128  # batch\n",
    "EPOCHS = 50  # epoch\n",
    "LEARNING_RATE = 0.001  # lr\n",
    "PROJ_DIM = 64  # embedding dimension"
   ]
  },
  {
   "cell_type": "code",
   "execution_count": 50,
   "id": "29ebfdbf",
   "metadata": {
    "ExecuteTime": {
     "end_time": "2025-02-02T11:42:13.134751Z",
     "start_time": "2025-02-02T11:42:13.132169Z"
    }
   },
   "outputs": [],
   "source": [
    "datapath = \"../../../data/MobiFall_Dataset/\" "
   ]
  },
  {
   "cell_type": "code",
   "execution_count": 51,
   "id": "43c4c59f",
   "metadata": {
    "ExecuteTime": {
     "end_time": "2025-02-02T11:42:13.141401Z",
     "start_time": "2025-02-02T11:42:13.137798Z"
    }
   },
   "outputs": [],
   "source": [
    "adl_activities = ['STD', 'WAL', 'JOG', 'JUM', \n",
    "                  'STU', 'STN', 'SCH', 'CSI', 'CSO'] \n",
    "fall_activities = ['FOL', 'FKL', 'BSC', 'SDL'] \n",
    "\n",
    "label2id = {act: 0 for act in adl_activities}\n",
    "label2id.update({act: 1 for act in fall_activities})"
   ]
  },
  {
   "cell_type": "code",
   "execution_count": 52,
   "id": "0fb769b8",
   "metadata": {
    "ExecuteTime": {
     "end_time": "2025-02-02T11:42:13.149922Z",
     "start_time": "2025-02-02T11:42:13.143327Z"
    }
   },
   "outputs": [
    {
     "name": "stdout",
     "output_type": "stream",
     "text": [
      "ADL+Fall subjects: [1, 2, 3, 4, 5, 6, 7, 8, 9, 10, 11]\n",
      "Fall-only subjects: [12, 13, 14, 15, 16, 17, 18, 19, 20, 21, 29, 30, 31]\n",
      "Train subjects (ADL+Fall): [1, 2, 3, 4, 5, 6, 7, 8]\n",
      "Train subjects (Fall only): [12, 13, 14, 15, 16, 17, 18, 19, 20]\n",
      "Total train subjects: [1, 2, 3, 4, 5, 6, 7, 8, 12, 13, 14, 15, 16, 17, 18, 19, 20]\n",
      "\n",
      "Val subjects (ADL+Fall): [9, 10]\n",
      "Val subjects (Fall only): [21, 29]\n",
      "Total val subjects: [9, 10, 21, 29]\n",
      "\n",
      "Test subjects (ADL+Fall): [11]\n",
      "Test subjects (Fall only): [30, 31]\n",
      "Total test subjects: [11, 30, 31]\n",
      "\n",
      "Total number of train subjects: 17\n",
      "Total number of validation subjects: 4\n",
      "Total number of test subjects: 3\n"
     ]
    }
   ],
   "source": [
    "adl_fall_subjects = list(range(1, 12))\n",
    "print(\"ADL+Fall subjects:\", adl_fall_subjects)\n",
    "\n",
    "fall_only_subjects = list(range(12, 22)) + list(range(29, 32))\n",
    "print(\"Fall-only subjects:\", fall_only_subjects)\n",
    "\n",
    "train_split = adl_fall_subjects[:8] + fall_only_subjects[:9]    \n",
    "val_split = adl_fall_subjects[8:10] + fall_only_subjects[9:11]    \n",
    "test_split = adl_fall_subjects[10:] + fall_only_subjects[11:]   \n",
    "\n",
    "print(f\"Train subjects (ADL+Fall): {adl_fall_subjects[:8]}\")\n",
    "print(f\"Train subjects (Fall only): {fall_only_subjects[:9]}\")\n",
    "print(f\"Total train subjects: {train_split}\\n\")\n",
    "\n",
    "print(f\"Val subjects (ADL+Fall): {adl_fall_subjects[8:10]}\")\n",
    "print(f\"Val subjects (Fall only): {fall_only_subjects[9:11]}\")\n",
    "print(f\"Total val subjects: {val_split}\\n\")\n",
    "\n",
    "print(f\"Test subjects (ADL+Fall): {adl_fall_subjects[10:]}\")\n",
    "print(f\"Test subjects (Fall only): {fall_only_subjects[11:]}\")\n",
    "print(f\"Total test subjects: {test_split}\\n\")\n",
    "\n",
    "print(f\"Total number of train subjects: {len(train_split)}\")\n",
    "print(f\"Total number of validation subjects: {len(val_split)}\")\n",
    "print(f\"Total number of test subjects: {len(test_split)}\")"
   ]
  },
  {
   "cell_type": "code",
   "execution_count": 69,
   "id": "82deef5e",
   "metadata": {
    "ExecuteTime": {
     "end_time": "2025-02-02T11:54:58.371966Z",
     "start_time": "2025-02-02T11:54:58.366717Z"
    }
   },
   "outputs": [],
   "source": [
    "def read_sensor_file(filepath):\n",
    "    with open(filepath, 'r') as f:\n",
    "        lines = f.readlines()\n",
    "        \n",
    "        data_start = 0\n",
    "        for i, line in enumerate(lines):\n",
    "            if line.strip() == '@DATA' :  # data tag finding\n",
    "                data_start = i + 1\n",
    "                break\n",
    "        \n",
    "        ###### parsing part\n",
    "        data_lines = []\n",
    "        for line in lines[data_start:]:\n",
    "            if line.strip():  \n",
    "                try:\n",
    "                    values = [float(val.strip()) for val in line.strip().split(',')]\n",
    "                    if all(np.isfinite(values)) : # <-- if finite?\n",
    "                        data_lines.append(values)\n",
    "                except ValueError:\n",
    "                    continue\n",
    "        \n",
    "        df = pd.DataFrame(data_lines) \n",
    "        df = df.fillna(0) # <-- nan -> 0\n",
    "        return df"
   ]
  },
  {
   "cell_type": "code",
   "execution_count": 70,
   "id": "577149ea",
   "metadata": {
    "ExecuteTime": {
     "end_time": "2025-02-02T11:55:02.145690Z",
     "start_time": "2025-02-02T11:55:02.140824Z"
    }
   },
   "outputs": [],
   "source": [
    "def split_sequences(data, labels, \n",
    "                    window_length=WINDOW_LENGTH, \n",
    "                    stride=STRIDE,\n",
    "                    clean=True):\n",
    "    idx = 0\n",
    "    endidx = len(data)\n",
    "    windows = []\n",
    "    window_labels = []\n",
    "    \n",
    "    while idx < endidx - window_length:\n",
    "        data_segment = data[idx:idx+window_length].T\n",
    "        \n",
    "        if clean and len(np.unique(labels[idx:idx + window_length])) > 1:\n",
    "            pass\n",
    "        else:\n",
    "            windows.append(data_segment)\n",
    "            window_labels.append(labels[idx+window_length])\n",
    "        \n",
    "        idx += stride\n",
    "    \n",
    "    if len(windows) == 0:\n",
    "        return None, None\n",
    "    \n",
    "    return np.stack(windows), np.asarray(window_labels)"
   ]
  },
  {
   "cell_type": "code",
   "execution_count": 71,
   "id": "1d0f12dd",
   "metadata": {
    "ExecuteTime": {
     "end_time": "2025-02-02T11:55:13.493691Z",
     "start_time": "2025-02-02T11:55:02.964610Z"
    }
   },
   "outputs": [
    {
     "name": "stderr",
     "output_type": "stream",
     "text": [
      "100%|███████████████████████████████████████████| 17/17 [00:10<00:00,  1.62it/s]"
     ]
    },
    {
     "name": "stdout",
     "output_type": "stream",
     "text": [
      "# of windows: 8024\n",
      "data shape: (8024, 6, 128)\n",
      "shape: (8024,)\n",
      "{0: 8024}\n"
     ]
    },
    {
     "name": "stderr",
     "output_type": "stream",
     "text": [
      "\n"
     ]
    }
   ],
   "source": [
    "'''\n",
    "    TRAIN DATA PREPARING PART\n",
    "    ONLY \"ADL\"\n",
    "'''\n",
    "\n",
    "train_data_normal = []  \n",
    "train_labels_normal = [] \n",
    "\n",
    "for subject_id in tqdm(train_split):\n",
    "    if subject_id >= 12 :  \n",
    "        # Fall-only -> SKIP at train data\n",
    "        continue\n",
    "        \n",
    "    subject_dir = os.path.join(datapath, f\"sub{subject_id}\")\n",
    "    adl_dir = os.path.join(subject_dir, \"ADL\")\n",
    "        \n",
    "    for activity in adl_activities : # ONLY ADL (normal first)\n",
    "        activity_dir = os.path.join(adl_dir, activity)\n",
    "            \n",
    "        acc_pattern = f\"{activity}_acc_{subject_id}_*.txt\"\n",
    "        acc_files = glob.glob(os.path.join(activity_dir, acc_pattern))\n",
    "        \n",
    "        for acc_file in acc_files:\n",
    "            trial_num = acc_file.split('_')[-1]\n",
    "            gyro_file = os.path.join(activity_dir, \n",
    "                                     f\"{activity}_gyro_{subject_id}_{trial_num}\")\n",
    "                \n",
    "            try:\n",
    "                acc_data = read_sensor_file(acc_file)\n",
    "                acc_data.columns = ['timestamp', 'acc_x', 'acc_y', 'acc_z']\n",
    "                \n",
    "                gyro_data = read_sensor_file(gyro_file)\n",
    "                gyro_data.columns = ['timestamp', 'gyro_x', 'gyro_y', 'gyro_z']\n",
    "                \n",
    "                merged_data = pd.merge_asof(\n",
    "                    acc_data.sort_values('timestamp'),\n",
    "                    gyro_data.sort_values('timestamp'),\n",
    "                    on='timestamp',\n",
    "                    direction='nearest',\n",
    "                    tolerance=1e7\n",
    "                )\n",
    "                \n",
    "                merged_data = merged_data.fillna(0)\n",
    "                sensor_data = merged_data[['acc_x', 'acc_y', 'acc_z',\n",
    "                                         'gyro_x', 'gyro_y', 'gyro_z']].values\n",
    "                \n",
    "                activity_labels = np.full(len(sensor_data), label2id[activity])\n",
    "                \n",
    "                windows_data, windows_labels = split_sequences(\n",
    "                    sensor_data, activity_labels, \n",
    "                    WINDOW_LENGTH, STRIDE\n",
    "                )\n",
    "                \n",
    "                if len(windows_data) > 0:\n",
    "                    train_data_normal.append(windows_data)\n",
    "                    train_labels_normal.append(windows_labels)\n",
    "                    \n",
    "            except : \n",
    "                print (error)\n",
    "                \n",
    "train_data_normal = np.concatenate(train_data_normal, axis=0)\n",
    "train_labels_normal = np.concatenate(train_labels_normal)\n",
    "\n",
    "print (f\"# of windows: {len(train_data_normal)}\")\n",
    "print (f\"data shape: {train_data_normal.shape}\")\n",
    "print (f\"shape: {train_labels_normal.shape}\")\n",
    "unique_labels, counts = np.unique(train_labels_normal, return_counts=True)\n",
    "print (dict(zip(unique_labels, counts)))"
   ]
  },
  {
   "cell_type": "code",
   "execution_count": 72,
   "id": "70c96baf",
   "metadata": {
    "ExecuteTime": {
     "end_time": "2025-02-02T11:55:26.538923Z",
     "start_time": "2025-02-02T11:55:24.015881Z"
    }
   },
   "outputs": [
    {
     "name": "stderr",
     "output_type": "stream",
     "text": [
      "100%|█████████████████████████████████████████████| 3/3 [00:02<00:00,  1.20it/s]"
     ]
    },
    {
     "name": "stdout",
     "output_type": "stream",
     "text": [
      "# of windows: 1739\n",
      "data shape: (1739, 6, 128)\n",
      "shape: (1739,)\n",
      "{0: 1328, 1: 411}\n"
     ]
    },
    {
     "name": "stderr",
     "output_type": "stream",
     "text": [
      "\n"
     ]
    }
   ],
   "source": [
    "'''\n",
    "    TRAIN DATA PREPARING PART\n",
    "    ADL + FALL\n",
    "'''\n",
    "\n",
    "test_data = []\n",
    "test_labels = []\n",
    "\n",
    "for subject_id in tqdm(test_split):\n",
    "    subject_dir = os.path.join(datapath, f\"sub{subject_id}\")\n",
    "    \n",
    "    if subject_id < 12: # ADL\n",
    "        adl_dir = os.path.join(subject_dir, \"ADL\")\n",
    "        if os.path.exists(adl_dir):\n",
    "            for activity in adl_activities:\n",
    "                activity_dir = os.path.join(adl_dir, activity)\n",
    "                if not os.path.exists(activity_dir):\n",
    "                    continue\n",
    "\n",
    "                acc_pattern = f\"{activity}_acc_{subject_id}_*.txt\"\n",
    "                acc_files = glob.glob(os.path.join(activity_dir, acc_pattern))\n",
    "                \n",
    "                for acc_file in acc_files:\n",
    "                    trial_num = acc_file.split('_')[-1]\n",
    "                    gyro_file = os.path.join(activity_dir, f\"{activity}_gyro_{subject_id}_{trial_num}\")\n",
    "                    \n",
    "                    if not os.path.exists(gyro_file):\n",
    "                        continue\n",
    "                        \n",
    "                    try:\n",
    "                        acc_data = read_sensor_file(acc_file)\n",
    "                        acc_data.columns = ['timestamp', 'acc_x', 'acc_y', 'acc_z']\n",
    "                        \n",
    "                        gyro_data = read_sensor_file(gyro_file)\n",
    "                        gyro_data.columns = ['timestamp', 'gyro_x', 'gyro_y', 'gyro_z']\n",
    "                        \n",
    "                        merged_data = pd.merge_asof(\n",
    "                            acc_data.sort_values('timestamp'),\n",
    "                            gyro_data.sort_values('timestamp'),\n",
    "                            on='timestamp',\n",
    "                            direction='nearest',\n",
    "                            tolerance=1e7\n",
    "                        )\n",
    "                        \n",
    "                        merged_data = merged_data.fillna(0)\n",
    "                        sensor_data = merged_data[['acc_x', 'acc_y', 'acc_z',\n",
    "                                                 'gyro_x', 'gyro_y', 'gyro_z']].values\n",
    "                        \n",
    "                        activity_labels = np.full(len(sensor_data), label2id[activity])\n",
    "                        windows_data, windows_labels = split_sequences(sensor_data, activity_labels)\n",
    "                        \n",
    "                        if len(windows_data) > 0:\n",
    "                            test_data.append(windows_data)\n",
    "                            test_labels.append(windows_labels)\n",
    "                            \n",
    "                    except : \n",
    "                        print(\"error\")\n",
    "                            \n",
    "    \n",
    "    falls_dir = os.path.join(subject_dir, \"FALLS\") # FALL (all subjects)\n",
    "    if os.path.exists(falls_dir):\n",
    "        for activity in fall_activities:\n",
    "            activity_dir = os.path.join(falls_dir, activity)\n",
    "            if not os.path.exists(activity_dir):\n",
    "                continue\n",
    "                \n",
    "            acc_pattern = f\"{activity}_acc_{subject_id}_*.txt\"\n",
    "            acc_files = glob.glob(os.path.join(activity_dir, acc_pattern))\n",
    "            \n",
    "            for acc_file in acc_files:\n",
    "                trial_num = acc_file.split('_')[-1]\n",
    "                gyro_file = os.path.join(activity_dir, f\"{activity}_gyro_{subject_id}_{trial_num}\")\n",
    "                \n",
    "                if not os.path.exists(gyro_file):\n",
    "                    continue\n",
    "                    \n",
    "                try:\n",
    "                    acc_data = read_sensor_file(acc_file)\n",
    "                    acc_data.columns = ['timestamp', 'acc_x', 'acc_y', 'acc_z']\n",
    "                    \n",
    "                    gyro_data = read_sensor_file(gyro_file)\n",
    "                    gyro_data.columns = ['timestamp', 'gyro_x', 'gyro_y', 'gyro_z']\n",
    "                    \n",
    "                    merged_data = pd.merge_asof(\n",
    "                        acc_data.sort_values('timestamp'),\n",
    "                        gyro_data.sort_values('timestamp'),\n",
    "                        on='timestamp',\n",
    "                        direction='nearest',\n",
    "                        tolerance=1e7\n",
    "                    )\n",
    "                    \n",
    "                    merged_data = merged_data.fillna(0)\n",
    "                    sensor_data = merged_data[['acc_x', 'acc_y', 'acc_z',\n",
    "                                             'gyro_x', 'gyro_y', 'gyro_z']].values\n",
    "                    \n",
    "                    activity_labels = np.full(len(sensor_data), label2id[activity])\n",
    "                    windows_data, windows_labels = split_sequences(sensor_data, activity_labels)\n",
    "                    \n",
    "                    if len(windows_data) > 0:\n",
    "                        test_data.append(windows_data)\n",
    "                        test_labels.append(windows_labels)\n",
    "                        \n",
    "                except : \n",
    "                    print ('error')\n",
    "\n",
    "test_data = np.concatenate(test_data, axis=0)\n",
    "test_labels = np.concatenate(test_labels)\n",
    "\n",
    "print(f\"# of windows: {len(test_data)}\")\n",
    "print(f\"data shape: {test_data.shape}\")\n",
    "print(f\"shape: {test_labels.shape}\")\n",
    "unique_labels, counts = np.unique(test_labels, return_counts=True)\n",
    "print(dict(zip(unique_labels, counts)))"
   ]
  },
  {
   "cell_type": "code",
   "execution_count": 73,
   "id": "e248e94c",
   "metadata": {
    "ExecuteTime": {
     "end_time": "2025-02-02T11:55:28.741281Z",
     "start_time": "2025-02-02T11:55:28.693260Z"
    }
   },
   "outputs": [
    {
     "name": "stdout",
     "output_type": "stream",
     "text": [
      "train data - accel shape: (8024, 6, 3)\n",
      "train data - gyro shape: (8024, 6, 125)\n",
      "test data - accel shape: (1739, 6, 3)\n",
      "test data - gyro shape: (1739, 6, 125)\n",
      "# of training batches: 63\n",
      "# of test batches: 14\n"
     ]
    }
   ],
   "source": [
    "train_acc_normal = train_data_normal[..., :3] \n",
    "train_gyro_normal = train_data_normal[..., 3:]  \n",
    "# (x, y, z)\n",
    "\n",
    "test_acc = test_data[..., :3]  \n",
    "test_gyro = test_data[..., 3:] \n",
    "\n",
    "train_dataset = tf.data.Dataset.from_tensor_slices((train_acc_normal, train_gyro_normal))\n",
    "train_dataset = train_dataset.shuffle(len(train_acc_normal)).batch(BATCH_SIZE)\n",
    "\n",
    "test_dataset = tf.data.Dataset.from_tensor_slices(\n",
    "    ((test_acc, test_gyro), test_labels)\n",
    ").batch(BATCH_SIZE)\n",
    "\n",
    "print (f\"train data - accel shape: {train_acc_normal.shape}\")\n",
    "print (f\"train data - gyro shape: {train_gyro_normal.shape}\")\n",
    "print (f\"test data - accel shape: {test_acc.shape}\")\n",
    "print (f\"test data - gyro shape: {test_gyro.shape}\")\n",
    "print (f\"# of training batches: {len(train_dataset)}\")\n",
    "print (f\"# of test batches: {len(test_dataset)}\")"
   ]
  },
  {
   "cell_type": "markdown",
   "id": "0005414b",
   "metadata": {},
   "source": [
    "------"
   ]
  },
  {
   "cell_type": "code",
   "execution_count": 90,
   "id": "227d06a5",
   "metadata": {
    "ExecuteTime": {
     "end_time": "2025-02-02T12:05:11.892552Z",
     "start_time": "2025-02-02T12:05:11.858146Z"
    }
   },
   "outputs": [
    {
     "name": "stdout",
     "output_type": "stream",
     "text": [
      "input shape: (2, 128, 3)\n",
      "output shape: (2, 64)\n",
      "encoder success!\n"
     ]
    }
   ],
   "source": [
    "class DefaultEncoder(Model):\n",
    "    def __init__(self, in_feat, out_feat, num_encoders=1, use_skip=True):\n",
    "        super(DefaultEncoder, self).__init__()\n",
    "        self.use_skip = use_skip\n",
    "        self.num_encoders = num_encoders\n",
    "        \n",
    "        for i in range(num_encoders):\n",
    "            setattr(self, f'conv1_{i}', layers.Conv1D(filters=out_feat, kernel_size=3, padding='same', activation='relu'))\n",
    "            setattr(self, f'maxpool1_{i}', layers.MaxPooling1D(pool_size=2, padding='same'))\n",
    "            setattr(self, f'conv2_{i}', layers.Conv1D(filters=out_feat, kernel_size=3, padding='same', activation='relu'))\n",
    "            setattr(self, f'maxpool2_{i}', layers.MaxPooling1D(pool_size=2, padding='same'))\n",
    "            setattr(self, f'conv3_{i}', layers.Conv1D(filters=out_feat, kernel_size=3, padding='same', activation='relu'))\n",
    "    \n",
    "    def call(self, x, training=False):\n",
    "        for i in range(self.num_encoders):\n",
    "            if self.use_skip and i > 0:\n",
    "                identity = x\n",
    "            \n",
    "            x = getattr(self, f'conv1_{i}')(x)\n",
    "            x = getattr(self, f'maxpool1_{i}')(x)\n",
    "            x = getattr(self, f'conv2_{i}')(x)\n",
    "            x = getattr(self, f'maxpool2_{i}')(x)\n",
    "            x = getattr(self, f'conv3_{i}')(x)\n",
    "            \n",
    "            if self.use_skip and i > 0:\n",
    "                x = x + identity\n",
    "        \n",
    "        return tf.reduce_mean(x, axis=1)\n",
    "\n",
    "#### below : test encoder architecture\n",
    "\n",
    "test_input = tf.random.normal([2, WINDOW_LENGTH, 3])\n",
    "encoder = DefaultEncoder(in_feat=3, out_feat=64)\n",
    "test_output = encoder(test_input)\n",
    "\n",
    "print (f\"input shape: {test_input.shape}\")\n",
    "print (f\"output shape: {test_output.shape}\")\n",
    "print (\"encoder success!\")"
   ]
  },
  {
   "cell_type": "code",
   "execution_count": 91,
   "id": "6a17637e",
   "metadata": {
    "ExecuteTime": {
     "end_time": "2025-02-02T12:05:29.866810Z",
     "start_time": "2025-02-02T12:05:29.793645Z"
    }
   },
   "outputs": [
    {
     "name": "stdout",
     "output_type": "stream",
     "text": [
      "accel input shape : (2, 128, 3)\n",
      "gyro input shape : (2, 128, 3)\n",
      "output shape: (2, 2)\n",
      "unsupervised_CAGE success!\n"
     ]
    }
   ],
   "source": [
    "class CAGE(Model):\n",
    "    def __init__(self, n_feat=6, proj_dim=128):\n",
    "        super(CAGE, self).__init__()\n",
    "        self.proj_dim = proj_dim\n",
    "        \n",
    "        self.enc_A = DefaultEncoder(n_feat, 64)  # for accel\n",
    "        self.enc_G = DefaultEncoder(n_feat, 64)  # for gyro\n",
    "        \n",
    "        if self.proj_dim > 0 :\n",
    "            self.proj_A = layers.Dense(proj_dim, \n",
    "                                       use_bias=False)\n",
    "            self.proj_G = layers.Dense(proj_dim, \n",
    "                                       use_bias=False)\n",
    "        \n",
    "        self.temperature = tf.Variable(0.07, trainable=True)\n",
    "    \n",
    "    def call(self, x_accel, x_gyro, return_feat=False, training=False):\n",
    "        f_accel = self.enc_A(x_accel, training=training)\n",
    "        f_gyro = self.enc_G(x_gyro, training=training)\n",
    "        \n",
    "        if self.proj_dim > 0:\n",
    "            e_accel = self.proj_A(f_accel)\n",
    "            e_gyro = self.proj_G(f_gyro)\n",
    "        else:\n",
    "            e_accel = f_accel\n",
    "            e_gyro = f_gyro\n",
    "        \n",
    "        e_accel = tf.math.l2_normalize(e_accel, axis=1)\n",
    "        e_gyro = tf.math.l2_normalize(e_gyro, axis=1)\n",
    "        \n",
    "        logits = tf.matmul(e_accel, e_gyro, transpose_b=True) * self.temperature\n",
    "        \n",
    "        if return_feat:\n",
    "            return logits, (f_accel, f_gyro)\n",
    "        \n",
    "        return logits\n",
    "\n",
    "#### below : test CAGE architecture\n",
    "\n",
    "test_accel = tf.random.normal([2, WINDOW_LENGTH, 3])\n",
    "test_gyro = tf.random.normal([2, WINDOW_LENGTH, 3])\n",
    "model = CAGE(n_feat=3, proj_dim=128)\n",
    "test_logits = model(test_accel, test_gyro)\n",
    "\n",
    "print (f\"accel input shape : {test_accel.shape}\")\n",
    "print (f\"gyro input shape : {test_gyro.shape}\")\n",
    "print (f\"output shape: {test_logits.shape}\")\n",
    "print (\"unsupervised_CAGE success!\")"
   ]
  },
  {
   "cell_type": "code",
   "execution_count": 104,
   "id": "e76cde45",
   "metadata": {
    "ExecuteTime": {
     "end_time": "2025-02-02T12:07:11.370684Z",
     "start_time": "2025-02-02T12:07:11.347286Z"
    }
   },
   "outputs": [],
   "source": [
    "model = CAGE(proj_dim=PROJ_DIM)\n",
    "optimizer = tf.keras.optimizers.Adam(\n",
    "    learning_rate=LEARNING_RATE\n",
    ")"
   ]
  },
  {
   "cell_type": "code",
   "execution_count": 105,
   "id": "6ce13c9d",
   "metadata": {
    "ExecuteTime": {
     "end_time": "2025-02-02T12:07:12.543881Z",
     "start_time": "2025-02-02T12:07:12.539358Z"
    }
   },
   "outputs": [],
   "source": [
    "# @tf.function\n",
    "# def contrastive_loss(logits):\n",
    "#     \"\"\"NT-Xent Loss\"\"\"\n",
    "#     batch_size = tf.shape(logits)[0]\n",
    "    \n",
    "#     labels = tf.eye(batch_size) # diagonal matrix \n",
    "    \n",
    "#     '''\n",
    "#         loss calculating using CrossEntropy\n",
    "#     '''\n",
    "#     loss = tf.keras.losses.categorical_crossentropy(\n",
    "#         labels, \n",
    "#         tf.nn.softmax(logits, axis=-1), \n",
    "#         from_logits=False\n",
    "#     )\n",
    "    \n",
    "#     return tf.reduce_mean(loss)\n",
    "\n",
    "@tf.function\n",
    "def contrastive_loss(logits):\n",
    "    batch_size = tf.shape(logits)[0]\n",
    "    labels = tf.eye(batch_size)\n",
    "    \n",
    "    loss_1 = tf.keras.losses.categorical_crossentropy(\n",
    "        labels, \n",
    "        tf.nn.softmax(logits, axis=-1), \n",
    "        from_logits=False\n",
    "    )\n",
    "    \n",
    "    loss_2 = tf.keras.losses.categorical_crossentropy(\n",
    "        labels, \n",
    "        tf.nn.softmax(tf.transpose(logits), axis=-1), \n",
    "        from_logits=False\n",
    "    )\n",
    "    \n",
    "    return tf.reduce_mean(loss_1 + loss_2)"
   ]
  },
  {
   "cell_type": "code",
   "execution_count": 106,
   "id": "9e1e12a0",
   "metadata": {
    "ExecuteTime": {
     "end_time": "2025-02-02T12:07:13.557043Z",
     "start_time": "2025-02-02T12:07:13.542055Z"
    }
   },
   "outputs": [],
   "source": [
    "@tf.function\n",
    "def train_step(model, optimizer, x_accel, x_gyro):\n",
    "    with tf.GradientTape() as tape:\n",
    "        ssl_output, (f_accel, f_gyro) = model(x_accel, x_gyro, return_feat=True, training=True)\n",
    "        \n",
    "        ssl_output = tf.math.log_softmax(ssl_output, axis=-1)\n",
    "        \n",
    "        ssl_labels = tf.range(tf.shape(ssl_output)[0])\n",
    "        \n",
    "        ssl_loss_1 = tf.reduce_mean(\n",
    "            tf.keras.losses.sparse_categorical_crossentropy(\n",
    "                ssl_labels, ssl_output, from_logits=True\n",
    "            )\n",
    "        )\n",
    "        \n",
    "        ssl_loss_2 = tf.reduce_mean(\n",
    "            tf.keras.losses.sparse_categorical_crossentropy(\n",
    "                ssl_labels, tf.transpose(ssl_output), from_logits=True\n",
    "            )\n",
    "        )\n",
    "        \n",
    "        total_loss = tf.where(\n",
    "            tf.math.is_finite(ssl_loss_1 + ssl_loss_2),\n",
    "            (ssl_loss_1 + ssl_loss_2) / 2,\n",
    "            0.0\n",
    "        )\n",
    "\n",
    "    gradients = tape.gradient(total_loss, model.trainable_variables)\n",
    "    gradients = [\n",
    "        tf.clip_by_norm(g, 1.0) if g is not None else g \n",
    "        for g in gradients\n",
    "    ]\n",
    "    \n",
    "    optimizer.apply_gradients(zip(gradients, model.trainable_variables))\n",
    "    return total_loss, ssl_output"
   ]
  },
  {
   "cell_type": "markdown",
   "id": "17866465",
   "metadata": {},
   "source": [
    "----"
   ]
  },
  {
   "cell_type": "code",
   "execution_count": 111,
   "id": "81059f39",
   "metadata": {
    "ExecuteTime": {
     "end_time": "2025-02-02T12:08:14.266115Z",
     "start_time": "2025-02-02T12:08:14.262956Z"
    }
   },
   "outputs": [
    {
     "name": "stdout",
     "output_type": "stream",
     "text": [
      "<_BatchDataset element_spec=(TensorSpec(shape=(None, 6, 3), dtype=tf.float64, name=None), TensorSpec(shape=(None, 6, 125), dtype=tf.float64, name=None))>\n"
     ]
    }
   ],
   "source": [
    "print (train_dataset)"
   ]
  },
  {
   "cell_type": "code",
   "execution_count": 107,
   "id": "8b185509",
   "metadata": {
    "ExecuteTime": {
     "end_time": "2025-02-02T12:07:52.152641Z",
     "start_time": "2025-02-02T12:07:14.788835Z"
    },
    "scrolled": true
   },
   "outputs": [
    {
     "name": "stderr",
     "output_type": "stream",
     "text": [
      "Epoch 1/50: 100%|███████████████████████████████| 63/63 [00:02<00:00, 23.96it/s]\n"
     ]
    },
    {
     "name": "stdout",
     "output_type": "stream",
     "text": [
      "mean value of loss : 4.7838\n",
      "best loss achieved : 4.7838\n"
     ]
    },
    {
     "name": "stderr",
     "output_type": "stream",
     "text": [
      "Epoch 2/50: 100%|███████████████████████████████| 63/63 [00:00<00:00, 95.26it/s]\n"
     ]
    },
    {
     "name": "stdout",
     "output_type": "stream",
     "text": [
      "mean value of loss : 4.7116\n",
      "best loss achieved : 4.7116\n"
     ]
    },
    {
     "name": "stderr",
     "output_type": "stream",
     "text": [
      "Epoch 3/50: 100%|███████████████████████████████| 63/63 [00:00<00:00, 89.44it/s]\n"
     ]
    },
    {
     "name": "stdout",
     "output_type": "stream",
     "text": [
      "mean value of loss : 4.6514\n",
      "best loss achieved : 4.6514\n"
     ]
    },
    {
     "name": "stderr",
     "output_type": "stream",
     "text": [
      "Epoch 4/50: 100%|██████████████████████████████| 63/63 [00:00<00:00, 104.01it/s]\n"
     ]
    },
    {
     "name": "stdout",
     "output_type": "stream",
     "text": [
      "mean value of loss : 4.5881\n",
      "best loss achieved : 4.5881\n"
     ]
    },
    {
     "name": "stderr",
     "output_type": "stream",
     "text": [
      "Epoch 5/50: 100%|███████████████████████████████| 63/63 [00:00<00:00, 96.65it/s]\n"
     ]
    },
    {
     "name": "stdout",
     "output_type": "stream",
     "text": [
      "mean value of loss : 4.5265\n",
      "best loss achieved : 4.5265\n"
     ]
    },
    {
     "name": "stderr",
     "output_type": "stream",
     "text": [
      "Epoch 6/50: 100%|███████████████████████████████| 63/63 [00:00<00:00, 93.09it/s]\n"
     ]
    },
    {
     "name": "stdout",
     "output_type": "stream",
     "text": [
      "mean value of loss : 4.4694\n",
      "best loss achieved : 4.4694\n"
     ]
    },
    {
     "name": "stderr",
     "output_type": "stream",
     "text": [
      "Epoch 7/50: 100%|███████████████████████████████| 63/63 [00:00<00:00, 88.78it/s]\n"
     ]
    },
    {
     "name": "stdout",
     "output_type": "stream",
     "text": [
      "mean value of loss : 4.4100\n",
      "best loss achieved : 4.4100\n"
     ]
    },
    {
     "name": "stderr",
     "output_type": "stream",
     "text": [
      "Epoch 8/50: 100%|███████████████████████████████| 63/63 [00:00<00:00, 87.07it/s]\n"
     ]
    },
    {
     "name": "stdout",
     "output_type": "stream",
     "text": [
      "mean value of loss : 4.3573\n",
      "best loss achieved : 4.3573\n"
     ]
    },
    {
     "name": "stderr",
     "output_type": "stream",
     "text": [
      "Epoch 9/50: 100%|███████████████████████████████| 63/63 [00:00<00:00, 84.23it/s]\n"
     ]
    },
    {
     "name": "stdout",
     "output_type": "stream",
     "text": [
      "mean value of loss : 4.2996\n",
      "best loss achieved : 4.2996\n"
     ]
    },
    {
     "name": "stderr",
     "output_type": "stream",
     "text": [
      "Epoch 10/50: 100%|██████████████████████████████| 63/63 [00:00<00:00, 81.66it/s]\n"
     ]
    },
    {
     "name": "stdout",
     "output_type": "stream",
     "text": [
      "mean value of loss : 4.2398\n",
      "best loss achieved : 4.2398\n"
     ]
    },
    {
     "name": "stderr",
     "output_type": "stream",
     "text": [
      "Epoch 11/50: 100%|█████████████████████████████| 63/63 [00:00<00:00, 100.00it/s]\n"
     ]
    },
    {
     "name": "stdout",
     "output_type": "stream",
     "text": [
      "mean value of loss : 4.1857\n",
      "best loss achieved : 4.1857\n"
     ]
    },
    {
     "name": "stderr",
     "output_type": "stream",
     "text": [
      "Epoch 12/50: 100%|██████████████████████████████| 63/63 [00:00<00:00, 95.58it/s]\n"
     ]
    },
    {
     "name": "stdout",
     "output_type": "stream",
     "text": [
      "mean value of loss : 4.1280\n",
      "best loss achieved : 4.1280\n"
     ]
    },
    {
     "name": "stderr",
     "output_type": "stream",
     "text": [
      "Epoch 13/50: 100%|██████████████████████████████| 63/63 [00:00<00:00, 90.94it/s]\n"
     ]
    },
    {
     "name": "stdout",
     "output_type": "stream",
     "text": [
      "mean value of loss : 4.0758\n",
      "best loss achieved : 4.0758\n"
     ]
    },
    {
     "name": "stderr",
     "output_type": "stream",
     "text": [
      "Epoch 14/50: 100%|██████████████████████████████| 63/63 [00:00<00:00, 92.20it/s]\n"
     ]
    },
    {
     "name": "stdout",
     "output_type": "stream",
     "text": [
      "mean value of loss : 4.0238\n",
      "best loss achieved : 4.0238\n"
     ]
    },
    {
     "name": "stderr",
     "output_type": "stream",
     "text": [
      "Epoch 15/50: 100%|█████████████████████████████| 63/63 [00:00<00:00, 102.58it/s]\n"
     ]
    },
    {
     "name": "stdout",
     "output_type": "stream",
     "text": [
      "mean value of loss : 3.9772\n",
      "best loss achieved : 3.9772\n"
     ]
    },
    {
     "name": "stderr",
     "output_type": "stream",
     "text": [
      "Epoch 16/50: 100%|██████████████████████████████| 63/63 [00:00<00:00, 95.96it/s]\n"
     ]
    },
    {
     "name": "stdout",
     "output_type": "stream",
     "text": [
      "mean value of loss : 3.9306\n",
      "best loss achieved : 3.9306\n"
     ]
    },
    {
     "name": "stderr",
     "output_type": "stream",
     "text": [
      "Epoch 17/50: 100%|██████████████████████████████| 63/63 [00:00<00:00, 79.65it/s]\n"
     ]
    },
    {
     "name": "stdout",
     "output_type": "stream",
     "text": [
      "mean value of loss : 3.8814\n",
      "best loss achieved : 3.8814\n"
     ]
    },
    {
     "name": "stderr",
     "output_type": "stream",
     "text": [
      "Epoch 18/50: 100%|██████████████████████████████| 63/63 [00:00<00:00, 94.85it/s]\n"
     ]
    },
    {
     "name": "stdout",
     "output_type": "stream",
     "text": [
      "mean value of loss : 3.8343\n",
      "best loss achieved : 3.8343\n"
     ]
    },
    {
     "name": "stderr",
     "output_type": "stream",
     "text": [
      "Epoch 19/50: 100%|██████████████████████████████| 63/63 [00:00<00:00, 92.96it/s]\n"
     ]
    },
    {
     "name": "stdout",
     "output_type": "stream",
     "text": [
      "mean value of loss : 3.7849\n",
      "best loss achieved : 3.7849\n"
     ]
    },
    {
     "name": "stderr",
     "output_type": "stream",
     "text": [
      "Epoch 20/50: 100%|██████████████████████████████| 63/63 [00:00<00:00, 96.40it/s]\n"
     ]
    },
    {
     "name": "stdout",
     "output_type": "stream",
     "text": [
      "mean value of loss : 3.7329\n",
      "best loss achieved : 3.7329\n"
     ]
    },
    {
     "name": "stderr",
     "output_type": "stream",
     "text": [
      "Epoch 21/50: 100%|██████████████████████████████| 63/63 [00:00<00:00, 82.57it/s]\n"
     ]
    },
    {
     "name": "stdout",
     "output_type": "stream",
     "text": [
      "mean value of loss : 3.6858\n",
      "best loss achieved : 3.6858\n"
     ]
    },
    {
     "name": "stderr",
     "output_type": "stream",
     "text": [
      "Epoch 22/50: 100%|██████████████████████████████| 63/63 [00:00<00:00, 87.63it/s]\n"
     ]
    },
    {
     "name": "stdout",
     "output_type": "stream",
     "text": [
      "mean value of loss : 3.6386\n",
      "best loss achieved : 3.6386\n"
     ]
    },
    {
     "name": "stderr",
     "output_type": "stream",
     "text": [
      "Epoch 23/50: 100%|██████████████████████████████| 63/63 [00:00<00:00, 94.21it/s]\n"
     ]
    },
    {
     "name": "stdout",
     "output_type": "stream",
     "text": [
      "mean value of loss : 3.5889\n",
      "best loss achieved : 3.5889\n"
     ]
    },
    {
     "name": "stderr",
     "output_type": "stream",
     "text": [
      "Epoch 24/50: 100%|██████████████████████████████| 63/63 [00:00<00:00, 88.01it/s]\n"
     ]
    },
    {
     "name": "stdout",
     "output_type": "stream",
     "text": [
      "mean value of loss : 3.5414\n",
      "best loss achieved : 3.5414\n"
     ]
    },
    {
     "name": "stderr",
     "output_type": "stream",
     "text": [
      "Epoch 25/50: 100%|██████████████████████████████| 63/63 [00:00<00:00, 96.65it/s]\n"
     ]
    },
    {
     "name": "stdout",
     "output_type": "stream",
     "text": [
      "mean value of loss : 3.4878\n",
      "best loss achieved : 3.4878\n"
     ]
    },
    {
     "name": "stderr",
     "output_type": "stream",
     "text": [
      "Epoch 26/50: 100%|██████████████████████████████| 63/63 [00:00<00:00, 89.63it/s]\n"
     ]
    },
    {
     "name": "stdout",
     "output_type": "stream",
     "text": [
      "mean value of loss : 3.4380\n",
      "best loss achieved : 3.4380\n"
     ]
    },
    {
     "name": "stderr",
     "output_type": "stream",
     "text": [
      "Epoch 27/50: 100%|██████████████████████████████| 63/63 [00:00<00:00, 92.80it/s]\n"
     ]
    },
    {
     "name": "stdout",
     "output_type": "stream",
     "text": [
      "mean value of loss : 3.3901\n",
      "best loss achieved : 3.3901\n"
     ]
    },
    {
     "name": "stderr",
     "output_type": "stream",
     "text": [
      "Epoch 28/50: 100%|█████████████████████████████| 63/63 [00:00<00:00, 100.82it/s]\n"
     ]
    },
    {
     "name": "stdout",
     "output_type": "stream",
     "text": [
      "mean value of loss : 3.3459\n",
      "best loss achieved : 3.3459\n"
     ]
    },
    {
     "name": "stderr",
     "output_type": "stream",
     "text": [
      "Epoch 29/50: 100%|██████████████████████████████| 63/63 [00:00<00:00, 87.14it/s]\n"
     ]
    },
    {
     "name": "stdout",
     "output_type": "stream",
     "text": [
      "mean value of loss : 3.2977\n",
      "best loss achieved : 3.2977\n"
     ]
    },
    {
     "name": "stderr",
     "output_type": "stream",
     "text": [
      "Epoch 30/50: 100%|██████████████████████████████| 63/63 [00:00<00:00, 88.07it/s]\n"
     ]
    },
    {
     "name": "stdout",
     "output_type": "stream",
     "text": [
      "mean value of loss : 3.2487\n",
      "best loss achieved : 3.2487\n"
     ]
    },
    {
     "name": "stderr",
     "output_type": "stream",
     "text": [
      "Epoch 31/50: 100%|██████████████████████████████| 63/63 [00:00<00:00, 93.11it/s]\n"
     ]
    },
    {
     "name": "stdout",
     "output_type": "stream",
     "text": [
      "mean value of loss : 3.2031\n",
      "best loss achieved : 3.2031\n"
     ]
    },
    {
     "name": "stderr",
     "output_type": "stream",
     "text": [
      "Epoch 32/50: 100%|██████████████████████████████| 63/63 [00:00<00:00, 94.76it/s]\n"
     ]
    },
    {
     "name": "stdout",
     "output_type": "stream",
     "text": [
      "mean value of loss : 3.1592\n",
      "best loss achieved : 3.1592\n"
     ]
    },
    {
     "name": "stderr",
     "output_type": "stream",
     "text": [
      "Epoch 33/50: 100%|██████████████████████████████| 63/63 [00:00<00:00, 87.51it/s]\n"
     ]
    },
    {
     "name": "stdout",
     "output_type": "stream",
     "text": [
      "mean value of loss : 3.1214\n",
      "best loss achieved : 3.1214\n"
     ]
    },
    {
     "name": "stderr",
     "output_type": "stream",
     "text": [
      "Epoch 34/50: 100%|██████████████████████████████| 63/63 [00:00<00:00, 89.27it/s]\n"
     ]
    },
    {
     "name": "stdout",
     "output_type": "stream",
     "text": [
      "mean value of loss : 3.0688\n",
      "best loss achieved : 3.0688\n"
     ]
    },
    {
     "name": "stderr",
     "output_type": "stream",
     "text": [
      "Epoch 35/50: 100%|██████████████████████████████| 63/63 [00:00<00:00, 81.31it/s]\n"
     ]
    },
    {
     "name": "stdout",
     "output_type": "stream",
     "text": [
      "mean value of loss : 3.0224\n",
      "best loss achieved : 3.0224\n"
     ]
    },
    {
     "name": "stderr",
     "output_type": "stream",
     "text": [
      "Epoch 36/50: 100%|██████████████████████████████| 63/63 [00:00<00:00, 73.02it/s]\n"
     ]
    },
    {
     "name": "stdout",
     "output_type": "stream",
     "text": [
      "mean value of loss : 2.9749\n",
      "best loss achieved : 2.9749\n"
     ]
    },
    {
     "name": "stderr",
     "output_type": "stream",
     "text": [
      "Epoch 37/50: 100%|██████████████████████████████| 63/63 [00:00<00:00, 71.32it/s]\n"
     ]
    },
    {
     "name": "stdout",
     "output_type": "stream",
     "text": [
      "mean value of loss : 2.9255\n",
      "best loss achieved : 2.9255\n"
     ]
    },
    {
     "name": "stderr",
     "output_type": "stream",
     "text": [
      "Epoch 38/50: 100%|██████████████████████████████| 63/63 [00:00<00:00, 86.54it/s]\n"
     ]
    },
    {
     "name": "stdout",
     "output_type": "stream",
     "text": [
      "mean value of loss : 2.8790\n",
      "best loss achieved : 2.8790\n"
     ]
    },
    {
     "name": "stderr",
     "output_type": "stream",
     "text": [
      "Epoch 39/50: 100%|██████████████████████████████| 63/63 [00:00<00:00, 90.99it/s]\n"
     ]
    },
    {
     "name": "stdout",
     "output_type": "stream",
     "text": [
      "mean value of loss : 2.8402\n",
      "best loss achieved : 2.8402\n"
     ]
    },
    {
     "name": "stderr",
     "output_type": "stream",
     "text": [
      "Epoch 40/50: 100%|██████████████████████████████| 63/63 [00:00<00:00, 81.43it/s]\n"
     ]
    },
    {
     "name": "stdout",
     "output_type": "stream",
     "text": [
      "mean value of loss : 2.7919\n",
      "best loss achieved : 2.7919\n"
     ]
    },
    {
     "name": "stderr",
     "output_type": "stream",
     "text": [
      "Epoch 41/50: 100%|██████████████████████████████| 63/63 [00:00<00:00, 78.57it/s]\n"
     ]
    },
    {
     "name": "stdout",
     "output_type": "stream",
     "text": [
      "mean value of loss : 2.7476\n",
      "best loss achieved : 2.7476\n"
     ]
    },
    {
     "name": "stderr",
     "output_type": "stream",
     "text": [
      "Epoch 42/50: 100%|██████████████████████████████| 63/63 [00:00<00:00, 91.26it/s]\n"
     ]
    },
    {
     "name": "stdout",
     "output_type": "stream",
     "text": [
      "mean value of loss : 2.7052\n",
      "best loss achieved : 2.7052\n"
     ]
    },
    {
     "name": "stderr",
     "output_type": "stream",
     "text": [
      "Epoch 43/50: 100%|█████████████████████████████| 63/63 [00:00<00:00, 101.66it/s]\n"
     ]
    },
    {
     "name": "stdout",
     "output_type": "stream",
     "text": [
      "mean value of loss : 2.6691\n",
      "best loss achieved : 2.6691\n"
     ]
    },
    {
     "name": "stderr",
     "output_type": "stream",
     "text": [
      "Epoch 44/50: 100%|█████████████████████████████| 63/63 [00:00<00:00, 104.60it/s]\n"
     ]
    },
    {
     "name": "stdout",
     "output_type": "stream",
     "text": [
      "mean value of loss : 2.6305\n",
      "best loss achieved : 2.6305\n"
     ]
    },
    {
     "name": "stderr",
     "output_type": "stream",
     "text": [
      "Epoch 45/50: 100%|██████████████████████████████| 63/63 [00:00<00:00, 87.00it/s]\n"
     ]
    },
    {
     "name": "stdout",
     "output_type": "stream",
     "text": [
      "mean value of loss : 2.5914\n",
      "best loss achieved : 2.5914\n"
     ]
    },
    {
     "name": "stderr",
     "output_type": "stream",
     "text": [
      "Epoch 46/50: 100%|██████████████████████████████| 63/63 [00:00<00:00, 81.38it/s]\n"
     ]
    },
    {
     "name": "stdout",
     "output_type": "stream",
     "text": [
      "mean value of loss : 2.5422\n",
      "best loss achieved : 2.5422\n"
     ]
    },
    {
     "name": "stderr",
     "output_type": "stream",
     "text": [
      "Epoch 47/50: 100%|██████████████████████████████| 63/63 [00:00<00:00, 78.20it/s]\n"
     ]
    },
    {
     "name": "stdout",
     "output_type": "stream",
     "text": [
      "mean value of loss : 2.5021\n",
      "best loss achieved : 2.5021\n"
     ]
    },
    {
     "name": "stderr",
     "output_type": "stream",
     "text": [
      "Epoch 48/50: 100%|██████████████████████████████| 63/63 [00:00<00:00, 79.83it/s]\n"
     ]
    },
    {
     "name": "stdout",
     "output_type": "stream",
     "text": [
      "mean value of loss : 2.4548\n",
      "best loss achieved : 2.4548\n"
     ]
    },
    {
     "name": "stderr",
     "output_type": "stream",
     "text": [
      "Epoch 49/50: 100%|██████████████████████████████| 63/63 [00:00<00:00, 99.35it/s]\n"
     ]
    },
    {
     "name": "stdout",
     "output_type": "stream",
     "text": [
      "mean value of loss : 2.4239\n",
      "best loss achieved : 2.4239\n"
     ]
    },
    {
     "name": "stderr",
     "output_type": "stream",
     "text": [
      "Epoch 50/50: 100%|██████████████████████████████| 63/63 [00:00<00:00, 85.26it/s]"
     ]
    },
    {
     "name": "stdout",
     "output_type": "stream",
     "text": [
      "mean value of loss : 2.3926\n",
      "best loss achieved : 2.3926\n",
      "END THE LEARNING\n",
      "final best loss: 2.3926\n"
     ]
    },
    {
     "name": "stderr",
     "output_type": "stream",
     "text": [
      "\n"
     ]
    }
   ],
   "source": [
    "train_losses = []\n",
    "best_loss = float('inf')\n",
    "\n",
    "for epoch in range(EPOCHS):\n",
    "    epoch_losses = []\n",
    "    \n",
    "    for acc_batch, gyro_batch in tqdm(train_dataset, desc=f'Epoch {epoch + 1}/{EPOCHS}'):\n",
    "        loss, _ = train_step(model, optimizer, acc_batch, gyro_batch)\n",
    "        epoch_losses.append(loss.numpy())\n",
    "    \n",
    "    avg_loss = np.mean(epoch_losses)\n",
    "    train_losses.append(avg_loss)\n",
    "    \n",
    "    print(f\"mean value of loss : {avg_loss:.4f}\")\n",
    "    \n",
    "    if avg_loss < best_loss:\n",
    "        best_loss = avg_loss\n",
    "        print(f\"best loss achieved : {best_loss:.4f}\")\n",
    "\n",
    "\n",
    "print (\"END THE LEARNING\")\n",
    "print (f\"final best loss: {best_loss:.4f}\")"
   ]
  },
  {
   "cell_type": "code",
   "execution_count": 112,
   "id": "321c9915",
   "metadata": {
    "ExecuteTime": {
     "end_time": "2025-02-02T12:08:23.345749Z",
     "start_time": "2025-02-02T12:08:23.181520Z"
    }
   },
   "outputs": [
    {
     "data": {
      "image/png": "[encoded data removed]",
      "text/plain": [
       "<Figure size 1000x600 with 1 Axes>"
      ]
     },
     "metadata": {},
     "output_type": "display_data"
    }
   ],
   "source": [
    "plt.figure(figsize=(10, 6))\n",
    "plt.plot(train_losses, label='Training Loss')\n",
    "plt.xlabel('Epoch')\n",
    "plt.ylabel('Loss')\n",
    "plt.title('Training Loss over Epochs')\n",
    "plt.legend()\n",
    "plt.grid(True)\n",
    "plt.show()"
   ]
  },
  {
   "cell_type": "code",
   "execution_count": 113,
   "id": "e913403f",
   "metadata": {
    "ExecuteTime": {
     "end_time": "2025-02-02T12:08:26.465314Z",
     "start_time": "2025-02-02T12:08:24.917407Z"
    }
   },
   "outputs": [
    {
     "name": "stderr",
     "output_type": "stream",
     "text": [
      "Computing normal similarities: 100%|████████████| 63/63 [00:01<00:00, 50.58it/s]\n",
      "Computing test similarities: 100%|██████████████| 14/14 [00:00<00:00, 47.95it/s]\n"
     ]
    }
   ],
   "source": [
    "normal_similarities = []\n",
    "for acc_batch, gyro_batch in tqdm(train_dataset, \n",
    "                                  desc='Computing normal similarities'):\n",
    "    logits = model(acc_batch, gyro_batch, training=False)\n",
    "    sim = tf.nn.softmax(logits, axis=-1)\n",
    "    batch_similarities = tf.reduce_mean(sim, axis=1)\n",
    "    normal_similarities.extend(batch_similarities.numpy())\n",
    "\n",
    "test_similarities = []\n",
    "test_pred_labels = []\n",
    "for (acc_batch, gyro_batch), labels in tqdm(test_dataset, \n",
    "                                            desc='Computing test similarities'):\n",
    "    logits = model(acc_batch, gyro_batch, training=False)\n",
    "    sim = tf.nn.softmax(logits, axis=-1)\n",
    "    batch_similarities = tf.reduce_mean(sim, axis=1)\n",
    "    test_similarities.extend(batch_similarities.numpy())\n",
    "    test_pred_labels.extend(labels.numpy())"
   ]
  },
  {
   "cell_type": "code",
   "execution_count": 114,
   "id": "675d6168",
   "metadata": {
    "ExecuteTime": {
     "end_time": "2025-02-02T12:08:27.116039Z",
     "start_time": "2025-02-02T12:08:27.112244Z"
    }
   },
   "outputs": [],
   "source": [
    "threshold = np.percentile(normal_similarities, 5)\n",
    "\n",
    "# def robust_threshold(similarities, method='gaussian_mixture'):\n",
    "#     from sklearn.mixture import GaussianMixture\n",
    "#     X = np.array(similarities).reshape(-1, 1)\n",
    "    \n",
    "#     # 가우시안 혼합 모델 사용\n",
    "#     gmm = GaussianMixture(n_components=2, random_state=42)\n",
    "#     gmm.fit(X)\n",
    "    \n",
    "#     # 클러스터 중심점 사이의 최적 임계값\n",
    "#     means = gmm.means_.flatten()\n",
    "#     stds = np.sqrt(gmm.covariances_.flatten())\n",
    "    \n",
    "#     # 두 클러스터 경계 계산\n",
    "#     threshold = np.mean(means)\n",
    "#     return threshold\n",
    "\n",
    "# threshold = robust_threshold(normal_similarities, \n",
    "#                              method='dbscan')"
   ]
  },
  {
   "cell_type": "code",
   "execution_count": 115,
   "id": "b40abe82",
   "metadata": {
    "ExecuteTime": {
     "end_time": "2025-02-02T12:08:28.229606Z",
     "start_time": "2025-02-02T12:08:27.987337Z"
    }
   },
   "outputs": [
    {
     "data": {
      "image/png": "[encoded data removed]",
      "text/plain": [
       "<Figure size 640x480 with 1 Axes>"
      ]
     },
     "metadata": {},
     "output_type": "display_data"
    }
   ],
   "source": [
    "indices = range(len(test_similarities))\n",
    "plt.scatter([i for i, l in zip(indices, test_pred_labels) if l == 0], \n",
    "           [s for s, l in zip(test_similarities, test_pred_labels) if l == 0],\n",
    "           c='blue', label='Normal (ADL)', alpha=0.5, s=20)\n",
    "plt.scatter([i for i, l in zip(indices, test_pred_labels) if l == 1],\n",
    "           [s for s, l in zip(test_similarities, test_pred_labels) if l == 1],\n",
    "           c='red', label='Fall', alpha=0.5, s=20)\n",
    "plt.axhline(y=threshold, color='green', linestyle='--', label=f'Threshold ({threshold:.3f})')\n",
    "# plt.ylim(0.0078100, 0.0078150)\n",
    "plt.xlabel('Sample Index')\n",
    "plt.ylabel('Similarity Score')\n",
    "plt.title('Similarity Scores over Time')\n",
    "plt.legend()\n",
    "plt.grid(True)"
   ]
  },
  {
   "cell_type": "code",
   "execution_count": 116,
   "id": "1f74c78b",
   "metadata": {
    "ExecuteTime": {
     "end_time": "2025-02-02T12:08:29.496335Z",
     "start_time": "2025-02-02T12:08:29.492816Z"
    }
   },
   "outputs": [],
   "source": [
    "from sklearn.metrics import confusion_matrix, classification_report\n",
    "\n",
    "predictions = [1 if sim < threshold else 0 for sim in test_similarities] \n",
    "true_labels = test_pred_labels"
   ]
  },
  {
   "cell_type": "code",
   "execution_count": 117,
   "id": "53cf03cf",
   "metadata": {
    "ExecuteTime": {
     "end_time": "2025-02-02T12:08:30.076440Z",
     "start_time": "2025-02-02T12:08:29.908622Z"
    }
   },
   "outputs": [
    {
     "data": {
      "image/png": "[encoded data removed]",
      "text/plain": [
       "<Figure size 1000x800 with 2 Axes>"
      ]
     },
     "metadata": {},
     "output_type": "display_data"
    }
   ],
   "source": [
    "cm = confusion_matrix(true_labels, predictions)\n",
    "plt.figure(figsize=(10, 8))\n",
    "sns.heatmap(cm, annot=True, fmt='d', cmap='Blues')\n",
    "plt.title('Confusion Matrix')\n",
    "plt.ylabel('True Label')\n",
    "plt.xlabel('Predicted Label')\n",
    "labels = ['ADL', 'Fall']\n",
    "plt.xticks([0.5, 1.5], labels)\n",
    "plt.yticks([0.5, 1.5], labels)\n",
    "plt.show()"
   ]
  },
  {
   "cell_type": "code",
   "execution_count": 118,
   "id": "2e0d8e3f",
   "metadata": {
    "ExecuteTime": {
     "end_time": "2025-02-02T12:08:32.418778Z",
     "start_time": "2025-02-02T12:08:32.408770Z"
    }
   },
   "outputs": [
    {
     "name": "stdout",
     "output_type": "stream",
     "text": [
      "classification report\n",
      "              precision    recall  f1-score   support\n",
      "\n",
      "         ADL       0.76      0.98      0.86      1328\n",
      "        Fall       0.14      0.01      0.02       411\n",
      "\n",
      "    accuracy                           0.75      1739\n",
      "   macro avg       0.45      0.50      0.44      1739\n",
      "weighted avg       0.62      0.75      0.66      1739\n",
      "\n"
     ]
    }
   ],
   "source": [
    "print (\"classification report\")\n",
    "print(classification_report(true_labels, predictions, \n",
    "                          target_names=['ADL', 'Fall']))"
   ]
  },
  {
   "cell_type": "code",
   "execution_count": 119,
   "id": "d382f18e",
   "metadata": {
    "ExecuteTime": {
     "end_time": "2025-02-02T12:08:33.703879Z",
     "start_time": "2025-02-02T12:08:33.412707Z"
    }
   },
   "outputs": [
    {
     "name": "stdout",
     "output_type": "stream",
     "text": [
      "[ ADL data ]\n",
      "  Mean: 0.0078\n",
      "  Std: 0.0000\n",
      "  Min: 0.0078\n",
      "  Max: 0.0078\n",
      "ADL ind 1 : 0.007812499\n",
      "ADL ind 2 : 0.007812499\n",
      "ADL ind 3 : 0.0078125\n",
      "ADL ind 4 : 0.0078124995\n",
      "ADL ind 5 : 0.007812499\n",
      "ADL ind 6 : 0.0078125\n",
      "ADL ind 7 : 0.0078125\n",
      "ADL ind 8 : 0.0078125\n",
      "ADL ind 9 : 0.007812501\n",
      "ADL ind 10 : 0.007812501\n",
      "ADL ind 11 : 0.0078125\n",
      "ADL ind 12 : 0.0078124995\n",
      "ADL ind 13 : 0.007812501\n",
      "ADL ind 14 : 0.0078125\n",
      "ADL ind 15 : 0.0078125\n",
      "ADL ind 16 : 0.0078125\n",
      "ADL ind 17 : 0.0078125\n",
      "ADL ind 18 : 0.0078125\n",
      "ADL ind 19 : 0.007812499\n",
      "ADL ind 20 : 0.0078125\n",
      "\n",
      "[ FALL data ]\n",
      "  Mean: 0.0088\n",
      "  Std: 0.0021\n",
      "  Min: 0.0078\n",
      "  Max: 0.0133\n",
      "FALL ind 1 : 0.007812501\n",
      "FALL ind 2 : 0.0078125\n",
      "FALL ind 3 : 0.007812499\n",
      "FALL ind 4 : 0.007812499\n",
      "FALL ind 5 : 0.007812499\n",
      "FALL ind 6 : 0.0078125\n",
      "FALL ind 7 : 0.007812499\n",
      "FALL ind 8 : 0.0078125\n",
      "FALL ind 9 : 0.0078125\n",
      "FALL ind 10 : 0.0078125\n",
      "FALL ind 11 : 0.0078125\n",
      "FALL ind 12 : 0.007812501\n",
      "FALL ind 13 : 0.0078125\n",
      "FALL ind 14 : 0.0078125\n",
      "FALL ind 15 : 0.0078125\n",
      "FALL ind 16 : 0.007812499\n",
      "FALL ind 17 : 0.0078125\n",
      "FALL ind 18 : 0.0078125\n",
      "FALL ind 19 : 0.0078125\n",
      "FALL ind 20 : 0.0078125\n"
     ]
    }
   ],
   "source": [
    "def calculate_similarities(model, test_dataset):\n",
    "    normal_similarities = []\n",
    "    fall_similarities = []\n",
    "    \n",
    "    for (acc_batch, gyro_batch), labels in test_dataset:\n",
    "        logits = model(acc_batch, gyro_batch, training=False)\n",
    "        sim = tf.nn.softmax(logits, axis=-1)\n",
    "        batch_similarities = tf.reduce_mean(sim, axis=1)\n",
    "        \n",
    "        for sim_score, label in zip(batch_similarities.numpy(), labels.numpy()):\n",
    "            if label == 0:  # normal\n",
    "                normal_similarities.append(sim_score)\n",
    "            else:  # fall\n",
    "                fall_similarities.append(sim_score)\n",
    "    \n",
    "    return np.array(normal_similarities), np.array(fall_similarities)\n",
    "\n",
    "normal_sims, fall_sims = calculate_similarities(model, test_dataset)\n",
    "\n",
    "print(\"[ ADL data ]\")\n",
    "print(f\"  Mean: {np.mean(normal_sims):.4f}\")\n",
    "print(f\"  Std: {np.std(normal_sims):.4f}\")\n",
    "print(f\"  Min: {np.min(normal_sims):.4f}\")\n",
    "print(f\"  Max: {np.max(normal_sims):.4f}\")\n",
    "for i in range (20) :\n",
    "    print ('ADL ind', i+1, ':', normal_sims[i])\n",
    "\n",
    "print ()\n",
    "print(\"[ FALL data ]\")\n",
    "print(f\"  Mean: {np.mean(fall_sims):.4f}\")\n",
    "print(f\"  Std: {np.std(fall_sims):.4f}\")\n",
    "print(f\"  Min: {np.min(fall_sims):.4f}\")\n",
    "print(f\"  Max: {np.max(fall_sims):.4f}\")\n",
    "for i in range (20) :\n",
    "    print ('FALL ind', i+1, ':', fall_sims[i])"
   ]
  }
 ],
 "metadata": {
  "kernelspec": {
   "display_name": "Python 3 (ipykernel)",
   "language": "python",
   "name": "python3"
  },
  "language_info": {
   "codemirror_mode": {
    "name": "ipython",
    "version": 3
   },
   "file_extension": ".py",
   "mimetype": "text/x-python",
   "name": "python",
   "nbconvert_exporter": "python",
   "pygments_lexer": "ipython3",
   "version": "3.11.3"
  },
  "varInspector": {
   "cols": {
    "lenName": 16,
    "lenType": 16,
    "lenVar": 40
   },
   "kernels_config": {
    "python": {
     "delete_cmd_postfix": "",
     "delete_cmd_prefix": "del ",
     "library": "var_list.py",
     "varRefreshCmd": "print(var_dic_list())"
    },
    "r": {
     "delete_cmd_postfix": ") ",
     "delete_cmd_prefix": "rm(",
     "library": "var_list.r",
     "varRefreshCmd": "cat(var_dic_list()) "
    }
   },
   "types_to_exclude": [
    "module",
    "function",
    "builtin_function_or_method",
    "instance",
    "_Feature"
   ],
   "window_display": false
  }
 },
 "nbformat": 4,
 "nbformat_minor": 5
}
