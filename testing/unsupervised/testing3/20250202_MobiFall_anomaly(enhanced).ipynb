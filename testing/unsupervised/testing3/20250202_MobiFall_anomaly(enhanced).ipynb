{
 "cells": [
  {
   "cell_type": "code",
   "execution_count": 64,
   "id": "b55f2495",
   "metadata": {
    "ExecuteTime": {
     "end_time": "2025-02-02T17:31:53.112118Z",
     "start_time": "2025-02-02T17:31:53.108582Z"
    }
   },
   "outputs": [],
   "source": [
    "import tensorflow as tf\n",
    "import numpy as np\n",
    "from tensorflow.keras import layers, Model\n",
    "import matplotlib.pyplot as plt \n",
    "import seaborn as sns\n",
    "import os\n",
    "import glob\n",
    "import pandas as pd\n",
    "from tqdm import tqdm\n",
    "from sklearn.metrics import confusion_matrix, classification_report\n",
    "from sklearn.preprocessing import StandardScaler"
   ]
  },
  {
   "cell_type": "code",
   "execution_count": 65,
   "id": "44399eca",
   "metadata": {
    "ExecuteTime": {
     "end_time": "2025-02-02T17:31:53.118045Z",
     "start_time": "2025-02-02T17:31:53.114969Z"
    }
   },
   "outputs": [],
   "source": [
    "WINDOW_LENGTH = 256  # data window\n",
    "STRIDE = 128  # stride\n",
    "BATCH_SIZE = 128  # batch\n",
    "EPOCHS = 100  # epoch\n",
    "LEARNING_RATE = 0.001  # lr\n",
    "PROJ_DIM = 128  # embedding dimension"
   ]
  },
  {
   "cell_type": "code",
   "execution_count": 66,
   "id": "29ebfdbf",
   "metadata": {
    "ExecuteTime": {
     "end_time": "2025-02-02T17:31:53.122962Z",
     "start_time": "2025-02-02T17:31:53.120195Z"
    }
   },
   "outputs": [],
   "source": [
    "datapath = \"../../../data/MobiFall_Dataset/\" "
   ]
  },
  {
   "cell_type": "code",
   "execution_count": 67,
   "id": "43c4c59f",
   "metadata": {
    "ExecuteTime": {
     "end_time": "2025-02-02T17:31:53.147405Z",
     "start_time": "2025-02-02T17:31:53.143736Z"
    }
   },
   "outputs": [],
   "source": [
    "adl_activities = ['STD', 'WAL', 'JOG', 'JUM', \n",
    "                  'STU', 'STN', 'SCH', 'CSI', 'CSO'] \n",
    "fall_activities = ['FOL', 'FKL', 'BSC', 'SDL'] \n",
    "\n",
    "label2id = {act: 0 for act in adl_activities}\n",
    "label2id.update({act: 1 for act in fall_activities})"
   ]
  },
  {
   "cell_type": "code",
   "execution_count": 68,
   "id": "0fb769b8",
   "metadata": {
    "ExecuteTime": {
     "end_time": "2025-02-02T17:31:53.158767Z",
     "start_time": "2025-02-02T17:31:53.149250Z"
    }
   },
   "outputs": [
    {
     "name": "stdout",
     "output_type": "stream",
     "text": [
      "ADL+Fall subjects: [1, 2, 3, 4, 5, 6, 7, 8, 9, 10, 11]\n",
      "Fall-only subjects: [12, 13, 14, 15, 16, 17, 18, 19, 20, 21, 29, 30, 31]\n",
      "\n",
      "==================================================\n",
      "\n",
      "Train subjects (ADL+Fall): [1, 2, 3, 4, 5, 6, 7, 8]\n",
      "Train subjects (Fall only): [12, 13, 14, 15, 16, 17, 18, 19, 20]\n",
      "Total train subjects: [1, 2, 3, 4, 5, 6, 7, 8, 12, 13, 14, 15, 16, 17, 18, 19, 20]\n",
      "\n",
      "Val subjects (ADL+Fall): [9, 10]\n",
      "Val subjects (Fall only): [21, 29]\n",
      "Total val subjects: [9, 10, 21, 29]\n",
      "\n",
      "Test subjects (ADL+Fall): [11]\n",
      "Test subjects (Fall only): [30, 31]\n",
      "Total test subjects: [11, 30, 31]\n",
      "\n",
      "Total number of train subjects: 17\n",
      "Total number of validation subjects: 4\n",
      "Total number of test subjects: 3\n"
     ]
    }
   ],
   "source": [
    "adl_fall_subjects = list(range(1, 12))\n",
    "print(\"ADL+Fall subjects:\", adl_fall_subjects)\n",
    "\n",
    "fall_only_subjects = list(range(12, 22)) + list(range(29, 32))\n",
    "print(\"Fall-only subjects:\", fall_only_subjects)\n",
    "\n",
    "train_split = adl_fall_subjects[:8] + fall_only_subjects[:9]    \n",
    "val_split = adl_fall_subjects[8:10] + fall_only_subjects[9:11]    \n",
    "test_split = adl_fall_subjects[10:] + fall_only_subjects[11:]  \n",
    "\n",
    "print ()\n",
    "print (\"=====\" * 10)\n",
    "print()\n",
    "\n",
    "print(f\"Train subjects (ADL+Fall): {adl_fall_subjects[:8]}\")\n",
    "print(f\"Train subjects (Fall only): {fall_only_subjects[:9]}\")\n",
    "print(f\"Total train subjects: {train_split}\\n\")\n",
    "\n",
    "print(f\"Val subjects (ADL+Fall): {adl_fall_subjects[8:10]}\")\n",
    "print(f\"Val subjects (Fall only): {fall_only_subjects[9:11]}\")\n",
    "print(f\"Total val subjects: {val_split}\\n\")\n",
    "\n",
    "print(f\"Test subjects (ADL+Fall): {adl_fall_subjects[10:]}\")\n",
    "print(f\"Test subjects (Fall only): {fall_only_subjects[11:]}\")\n",
    "print(f\"Total test subjects: {test_split}\\n\")\n",
    "\n",
    "print(f\"Total number of train subjects: {len(train_split)}\")\n",
    "print(f\"Total number of validation subjects: {len(val_split)}\")\n",
    "print(f\"Total number of test subjects: {len(test_split)}\")"
   ]
  },
  {
   "cell_type": "code",
   "execution_count": 69,
   "id": "82deef5e",
   "metadata": {
    "ExecuteTime": {
     "end_time": "2025-02-02T17:31:53.166218Z",
     "start_time": "2025-02-02T17:31:53.161056Z"
    }
   },
   "outputs": [],
   "source": [
    "def read_sensor_file(filepath):\n",
    "    with open(filepath, 'r') as f:\n",
    "        lines = f.readlines()\n",
    "        \n",
    "        data_start = 0\n",
    "        for i, line in enumerate(lines):\n",
    "            if line.strip() == '@DATA':  # data tag finding\n",
    "                data_start = i + 1\n",
    "                break\n",
    "        \n",
    "        ###### parsing part\n",
    "        data_lines = []\n",
    "        for line in lines[data_start:]:\n",
    "            if line.strip():  \n",
    "                try:\n",
    "                    values = [float(val.strip()) for val in line.strip().split(',')]\n",
    "                    data_lines.append(values)\n",
    "                except ValueError:\n",
    "                    continue\n",
    "        \n",
    "        df = pd.DataFrame(data_lines) \n",
    "        df = df.ffill()  # forward fill\n",
    "        df = df.bfill()  # backward fill\n",
    "        return df"
   ]
  },
  {
   "cell_type": "code",
   "execution_count": 70,
   "id": "577149ea",
   "metadata": {
    "ExecuteTime": {
     "end_time": "2025-02-02T17:31:53.172592Z",
     "start_time": "2025-02-02T17:31:53.168001Z"
    }
   },
   "outputs": [],
   "source": [
    "def split_sequences(data, labels, \n",
    "                    window_length=WINDOW_LENGTH, \n",
    "                    stride=STRIDE,\n",
    "                    clean=True):\n",
    "    idx = 0\n",
    "    endidx = len(data)\n",
    "    windows = []\n",
    "    window_labels = []\n",
    "    \n",
    "    while idx < endidx - window_length:\n",
    "        data_segment = data[idx:idx+window_length].T\n",
    "        \n",
    "        if clean and len(np.unique(labels[idx:idx + window_length])) > 1:\n",
    "            pass\n",
    "        else:\n",
    "            windows.append(data_segment)\n",
    "            window_labels.append(labels[idx+window_length])\n",
    "        \n",
    "        idx += stride\n",
    "    \n",
    "    if len(windows) == 0:\n",
    "        return None, None\n",
    "    \n",
    "    return np.stack(windows), np.asarray(window_labels)"
   ]
  },
  {
   "cell_type": "code",
   "execution_count": 71,
   "id": "1d0f12dd",
   "metadata": {
    "ExecuteTime": {
     "end_time": "2025-02-02T17:32:01.421660Z",
     "start_time": "2025-02-02T17:31:53.174758Z"
    }
   },
   "outputs": [
    {
     "name": "stderr",
     "output_type": "stream",
     "text": [
      "100%|███████████████████████████████████████████| 11/11 [00:08<00:00,  1.34it/s]"
     ]
    },
    {
     "name": "stdout",
     "output_type": "stream",
     "text": [
      "# of windows: 5760\n",
      "data shape: (5760, 6, 256)\n",
      "shape: (5760,)\n",
      "{0: 5760}\n"
     ]
    },
    {
     "name": "stderr",
     "output_type": "stream",
     "text": [
      "\n"
     ]
    }
   ],
   "source": [
    "'''\n",
    "    TRAIN DATA PREPARING PART\n",
    "    ONLY \"ADL\"\n",
    "'''\n",
    "\n",
    "train_data_normal = []  \n",
    "train_labels_normal = [] \n",
    "\n",
    "from sklearn.preprocessing import StandardScaler\n",
    "\n",
    "train_data_normal = []\n",
    "train_labels_normal = []\n",
    "\n",
    "for subject_id in tqdm(adl_fall_subjects):  # only using ADL+Fall subjects\n",
    "    subject_dir = os.path.join(datapath, f\"sub{subject_id}\")\n",
    "    adl_dir = os.path.join(subject_dir, \"ADL\")\n",
    "        \n",
    "    for activity in adl_activities:  ####### only ADL \n",
    "        activity_dir = os.path.join(adl_dir, activity)\n",
    "            \n",
    "        acc_pattern = f\"{activity}_acc_{subject_id}_*.txt\"\n",
    "        acc_files = glob.glob(os.path.join(activity_dir, acc_pattern))\n",
    "        \n",
    "        for acc_file in acc_files:\n",
    "            trial_num = acc_file.split('_')[-1]\n",
    "            gyro_file = os.path.join(activity_dir, f\"{activity}_gyro_{subject_id}_{trial_num}\")\n",
    "                \n",
    "            try:\n",
    "                acc_data = read_sensor_file(acc_file)\n",
    "                acc_data.columns = ['timestamp', 'acc_x', 'acc_y', 'acc_z']\n",
    "                \n",
    "                gyro_data = read_sensor_file(gyro_file)\n",
    "                gyro_data.columns = ['timestamp', 'gyro_x', 'gyro_y', 'gyro_z']\n",
    "                \n",
    "                merged_data = pd.merge_asof(\n",
    "                    acc_data.sort_values('timestamp'),\n",
    "                    gyro_data.sort_values('timestamp'),\n",
    "                    on='timestamp',\n",
    "                    direction='nearest',\n",
    "                    tolerance=1e7\n",
    "                )\n",
    "                \n",
    "                merged_data = merged_data.fillna(0)\n",
    "                sensor_data = merged_data[['acc_x', 'acc_y', 'acc_z',\n",
    "                                         'gyro_x', 'gyro_y', 'gyro_z']].values\n",
    "                \n",
    "                activity_labels = np.full(len(sensor_data), label2id[activity])\n",
    "                \n",
    "                windows_data, windows_labels = split_sequences(\n",
    "                    sensor_data, activity_labels, \n",
    "                    WINDOW_LENGTH, STRIDE\n",
    "                )\n",
    "                \n",
    "                if windows_data is not None and len(windows_data) > 0:\n",
    "                    train_data_normal.append(windows_data)\n",
    "                    train_labels_normal.append(windows_labels)\n",
    "                    \n",
    "            except Exception as e: \n",
    "                print(f\"Error processing file {acc_file}: {e}\")\n",
    "                \n",
    "train_data_normal = np.concatenate(train_data_normal, axis=0)\n",
    "train_labels_normal = np.concatenate(train_labels_normal)\n",
    "\n",
    "print (f\"# of windows: {len(train_data_normal)}\")\n",
    "print (f\"data shape: {train_data_normal.shape}\")\n",
    "print (f\"shape: {train_labels_normal.shape}\")\n",
    "unique_labels, counts = np.unique(train_labels_normal, return_counts=True)\n",
    "print (dict(zip(unique_labels, counts)))"
   ]
  },
  {
   "cell_type": "code",
   "execution_count": 72,
   "id": "70c96baf",
   "metadata": {
    "ExecuteTime": {
     "end_time": "2025-02-02T17:32:12.819026Z",
     "start_time": "2025-02-02T17:32:01.424129Z"
    }
   },
   "outputs": [
    {
     "name": "stderr",
     "output_type": "stream",
     "text": [
      "100%|███████████████████████████████████████████| 24/24 [00:11<00:00,  2.12it/s]"
     ]
    },
    {
     "name": "stdout",
     "output_type": "stream",
     "text": [
      "# of windows: 7193\n",
      "data shape: (7193, 6, 256)\n",
      "shape: (7193,)\n",
      "{0: 5760, 1: 1433}\n"
     ]
    },
    {
     "name": "stderr",
     "output_type": "stream",
     "text": [
      "\n"
     ]
    }
   ],
   "source": [
    "'''\n",
    "    TRAIN DATA PREPARING PART\n",
    "    ADL + FALL\n",
    "'''\n",
    "\n",
    "test_data = []\n",
    "test_labels = []\n",
    "\n",
    "all_subjects = adl_fall_subjects + fall_only_subjects\n",
    "for subject_id in tqdm(all_subjects):\n",
    "    subject_dir = os.path.join(datapath, f\"sub{subject_id}\")\n",
    "    \n",
    "    # Process ADL activities\n",
    "    adl_dir = os.path.join(subject_dir, \"ADL\")\n",
    "    if os.path.exists(adl_dir):\n",
    "        for activity in adl_activities:\n",
    "            activity_dir = os.path.join(adl_dir, activity)\n",
    "            if not os.path.exists(activity_dir):\n",
    "                continue\n",
    "\n",
    "            acc_pattern = f\"{activity}_acc_{subject_id}_*.txt\"\n",
    "            acc_files = glob.glob(os.path.join(activity_dir, acc_pattern))\n",
    "            \n",
    "            for acc_file in acc_files:\n",
    "                trial_num = acc_file.split('_')[-1]\n",
    "                gyro_file = os.path.join(activity_dir, f\"{activity}_gyro_{subject_id}_{trial_num}\")\n",
    "                \n",
    "                if not os.path.exists(gyro_file):\n",
    "                    continue\n",
    "                    \n",
    "                try:\n",
    "                    acc_data = read_sensor_file(acc_file)\n",
    "                    acc_data.columns = ['timestamp', 'acc_x', 'acc_y', 'acc_z']\n",
    "                    \n",
    "                    gyro_data = read_sensor_file(gyro_file)\n",
    "                    gyro_data.columns = ['timestamp', 'gyro_x', 'gyro_y', 'gyro_z']\n",
    "                    \n",
    "                    merged_data = pd.merge_asof(\n",
    "                        acc_data.sort_values('timestamp'),\n",
    "                        gyro_data.sort_values('timestamp'),\n",
    "                        on='timestamp',\n",
    "                        direction='nearest',\n",
    "                        tolerance=1e7\n",
    "                    )\n",
    "                    \n",
    "                    merged_data = merged_data.fillna(0)\n",
    "                    sensor_data = merged_data[['acc_x', 'acc_y', 'acc_z',\n",
    "                                             'gyro_x', 'gyro_y', 'gyro_z']].values\n",
    "                    \n",
    "                    activity_labels = np.full(len(sensor_data), label2id[activity])\n",
    "                    windows_data, windows_labels = split_sequences(sensor_data, activity_labels)\n",
    "                    \n",
    "                    if windows_data is not None and len(windows_data) > 0:\n",
    "                        test_data.append(windows_data)\n",
    "                        test_labels.append(windows_labels)\n",
    "                        \n",
    "                except Exception as e: \n",
    "                    print(f\"Error processing file {acc_file}: {e}\")\n",
    "    \n",
    "    falls_dir = os.path.join(subject_dir, \"FALLS\")\n",
    "    if os.path.exists(falls_dir):\n",
    "        for activity in fall_activities:\n",
    "            activity_dir = os.path.join(falls_dir, activity)\n",
    "            if not os.path.exists(activity_dir):\n",
    "                continue\n",
    "                \n",
    "            acc_pattern = f\"{activity}_acc_{subject_id}_*.txt\"\n",
    "            acc_files = glob.glob(os.path.join(activity_dir, acc_pattern))\n",
    "            \n",
    "            for acc_file in acc_files:\n",
    "                trial_num = acc_file.split('_')[-1]\n",
    "                gyro_file = os.path.join(activity_dir, f\"{activity}_gyro_{subject_id}_{trial_num}\")\n",
    "                \n",
    "                if not os.path.exists(gyro_file):\n",
    "                    continue\n",
    "                    \n",
    "                try:\n",
    "                    acc_data = read_sensor_file(acc_file)\n",
    "                    acc_data.columns = ['timestamp', 'acc_x', 'acc_y', 'acc_z']\n",
    "                    \n",
    "                    gyro_data = read_sensor_file(gyro_file)\n",
    "                    gyro_data.columns = ['timestamp', 'gyro_x', 'gyro_y', 'gyro_z']\n",
    "                    \n",
    "                    merged_data = pd.merge_asof(\n",
    "                        acc_data.sort_values('timestamp'),\n",
    "                        gyro_data.sort_values('timestamp'),\n",
    "                        on='timestamp',\n",
    "                        direction='nearest',\n",
    "                        tolerance=1e7\n",
    "                    )\n",
    "                    \n",
    "                    merged_data = merged_data.fillna(0)\n",
    "                    sensor_data = merged_data[['acc_x', 'acc_y', 'acc_z',\n",
    "                                             'gyro_x', 'gyro_y', 'gyro_z']].values\n",
    "                    \n",
    "                    activity_labels = np.full(len(sensor_data), label2id[activity])\n",
    "                    windows_data, windows_labels = split_sequences(sensor_data, activity_labels)\n",
    "                    \n",
    "                    if windows_data is not None and len(windows_data) > 0:\n",
    "                        test_data.append(windows_data)\n",
    "                        test_labels.append(windows_labels)\n",
    "                        \n",
    "                except Exception as e: \n",
    "                    print(f\"Error processing file {acc_file}: {e}\")\n",
    "\n",
    "test_data = np.concatenate(test_data, axis=0)\n",
    "test_labels = np.concatenate(test_labels)\n",
    "\n",
    "print(f\"# of windows: {len(test_data)}\")\n",
    "print(f\"data shape: {test_data.shape}\")\n",
    "print(f\"shape: {test_labels.shape}\")\n",
    "unique_labels, counts = np.unique(test_labels, return_counts=True)\n",
    "print(dict(zip(unique_labels, counts)))"
   ]
  },
  {
   "cell_type": "code",
   "execution_count": 73,
   "id": "c5df9c42",
   "metadata": {
    "ExecuteTime": {
     "end_time": "2025-02-02T17:32:12.978154Z",
     "start_time": "2025-02-02T17:32:12.825797Z"
    }
   },
   "outputs": [],
   "source": [
    "train_data_shape = train_data_normal.shape\n",
    "test_data_shape = test_data.shape\n",
    "\n",
    "train_data_2d = train_data_normal.reshape(-1, train_data_normal.shape[-1])\n",
    "test_data_2d = test_data.reshape(-1, test_data.shape[-1])\n",
    "\n",
    "scaler = StandardScaler()\n",
    "train_data_2d = scaler.fit_transform(train_data_2d)\n",
    "test_data_2d = scaler.transform(test_data_2d)\n",
    "\n",
    "train_data_normal = train_data_2d.reshape(train_data_shape)\n",
    "test_data = test_data_2d.reshape(test_data_shape)"
   ]
  },
  {
   "cell_type": "code",
   "execution_count": 74,
   "id": "e248e94c",
   "metadata": {
    "ExecuteTime": {
     "end_time": "2025-02-02T17:32:13.035615Z",
     "start_time": "2025-02-02T17:32:12.980526Z"
    }
   },
   "outputs": [
    {
     "name": "stdout",
     "output_type": "stream",
     "text": [
      "train data - accel shape: (5760, 6, 3)\n",
      "train data - gyro shape: (5760, 6, 253)\n",
      "test data - accel shape: (7193, 6, 3)\n",
      "test data - gyro shape: (7193, 6, 253)\n",
      "# of training batches: 45\n",
      "# of test batches: 57\n"
     ]
    }
   ],
   "source": [
    "train_acc_normal = train_data_normal[..., :3] \n",
    "train_gyro_normal = train_data_normal[..., 3:]  \n",
    "# (x, y, z)\n",
    "\n",
    "test_acc = test_data[..., :3]  \n",
    "test_gyro = test_data[..., 3:] \n",
    "\n",
    "train_dataset = tf.data.Dataset.from_tensor_slices((train_acc_normal, train_gyro_normal))\n",
    "train_dataset = train_dataset.batch(BATCH_SIZE)\n",
    "\n",
    "test_dataset = tf.data.Dataset.from_tensor_slices(\n",
    "    ((test_acc, test_gyro), test_labels)\n",
    ").batch(BATCH_SIZE)\n",
    "\n",
    "print (f\"train data - accel shape: {train_acc_normal.shape}\")\n",
    "print (f\"train data - gyro shape: {train_gyro_normal.shape}\")\n",
    "print (f\"test data - accel shape: {test_acc.shape}\")\n",
    "print (f\"test data - gyro shape: {test_gyro.shape}\")\n",
    "print (f\"# of training batches: {len(train_dataset)}\")\n",
    "print (f\"# of test batches: {len(test_dataset)}\")"
   ]
  },
  {
   "cell_type": "markdown",
   "id": "0005414b",
   "metadata": {},
   "source": [
    "------"
   ]
  },
  {
   "cell_type": "code",
   "execution_count": 75,
   "id": "227d06a5",
   "metadata": {
    "ExecuteTime": {
     "end_time": "2025-02-02T17:32:13.040979Z",
     "start_time": "2025-02-02T17:32:13.037882Z"
    }
   },
   "outputs": [],
   "source": [
    "# class Encoder(Model):\n",
    "#     def __init__(self, in_feat, out_feat, num_encoders=1, use_skip=True):\n",
    "#         super(Encoder, self).__init__()\n",
    "#         self.use_skip = use_skip\n",
    "#         self.num_encoders = num_encoders\n",
    "        \n",
    "#         for i in range(num_encoders):\n",
    "#             setattr(self, f'conv1_{i}', layers.Conv1D(filters=out_feat*3, \n",
    "#                                                       kernel_size=7, padding='same', \n",
    "#                                                       activation='relu'))\n",
    "#             setattr(self, f'maxpool1_{i}', layers.MaxPooling1D(pool_size=2, padding='same'))\n",
    "#             setattr(self, f'conv2_{i}', layers.Conv1D(filters=out_feat*2, \n",
    "#                                                       kernel_size=5, padding='same', \n",
    "#                                                       activation='relu'))\n",
    "#             setattr(self, f'maxpool2_{i}', layers.MaxPooling1D(pool_size=2, padding='same'))\n",
    "#             setattr(self, f'conv3_{i}', layers.Conv1D(filters=out_feat*1, \n",
    "#                                                       kernel_size=3, padding='same', \n",
    "#                                                       activation='relu'))\n",
    "    \n",
    "#     def call(self, x, training=False):\n",
    "#         for i in range(self.num_encoders):\n",
    "#             if self.use_skip and i > 0:\n",
    "#                 identity = x\n",
    "            \n",
    "#             x = getattr(self, f'conv1_{i}')(x)\n",
    "#             x = getattr(self, f'maxpool1_{i}')(x)\n",
    "#             x = getattr(self, f'conv2_{i}')(x)\n",
    "#             x = getattr(self, f'maxpool2_{i}')(x)\n",
    "#             x = getattr(self, f'conv3_{i}')(x)\n",
    "            \n",
    "#             if self.use_skip and i > 0:\n",
    "#                 x = x + identity\n",
    "        \n",
    "#         return tf.reduce_mean(x, axis=1)"
   ]
  },
  {
   "cell_type": "code",
   "execution_count": 76,
   "id": "5c8b9acf",
   "metadata": {
    "ExecuteTime": {
     "end_time": "2025-02-02T17:32:13.050878Z",
     "start_time": "2025-02-02T17:32:13.043029Z"
    }
   },
   "outputs": [],
   "source": [
    "class Encoder(Model):\n",
    "    def __init__(self, in_feat, out_feat, num_encoders=1):\n",
    "        super(Encoder, self).__init__()\n",
    "        \n",
    "        # Initial convolution layers\n",
    "        self.conv1 = layers.Conv1D(filters=256, kernel_size=7, padding='same')\n",
    "        self.bn1 = layers.BatchNormalization()\n",
    "        self.act1 = layers.LeakyReLU(0.2)\n",
    "        self.pool1 = layers.MaxPooling1D(pool_size=2, padding='same')\n",
    "        \n",
    "        self.conv2 = layers.Conv1D(filters=128, kernel_size=5, padding='same')\n",
    "        self.bn2 = layers.BatchNormalization()\n",
    "        self.act2 = layers.LeakyReLU(0.2)\n",
    "        self.pool2 = layers.MaxPooling1D(pool_size=2, padding='same')\n",
    "        \n",
    "        self.attention = layers.MultiHeadAttention(num_heads=8, key_dim=32)\n",
    "        self.attention_norm = layers.LayerNormalization()\n",
    "        \n",
    "        self.conv3 = layers.Conv1D(filters=64, kernel_size=3, padding='same')\n",
    "        self.bn3 = layers.BatchNormalization()\n",
    "        self.act3 = layers.LeakyReLU(0.2)\n",
    "        \n",
    "        self.global_pool = layers.GlobalAveragePooling1D()\n",
    "        self.dropout = layers.Dropout(0.3)\n",
    "        self.dense = layers.Dense(out_feat)\n",
    "    \n",
    "    def call(self, x, training=False):\n",
    "        x = self.conv1(x)\n",
    "        x = self.bn1(x)\n",
    "        x = self.act1(x)\n",
    "        x = self.pool1(x)\n",
    "        \n",
    "        x = self.conv2(x)\n",
    "        x = self.bn2(x)\n",
    "        x = self.act2(x)\n",
    "        x = self.pool2(x)\n",
    "        \n",
    "        attention_output = self.attention(x, x, x)\n",
    "        x = self.attention_norm(x + attention_output)\n",
    "        \n",
    "        x = self.conv3(x)\n",
    "        x = self.bn3(x)\n",
    "        x = self.act3(x)\n",
    "        \n",
    "        x = self.global_pool(x)\n",
    "        x = self.dropout(x, training=training)\n",
    "        x = self.dense(x)\n",
    "        \n",
    "        return x"
   ]
  },
  {
   "cell_type": "code",
   "execution_count": 77,
   "id": "6a17637e",
   "metadata": {
    "ExecuteTime": {
     "end_time": "2025-02-02T17:32:13.056314Z",
     "start_time": "2025-02-02T17:32:13.052881Z"
    }
   },
   "outputs": [],
   "source": [
    "# class CAGE(Model):\n",
    "#     def __init__(self, n_feat=6, proj_dim=128):\n",
    "#         super(CAGE, self).__init__()\n",
    "#         self.proj_dim = proj_dim\n",
    "        \n",
    "#         self.enc_A = Encoder(n_feat, 64)\n",
    "#         self.enc_G = Encoder(n_feat, 64)\n",
    "        \n",
    "#         if self.proj_dim > 0:\n",
    "#             self.proj_A = layers.Dense(proj_dim, use_bias=False)\n",
    "#             self.proj_G = layers.Dense(proj_dim, use_bias=False)\n",
    "        \n",
    "#         self.temperature = tf.Variable(0.1, trainable=True)\n",
    "    \n",
    "#     def call(self, x_accel, x_gyro, return_feat=False, training=False):\n",
    "#         f_accel = self.enc_A(x_accel, training=training)\n",
    "#         f_gyro = self.enc_G(x_gyro, training=training)\n",
    "        \n",
    "#         if self.proj_dim > 0:\n",
    "#             e_accel = self.proj_A(f_accel)\n",
    "#             e_gyro = self.proj_G(f_gyro)\n",
    "#         else:\n",
    "#             e_accel = f_accel\n",
    "#             e_gyro = f_gyro\n",
    "        \n",
    "#         e_accel = tf.math.l2_normalize(e_accel, axis=1)\n",
    "#         e_gyro = tf.math.l2_normalize(e_gyro, axis=1)\n",
    "        \n",
    "#         sim_matrix = tf.matmul(e_accel, e_gyro, transpose_b=True) / self.temperature\n",
    "        \n",
    "#         if return_feat:\n",
    "#             return sim_matrix, (e_accel, e_gyro)\n",
    "        \n",
    "#         return sim_matrix"
   ]
  },
  {
   "cell_type": "code",
   "execution_count": 78,
   "id": "188d2876",
   "metadata": {
    "ExecuteTime": {
     "end_time": "2025-02-02T17:32:13.065245Z",
     "start_time": "2025-02-02T17:32:13.058102Z"
    }
   },
   "outputs": [],
   "source": [
    "class CAGE(Model):\n",
    "    def __init__(self, n_feat=6, proj_dim=128):\n",
    "        super(CAGE, self).__init__()\n",
    "        self.proj_dim = proj_dim\n",
    "        \n",
    "        # encoders\n",
    "        self.enc_A = Encoder(n_feat, 64)\n",
    "        self.enc_G = Encoder(n_feat, 64)\n",
    "        \n",
    "        if self.proj_dim > 0:\n",
    "            self.proj_A = tf.keras.Sequential([\n",
    "                layers.Dense(proj_dim * 2, use_bias=False),\n",
    "                layers.BatchNormalization(),\n",
    "                layers.ReLU(),\n",
    "                layers.Dense(proj_dim, use_bias=False)\n",
    "            ])\n",
    "            self.proj_G = tf.keras.Sequential([\n",
    "                layers.Dense(proj_dim * 2, use_bias=False),\n",
    "                layers.BatchNormalization(),\n",
    "                layers.ReLU(),\n",
    "                layers.Dense(proj_dim, use_bias=False)\n",
    "            ])\n",
    "        \n",
    "        self.temperature = tf.Variable(0.5, trainable=True) # 0.07 -> 0.5\n",
    "    \n",
    "    def call(self, x_accel, x_gyro, return_feat=False, training=False):\n",
    "        f_accel = self.enc_A(x_accel, training=training)\n",
    "        f_gyro = self.enc_G(x_gyro, training=training)\n",
    "        \n",
    "        if self.proj_dim > 0:\n",
    "            e_accel = self.proj_A(f_accel)\n",
    "            e_gyro = self.proj_G(f_gyro)\n",
    "        else:\n",
    "            e_accel = f_accel\n",
    "            e_gyro = f_gyro\n",
    "        \n",
    "        e_accel = tf.math.l2_normalize(e_accel, axis=1)\n",
    "        e_gyro = tf.math.l2_normalize(e_gyro, axis=1)\n",
    "        \n",
    "        sim_matrix = tf.matmul(e_accel, e_gyro, transpose_b=True) / self.temperature\n",
    "        \n",
    "        if return_feat:\n",
    "            return sim_matrix, (e_accel, e_gyro)\n",
    "        \n",
    "        return sim_matrix"
   ]
  },
  {
   "cell_type": "code",
   "execution_count": 79,
   "id": "e76cde45",
   "metadata": {
    "ExecuteTime": {
     "end_time": "2025-02-02T17:32:13.115933Z",
     "start_time": "2025-02-02T17:32:13.067099Z"
    }
   },
   "outputs": [],
   "source": [
    "initial_learning_rate = 0.001\n",
    "lr_schedule = tf.keras.optimizers.schedules.ExponentialDecay(\n",
    "    initial_learning_rate,\n",
    "    decay_steps=1000,\n",
    "    decay_rate=0.9\n",
    ")\n",
    "\n",
    "model = CAGE(proj_dim=PROJ_DIM)\n",
    "optimizer = tf.keras.optimizers.Adam(learning_rate=lr_schedule)"
   ]
  },
  {
   "cell_type": "code",
   "execution_count": 80,
   "id": "6ce13c9d",
   "metadata": {
    "ExecuteTime": {
     "end_time": "2025-02-02T17:32:13.120183Z",
     "start_time": "2025-02-02T17:32:13.117385Z"
    }
   },
   "outputs": [],
   "source": [
    "# # @tf.function\n",
    "# # def contrastive_loss(logits):\n",
    "# #     \"\"\"NT-Xent Loss\"\"\"\n",
    "# #     batch_size = tf.shape(logits)[0]\n",
    "    \n",
    "# #     labels = tf.eye(batch_size) # diagonal matrix \n",
    "    \n",
    "# #     '''\n",
    "# #         loss calculating using CrossEntropy\n",
    "# #     '''\n",
    "# #     loss = tf.keras.losses.categorical_crossentropy(\n",
    "# #         labels, \n",
    "# #         tf.nn.softmax(logits, axis=-1), \n",
    "# #         from_logits=False\n",
    "# #     )\n",
    "    \n",
    "# #     return tf.reduce_mean(loss)\n",
    "\n",
    "# def contrastive_loss(sim_matrix):\n",
    "#     batch_size = tf.shape(sim_matrix)[0]\n",
    "    \n",
    "#     labels = tf.eye(batch_size)\n",
    "    \n",
    "#     loss_1 = tf.keras.losses.categorical_crossentropy(\n",
    "#         labels,\n",
    "#         tf.nn.softmax(sim_matrix, axis=1),\n",
    "#         from_logits=False\n",
    "#     )\n",
    "    \n",
    "#     loss_2 = tf.keras.losses.categorical_crossentropy(\n",
    "#         labels,\n",
    "#         tf.nn.softmax(sim_matrix, axis=0),\n",
    "#         from_logits=False\n",
    "#     )\n",
    "    \n",
    "#     total_loss = (loss_1 + loss_2) / 2\n",
    "#     return tf.reduce_mean(total_loss)"
   ]
  },
  {
   "cell_type": "code",
   "execution_count": 81,
   "id": "78b6c350",
   "metadata": {
    "ExecuteTime": {
     "end_time": "2025-02-02T17:32:13.126311Z",
     "start_time": "2025-02-02T17:32:13.122393Z"
    }
   },
   "outputs": [],
   "source": [
    "def contrastive_loss(sim_matrix, temperature=0.5):\n",
    "    batch_size = tf.shape(sim_matrix)[0]\n",
    "    \n",
    "    pos_mask = tf.eye(batch_size)\n",
    "    pos_sim = tf.reduce_sum(sim_matrix * pos_mask, axis=1)\n",
    "    \n",
    "    # Hard negative mining\n",
    "    neg_mask = 1 - pos_mask\n",
    "    neg_sim = sim_matrix * neg_mask - pos_mask * 1e9\n",
    "    hardest_neg_sim = tf.reduce_max(neg_sim, axis=1)\n",
    "    \n",
    "    # InfoNCE loss with numerical stability\n",
    "    logits = tf.concat([pos_sim[:, None], neg_sim], axis=1)\n",
    "    labels = tf.zeros(batch_size, dtype=tf.int32)\n",
    "    \n",
    "    loss = tf.nn.sparse_softmax_cross_entropy_with_logits(labels=labels, logits=logits/temperature)\n",
    "    \n",
    "    return tf.reduce_mean(loss)"
   ]
  },
  {
   "cell_type": "code",
   "execution_count": 82,
   "id": "9e1e12a0",
   "metadata": {
    "ExecuteTime": {
     "end_time": "2025-02-02T17:32:13.130949Z",
     "start_time": "2025-02-02T17:32:13.128329Z"
    }
   },
   "outputs": [],
   "source": [
    "# @tf.function\n",
    "# def train_step(model, optimizer, x_accel, x_gyro):\n",
    "#     with tf.GradientTape() as tape:\n",
    "#         sim_matrix, (e_accel, e_gyro) = model(x_accel, x_gyro, return_feat=True, training=True)\n",
    "#         loss = contrastive_loss(sim_matrix)\n",
    "    \n",
    "#     gradients = tape.gradient(loss, model.trainable_variables)\n",
    "#     gradients = [tf.clip_by_norm(g, 1.0) if g is not None else g for g in gradients]\n",
    "#     optimizer.apply_gradients(zip(gradients, model.trainable_variables))\n",
    "    \n",
    "#     return loss"
   ]
  },
  {
   "cell_type": "code",
   "execution_count": 83,
   "id": "39d478ae",
   "metadata": {
    "ExecuteTime": {
     "end_time": "2025-02-02T17:32:13.190255Z",
     "start_time": "2025-02-02T17:32:13.132760Z"
    }
   },
   "outputs": [],
   "source": [
    "@tf.function\n",
    "def train_step(model, optimizer, x_accel, x_gyro):\n",
    "    with tf.GradientTape() as tape:\n",
    "        sim_matrix, (e_accel, e_gyro) = model(x_accel, x_gyro, return_feat=True, training=True)\n",
    "        loss = contrastive_loss(sim_matrix)\n",
    "        \n",
    "        loss = tf.where(tf.math.is_finite(loss), loss, 1.0)\n",
    "    \n",
    "    gradients = tape.gradient(loss, model.trainable_variables)\n",
    "    gradients = [tf.clip_by_norm(g, 0.5) if g is not None else g for g in gradients] # <- gradient clipping\n",
    "    optimizer.apply_gradients(zip(gradients, model.trainable_variables))\n",
    "    \n",
    "    return loss"
   ]
  },
  {
   "cell_type": "markdown",
   "id": "17866465",
   "metadata": {},
   "source": [
    "----"
   ]
  },
  {
   "cell_type": "code",
   "execution_count": 84,
   "id": "81059f39",
   "metadata": {
    "ExecuteTime": {
     "end_time": "2025-02-02T17:32:13.195401Z",
     "start_time": "2025-02-02T17:32:13.192412Z"
    }
   },
   "outputs": [
    {
     "name": "stdout",
     "output_type": "stream",
     "text": [
      "<_BatchDataset element_spec=(TensorSpec(shape=(None, 6, 3), dtype=tf.float64, name=None), TensorSpec(shape=(None, 6, 253), dtype=tf.float64, name=None))>\n"
     ]
    }
   ],
   "source": [
    "print (train_dataset)"
   ]
  },
  {
   "cell_type": "code",
   "execution_count": 85,
   "id": "8b185509",
   "metadata": {
    "ExecuteTime": {
     "end_time": "2025-02-02T17:36:58.229634Z",
     "start_time": "2025-02-02T17:32:13.197634Z"
    },
    "scrolled": true
   },
   "outputs": [
    {
     "name": "stderr",
     "output_type": "stream",
     "text": [
      "Epoch 1/100: 100%|██████████████████████████████| 45/45 [00:08<00:00,  5.45it/s]\n"
     ]
    },
    {
     "name": "stdout",
     "output_type": "stream",
     "text": [
      "mean value of loss : 4.6860\n",
      "best loss achieved : 4.6860\n"
     ]
    },
    {
     "name": "stderr",
     "output_type": "stream",
     "text": [
      "Epoch 2/100: 100%|██████████████████████████████| 45/45 [00:02<00:00, 17.23it/s]\n"
     ]
    },
    {
     "name": "stdout",
     "output_type": "stream",
     "text": [
      "mean value of loss : 4.3008\n",
      "best loss achieved : 4.3008\n"
     ]
    },
    {
     "name": "stderr",
     "output_type": "stream",
     "text": [
      "Epoch 3/100: 100%|██████████████████████████████| 45/45 [00:02<00:00, 15.75it/s]\n"
     ]
    },
    {
     "name": "stdout",
     "output_type": "stream",
     "text": [
      "mean value of loss : 4.0383\n",
      "best loss achieved : 4.0383\n"
     ]
    },
    {
     "name": "stderr",
     "output_type": "stream",
     "text": [
      "Epoch 4/100: 100%|██████████████████████████████| 45/45 [00:02<00:00, 15.73it/s]\n"
     ]
    },
    {
     "name": "stdout",
     "output_type": "stream",
     "text": [
      "mean value of loss : 3.7968\n",
      "best loss achieved : 3.7968\n"
     ]
    },
    {
     "name": "stderr",
     "output_type": "stream",
     "text": [
      "Epoch 5/100: 100%|██████████████████████████████| 45/45 [00:02<00:00, 16.64it/s]\n"
     ]
    },
    {
     "name": "stdout",
     "output_type": "stream",
     "text": [
      "mean value of loss : 3.5599\n",
      "best loss achieved : 3.5599\n"
     ]
    },
    {
     "name": "stderr",
     "output_type": "stream",
     "text": [
      "Epoch 6/100: 100%|██████████████████████████████| 45/45 [00:03<00:00, 13.90it/s]\n"
     ]
    },
    {
     "name": "stdout",
     "output_type": "stream",
     "text": [
      "mean value of loss : 3.4108\n",
      "best loss achieved : 3.4108\n"
     ]
    },
    {
     "name": "stderr",
     "output_type": "stream",
     "text": [
      "Epoch 7/100: 100%|██████████████████████████████| 45/45 [00:02<00:00, 15.02it/s]\n"
     ]
    },
    {
     "name": "stdout",
     "output_type": "stream",
     "text": [
      "mean value of loss : 3.2710\n",
      "best loss achieved : 3.2710\n"
     ]
    },
    {
     "name": "stderr",
     "output_type": "stream",
     "text": [
      "Epoch 8/100: 100%|██████████████████████████████| 45/45 [00:02<00:00, 15.66it/s]\n"
     ]
    },
    {
     "name": "stdout",
     "output_type": "stream",
     "text": [
      "mean value of loss : 3.1107\n",
      "best loss achieved : 3.1107\n"
     ]
    },
    {
     "name": "stderr",
     "output_type": "stream",
     "text": [
      "Epoch 9/100: 100%|██████████████████████████████| 45/45 [00:02<00:00, 17.86it/s]\n"
     ]
    },
    {
     "name": "stdout",
     "output_type": "stream",
     "text": [
      "mean value of loss : 2.9893\n",
      "best loss achieved : 2.9893\n"
     ]
    },
    {
     "name": "stderr",
     "output_type": "stream",
     "text": [
      "Epoch 10/100: 100%|█████████████████████████████| 45/45 [00:03<00:00, 13.28it/s]\n"
     ]
    },
    {
     "name": "stdout",
     "output_type": "stream",
     "text": [
      "mean value of loss : 2.8430\n",
      "best loss achieved : 2.8430\n"
     ]
    },
    {
     "name": "stderr",
     "output_type": "stream",
     "text": [
      "Epoch 11/100: 100%|█████████████████████████████| 45/45 [00:03<00:00, 14.60it/s]\n"
     ]
    },
    {
     "name": "stdout",
     "output_type": "stream",
     "text": [
      "mean value of loss : 2.8471\n"
     ]
    },
    {
     "name": "stderr",
     "output_type": "stream",
     "text": [
      "Epoch 12/100: 100%|█████████████████████████████| 45/45 [00:02<00:00, 15.47it/s]\n"
     ]
    },
    {
     "name": "stdout",
     "output_type": "stream",
     "text": [
      "mean value of loss : 2.7815\n",
      "best loss achieved : 2.7815\n"
     ]
    },
    {
     "name": "stderr",
     "output_type": "stream",
     "text": [
      "Epoch 13/100: 100%|█████████████████████████████| 45/45 [00:02<00:00, 18.72it/s]\n"
     ]
    },
    {
     "name": "stdout",
     "output_type": "stream",
     "text": [
      "mean value of loss : 2.6924\n",
      "best loss achieved : 2.6924\n"
     ]
    },
    {
     "name": "stderr",
     "output_type": "stream",
     "text": [
      "Epoch 14/100: 100%|█████████████████████████████| 45/45 [00:02<00:00, 17.29it/s]\n"
     ]
    },
    {
     "name": "stdout",
     "output_type": "stream",
     "text": [
      "mean value of loss : 2.5685\n",
      "best loss achieved : 2.5685\n"
     ]
    },
    {
     "name": "stderr",
     "output_type": "stream",
     "text": [
      "Epoch 15/100: 100%|█████████████████████████████| 45/45 [00:03<00:00, 13.63it/s]\n"
     ]
    },
    {
     "name": "stdout",
     "output_type": "stream",
     "text": [
      "mean value of loss : 2.4418\n",
      "best loss achieved : 2.4418\n"
     ]
    },
    {
     "name": "stderr",
     "output_type": "stream",
     "text": [
      "Epoch 16/100: 100%|█████████████████████████████| 45/45 [00:03<00:00, 14.24it/s]\n"
     ]
    },
    {
     "name": "stdout",
     "output_type": "stream",
     "text": [
      "mean value of loss : 2.3947\n",
      "best loss achieved : 2.3947\n"
     ]
    },
    {
     "name": "stderr",
     "output_type": "stream",
     "text": [
      "Epoch 17/100: 100%|█████████████████████████████| 45/45 [00:03<00:00, 13.05it/s]\n"
     ]
    },
    {
     "name": "stdout",
     "output_type": "stream",
     "text": [
      "mean value of loss : 2.3620\n",
      "best loss achieved : 2.3620\n"
     ]
    },
    {
     "name": "stderr",
     "output_type": "stream",
     "text": [
      "Epoch 18/100: 100%|█████████████████████████████| 45/45 [00:03<00:00, 13.93it/s]\n"
     ]
    },
    {
     "name": "stdout",
     "output_type": "stream",
     "text": [
      "mean value of loss : 2.3480\n",
      "best loss achieved : 2.3480\n"
     ]
    },
    {
     "name": "stderr",
     "output_type": "stream",
     "text": [
      "Epoch 19/100: 100%|█████████████████████████████| 45/45 [00:03<00:00, 14.02it/s]\n"
     ]
    },
    {
     "name": "stdout",
     "output_type": "stream",
     "text": [
      "mean value of loss : 2.2773\n",
      "best loss achieved : 2.2773\n"
     ]
    },
    {
     "name": "stderr",
     "output_type": "stream",
     "text": [
      "Epoch 20/100: 100%|█████████████████████████████| 45/45 [00:03<00:00, 13.90it/s]\n"
     ]
    },
    {
     "name": "stdout",
     "output_type": "stream",
     "text": [
      "mean value of loss : 2.2472\n",
      "best loss achieved : 2.2472\n"
     ]
    },
    {
     "name": "stderr",
     "output_type": "stream",
     "text": [
      "Epoch 21/100: 100%|█████████████████████████████| 45/45 [00:03<00:00, 14.45it/s]\n"
     ]
    },
    {
     "name": "stdout",
     "output_type": "stream",
     "text": [
      "mean value of loss : 2.2950\n"
     ]
    },
    {
     "name": "stderr",
     "output_type": "stream",
     "text": [
      "Epoch 22/100: 100%|█████████████████████████████| 45/45 [00:02<00:00, 15.34it/s]\n"
     ]
    },
    {
     "name": "stdout",
     "output_type": "stream",
     "text": [
      "mean value of loss : 2.2841\n"
     ]
    },
    {
     "name": "stderr",
     "output_type": "stream",
     "text": [
      "Epoch 23/100: 100%|█████████████████████████████| 45/45 [00:02<00:00, 16.14it/s]\n"
     ]
    },
    {
     "name": "stdout",
     "output_type": "stream",
     "text": [
      "mean value of loss : 2.2007\n",
      "best loss achieved : 2.2007\n"
     ]
    },
    {
     "name": "stderr",
     "output_type": "stream",
     "text": [
      "Epoch 24/100: 100%|█████████████████████████████| 45/45 [00:03<00:00, 14.03it/s]\n"
     ]
    },
    {
     "name": "stdout",
     "output_type": "stream",
     "text": [
      "mean value of loss : 2.1368\n",
      "best loss achieved : 2.1368\n"
     ]
    },
    {
     "name": "stderr",
     "output_type": "stream",
     "text": [
      "Epoch 25/100: 100%|█████████████████████████████| 45/45 [00:03<00:00, 14.69it/s]\n"
     ]
    },
    {
     "name": "stdout",
     "output_type": "stream",
     "text": [
      "mean value of loss : 2.1735\n"
     ]
    },
    {
     "name": "stderr",
     "output_type": "stream",
     "text": [
      "Epoch 26/100: 100%|█████████████████████████████| 45/45 [00:02<00:00, 15.42it/s]\n"
     ]
    },
    {
     "name": "stdout",
     "output_type": "stream",
     "text": [
      "mean value of loss : 2.2072\n"
     ]
    },
    {
     "name": "stderr",
     "output_type": "stream",
     "text": [
      "Epoch 27/100: 100%|█████████████████████████████| 45/45 [00:02<00:00, 18.10it/s]\n"
     ]
    },
    {
     "name": "stdout",
     "output_type": "stream",
     "text": [
      "mean value of loss : 2.1150\n",
      "best loss achieved : 2.1150\n"
     ]
    },
    {
     "name": "stderr",
     "output_type": "stream",
     "text": [
      "Epoch 28/100: 100%|█████████████████████████████| 45/45 [00:02<00:00, 18.97it/s]\n"
     ]
    },
    {
     "name": "stdout",
     "output_type": "stream",
     "text": [
      "mean value of loss : 2.0778\n",
      "best loss achieved : 2.0778\n"
     ]
    },
    {
     "name": "stderr",
     "output_type": "stream",
     "text": [
      "Epoch 29/100: 100%|█████████████████████████████| 45/45 [00:02<00:00, 18.16it/s]\n"
     ]
    },
    {
     "name": "stdout",
     "output_type": "stream",
     "text": [
      "mean value of loss : 2.0459\n",
      "best loss achieved : 2.0459\n"
     ]
    },
    {
     "name": "stderr",
     "output_type": "stream",
     "text": [
      "Epoch 30/100: 100%|█████████████████████████████| 45/45 [00:03<00:00, 14.18it/s]\n"
     ]
    },
    {
     "name": "stdout",
     "output_type": "stream",
     "text": [
      "mean value of loss : 1.9248\n",
      "best loss achieved : 1.9248\n"
     ]
    },
    {
     "name": "stderr",
     "output_type": "stream",
     "text": [
      "Epoch 31/100: 100%|█████████████████████████████| 45/45 [00:03<00:00, 12.91it/s]\n"
     ]
    },
    {
     "name": "stdout",
     "output_type": "stream",
     "text": [
      "mean value of loss : 1.9416\n"
     ]
    },
    {
     "name": "stderr",
     "output_type": "stream",
     "text": [
      "Epoch 32/100: 100%|█████████████████████████████| 45/45 [00:03<00:00, 11.76it/s]\n"
     ]
    },
    {
     "name": "stdout",
     "output_type": "stream",
     "text": [
      "mean value of loss : 1.9359\n"
     ]
    },
    {
     "name": "stderr",
     "output_type": "stream",
     "text": [
      "Epoch 33/100: 100%|█████████████████████████████| 45/45 [00:03<00:00, 14.20it/s]\n"
     ]
    },
    {
     "name": "stdout",
     "output_type": "stream",
     "text": [
      "mean value of loss : 2.0348\n"
     ]
    },
    {
     "name": "stderr",
     "output_type": "stream",
     "text": [
      "Epoch 34/100: 100%|█████████████████████████████| 45/45 [00:02<00:00, 16.40it/s]\n"
     ]
    },
    {
     "name": "stdout",
     "output_type": "stream",
     "text": [
      "mean value of loss : 1.9552\n"
     ]
    },
    {
     "name": "stderr",
     "output_type": "stream",
     "text": [
      "Epoch 35/100: 100%|█████████████████████████████| 45/45 [00:03<00:00, 14.42it/s]\n"
     ]
    },
    {
     "name": "stdout",
     "output_type": "stream",
     "text": [
      "mean value of loss : 1.9487\n"
     ]
    },
    {
     "name": "stderr",
     "output_type": "stream",
     "text": [
      "Epoch 36/100: 100%|█████████████████████████████| 45/45 [00:02<00:00, 16.78it/s]\n"
     ]
    },
    {
     "name": "stdout",
     "output_type": "stream",
     "text": [
      "mean value of loss : 1.9255\n"
     ]
    },
    {
     "name": "stderr",
     "output_type": "stream",
     "text": [
      "Epoch 37/100: 100%|█████████████████████████████| 45/45 [00:02<00:00, 16.59it/s]\n"
     ]
    },
    {
     "name": "stdout",
     "output_type": "stream",
     "text": [
      "mean value of loss : 1.8881\n",
      "best loss achieved : 1.8881\n"
     ]
    },
    {
     "name": "stderr",
     "output_type": "stream",
     "text": [
      "Epoch 38/100: 100%|█████████████████████████████| 45/45 [00:02<00:00, 16.21it/s]\n"
     ]
    },
    {
     "name": "stdout",
     "output_type": "stream",
     "text": [
      "mean value of loss : 1.8666\n",
      "best loss achieved : 1.8666\n"
     ]
    },
    {
     "name": "stderr",
     "output_type": "stream",
     "text": [
      "Epoch 39/100: 100%|█████████████████████████████| 45/45 [00:03<00:00, 15.00it/s]\n"
     ]
    },
    {
     "name": "stdout",
     "output_type": "stream",
     "text": [
      "mean value of loss : 1.8203\n",
      "best loss achieved : 1.8203\n"
     ]
    },
    {
     "name": "stderr",
     "output_type": "stream",
     "text": [
      "Epoch 40/100: 100%|█████████████████████████████| 45/45 [00:02<00:00, 16.21it/s]\n"
     ]
    },
    {
     "name": "stdout",
     "output_type": "stream",
     "text": [
      "mean value of loss : 1.8933\n"
     ]
    },
    {
     "name": "stderr",
     "output_type": "stream",
     "text": [
      "Epoch 41/100: 100%|█████████████████████████████| 45/45 [00:02<00:00, 16.04it/s]\n"
     ]
    },
    {
     "name": "stdout",
     "output_type": "stream",
     "text": [
      "mean value of loss : 1.8276\n"
     ]
    },
    {
     "name": "stderr",
     "output_type": "stream",
     "text": [
      "Epoch 42/100: 100%|█████████████████████████████| 45/45 [00:02<00:00, 15.06it/s]\n"
     ]
    },
    {
     "name": "stdout",
     "output_type": "stream",
     "text": [
      "mean value of loss : 1.8284\n"
     ]
    },
    {
     "name": "stderr",
     "output_type": "stream",
     "text": [
      "Epoch 43/100: 100%|█████████████████████████████| 45/45 [00:03<00:00, 14.61it/s]\n"
     ]
    },
    {
     "name": "stdout",
     "output_type": "stream",
     "text": [
      "mean value of loss : 1.8064\n",
      "best loss achieved : 1.8064\n"
     ]
    },
    {
     "name": "stderr",
     "output_type": "stream",
     "text": [
      "Epoch 44/100: 100%|█████████████████████████████| 45/45 [00:03<00:00, 13.85it/s]\n"
     ]
    },
    {
     "name": "stdout",
     "output_type": "stream",
     "text": [
      "mean value of loss : 1.7138\n",
      "best loss achieved : 1.7138\n"
     ]
    },
    {
     "name": "stderr",
     "output_type": "stream",
     "text": [
      "Epoch 45/100: 100%|█████████████████████████████| 45/45 [00:02<00:00, 15.95it/s]\n"
     ]
    },
    {
     "name": "stdout",
     "output_type": "stream",
     "text": [
      "mean value of loss : 1.7404\n"
     ]
    },
    {
     "name": "stderr",
     "output_type": "stream",
     "text": [
      "Epoch 46/100: 100%|█████████████████████████████| 45/45 [00:02<00:00, 15.21it/s]\n"
     ]
    },
    {
     "name": "stdout",
     "output_type": "stream",
     "text": [
      "mean value of loss : 1.7886\n"
     ]
    },
    {
     "name": "stderr",
     "output_type": "stream",
     "text": [
      "Epoch 47/100: 100%|█████████████████████████████| 45/45 [00:02<00:00, 15.32it/s]\n"
     ]
    },
    {
     "name": "stdout",
     "output_type": "stream",
     "text": [
      "mean value of loss : 1.7026\n",
      "best loss achieved : 1.7026\n"
     ]
    },
    {
     "name": "stderr",
     "output_type": "stream",
     "text": [
      "Epoch 48/100: 100%|█████████████████████████████| 45/45 [00:03<00:00, 13.70it/s]\n"
     ]
    },
    {
     "name": "stdout",
     "output_type": "stream",
     "text": [
      "mean value of loss : 1.6561\n",
      "best loss achieved : 1.6561\n"
     ]
    },
    {
     "name": "stderr",
     "output_type": "stream",
     "text": [
      "Epoch 49/100: 100%|█████████████████████████████| 45/45 [00:02<00:00, 15.59it/s]\n"
     ]
    },
    {
     "name": "stdout",
     "output_type": "stream",
     "text": [
      "mean value of loss : 1.6270\n",
      "best loss achieved : 1.6270\n"
     ]
    },
    {
     "name": "stderr",
     "output_type": "stream",
     "text": [
      "Epoch 50/100: 100%|█████████████████████████████| 45/45 [00:02<00:00, 17.70it/s]\n"
     ]
    },
    {
     "name": "stdout",
     "output_type": "stream",
     "text": [
      "mean value of loss : 1.6544\n"
     ]
    },
    {
     "name": "stderr",
     "output_type": "stream",
     "text": [
      "Epoch 51/100: 100%|█████████████████████████████| 45/45 [00:02<00:00, 19.63it/s]\n"
     ]
    },
    {
     "name": "stdout",
     "output_type": "stream",
     "text": [
      "mean value of loss : 1.7547\n"
     ]
    },
    {
     "name": "stderr",
     "output_type": "stream",
     "text": [
      "Epoch 52/100: 100%|█████████████████████████████| 45/45 [00:02<00:00, 19.18it/s]\n"
     ]
    },
    {
     "name": "stdout",
     "output_type": "stream",
     "text": [
      "mean value of loss : 1.7281\n"
     ]
    },
    {
     "name": "stderr",
     "output_type": "stream",
     "text": [
      "Epoch 53/100: 100%|█████████████████████████████| 45/45 [00:02<00:00, 18.44it/s]\n"
     ]
    },
    {
     "name": "stdout",
     "output_type": "stream",
     "text": [
      "mean value of loss : 1.6148\n",
      "best loss achieved : 1.6148\n"
     ]
    },
    {
     "name": "stderr",
     "output_type": "stream",
     "text": [
      "Epoch 54/100: 100%|█████████████████████████████| 45/45 [00:02<00:00, 18.58it/s]\n"
     ]
    },
    {
     "name": "stdout",
     "output_type": "stream",
     "text": [
      "mean value of loss : 1.6212\n"
     ]
    },
    {
     "name": "stderr",
     "output_type": "stream",
     "text": [
      "Epoch 55/100: 100%|█████████████████████████████| 45/45 [00:02<00:00, 17.46it/s]\n"
     ]
    },
    {
     "name": "stdout",
     "output_type": "stream",
     "text": [
      "mean value of loss : 1.6725\n"
     ]
    },
    {
     "name": "stderr",
     "output_type": "stream",
     "text": [
      "Epoch 56/100: 100%|█████████████████████████████| 45/45 [00:02<00:00, 17.27it/s]\n"
     ]
    },
    {
     "name": "stdout",
     "output_type": "stream",
     "text": [
      "mean value of loss : 1.6961\n"
     ]
    },
    {
     "name": "stderr",
     "output_type": "stream",
     "text": [
      "Epoch 57/100: 100%|█████████████████████████████| 45/45 [00:02<00:00, 18.33it/s]\n"
     ]
    },
    {
     "name": "stdout",
     "output_type": "stream",
     "text": [
      "mean value of loss : 1.6744\n"
     ]
    },
    {
     "name": "stderr",
     "output_type": "stream",
     "text": [
      "Epoch 58/100: 100%|█████████████████████████████| 45/45 [00:02<00:00, 16.02it/s]\n"
     ]
    },
    {
     "name": "stdout",
     "output_type": "stream",
     "text": [
      "mean value of loss : 1.6665\n"
     ]
    },
    {
     "name": "stderr",
     "output_type": "stream",
     "text": [
      "Epoch 59/100: 100%|█████████████████████████████| 45/45 [00:02<00:00, 17.09it/s]\n"
     ]
    },
    {
     "name": "stdout",
     "output_type": "stream",
     "text": [
      "mean value of loss : 1.5305\n",
      "best loss achieved : 1.5305\n"
     ]
    },
    {
     "name": "stderr",
     "output_type": "stream",
     "text": [
      "Epoch 60/100: 100%|█████████████████████████████| 45/45 [00:02<00:00, 17.18it/s]\n"
     ]
    },
    {
     "name": "stdout",
     "output_type": "stream",
     "text": [
      "mean value of loss : 1.5137\n",
      "best loss achieved : 1.5137\n"
     ]
    },
    {
     "name": "stderr",
     "output_type": "stream",
     "text": [
      "Epoch 61/100: 100%|█████████████████████████████| 45/45 [00:02<00:00, 18.84it/s]\n"
     ]
    },
    {
     "name": "stdout",
     "output_type": "stream",
     "text": [
      "mean value of loss : 1.5842\n"
     ]
    },
    {
     "name": "stderr",
     "output_type": "stream",
     "text": [
      "Epoch 62/100: 100%|█████████████████████████████| 45/45 [00:02<00:00, 20.45it/s]\n"
     ]
    },
    {
     "name": "stdout",
     "output_type": "stream",
     "text": [
      "mean value of loss : 1.5591\n"
     ]
    },
    {
     "name": "stderr",
     "output_type": "stream",
     "text": [
      "Epoch 63/100: 100%|█████████████████████████████| 45/45 [00:02<00:00, 18.63it/s]\n"
     ]
    },
    {
     "name": "stdout",
     "output_type": "stream",
     "text": [
      "mean value of loss : 1.5544\n"
     ]
    },
    {
     "name": "stderr",
     "output_type": "stream",
     "text": [
      "Epoch 64/100: 100%|█████████████████████████████| 45/45 [00:02<00:00, 17.10it/s]\n"
     ]
    },
    {
     "name": "stdout",
     "output_type": "stream",
     "text": [
      "mean value of loss : 1.5667\n"
     ]
    },
    {
     "name": "stderr",
     "output_type": "stream",
     "text": [
      "Epoch 65/100: 100%|█████████████████████████████| 45/45 [00:02<00:00, 18.36it/s]\n"
     ]
    },
    {
     "name": "stdout",
     "output_type": "stream",
     "text": [
      "mean value of loss : 1.5057\n",
      "best loss achieved : 1.5057\n"
     ]
    },
    {
     "name": "stderr",
     "output_type": "stream",
     "text": [
      "Epoch 66/100: 100%|█████████████████████████████| 45/45 [00:02<00:00, 15.79it/s]\n"
     ]
    },
    {
     "name": "stdout",
     "output_type": "stream",
     "text": [
      "mean value of loss : 1.5241\n"
     ]
    },
    {
     "name": "stderr",
     "output_type": "stream",
     "text": [
      "Epoch 67/100: 100%|█████████████████████████████| 45/45 [00:02<00:00, 18.63it/s]\n"
     ]
    },
    {
     "name": "stdout",
     "output_type": "stream",
     "text": [
      "mean value of loss : 1.5628\n"
     ]
    },
    {
     "name": "stderr",
     "output_type": "stream",
     "text": [
      "Epoch 68/100: 100%|█████████████████████████████| 45/45 [00:02<00:00, 19.24it/s]\n"
     ]
    },
    {
     "name": "stdout",
     "output_type": "stream",
     "text": [
      "mean value of loss : 1.4918\n",
      "best loss achieved : 1.4918\n"
     ]
    },
    {
     "name": "stderr",
     "output_type": "stream",
     "text": [
      "Epoch 69/100: 100%|█████████████████████████████| 45/45 [00:02<00:00, 15.67it/s]\n"
     ]
    },
    {
     "name": "stdout",
     "output_type": "stream",
     "text": [
      "mean value of loss : 1.4834\n",
      "best loss achieved : 1.4834\n"
     ]
    },
    {
     "name": "stderr",
     "output_type": "stream",
     "text": [
      "Epoch 70/100: 100%|█████████████████████████████| 45/45 [00:02<00:00, 17.72it/s]\n"
     ]
    },
    {
     "name": "stdout",
     "output_type": "stream",
     "text": [
      "mean value of loss : 1.4766\n",
      "best loss achieved : 1.4766\n"
     ]
    },
    {
     "name": "stderr",
     "output_type": "stream",
     "text": [
      "Epoch 71/100: 100%|█████████████████████████████| 45/45 [00:02<00:00, 16.05it/s]\n"
     ]
    },
    {
     "name": "stdout",
     "output_type": "stream",
     "text": [
      "mean value of loss : 1.5118\n"
     ]
    },
    {
     "name": "stderr",
     "output_type": "stream",
     "text": [
      "Epoch 72/100: 100%|█████████████████████████████| 45/45 [00:02<00:00, 16.63it/s]\n"
     ]
    },
    {
     "name": "stdout",
     "output_type": "stream",
     "text": [
      "mean value of loss : 1.4649\n",
      "best loss achieved : 1.4649\n"
     ]
    },
    {
     "name": "stderr",
     "output_type": "stream",
     "text": [
      "Epoch 73/100: 100%|█████████████████████████████| 45/45 [00:02<00:00, 15.98it/s]\n"
     ]
    },
    {
     "name": "stdout",
     "output_type": "stream",
     "text": [
      "mean value of loss : 1.4404\n",
      "best loss achieved : 1.4404\n"
     ]
    },
    {
     "name": "stderr",
     "output_type": "stream",
     "text": [
      "Epoch 74/100: 100%|█████████████████████████████| 45/45 [00:02<00:00, 15.74it/s]\n"
     ]
    },
    {
     "name": "stdout",
     "output_type": "stream",
     "text": [
      "mean value of loss : 1.4648\n"
     ]
    },
    {
     "name": "stderr",
     "output_type": "stream",
     "text": [
      "Epoch 75/100: 100%|█████████████████████████████| 45/45 [00:03<00:00, 14.52it/s]\n"
     ]
    },
    {
     "name": "stdout",
     "output_type": "stream",
     "text": [
      "mean value of loss : 1.4454\n"
     ]
    },
    {
     "name": "stderr",
     "output_type": "stream",
     "text": [
      "Epoch 76/100: 100%|█████████████████████████████| 45/45 [00:03<00:00, 14.38it/s]\n"
     ]
    },
    {
     "name": "stdout",
     "output_type": "stream",
     "text": [
      "mean value of loss : 1.5259\n"
     ]
    },
    {
     "name": "stderr",
     "output_type": "stream",
     "text": [
      "Epoch 77/100: 100%|█████████████████████████████| 45/45 [00:02<00:00, 16.11it/s]\n"
     ]
    },
    {
     "name": "stdout",
     "output_type": "stream",
     "text": [
      "mean value of loss : 1.4033\n",
      "best loss achieved : 1.4033\n"
     ]
    },
    {
     "name": "stderr",
     "output_type": "stream",
     "text": [
      "Epoch 78/100: 100%|█████████████████████████████| 45/45 [00:02<00:00, 19.87it/s]\n"
     ]
    },
    {
     "name": "stdout",
     "output_type": "stream",
     "text": [
      "mean value of loss : 1.4022\n",
      "best loss achieved : 1.4022\n"
     ]
    },
    {
     "name": "stderr",
     "output_type": "stream",
     "text": [
      "Epoch 79/100: 100%|█████████████████████████████| 45/45 [00:02<00:00, 21.02it/s]\n"
     ]
    },
    {
     "name": "stdout",
     "output_type": "stream",
     "text": [
      "mean value of loss : 1.4306\n"
     ]
    },
    {
     "name": "stderr",
     "output_type": "stream",
     "text": [
      "Epoch 80/100: 100%|█████████████████████████████| 45/45 [00:02<00:00, 18.45it/s]\n"
     ]
    },
    {
     "name": "stdout",
     "output_type": "stream",
     "text": [
      "mean value of loss : 1.4286\n"
     ]
    },
    {
     "name": "stderr",
     "output_type": "stream",
     "text": [
      "Epoch 81/100: 100%|█████████████████████████████| 45/45 [00:02<00:00, 15.60it/s]\n"
     ]
    },
    {
     "name": "stdout",
     "output_type": "stream",
     "text": [
      "mean value of loss : 1.4580\n"
     ]
    },
    {
     "name": "stderr",
     "output_type": "stream",
     "text": [
      "Epoch 82/100: 100%|█████████████████████████████| 45/45 [00:02<00:00, 15.09it/s]\n"
     ]
    },
    {
     "name": "stdout",
     "output_type": "stream",
     "text": [
      "mean value of loss : 1.5133\n"
     ]
    },
    {
     "name": "stderr",
     "output_type": "stream",
     "text": [
      "Epoch 83/100: 100%|█████████████████████████████| 45/45 [00:03<00:00, 13.15it/s]\n"
     ]
    },
    {
     "name": "stdout",
     "output_type": "stream",
     "text": [
      "mean value of loss : 1.4628\n"
     ]
    },
    {
     "name": "stderr",
     "output_type": "stream",
     "text": [
      "Epoch 84/100: 100%|█████████████████████████████| 45/45 [00:03<00:00, 13.77it/s]\n"
     ]
    },
    {
     "name": "stdout",
     "output_type": "stream",
     "text": [
      "mean value of loss : 1.5061\n"
     ]
    },
    {
     "name": "stderr",
     "output_type": "stream",
     "text": [
      "Epoch 85/100: 100%|█████████████████████████████| 45/45 [00:03<00:00, 14.61it/s]\n"
     ]
    },
    {
     "name": "stdout",
     "output_type": "stream",
     "text": [
      "mean value of loss : 1.4968\n"
     ]
    },
    {
     "name": "stderr",
     "output_type": "stream",
     "text": [
      "Epoch 86/100: 100%|█████████████████████████████| 45/45 [00:02<00:00, 16.90it/s]\n"
     ]
    },
    {
     "name": "stdout",
     "output_type": "stream",
     "text": [
      "mean value of loss : 1.4896\n"
     ]
    },
    {
     "name": "stderr",
     "output_type": "stream",
     "text": [
      "Epoch 87/100: 100%|█████████████████████████████| 45/45 [00:02<00:00, 15.60it/s]\n"
     ]
    },
    {
     "name": "stdout",
     "output_type": "stream",
     "text": [
      "mean value of loss : 1.4476\n"
     ]
    },
    {
     "name": "stderr",
     "output_type": "stream",
     "text": [
      "Epoch 88/100: 100%|█████████████████████████████| 45/45 [00:02<00:00, 15.57it/s]\n"
     ]
    },
    {
     "name": "stdout",
     "output_type": "stream",
     "text": [
      "mean value of loss : 1.4052\n"
     ]
    },
    {
     "name": "stderr",
     "output_type": "stream",
     "text": [
      "Epoch 89/100: 100%|█████████████████████████████| 45/45 [00:02<00:00, 15.12it/s]\n"
     ]
    },
    {
     "name": "stdout",
     "output_type": "stream",
     "text": [
      "mean value of loss : 1.4236\n"
     ]
    },
    {
     "name": "stderr",
     "output_type": "stream",
     "text": [
      "Epoch 90/100: 100%|█████████████████████████████| 45/45 [00:03<00:00, 14.79it/s]\n"
     ]
    },
    {
     "name": "stdout",
     "output_type": "stream",
     "text": [
      "mean value of loss : 1.4066\n"
     ]
    },
    {
     "name": "stderr",
     "output_type": "stream",
     "text": [
      "Epoch 91/100: 100%|█████████████████████████████| 45/45 [00:02<00:00, 15.33it/s]\n"
     ]
    },
    {
     "name": "stdout",
     "output_type": "stream",
     "text": [
      "mean value of loss : 1.4167\n"
     ]
    },
    {
     "name": "stderr",
     "output_type": "stream",
     "text": [
      "Epoch 92/100: 100%|█████████████████████████████| 45/45 [00:02<00:00, 17.00it/s]\n"
     ]
    },
    {
     "name": "stdout",
     "output_type": "stream",
     "text": [
      "mean value of loss : 1.4009\n",
      "best loss achieved : 1.4009\n"
     ]
    },
    {
     "name": "stderr",
     "output_type": "stream",
     "text": [
      "Epoch 93/100: 100%|█████████████████████████████| 45/45 [00:02<00:00, 22.41it/s]\n"
     ]
    },
    {
     "name": "stdout",
     "output_type": "stream",
     "text": [
      "mean value of loss : 1.3709\n",
      "best loss achieved : 1.3709\n"
     ]
    },
    {
     "name": "stderr",
     "output_type": "stream",
     "text": [
      "Epoch 94/100: 100%|█████████████████████████████| 45/45 [00:02<00:00, 19.57it/s]\n"
     ]
    },
    {
     "name": "stdout",
     "output_type": "stream",
     "text": [
      "mean value of loss : 1.4081\n"
     ]
    },
    {
     "name": "stderr",
     "output_type": "stream",
     "text": [
      "Epoch 95/100: 100%|█████████████████████████████| 45/45 [00:02<00:00, 17.75it/s]\n"
     ]
    },
    {
     "name": "stdout",
     "output_type": "stream",
     "text": [
      "mean value of loss : 1.4326\n"
     ]
    },
    {
     "name": "stderr",
     "output_type": "stream",
     "text": [
      "Epoch 96/100: 100%|█████████████████████████████| 45/45 [00:02<00:00, 19.48it/s]\n"
     ]
    },
    {
     "name": "stdout",
     "output_type": "stream",
     "text": [
      "mean value of loss : 1.4563\n"
     ]
    },
    {
     "name": "stderr",
     "output_type": "stream",
     "text": [
      "Epoch 97/100: 100%|█████████████████████████████| 45/45 [00:02<00:00, 18.29it/s]\n"
     ]
    },
    {
     "name": "stdout",
     "output_type": "stream",
     "text": [
      "mean value of loss : 1.3754\n"
     ]
    },
    {
     "name": "stderr",
     "output_type": "stream",
     "text": [
      "Epoch 98/100: 100%|█████████████████████████████| 45/45 [00:02<00:00, 18.87it/s]\n"
     ]
    },
    {
     "name": "stdout",
     "output_type": "stream",
     "text": [
      "mean value of loss : 1.3582\n",
      "best loss achieved : 1.3582\n"
     ]
    },
    {
     "name": "stderr",
     "output_type": "stream",
     "text": [
      "Epoch 99/100: 100%|█████████████████████████████| 45/45 [00:02<00:00, 20.33it/s]\n"
     ]
    },
    {
     "name": "stdout",
     "output_type": "stream",
     "text": [
      "mean value of loss : 1.4138\n"
     ]
    },
    {
     "name": "stderr",
     "output_type": "stream",
     "text": [
      "Epoch 100/100: 100%|████████████████████████████| 45/45 [00:02<00:00, 20.11it/s]"
     ]
    },
    {
     "name": "stdout",
     "output_type": "stream",
     "text": [
      "mean value of loss : 1.3451\n",
      "best loss achieved : 1.3451\n",
      "END THE LEARNING\n",
      "final best loss: 1.3451\n"
     ]
    },
    {
     "name": "stderr",
     "output_type": "stream",
     "text": [
      "\n"
     ]
    }
   ],
   "source": [
    "train_losses = []\n",
    "best_loss = float('inf')\n",
    "\n",
    "for epoch in range(EPOCHS):\n",
    "    epoch_losses = []\n",
    "    \n",
    "    for acc_batch, gyro_batch in tqdm(train_dataset, desc=f'Epoch {epoch + 1}/{EPOCHS}'):\n",
    "        loss = train_step(model, optimizer, acc_batch, gyro_batch)  \n",
    "        epoch_losses.append(loss.numpy())\n",
    "    \n",
    "    avg_loss = np.mean(epoch_losses)\n",
    "    train_losses.append(avg_loss)\n",
    "    \n",
    "    print (f\"mean value of loss : {avg_loss:.4f}\")\n",
    "    \n",
    "    if avg_loss < best_loss:\n",
    "        best_loss = avg_loss\n",
    "        print (f\"best loss achieved : {best_loss:.4f}\")\n",
    "\n",
    "        \n",
    "print(\"END THE LEARNING\")\n",
    "print(f\"final best loss: {best_loss:.4f}\")"
   ]
  },
  {
   "cell_type": "code",
   "execution_count": 86,
   "id": "321c9915",
   "metadata": {
    "ExecuteTime": {
     "end_time": "2025-02-02T17:36:58.424546Z",
     "start_time": "2025-02-02T17:36:58.231895Z"
    }
   },
   "outputs": [
    {
     "data": {
      "image/png": "[encoded data removed]",
      "text/plain": [
       "<Figure size 1000x600 with 1 Axes>"
      ]
     },
     "metadata": {},
     "output_type": "display_data"
    }
   ],
   "source": [
    "plt.figure(figsize=(10, 6))\n",
    "plt.plot(train_losses, label='Training Loss')\n",
    "plt.xlabel('Epoch')\n",
    "plt.ylabel('Loss')\n",
    "plt.title('Training Loss over Epochs')\n",
    "plt.legend()\n",
    "plt.grid(True)\n",
    "plt.show()"
   ]
  },
  {
   "cell_type": "markdown",
   "id": "d5bb415c",
   "metadata": {},
   "source": [
    "----"
   ]
  },
  {
   "cell_type": "code",
   "execution_count": 87,
   "id": "aa4dc234",
   "metadata": {
    "ExecuteTime": {
     "end_time": "2025-02-02T17:36:58.430480Z",
     "start_time": "2025-02-02T17:36:58.426409Z"
    }
   },
   "outputs": [],
   "source": [
    "def compute_similarity_scores(model, data_loader):\n",
    "    similarities = []\n",
    "    labels = []\n",
    "    \n",
    "    for (acc_batch, gyro_batch), batch_labels in data_loader:\n",
    "        # get embeddings\n",
    "        _, (e_accel, e_gyro) = model(acc_batch, gyro_batch, return_feat=True, training=False) \n",
    "        # get embedding of accel and gyro\n",
    "        \n",
    "        # calculate cosine similarity between paired embeddings\n",
    "        batch_similarities = tf.reduce_sum(tf.multiply(e_accel, e_gyro), axis=1)\n",
    "        \n",
    "        similarities.extend(batch_similarities.numpy())\n",
    "        labels.extend(batch_labels.numpy())\n",
    "    \n",
    "    return np.array(similarities), np.array(labels)"
   ]
  },
  {
   "cell_type": "code",
   "execution_count": 88,
   "id": "e913403f",
   "metadata": {
    "ExecuteTime": {
     "end_time": "2025-02-02T17:37:06.212277Z",
     "start_time": "2025-02-02T17:36:58.432767Z"
    }
   },
   "outputs": [
    {
     "name": "stderr",
     "output_type": "stream",
     "text": [
      "Computing normal similarities: 100%|████████████| 45/45 [00:03<00:00, 13.02it/s]\n",
      "Computing test similarities: 100%|██████████████| 57/57 [00:04<00:00, 13.21it/s]\n"
     ]
    }
   ],
   "source": [
    "normal_similarities = []\n",
    "for acc_batch, gyro_batch in tqdm(train_dataset, desc='Computing normal similarities'):\n",
    "    # train set embedding -> similarity\n",
    "    _, (e_accel, e_gyro) = model(acc_batch, gyro_batch, return_feat=True, training=False) # <- embedding\n",
    "    sim = tf.reduce_sum(tf.multiply(e_accel, e_gyro), axis=1)\n",
    "    normal_similarities.extend(sim.numpy())\n",
    "\n",
    "test_similarities = []\n",
    "test_pred_labels = []\n",
    "for (acc_batch, gyro_batch), labels in tqdm(test_dataset, desc='Computing test similarities'):\n",
    "    # test set embedding -> simiilarity\n",
    "    _, (e_accel, e_gyro) = model(acc_batch, gyro_batch, return_feat=True, training=False) # <- embedding\n",
    "    sim = tf.reduce_sum(tf.multiply(e_accel, e_gyro), axis=1)\n",
    "    test_similarities.extend(sim.numpy())\n",
    "    test_pred_labels.extend(labels.numpy())"
   ]
  },
  {
   "cell_type": "code",
   "execution_count": 89,
   "id": "675d6168",
   "metadata": {
    "ExecuteTime": {
     "end_time": "2025-02-02T17:37:06.217069Z",
     "start_time": "2025-02-02T17:37:06.214152Z"
    }
   },
   "outputs": [],
   "source": [
    "threshold = np.percentile(normal_similarities, 10)"
   ]
  },
  {
   "cell_type": "code",
   "execution_count": 90,
   "id": "b40abe82",
   "metadata": {
    "ExecuteTime": {
     "end_time": "2025-02-02T17:37:06.607018Z",
     "start_time": "2025-02-02T17:37:06.227086Z"
    }
   },
   "outputs": [
    {
     "data": {
      "image/png": "[encoded data removed]",
      "text/plain": [
       "<Figure size 640x480 with 1 Axes>"
      ]
     },
     "metadata": {},
     "output_type": "display_data"
    }
   ],
   "source": [
    "indices = range(len(test_similarities))\n",
    "plt.scatter([i for i, l in zip(indices, test_pred_labels) if l == 0], \n",
    "           [s for s, l in zip(test_similarities, test_pred_labels) if l == 0],\n",
    "           c='blue', label='Normal (ADL)', alpha=0.5, s=20)\n",
    "plt.scatter([i for i, l in zip(indices, test_pred_labels) if l == 1],\n",
    "           [s for s, l in zip(test_similarities, test_pred_labels) if l == 1],\n",
    "           c='red', label='Fall', alpha=0.5, s=20)\n",
    "plt.axhline(y=threshold, color='green', linestyle='--', label=f'Threshold ({threshold:.3f})')\n",
    "# plt.ylim(0.0078100, 0.0078150)\n",
    "plt.xlabel('Sample Index')\n",
    "plt.ylabel('Similarity Score')\n",
    "plt.title('Similarity Scores')\n",
    "plt.legend()\n",
    "plt.grid(True)"
   ]
  },
  {
   "cell_type": "code",
   "execution_count": 91,
   "id": "1f74c78b",
   "metadata": {
    "ExecuteTime": {
     "end_time": "2025-02-02T17:37:06.611530Z",
     "start_time": "2025-02-02T17:37:06.608195Z"
    }
   },
   "outputs": [],
   "source": [
    "predictions = [1 if sim < threshold else 0 for sim in test_similarities] \n",
    "true_labels = test_pred_labels"
   ]
  },
  {
   "cell_type": "code",
   "execution_count": 92,
   "id": "53cf03cf",
   "metadata": {
    "ExecuteTime": {
     "end_time": "2025-02-02T17:37:06.768945Z",
     "start_time": "2025-02-02T17:37:06.613188Z"
    }
   },
   "outputs": [
    {
     "data": {
      "image/png": "[encoded data removed]",
      "text/plain": [
       "<Figure size 1000x800 with 2 Axes>"
      ]
     },
     "metadata": {},
     "output_type": "display_data"
    }
   ],
   "source": [
    "cm = confusion_matrix(true_labels, predictions)\n",
    "plt.figure(figsize=(10, 8))\n",
    "sns.heatmap(cm, annot=True, fmt='d', cmap='Blues')\n",
    "plt.title('Confusion Matrix')\n",
    "plt.ylabel('True Label')\n",
    "plt.xlabel('Predicted Label')\n",
    "labels = ['ADL', 'Fall']\n",
    "plt.xticks([0.5, 1.5], labels)\n",
    "plt.yticks([0.5, 1.5], labels)\n",
    "plt.show()"
   ]
  },
  {
   "cell_type": "code",
   "execution_count": 93,
   "id": "2e0d8e3f",
   "metadata": {
    "ExecuteTime": {
     "end_time": "2025-02-02T17:37:06.797266Z",
     "start_time": "2025-02-02T17:37:06.770646Z"
    }
   },
   "outputs": [
    {
     "name": "stdout",
     "output_type": "stream",
     "text": [
      "classification report\n",
      "              precision    recall  f1-score   support\n",
      "\n",
      "         ADL       0.80      0.90      0.85      5760\n",
      "        Fall       0.21      0.11      0.14      1433\n",
      "\n",
      "    accuracy                           0.74      7193\n",
      "   macro avg       0.51      0.50      0.49      7193\n",
      "weighted avg       0.68      0.74      0.71      7193\n",
      "\n"
     ]
    }
   ],
   "source": [
    "print (\"classification report\")\n",
    "print(classification_report(true_labels, predictions, \n",
    "                          target_names=['ADL', 'Fall']))"
   ]
  },
  {
   "cell_type": "code",
   "execution_count": 94,
   "id": "d382f18e",
   "metadata": {
    "ExecuteTime": {
     "end_time": "2025-02-02T17:37:10.933071Z",
     "start_time": "2025-02-02T17:37:06.799206Z"
    }
   },
   "outputs": [
    {
     "name": "stdout",
     "output_type": "stream",
     "text": [
      "[ ADL data ]\n",
      "  Mean: 0.8620\n",
      "  Std: 0.0523\n",
      "  Min: 0.2774\n",
      "  Max: 0.9655\n",
      "ADL ind 1 : 0.7562665\n",
      "ADL ind 2 : 0.85569394\n",
      "ADL ind 3 : 0.87750673\n",
      "ADL ind 4 : 0.84671164\n",
      "ADL ind 5 : 0.87736034\n",
      "ADL ind 6 : 0.85827434\n",
      "ADL ind 7 : 0.857499\n",
      "ADL ind 8 : 0.86059535\n",
      "ADL ind 9 : 0.8617231\n",
      "ADL ind 10 : 0.88073516\n",
      "ADL ind 11 : 0.8769294\n",
      "ADL ind 12 : 0.8696439\n",
      "ADL ind 13 : 0.87055844\n",
      "ADL ind 14 : 0.87291896\n",
      "ADL ind 15 : 0.80212474\n",
      "ADL ind 16 : 0.876521\n",
      "ADL ind 17 : 0.84531707\n",
      "ADL ind 18 : 0.8519269\n",
      "ADL ind 19 : 0.8884267\n",
      "ADL ind 20 : 0.7835641\n",
      "\n",
      "[ FALL data ]\n",
      "  Mean: 0.8369\n",
      "  Std: 0.0832\n",
      "  Min: 0.0419\n",
      "  Max: 0.9625\n",
      "FALL ind 1 : 0.7902132\n",
      "FALL ind 2 : 0.87523663\n",
      "FALL ind 3 : 0.8509486\n",
      "FALL ind 4 : 0.8507689\n",
      "FALL ind 5 : 0.8500626\n",
      "FALL ind 6 : 0.7982237\n",
      "FALL ind 7 : 0.8006449\n",
      "FALL ind 8 : 0.84947145\n",
      "FALL ind 9 : 0.8525752\n",
      "FALL ind 10 : 0.8547535\n",
      "FALL ind 11 : 0.79201674\n",
      "FALL ind 12 : 0.85939074\n",
      "FALL ind 13 : 0.8502431\n",
      "FALL ind 14 : 0.85504323\n",
      "FALL ind 15 : 0.85548997\n",
      "FALL ind 16 : 0.76369107\n",
      "FALL ind 17 : 0.8272477\n",
      "FALL ind 18 : 0.8646864\n",
      "FALL ind 19 : 0.8619673\n",
      "FALL ind 20 : 0.8623362\n"
     ]
    }
   ],
   "source": [
    "def calculate_similarities(model, test_dataset):\n",
    "    normal_similarities = []\n",
    "    fall_similarities = []\n",
    "    \n",
    "    for (acc_batch, gyro_batch), labels in test_dataset:\n",
    "        _, (e_accel, e_gyro) = model(acc_batch, gyro_batch, return_feat=True, training=False)\n",
    "        \n",
    "        sim = tf.reduce_sum(tf.multiply(e_accel, e_gyro), axis=1)\n",
    "        \n",
    "        for sim_score, label in zip(sim.numpy(), labels.numpy()):\n",
    "            if label == 0:  # normal\n",
    "                normal_similarities.append(sim_score)\n",
    "            else:  # fall\n",
    "                fall_similarities.append(sim_score)\n",
    "    \n",
    "    return np.array(normal_similarities), np.array(fall_similarities)\n",
    "\n",
    "normal_sims, fall_sims = calculate_similarities(model, test_dataset)\n",
    "\n",
    "print(\"[ ADL data ]\")\n",
    "print(f\"  Mean: {np.mean(normal_sims):.4f}\")\n",
    "print(f\"  Std: {np.std(normal_sims):.4f}\")\n",
    "print(f\"  Min: {np.min(normal_sims):.4f}\")\n",
    "print(f\"  Max: {np.max(normal_sims):.4f}\")\n",
    "for i in range (20) :\n",
    "    print ('ADL ind', i+1, ':', normal_sims[i])\n",
    "\n",
    "print ()\n",
    "print(\"[ FALL data ]\")\n",
    "print(f\"  Mean: {np.mean(fall_sims):.4f}\")\n",
    "print(f\"  Std: {np.std(fall_sims):.4f}\")\n",
    "print(f\"  Min: {np.min(fall_sims):.4f}\")\n",
    "print(f\"  Max: {np.max(fall_sims):.4f}\")\n",
    "for i in range (20) :\n",
    "    print ('FALL ind', i+1, ':', fall_sims[i])"
   ]
  }
 ],
 "metadata": {
  "kernelspec": {
   "display_name": "Python 3 (ipykernel)",
   "language": "python",
   "name": "python3"
  },
  "language_info": {
   "codemirror_mode": {
    "name": "ipython",
    "version": 3
   },
   "file_extension": ".py",
   "mimetype": "text/x-python",
   "name": "python",
   "nbconvert_exporter": "python",
   "pygments_lexer": "ipython3",
   "version": "3.11.3"
  },
  "varInspector": {
   "cols": {
    "lenName": 16,
    "lenType": 16,
    "lenVar": 40
   },
   "kernels_config": {
    "python": {
     "delete_cmd_postfix": "",
     "delete_cmd_prefix": "del ",
     "library": "var_list.py",
     "varRefreshCmd": "print(var_dic_list())"
    },
    "r": {
     "delete_cmd_postfix": ") ",
     "delete_cmd_prefix": "rm(",
     "library": "var_list.r",
     "varRefreshCmd": "cat(var_dic_list()) "
    }
   },
   "types_to_exclude": [
    "module",
    "function",
    "builtin_function_or_method",
    "instance",
    "_Feature"
   ],
   "window_display": false
  }
 },
 "nbformat": 4,
 "nbformat_minor": 5
}
