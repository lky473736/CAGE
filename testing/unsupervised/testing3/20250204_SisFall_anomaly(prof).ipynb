{
 "cells": [
  {
   "cell_type": "code",
   "execution_count": 189,
   "id": "b55f2495",
   "metadata": {
    "ExecuteTime": {
     "end_time": "2025-02-04T07:39:36.975426Z",
     "start_time": "2025-02-04T07:39:36.971495Z"
    }
   },
   "outputs": [],
   "source": [
    "import tensorflow as tf\n",
    "import numpy as np\n",
    "from tensorflow.keras import layers, Model\n",
    "import matplotlib.pyplot as plt \n",
    "import seaborn as sns\n",
    "import os\n",
    "import glob\n",
    "import pandas as pd\n",
    "from tqdm import tqdm\n",
    "from sklearn.metrics import confusion_matrix, classification_report\n",
    "from sklearn.preprocessing import StandardScaler"
   ]
  },
  {
   "cell_type": "code",
   "execution_count": 190,
   "id": "44399eca",
   "metadata": {
    "ExecuteTime": {
     "end_time": "2025-02-04T07:39:36.981638Z",
     "start_time": "2025-02-04T07:39:36.978514Z"
    }
   },
   "outputs": [],
   "source": [
    "WINDOW_LENGTH = 256  # data window\n",
    "STRIDE = 128        # stride\n",
    "BATCH_SIZE = 64  # batch\n",
    "EPOCHS = 10  # epoch\n",
    "LEARNING_RATE = 0.001  # lr\n",
    "PROJ_DIM = 128  # embedding dimension"
   ]
  },
  {
   "cell_type": "code",
   "execution_count": 191,
   "id": "29ebfdbf",
   "metadata": {
    "ExecuteTime": {
     "end_time": "2025-02-04T07:39:36.986476Z",
     "start_time": "2025-02-04T07:39:36.983553Z"
    }
   },
   "outputs": [],
   "source": [
    "datapath = \"../../../data/SisFall_Dataset/\" "
   ]
  },
  {
   "cell_type": "code",
   "execution_count": 192,
   "id": "e3b268bb",
   "metadata": {
    "ExecuteTime": {
     "end_time": "2025-02-04T07:39:36.995858Z",
     "start_time": "2025-02-04T07:39:36.989952Z"
    }
   },
   "outputs": [
    {
     "data": {
      "text/plain": [
       "'\\n        Each file contains nine columns and a different number of rows depending on the test length.\\n        \\n        1st column is the acceleration data in the X axis measured by the sensor ADXL345.\\n        2nd column is the acceleration data in the Y axis measured by the sensor ADXL345.\\n        3rd column is the acceleration data in the Z axis measured by the sensor ADXL345.\\n\\n        4th column is the rotation data in the X axis measured by the sensor ITG3200.\\n        5th column is the rotation data in the Y axis measured by the sensor ITG3200.\\n        6th column is the rotation data in the Z axis measured by the sensor ITG3200.\\n\\n        7th column is the acceleration data in the X axis measured by the sensor MMA8451Q.\\n        8th column is the acceleration data in the Y axis measured by the sensor MMA8451Q.\\n        9th column is the acceleration data in the Z axis measured by the sensor MMA8451Q.\\n        \\n        Data are in bits with the following characteristics:\\n\\n        ADXL345:\\n        Resolution: 13 bits\\n        Range: +-16g\\n\\n        ITG3200\\n        Resolution: 16 bits\\n        Range: +-2000°/s\\n\\n        MMA8451Q:\\n        Resolution: 14 bits\\n        Range: +-8g\\n'"
      ]
     },
     "execution_count": 192,
     "metadata": {},
     "output_type": "execute_result"
    }
   ],
   "source": [
    "'''\n",
    "        Each file contains nine columns and a different number of rows depending on the test length.\n",
    "        \n",
    "        1st column is the acceleration data in the X axis measured by the sensor ADXL345.\n",
    "        2nd column is the acceleration data in the Y axis measured by the sensor ADXL345.\n",
    "        3rd column is the acceleration data in the Z axis measured by the sensor ADXL345.\n",
    "\n",
    "        4th column is the rotation data in the X axis measured by the sensor ITG3200.\n",
    "        5th column is the rotation data in the Y axis measured by the sensor ITG3200.\n",
    "        6th column is the rotation data in the Z axis measured by the sensor ITG3200.\n",
    "\n",
    "        7th column is the acceleration data in the X axis measured by the sensor MMA8451Q.\n",
    "        8th column is the acceleration data in the Y axis measured by the sensor MMA8451Q.\n",
    "        9th column is the acceleration data in the Z axis measured by the sensor MMA8451Q.\n",
    "        \n",
    "        Data are in bits with the following characteristics:\n",
    "\n",
    "        ADXL345:\n",
    "        Resolution: 13 bits\n",
    "        Range: +-16g\n",
    "\n",
    "        ITG3200\n",
    "        Resolution: 16 bits\n",
    "        Range: +-2000°/s\n",
    "\n",
    "        MMA8451Q:\n",
    "        Resolution: 14 bits\n",
    "        Range: +-8g\n",
    "'''"
   ]
  },
  {
   "cell_type": "code",
   "execution_count": 193,
   "id": "0fb769b8",
   "metadata": {
    "ExecuteTime": {
     "end_time": "2025-02-04T07:39:37.084509Z",
     "start_time": "2025-02-04T07:39:36.997852Z"
    }
   },
   "outputs": [],
   "source": [
    "adl_activities = [f'D{str(i).zfill(2)}' for i in range(1, 20)]  # D01-D19\n",
    "fall_activities = [f'F{str(i).zfill(2)}' for i in range(1, 16)]  # F01-F15\n",
    "\n",
    "label2id = {act: 0 for act in adl_activities}\n",
    "label2id.update({act: 1 for act in fall_activities})\n",
    "\n",
    "adult_subjects = [f'SA{str(i).zfill(2)}' for i in range(1, 24)]  # SA01-SA23\n",
    "elderly_subjects = [f'SE{str(i).zfill(2)}' for i in range(1, 16)]  # SE01-SE15\n",
    "\n",
    "train_sa = adult_subjects[:16]    # 16 subjects\n",
    "val_sa = adult_subjects[16:19]    # 3 subjects\n",
    "test_sa = adult_subjects[19:]     # 4 subjects\n",
    "\n",
    "train_se = elderly_subjects[:10]  # 10 subjects\n",
    "val_se = elderly_subjects[10:12]  # 2 subjects\n",
    "test_se = elderly_subjects[12:]   # 3 subjects\n",
    "\n",
    "train_split = train_sa + train_se\n",
    "val_split = val_sa + val_se\n",
    "test_split = test_sa + test_se\n",
    "\n",
    "all_subjects = adult_subjects + elderly_subjects  # all subjects\n",
    "\n",
    "train_accel, train_gyro, train_labels = [], [], []\n",
    "test_accel, test_gyro, test_labels = [], [], []"
   ]
  },
  {
   "cell_type": "code",
   "execution_count": 194,
   "id": "82deef5e",
   "metadata": {
    "ExecuteTime": {
     "end_time": "2025-02-04T07:39:37.092690Z",
     "start_time": "2025-02-04T07:39:37.086618Z"
    }
   },
   "outputs": [],
   "source": [
    "def read_sensor_file(filepath) :\n",
    "   \"\"\"\n",
    "       first 6 columns : ADXL345 acc + ITG3200 gyro\n",
    "   \"\"\"\n",
    "   with open(filepath, 'r') as file:\n",
    "       content = file.read()\n",
    "\n",
    "   content = content.replace(' ', '')  # delete blank\n",
    "   rows = []\n",
    "\n",
    "   for line in content.split(';\\n'): \n",
    "       if line.strip():\n",
    "           try:\n",
    "               values = [float(x) for x in line.split(',')[:6]]\n",
    "               rows.append(values)\n",
    "           except (ValueError, IndexError):\n",
    "               continue\n",
    "\n",
    "   return np.array(rows)"
   ]
  },
  {
   "cell_type": "code",
   "execution_count": 195,
   "id": "577149ea",
   "metadata": {
    "ExecuteTime": {
     "end_time": "2025-02-04T07:39:37.100469Z",
     "start_time": "2025-02-04T07:39:37.095406Z"
    }
   },
   "outputs": [],
   "source": [
    "def split_sequences(data, labels, \n",
    "                    window_length=WINDOW_LENGTH, \n",
    "                    stride=STRIDE,\n",
    "                    clean=True):\n",
    "    idx = 0\n",
    "    endidx = len(data)\n",
    "    windows = []\n",
    "    window_labels = []\n",
    "    \n",
    "    while idx < endidx - window_length : \n",
    "        data_segment = data[idx:idx+window_length]\n",
    "        \n",
    "        if clean and len(np.unique(labels[idx:idx + window_length])) > 1:\n",
    "            pass\n",
    "        else:\n",
    "            windows.append(data_segment)\n",
    "            window_labels.append(labels[idx+window_length])\n",
    "        \n",
    "        idx += stride\n",
    "    \n",
    "    if len(windows) == 0:\n",
    "        return None, None\n",
    "    \n",
    "    return np.stack(windows), np.asarray(window_labels)"
   ]
  },
  {
   "cell_type": "code",
   "execution_count": 196,
   "id": "1d0f12dd",
   "metadata": {
    "ExecuteTime": {
     "end_time": "2025-02-04T07:40:07.711019Z",
     "start_time": "2025-02-04T07:39:37.102920Z"
    }
   },
   "outputs": [],
   "source": [
    "'''\n",
    "   TRAIN DATA PREPARING PART\n",
    "   ONLY \"ADL\"\n",
    "'''\n",
    "\n",
    "for subject in all_subjects:\n",
    "    subject_dir = os.path.join(datapath, subject)\n",
    "    if subject.startswith('SE') and subject != 'SE06':\n",
    "        continue\n",
    "    for activity in adl_activities:\n",
    "        activity_pattern = os.path.join(subject_dir, f\"{activity}*.txt\")\n",
    "        activity_files = glob.glob(activity_pattern)\n",
    "        for file_path in activity_files:\n",
    "            with open(file_path, 'r') as file:\n",
    "                content = file.read().replace(' ', '')\n",
    "                rows = []\n",
    "                for line in content.split(';\\n'):\n",
    "                    if line.strip():\n",
    "                        try:\n",
    "                            values = [float(x) for x in line.split(',')[:6]]\n",
    "                            rows.append(values)\n",
    "                        except (ValueError, IndexError):\n",
    "                            continue\n",
    "            if rows:\n",
    "                raw_data = np.array(rows)\n",
    "                train_accel.append(raw_data[:, :3])\n",
    "                train_gyro.append(raw_data[:, 3:6])\n",
    "                train_labels.append(label2id[activity])"
   ]
  },
  {
   "cell_type": "code",
   "execution_count": 197,
   "id": "bb4457be",
   "metadata": {
    "ExecuteTime": {
     "end_time": "2025-02-04T07:40:57.134007Z",
     "start_time": "2025-02-04T07:40:07.713534Z"
    }
   },
   "outputs": [],
   "source": [
    "'''\n",
    "   TEST DATA PREPARING PART\n",
    "   ADL + FALL\n",
    "'''\n",
    "\n",
    "for subject in all_subjects:\n",
    "    subject_dir = os.path.join(datapath, subject)\n",
    "    is_elderly = subject.startswith('SE')\n",
    "    if not (is_elderly and subject != 'SE06'):\n",
    "        for activity in adl_activities:\n",
    "            activity_pattern = os.path.join(subject_dir, f\"{activity}*.txt\")\n",
    "            activity_files = glob.glob(activity_pattern)\n",
    "            for file_path in activity_files:\n",
    "                with open(file_path, 'r') as file:\n",
    "                    content = file.read().replace(' ', '')\n",
    "                    rows = []\n",
    "                    for line in content.split(';\\n'):\n",
    "                        if line.strip():\n",
    "                            try:\n",
    "                                values = [float(x) for x in line.split(',')[:6]]\n",
    "                                rows.append(values)\n",
    "                            except (ValueError, IndexError):\n",
    "                                continue\n",
    "                if rows:\n",
    "                    raw_data = np.array(rows)\n",
    "                    test_accel.append(raw_data[:, :3])\n",
    "                    test_gyro.append(raw_data[:, 3:6])\n",
    "                    test_labels.append(label2id[activity])\n",
    "    if not is_elderly or subject == 'SE06':\n",
    "        for activity in fall_activities:\n",
    "            activity_pattern = os.path.join(subject_dir, f\"{activity}*.txt\")\n",
    "            activity_files = glob.glob(activity_pattern)\n",
    "            for file_path in activity_files:\n",
    "                with open(file_path, 'r') as file:\n",
    "                    content = file.read().replace(' ', '')\n",
    "                    rows = []\n",
    "                    for line in content.split(';\\n'):\n",
    "                        if line.strip():\n",
    "                            try:\n",
    "                                values = [float(x) for x in line.split(',')[:6]]\n",
    "                                rows.append(values)\n",
    "                            except (ValueError, IndexError):\n",
    "                                continue\n",
    "                if rows:\n",
    "                    raw_data = np.array(rows)\n",
    "                    test_accel.append(raw_data[:, :3])\n",
    "                    test_gyro.append(raw_data[:, 3:6])\n",
    "                    test_labels.append(label2id[activity])"
   ]
  },
  {
   "cell_type": "code",
   "execution_count": 198,
   "id": "be47d940",
   "metadata": {
    "ExecuteTime": {
     "end_time": "2025-02-04T07:41:02.102801Z",
     "start_time": "2025-02-04T07:40:57.140576Z"
    }
   },
   "outputs": [
    {
     "name": "stdout",
     "output_type": "stream",
     "text": [
      "Processed train_accel shape: (52925, 256, 3)\n",
      "Processed train_gyro shape: (52925, 256, 3)\n",
      "Processed train_labels shape: (52925,)\n",
      "Processed test_accel shape: (92480, 256, 3)\n",
      "Processed test_gyro shape: (92480, 256, 3)\n",
      "Processed test_labels shape: (92480,)\n"
     ]
    }
   ],
   "source": [
    "def prepare_data(data_list, labels_list, window_length=WINDOW_LENGTH, stride=STRIDE):\n",
    "    processed_data = []\n",
    "    processed_labels = []\n",
    "    \n",
    "    for data, label in zip(data_list, labels_list):\n",
    "        windows, window_labels = split_sequences(data, \n",
    "                                                 np.full(len(data), label), \n",
    "                                                 window_length=window_length, \n",
    "                                                 stride=stride)\n",
    "        \n",
    "        if windows is not None:\n",
    "            processed_data.append(windows)\n",
    "            processed_labels.append(window_labels)\n",
    "    \n",
    "    processed_data = np.concatenate(processed_data, axis=0)\n",
    "    processed_labels = np.concatenate(processed_labels, axis=0)\n",
    "    \n",
    "    return processed_data, processed_labels\n",
    "\n",
    "train_accel, train_labels = prepare_data(train_accel, train_labels)\n",
    "train_gyro, _ = prepare_data(train_gyro, train_labels)\n",
    "\n",
    "test_accel, test_labels = prepare_data(test_accel, test_labels)\n",
    "test_gyro, _ = prepare_data(test_gyro, test_labels)\n",
    "\n",
    "print(\"Processed train_accel shape:\", train_accel.shape)\n",
    "print(\"Processed train_gyro shape:\", train_gyro.shape)\n",
    "print(\"Processed train_labels shape:\", train_labels.shape)\n",
    "print(\"Processed test_accel shape:\", test_accel.shape)\n",
    "print(\"Processed test_gyro shape:\", test_gyro.shape)\n",
    "print(\"Processed test_labels shape:\", test_labels.shape)"
   ]
  },
  {
   "cell_type": "code",
   "execution_count": 199,
   "id": "3a1eb996",
   "metadata": {
    "ExecuteTime": {
     "end_time": "2025-02-04T07:41:15.311686Z",
     "start_time": "2025-02-04T07:41:02.105017Z"
    }
   },
   "outputs": [],
   "source": [
    "# z-score normalization\n",
    "\n",
    "scaler = tf.keras.layers.Normalization(axis=-1)\n",
    "scaler.adapt(np.concatenate([train_accel, test_accel,\n",
    "                             train_gyro, test_gyro], axis=0))\n",
    "train_accel = scaler(train_accel)\n",
    "test_accel = scaler(test_accel)\n",
    "train_gyro = scaler(train_gyro)\n",
    "test_gyro = scaler(test_gyro)"
   ]
  },
  {
   "cell_type": "markdown",
   "id": "0005414b",
   "metadata": {},
   "source": [
    "------"
   ]
  },
  {
   "cell_type": "code",
   "execution_count": 200,
   "id": "6a17637e",
   "metadata": {
    "ExecuteTime": {
     "end_time": "2025-02-04T07:41:15.318862Z",
     "start_time": "2025-02-04T07:41:15.314292Z"
    }
   },
   "outputs": [],
   "source": [
    "class Encoder(models.Sequential):\n",
    "    def __init__(self, input_dim, hidden_dim, output_dim):\n",
    "        super().__init__()\n",
    "        self.add(layers.LSTM(hidden_dim, input_shape=(WINDOW_LENGTH, input_dim)))\n",
    "        self.add(layers.Dense(hidden_dim, activation='relu'))\n",
    "        self.add(layers.BatchNormalization())\n",
    "        self.add(layers.Dense(output_dim))\n",
    "        self.add(layers.Lambda(lambda x: tf.math.l2_normalize(x, axis=1)))"
   ]
  },
  {
   "cell_type": "code",
   "execution_count": 201,
   "id": "e76cde45",
   "metadata": {
    "ExecuteTime": {
     "end_time": "2025-02-04T07:41:15.324272Z",
     "start_time": "2025-02-04T07:41:15.320834Z"
    }
   },
   "outputs": [],
   "source": [
    "def contrastive_loss():\n",
    "    def loss(y_true, y_pred):\n",
    "        # ||f(xi) - f(xj)||²\n",
    "        squared_distance = tf.reduce_sum(tf.square(y_pred[0] - y_pred[1]), axis=-1)\n",
    "        # L = 1/(2N) * Σ ||f(xi) - f(xj)||²\n",
    "        loss = tf.reduce_mean(squared_distance) / 2\n",
    "        return loss\n",
    "    return loss"
   ]
  },
  {
   "cell_type": "code",
   "execution_count": 202,
   "id": "335b443c",
   "metadata": {
    "ExecuteTime": {
     "end_time": "2025-02-04T07:41:16.069029Z",
     "start_time": "2025-02-04T07:41:15.326805Z"
    }
   },
   "outputs": [],
   "source": [
    "input_shape = (WINDOW_LENGTH, 3)\n",
    "\n",
    "accel_input = tf.keras.layers.Input(shape=input_shape)\n",
    "gyro_input = tf.keras.layers.Input(shape=input_shape)\n",
    "\n",
    "encoder_accel = Encoder(input_shape[-1], 64, PROJ_DIM)\n",
    "encoder_gyro = Encoder(input_shape[-1], 64, PROJ_DIM)\n",
    "\n",
    "accel_encoding = encoder_accel(accel_input)\n",
    "gyro_encoding = encoder_gyro(gyro_input)\n",
    "\n",
    "model = tf.keras.Model(\n",
    "    inputs=[accel_input, gyro_input], \n",
    "    outputs=[accel_encoding, gyro_encoding]\n",
    ")"
   ]
  },
  {
   "cell_type": "code",
   "execution_count": 203,
   "id": "c61ed63e",
   "metadata": {
    "ExecuteTime": {
     "end_time": "2025-02-04T07:41:16.081399Z",
     "start_time": "2025-02-04T07:41:16.071112Z"
    }
   },
   "outputs": [
    {
     "name": "stdout",
     "output_type": "stream",
     "text": [
      "Model: \"model_15\"\n",
      "__________________________________________________________________________________________________\n",
      " Layer (type)                Output Shape                 Param #   Connected to                  \n",
      "==================================================================================================\n",
      " input_37 (InputLayer)       [(None, 256, 3)]             0         []                            \n",
      "                                                                                                  \n",
      " input_38 (InputLayer)       [(None, 256, 3)]             0         []                            \n",
      "                                                                                                  \n",
      " encoder_28 (Encoder)        (None, 128)                  30144     ['input_37[0][0]']            \n",
      "                                                                                                  \n",
      " encoder_29 (Encoder)        (None, 128)                  30144     ['input_38[0][0]']            \n",
      "                                                                                                  \n",
      "==================================================================================================\n",
      "Total params: 60288 (235.50 KB)\n",
      "Trainable params: 60032 (234.50 KB)\n",
      "Non-trainable params: 256 (1.00 KB)\n",
      "__________________________________________________________________________________________________\n"
     ]
    }
   ],
   "source": [
    "model.summary()"
   ]
  },
  {
   "cell_type": "code",
   "execution_count": 204,
   "id": "87e8d202",
   "metadata": {
    "ExecuteTime": {
     "end_time": "2025-02-04T07:41:16.091691Z",
     "start_time": "2025-02-04T07:41:16.083021Z"
    }
   },
   "outputs": [],
   "source": [
    "model.compile(\n",
    "    optimizer=optimizers.Adam(learning_rate=LEARNING_RATE),\n",
    "    loss=contrastive_loss()\n",
    ")"
   ]
  },
  {
   "cell_type": "code",
   "execution_count": 205,
   "id": "77d699a4",
   "metadata": {
    "ExecuteTime": {
     "end_time": "2025-02-04T07:58:58.496433Z",
     "start_time": "2025-02-04T07:41:16.093376Z"
    }
   },
   "outputs": [
    {
     "name": "stdout",
     "output_type": "stream",
     "text": [
      "Epoch 1/10\n",
      "827/827 [==============================] - 80s 92ms/step - loss: 0.5264 - encoder_28_loss: 0.1977 - encoder_29_loss: 0.3287\n",
      "Epoch 2/10\n",
      "827/827 [==============================] - 109s 132ms/step - loss: 0.0051 - encoder_28_loss: 8.8327e-04 - encoder_29_loss: 0.0042\n",
      "Epoch 3/10\n",
      "827/827 [==============================] - 113s 137ms/step - loss: 0.0016 - encoder_28_loss: 5.1854e-04 - encoder_29_loss: 0.0011\n",
      "Epoch 4/10\n",
      "827/827 [==============================] - 101s 122ms/step - loss: 7.8214e-04 - encoder_28_loss: 2.4644e-04 - encoder_29_loss: 5.3570e-04\n",
      "Epoch 5/10\n",
      "827/827 [==============================] - 112s 136ms/step - loss: 3.1709e-04 - encoder_28_loss: 8.0176e-05 - encoder_29_loss: 2.3691e-04\n",
      "Epoch 6/10\n",
      "827/827 [==============================] - 104s 126ms/step - loss: 3.0626e-04 - encoder_28_loss: 1.4201e-04 - encoder_29_loss: 1.6425e-04\n",
      "Epoch 7/10\n",
      "827/827 [==============================] - 118s 143ms/step - loss: 2.0927e-04 - encoder_28_loss: 6.3938e-05 - encoder_29_loss: 1.4533e-04\n",
      "Epoch 8/10\n",
      "827/827 [==============================] - 95s 115ms/step - loss: 1.9297e-04 - encoder_28_loss: 1.0797e-04 - encoder_29_loss: 8.4994e-05\n",
      "Epoch 9/10\n",
      "827/827 [==============================] - 107s 129ms/step - loss: 7.6473e-05 - encoder_28_loss: 2.1276e-05 - encoder_29_loss: 5.5197e-05\n",
      "Epoch 10/10\n",
      "827/827 [==============================] - 123s 149ms/step - loss: 7.8388e-05 - encoder_28_loss: 2.3909e-05 - encoder_29_loss: 5.4479e-05\n"
     ]
    },
    {
     "data": {
      "text/plain": [
       "<keras.src.callbacks.History at 0x13a1c7110>"
      ]
     },
     "execution_count": 205,
     "metadata": {},
     "output_type": "execute_result"
    }
   ],
   "source": [
    "model.fit(\n",
    "    [train_accel, train_gyro], \n",
    "    [train_accel, train_gyro],  \n",
    "    # SAME input as target for contrastive learning\n",
    "    epochs=EPOCHS,\n",
    "    batch_size=BATCH_SIZE\n",
    ")"
   ]
  },
  {
   "cell_type": "code",
   "execution_count": 207,
   "id": "bc2c01d4",
   "metadata": {
    "ExecuteTime": {
     "end_time": "2025-02-04T08:08:23.733858Z",
     "start_time": "2025-02-04T08:05:17.978067Z"
    }
   },
   "outputs": [
    {
     "name": "stdout",
     "output_type": "stream",
     "text": [
      "1654/1654 [==============================] - 27s 16ms/step\n",
      "1654/1654 [==============================] - 34s 20ms/step\n",
      "2890/2890 [==============================] - 62s 21ms/step\n",
      "2890/2890 [==============================] - 59s 20ms/step\n"
     ]
    }
   ],
   "source": [
    "normal_accel_embeddings = encoder_accel.predict(train_accel)\n",
    "normal_gyro_embeddings = encoder_gyro.predict(train_gyro)\n",
    "\n",
    "anomaly_accel_embeddings = encoder_accel.predict(test_accel)\n",
    "anomaly_gyro_embeddings = encoder_gyro.predict(test_gyro)\n",
    "\n",
    "distances = np.linalg.norm(\n",
    "    np.concatenate([normal_accel_embeddings.mean(axis=0), normal_gyro_embeddings.mean(axis=0)]) -\n",
    "    np.concatenate([anomaly_accel_embeddings, anomaly_gyro_embeddings], axis=1),\n",
    "    axis=1\n",
    ")\n",
    "threshold = np.mean(distances) + np.std(distances)\n",
    "anomaly_labels_pred = distances > threshold"
   ]
  },
  {
   "cell_type": "code",
   "execution_count": 209,
   "id": "4ee4f60a",
   "metadata": {
    "ExecuteTime": {
     "end_time": "2025-02-04T08:09:19.058212Z",
     "start_time": "2025-02-04T08:09:18.882594Z"
    }
   },
   "outputs": [
    {
     "name": "stdout",
     "output_type": "stream",
     "text": [
      "Detected Anomalies: 287\n",
      "\n",
      "Anomaly Detection Performance:\n",
      "              precision    recall  f1-score   support\n",
      "\n",
      "           0       0.57      1.00      0.73     52925\n",
      "           1       0.86      0.01      0.01     39555\n",
      "\n",
      "    accuracy                           0.57     92480\n",
      "   macro avg       0.72      0.50      0.37     92480\n",
      "weighted avg       0.69      0.57      0.42     92480\n",
      "\n",
      "\n",
      "Confusion Matrix:\n",
      "[[52884    41]\n",
      " [39309   246]]\n"
     ]
    }
   ],
   "source": [
    "\n",
    "print(f'Detected Anomalies: {sum(anomaly_labels_pred)}')\n",
    "\n",
    "print('\\nAnomaly Detection Performance:')\n",
    "print(classification_report(test_labels, anomaly_labels_pred))\n",
    "\n",
    "cm = confusion_matrix(test_labels, anomaly_labels_pred)\n",
    "print('\\nConfusion Matrix:')\n",
    "print(cm)"
   ]
  },
  {
   "cell_type": "code",
   "execution_count": 213,
   "id": "ce24b74d",
   "metadata": {
    "ExecuteTime": {
     "end_time": "2025-02-04T08:14:54.270398Z",
     "start_time": "2025-02-04T08:14:54.264487Z"
    }
   },
   "outputs": [
    {
     "name": "stdout",
     "output_type": "stream",
     "text": [
      "ADL\n",
      "mean: 0.0055\n",
      "std: 0.0064\n",
      "min: 0.0024\n",
      "max: 0.2960\n",
      "\n",
      "FALL\n",
      "mean: 0.0089\n",
      "std: 0.0685\n",
      "min: 0.0024\n",
      "max: 1.9920\n"
     ]
    }
   ],
   "source": [
    "adl_distances = distances[test_labels == 0]\n",
    "fall_distances = distances[test_labels == 1]\n",
    "\n",
    "print (\"ADL\")\n",
    "print (f\"mean: {np.mean(adl_distances):.4f}\")\n",
    "print  (f\"std: {np.std(adl_distances):.4f}\")\n",
    "print (f\"min: {np.min(adl_distances):.4f}\")\n",
    "print (f\"max: {np.max(adl_distances):.4f}\")\n",
    "\n",
    "print (\"\\nFALL\")\n",
    "print (f\"mean: {np.mean(fall_distances):.4f}\")\n",
    "print (f\"std: {np.std(fall_distances):.4f}\")\n",
    "print (f\"min: {np.min(fall_distances):.4f}\")\n",
    "print (f\"max: {np.max(fall_distances):.4f}\")"
   ]
  },
  {
   "cell_type": "code",
   "execution_count": 216,
   "id": "aade4c13",
   "metadata": {
    "ExecuteTime": {
     "end_time": "2025-02-04T08:15:58.094394Z",
     "start_time": "2025-02-04T08:15:57.419505Z"
    }
   },
   "outputs": [
    {
     "data": {
      "text/plain": [
       "<matplotlib.legend.Legend at 0x13ba6ae10>"
      ]
     },
     "execution_count": 216,
     "metadata": {},
     "output_type": "execute_result"
    },
    {
     "data": {
      "image/png": "[encoded data removed]",
      "text/plain": [
       "<Figure size 640x480 with 1 Axes>"
      ]
     },
     "metadata": {},
     "output_type": "display_data"
    }
   ],
   "source": [
    "plt.scatter(adl_distances, range(len(adl_distances)), alpha=0.5, label='ADL', s=10)\n",
    "plt.scatter(fall_distances, range(len(fall_distances)), alpha=0.5, label='FALL', s=10)\n",
    "\n",
    "plt.axvline(x=threshold, color='r', linestyle='--', label='Threshold')\n",
    "\n",
    "plt.xlabel('Distance from Normal Center')\n",
    "plt.ylabel('Data Point Index')\n",
    "plt.title('Distance Distribution: ADL vs FALL')\n",
    "plt.legend()"
   ]
  }
 ],
 "metadata": {
  "kernelspec": {
   "display_name": "Python 3 (ipykernel)",
   "language": "python",
   "name": "python3"
  },
  "language_info": {
   "codemirror_mode": {
    "name": "ipython",
    "version": 3
   },
   "file_extension": ".py",
   "mimetype": "text/x-python",
   "name": "python",
   "nbconvert_exporter": "python",
   "pygments_lexer": "ipython3",
   "version": "3.11.3"
  },
  "varInspector": {
   "cols": {
    "lenName": 16,
    "lenType": 16,
    "lenVar": 40
   },
   "kernels_config": {
    "python": {
     "delete_cmd_postfix": "",
     "delete_cmd_prefix": "del ",
     "library": "var_list.py",
     "varRefreshCmd": "print(var_dic_list())"
    },
    "r": {
     "delete_cmd_postfix": ") ",
     "delete_cmd_prefix": "rm(",
     "library": "var_list.r",
     "varRefreshCmd": "cat(var_dic_list()) "
    }
   },
   "types_to_exclude": [
    "module",
    "function",
    "builtin_function_or_method",
    "instance",
    "_Feature"
   ],
   "window_display": false
  }
 },
 "nbformat": 4,
 "nbformat_minor": 5
}
