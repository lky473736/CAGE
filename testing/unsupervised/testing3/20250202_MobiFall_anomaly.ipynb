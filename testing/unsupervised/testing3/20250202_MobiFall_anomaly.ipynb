{
 "cells": [
  {
   "cell_type": "code",
   "execution_count": 116,
   "id": "b55f2495",
   "metadata": {
    "ExecuteTime": {
     "end_time": "2025-02-02T15:29:58.038378Z",
     "start_time": "2025-02-02T15:29:58.035043Z"
    }
   },
   "outputs": [],
   "source": [
    "import tensorflow as tf\n",
    "import numpy as np\n",
    "from tensorflow.keras import layers, Model\n",
    "import matplotlib.pyplot as plt \n",
    "import seaborn as sns\n",
    "import os\n",
    "import glob\n",
    "import pandas as pd\n",
    "from tqdm import tqdm\n",
    "from sklearn.metrics import confusion_matrix, classification_report"
   ]
  },
  {
   "cell_type": "code",
   "execution_count": 117,
   "id": "44399eca",
   "metadata": {
    "ExecuteTime": {
     "end_time": "2025-02-02T15:29:58.044352Z",
     "start_time": "2025-02-02T15:29:58.041653Z"
    }
   },
   "outputs": [],
   "source": [
    "WINDOW_LENGTH = 256  # data window\n",
    "STRIDE = 128  # stride\n",
    "BATCH_SIZE = 128  # batch\n",
    "EPOCHS = 100  # epoch\n",
    "LEARNING_RATE = 0.001  # lr\n",
    "PROJ_DIM = 128  # embedding dimension"
   ]
  },
  {
   "cell_type": "code",
   "execution_count": 118,
   "id": "29ebfdbf",
   "metadata": {
    "ExecuteTime": {
     "end_time": "2025-02-02T15:29:58.048777Z",
     "start_time": "2025-02-02T15:29:58.046196Z"
    }
   },
   "outputs": [],
   "source": [
    "datapath = \"../../../data/MobiFall_Dataset/\" "
   ]
  },
  {
   "cell_type": "code",
   "execution_count": 119,
   "id": "43c4c59f",
   "metadata": {
    "ExecuteTime": {
     "end_time": "2025-02-02T15:29:58.055093Z",
     "start_time": "2025-02-02T15:29:58.051784Z"
    }
   },
   "outputs": [],
   "source": [
    "adl_activities = ['STD', 'WAL', 'JOG', 'JUM', \n",
    "                  'STU', 'STN', 'SCH', 'CSI', 'CSO'] \n",
    "fall_activities = ['FOL', 'FKL', 'BSC', 'SDL'] \n",
    "\n",
    "label2id = {act: 0 for act in adl_activities}\n",
    "label2id.update({act: 1 for act in fall_activities})"
   ]
  },
  {
   "cell_type": "code",
   "execution_count": 120,
   "id": "0fb769b8",
   "metadata": {
    "ExecuteTime": {
     "end_time": "2025-02-02T15:29:58.062837Z",
     "start_time": "2025-02-02T15:29:58.056985Z"
    }
   },
   "outputs": [
    {
     "name": "stdout",
     "output_type": "stream",
     "text": [
      "ADL+Fall subjects: [1, 2, 3, 4, 5, 6, 7, 8, 9, 10, 11]\n",
      "Fall-only subjects: [12, 13, 14, 15, 16, 17, 18, 19, 20, 21, 29, 30, 31]\n",
      "Train subjects (ADL+Fall): [1, 2, 3, 4, 5, 6, 7, 8]\n",
      "Train subjects (Fall only): [12, 13, 14, 15, 16, 17, 18, 19, 20]\n",
      "Total train subjects: [1, 2, 3, 4, 5, 6, 7, 8, 12, 13, 14, 15, 16, 17, 18, 19, 20]\n",
      "\n",
      "Val subjects (ADL+Fall): [9, 10]\n",
      "Val subjects (Fall only): [21, 29]\n",
      "Total val subjects: [9, 10, 21, 29]\n",
      "\n",
      "Test subjects (ADL+Fall): [11]\n",
      "Test subjects (Fall only): [30, 31]\n",
      "Total test subjects: [11, 30, 31]\n",
      "\n",
      "Total number of train subjects: 17\n",
      "Total number of validation subjects: 4\n",
      "Total number of test subjects: 3\n"
     ]
    }
   ],
   "source": [
    "adl_fall_subjects = list(range(1, 12))\n",
    "print(\"ADL+Fall subjects:\", adl_fall_subjects)\n",
    "\n",
    "fall_only_subjects = list(range(12, 22)) + list(range(29, 32))\n",
    "print(\"Fall-only subjects:\", fall_only_subjects)\n",
    "\n",
    "train_split = adl_fall_subjects[:8] + fall_only_subjects[:9]    \n",
    "val_split = adl_fall_subjects[8:10] + fall_only_subjects[9:11]    \n",
    "test_split = adl_fall_subjects[10:] + fall_only_subjects[11:]   \n",
    "\n",
    "print(f\"Train subjects (ADL+Fall): {adl_fall_subjects[:8]}\")\n",
    "print(f\"Train subjects (Fall only): {fall_only_subjects[:9]}\")\n",
    "print(f\"Total train subjects: {train_split}\\n\")\n",
    "\n",
    "print(f\"Val subjects (ADL+Fall): {adl_fall_subjects[8:10]}\")\n",
    "print(f\"Val subjects (Fall only): {fall_only_subjects[9:11]}\")\n",
    "print(f\"Total val subjects: {val_split}\\n\")\n",
    "\n",
    "print(f\"Test subjects (ADL+Fall): {adl_fall_subjects[10:]}\")\n",
    "print(f\"Test subjects (Fall only): {fall_only_subjects[11:]}\")\n",
    "print(f\"Total test subjects: {test_split}\\n\")\n",
    "\n",
    "print(f\"Total number of train subjects: {len(train_split)}\")\n",
    "print(f\"Total number of validation subjects: {len(val_split)}\")\n",
    "print(f\"Total number of test subjects: {len(test_split)}\")"
   ]
  },
  {
   "cell_type": "code",
   "execution_count": 121,
   "id": "82deef5e",
   "metadata": {
    "ExecuteTime": {
     "end_time": "2025-02-02T15:29:58.069453Z",
     "start_time": "2025-02-02T15:29:58.064759Z"
    }
   },
   "outputs": [],
   "source": [
    "def read_sensor_file(filepath):\n",
    "    with open(filepath, 'r') as f:\n",
    "        lines = f.readlines()\n",
    "        \n",
    "        data_start = 0\n",
    "        for i, line in enumerate(lines):\n",
    "            if line.strip() == '@DATA':  # data tag finding\n",
    "                data_start = i + 1\n",
    "                break\n",
    "        \n",
    "        ###### parsing part\n",
    "        data_lines = []\n",
    "        for line in lines[data_start:]:\n",
    "            if line.strip():  \n",
    "                try:\n",
    "                    values = [float(val.strip()) for val in line.strip().split(',')]\n",
    "                    data_lines.append(values)\n",
    "                except ValueError:\n",
    "                    continue\n",
    "        \n",
    "        df = pd.DataFrame(data_lines) \n",
    "        df = df.ffill()  # forward fill\n",
    "        df = df.bfill()  # backward fill\n",
    "        return df"
   ]
  },
  {
   "cell_type": "code",
   "execution_count": 122,
   "id": "577149ea",
   "metadata": {
    "ExecuteTime": {
     "end_time": "2025-02-02T15:29:58.075662Z",
     "start_time": "2025-02-02T15:29:58.071387Z"
    }
   },
   "outputs": [],
   "source": [
    "def split_sequences(data, labels, \n",
    "                    window_length=WINDOW_LENGTH, \n",
    "                    stride=STRIDE,\n",
    "                    clean=True):\n",
    "    idx = 0\n",
    "    endidx = len(data)\n",
    "    windows = []\n",
    "    window_labels = []\n",
    "    \n",
    "    while idx < endidx - window_length:\n",
    "        data_segment = data[idx:idx+window_length].T\n",
    "        \n",
    "        if clean and len(np.unique(labels[idx:idx + window_length])) > 1:\n",
    "            pass\n",
    "        else:\n",
    "            windows.append(data_segment)\n",
    "            window_labels.append(labels[idx+window_length])\n",
    "        \n",
    "        idx += stride\n",
    "    \n",
    "    if len(windows) == 0:\n",
    "        return None, None\n",
    "    \n",
    "    return np.stack(windows), np.asarray(window_labels)"
   ]
  },
  {
   "cell_type": "code",
   "execution_count": 123,
   "id": "1d0f12dd",
   "metadata": {
    "ExecuteTime": {
     "end_time": "2025-02-02T15:30:03.673154Z",
     "start_time": "2025-02-02T15:29:58.077647Z"
    }
   },
   "outputs": [
    {
     "name": "stderr",
     "output_type": "stream",
     "text": [
      "100%|███████████████████████████████████████████| 17/17 [00:05<00:00,  3.06it/s]"
     ]
    },
    {
     "name": "stdout",
     "output_type": "stream",
     "text": [
      "# of windows: 3842\n",
      "data shape: (3842, 6, 256)\n",
      "shape: (3842,)\n",
      "{0: 3842}\n"
     ]
    },
    {
     "name": "stderr",
     "output_type": "stream",
     "text": [
      "\n"
     ]
    }
   ],
   "source": [
    "'''\n",
    "    TRAIN DATA PREPARING PART\n",
    "    ONLY \"ADL\"\n",
    "'''\n",
    "\n",
    "train_data_normal = []  \n",
    "train_labels_normal = [] \n",
    "\n",
    "for subject_id in tqdm(train_split):\n",
    "    if subject_id >= 12 :  \n",
    "        # Fall-only -> SKIP at train data\n",
    "        continue\n",
    "        \n",
    "    subject_dir = os.path.join(datapath, f\"sub{subject_id}\")\n",
    "    adl_dir = os.path.join(subject_dir, \"ADL\")\n",
    "        \n",
    "    for activity in adl_activities : # ONLY ADL (normal first)\n",
    "        activity_dir = os.path.join(adl_dir, activity)\n",
    "            \n",
    "        acc_pattern = f\"{activity}_acc_{subject_id}_*.txt\"\n",
    "        acc_files = glob.glob(os.path.join(activity_dir, acc_pattern))\n",
    "        \n",
    "        for acc_file in acc_files:\n",
    "            trial_num = acc_file.split('_')[-1]\n",
    "            gyro_file = os.path.join(activity_dir, \n",
    "                                     f\"{activity}_gyro_{subject_id}_{trial_num}\")\n",
    "                \n",
    "            try:\n",
    "                acc_data = read_sensor_file(acc_file)\n",
    "                acc_data.columns = ['timestamp', 'acc_x', 'acc_y', 'acc_z']\n",
    "                \n",
    "                gyro_data = read_sensor_file(gyro_file)\n",
    "                gyro_data.columns = ['timestamp', 'gyro_x', 'gyro_y', 'gyro_z']\n",
    "                \n",
    "                merged_data = pd.merge_asof(\n",
    "                    acc_data.sort_values('timestamp'),\n",
    "                    gyro_data.sort_values('timestamp'),\n",
    "                    on='timestamp',\n",
    "                    direction='nearest',\n",
    "                    tolerance=1e7\n",
    "                )\n",
    "                \n",
    "                merged_data = merged_data.fillna(0)\n",
    "                sensor_data = merged_data[['acc_x', 'acc_y', 'acc_z',\n",
    "                                         'gyro_x', 'gyro_y', 'gyro_z']].values\n",
    "                \n",
    "                activity_labels = np.full(len(sensor_data), label2id[activity])\n",
    "                \n",
    "                windows_data, windows_labels = split_sequences(\n",
    "                    sensor_data, activity_labels, \n",
    "                    WINDOW_LENGTH, STRIDE\n",
    "                )\n",
    "                \n",
    "                if len(windows_data) > 0:\n",
    "                    train_data_normal.append(windows_data)\n",
    "                    train_labels_normal.append(windows_labels)\n",
    "                    \n",
    "            except : \n",
    "                print (error)\n",
    "                \n",
    "train_data_normal = np.concatenate(train_data_normal, axis=0)\n",
    "train_labels_normal = np.concatenate(train_labels_normal)\n",
    "\n",
    "print (f\"# of windows: {len(train_data_normal)}\")\n",
    "print (f\"data shape: {train_data_normal.shape}\")\n",
    "print (f\"shape: {train_labels_normal.shape}\")\n",
    "unique_labels, counts = np.unique(train_labels_normal, return_counts=True)\n",
    "print (dict(zip(unique_labels, counts)))"
   ]
  },
  {
   "cell_type": "code",
   "execution_count": 124,
   "id": "70c96baf",
   "metadata": {
    "ExecuteTime": {
     "end_time": "2025-02-02T15:30:04.995500Z",
     "start_time": "2025-02-02T15:30:03.676014Z"
    }
   },
   "outputs": [
    {
     "name": "stderr",
     "output_type": "stream",
     "text": [
      "100%|█████████████████████████████████████████████| 3/3 [00:01<00:00,  2.31it/s]"
     ]
    },
    {
     "name": "stdout",
     "output_type": "stream",
     "text": [
      "# of windows: 813\n",
      "data shape: (813, 6, 256)\n",
      "shape: (813,)\n",
      "{0: 634, 1: 179}\n"
     ]
    },
    {
     "name": "stderr",
     "output_type": "stream",
     "text": [
      "\n"
     ]
    }
   ],
   "source": [
    "'''\n",
    "    TRAIN DATA PREPARING PART\n",
    "    ADL + FALL\n",
    "'''\n",
    "\n",
    "test_data = []\n",
    "test_labels = []\n",
    "\n",
    "for subject_id in tqdm(test_split):\n",
    "    subject_dir = os.path.join(datapath, f\"sub{subject_id}\")\n",
    "    \n",
    "    if subject_id < 12: # ADL\n",
    "        adl_dir = os.path.join(subject_dir, \"ADL\")\n",
    "        if os.path.exists(adl_dir):\n",
    "            for activity in adl_activities:\n",
    "                activity_dir = os.path.join(adl_dir, activity)\n",
    "                if not os.path.exists(activity_dir):\n",
    "                    continue\n",
    "\n",
    "                acc_pattern = f\"{activity}_acc_{subject_id}_*.txt\"\n",
    "                acc_files = glob.glob(os.path.join(activity_dir, acc_pattern))\n",
    "                \n",
    "                for acc_file in acc_files:\n",
    "                    trial_num = acc_file.split('_')[-1]\n",
    "                    gyro_file = os.path.join(activity_dir, f\"{activity}_gyro_{subject_id}_{trial_num}\")\n",
    "                    \n",
    "                    if not os.path.exists(gyro_file):\n",
    "                        continue\n",
    "                        \n",
    "                    try:\n",
    "                        acc_data = read_sensor_file(acc_file)\n",
    "                        acc_data.columns = ['timestamp', 'acc_x', 'acc_y', 'acc_z']\n",
    "                        \n",
    "                        gyro_data = read_sensor_file(gyro_file)\n",
    "                        gyro_data.columns = ['timestamp', 'gyro_x', 'gyro_y', 'gyro_z']\n",
    "                        \n",
    "                        merged_data = pd.merge_asof(\n",
    "                            acc_data.sort_values('timestamp'),\n",
    "                            gyro_data.sort_values('timestamp'),\n",
    "                            on='timestamp',\n",
    "                            direction='nearest',\n",
    "                            tolerance=1e7\n",
    "                        )\n",
    "                        \n",
    "                        merged_data = merged_data.fillna(0)\n",
    "                        sensor_data = merged_data[['acc_x', 'acc_y', 'acc_z',\n",
    "                                                 'gyro_x', 'gyro_y', 'gyro_z']].values\n",
    "                        \n",
    "                        activity_labels = np.full(len(sensor_data), label2id[activity])\n",
    "                        windows_data, windows_labels = split_sequences(sensor_data, activity_labels)\n",
    "                        \n",
    "                        if len(windows_data) > 0:\n",
    "                            test_data.append(windows_data)\n",
    "                            test_labels.append(windows_labels)\n",
    "                            \n",
    "                    except : \n",
    "                        print(\"error\")\n",
    "                            \n",
    "    \n",
    "    falls_dir = os.path.join(subject_dir, \"FALLS\") # FALL (all subjects)\n",
    "    if os.path.exists(falls_dir):\n",
    "        for activity in fall_activities:\n",
    "            activity_dir = os.path.join(falls_dir, activity)\n",
    "            if not os.path.exists(activity_dir):\n",
    "                continue\n",
    "                \n",
    "            acc_pattern = f\"{activity}_acc_{subject_id}_*.txt\"\n",
    "            acc_files = glob.glob(os.path.join(activity_dir, acc_pattern))\n",
    "            \n",
    "            for acc_file in acc_files:\n",
    "                trial_num = acc_file.split('_')[-1]\n",
    "                gyro_file = os.path.join(activity_dir, f\"{activity}_gyro_{subject_id}_{trial_num}\")\n",
    "                \n",
    "                if not os.path.exists(gyro_file):\n",
    "                    continue\n",
    "                    \n",
    "                try:\n",
    "                    acc_data = read_sensor_file(acc_file)\n",
    "                    acc_data.columns = ['timestamp', 'acc_x', 'acc_y', 'acc_z']\n",
    "                    \n",
    "                    gyro_data = read_sensor_file(gyro_file)\n",
    "                    gyro_data.columns = ['timestamp', 'gyro_x', 'gyro_y', 'gyro_z']\n",
    "                    \n",
    "                    merged_data = pd.merge_asof(\n",
    "                        acc_data.sort_values('timestamp'),\n",
    "                        gyro_data.sort_values('timestamp'),\n",
    "                        on='timestamp',\n",
    "                        direction='nearest',\n",
    "                        tolerance=1e7\n",
    "                    )\n",
    "                    \n",
    "                    merged_data = merged_data.fillna(0)\n",
    "                    sensor_data = merged_data[['acc_x', 'acc_y', 'acc_z',\n",
    "                                             'gyro_x', 'gyro_y', 'gyro_z']].values\n",
    "                    \n",
    "                    activity_labels = np.full(len(sensor_data), label2id[activity])\n",
    "                    windows_data, windows_labels = split_sequences(sensor_data, activity_labels)\n",
    "                    \n",
    "                    if len(windows_data) > 0:\n",
    "                        test_data.append(windows_data)\n",
    "                        test_labels.append(windows_labels)\n",
    "                        \n",
    "                except : \n",
    "                    print ('error')\n",
    "\n",
    "test_data = np.concatenate(test_data, axis=0)\n",
    "test_labels = np.concatenate(test_labels)\n",
    "\n",
    "print(f\"# of windows: {len(test_data)}\")\n",
    "print(f\"data shape: {test_data.shape}\")\n",
    "print(f\"shape: {test_labels.shape}\")\n",
    "unique_labels, counts = np.unique(test_labels, return_counts=True)\n",
    "print(dict(zip(unique_labels, counts)))"
   ]
  },
  {
   "cell_type": "code",
   "execution_count": 125,
   "id": "e248e94c",
   "metadata": {
    "ExecuteTime": {
     "end_time": "2025-02-02T15:30:05.034630Z",
     "start_time": "2025-02-02T15:30:05.001391Z"
    }
   },
   "outputs": [
    {
     "name": "stdout",
     "output_type": "stream",
     "text": [
      "train data - accel shape: (3842, 6, 3)\n",
      "train data - gyro shape: (3842, 6, 253)\n",
      "test data - accel shape: (813, 6, 3)\n",
      "test data - gyro shape: (813, 6, 253)\n",
      "# of training batches: 31\n",
      "# of test batches: 7\n"
     ]
    }
   ],
   "source": [
    "train_acc_normal = train_data_normal[..., :3] \n",
    "train_gyro_normal = train_data_normal[..., 3:]  \n",
    "# (x, y, z)\n",
    "\n",
    "test_acc = test_data[..., :3]  \n",
    "test_gyro = test_data[..., 3:] \n",
    "\n",
    "train_dataset = tf.data.Dataset.from_tensor_slices((train_acc_normal, train_gyro_normal))\n",
    "train_dataset = train_dataset.batch(BATCH_SIZE)\n",
    "\n",
    "test_dataset = tf.data.Dataset.from_tensor_slices(\n",
    "    ((test_acc, test_gyro), test_labels)\n",
    ").batch(BATCH_SIZE)\n",
    "\n",
    "print (f\"train data - accel shape: {train_acc_normal.shape}\")\n",
    "print (f\"train data - gyro shape: {train_gyro_normal.shape}\")\n",
    "print (f\"test data - accel shape: {test_acc.shape}\")\n",
    "print (f\"test data - gyro shape: {test_gyro.shape}\")\n",
    "print (f\"# of training batches: {len(train_dataset)}\")\n",
    "print (f\"# of test batches: {len(test_dataset)}\")"
   ]
  },
  {
   "cell_type": "markdown",
   "id": "0005414b",
   "metadata": {},
   "source": [
    "------"
   ]
  },
  {
   "cell_type": "code",
   "execution_count": 126,
   "id": "227d06a5",
   "metadata": {
    "ExecuteTime": {
     "end_time": "2025-02-02T15:30:05.069934Z",
     "start_time": "2025-02-02T15:30:05.036686Z"
    }
   },
   "outputs": [
    {
     "name": "stdout",
     "output_type": "stream",
     "text": [
      "input shape: (2, 256, 3)\n",
      "output shape: (2, 64)\n",
      "encoder success!\n"
     ]
    }
   ],
   "source": [
    "class Encoder(Model):\n",
    "    def __init__(self, in_feat, out_feat, num_encoders=1, use_skip=True):\n",
    "        super(Encoder, self).__init__()\n",
    "        self.use_skip = use_skip\n",
    "        self.num_encoders = num_encoders\n",
    "        \n",
    "        for i in range(num_encoders):\n",
    "            setattr(self, f'conv1_{i}', layers.Conv1D(filters=out_feat, kernel_size=3, padding='same', activation='relu'))\n",
    "            setattr(self, f'maxpool1_{i}', layers.MaxPooling1D(pool_size=2, padding='same'))\n",
    "            setattr(self, f'conv2_{i}', layers.Conv1D(filters=out_feat, kernel_size=3, padding='same', activation='relu'))\n",
    "            setattr(self, f'maxpool2_{i}', layers.MaxPooling1D(pool_size=2, padding='same'))\n",
    "            setattr(self, f'conv3_{i}', layers.Conv1D(filters=out_feat, kernel_size=3, padding='same', activation='relu'))\n",
    "    \n",
    "    def call(self, x, training=False):\n",
    "        for i in range(self.num_encoders):\n",
    "            if self.use_skip and i > 0:\n",
    "                identity = x\n",
    "            \n",
    "            x = getattr(self, f'conv1_{i}')(x)\n",
    "            x = getattr(self, f'maxpool1_{i}')(x)\n",
    "            x = getattr(self, f'conv2_{i}')(x)\n",
    "            x = getattr(self, f'maxpool2_{i}')(x)\n",
    "            x = getattr(self, f'conv3_{i}')(x)\n",
    "            \n",
    "            if self.use_skip and i > 0:\n",
    "                x = x + identity\n",
    "        \n",
    "        return tf.reduce_mean(x, axis=1)\n",
    "\n",
    "#### below : test encoder architecture\n",
    "\n",
    "test_input = tf.random.normal([2, WINDOW_LENGTH, 3])\n",
    "encoder = DefaultEncoder(in_feat=3, out_feat=64)\n",
    "test_output = encoder(test_input)\n",
    "\n",
    "print (f\"input shape: {test_input.shape}\")\n",
    "print (f\"output shape: {test_output.shape}\")\n",
    "print (\"encoder success!\")"
   ]
  },
  {
   "cell_type": "code",
   "execution_count": 127,
   "id": "6a17637e",
   "metadata": {
    "ExecuteTime": {
     "end_time": "2025-02-02T15:30:05.079844Z",
     "start_time": "2025-02-02T15:30:05.071839Z"
    }
   },
   "outputs": [],
   "source": [
    "class CAGE(Model):\n",
    "    def __init__(self, n_feat=6, proj_dim=128):\n",
    "        super(CAGE, self).__init__()\n",
    "        self.proj_dim = proj_dim\n",
    "        \n",
    "        self.enc_A = Encoder(n_feat, 64)\n",
    "        self.enc_G = Encoder(n_feat, 64)\n",
    "        \n",
    "        if self.proj_dim > 0:\n",
    "            self.proj_A = layers.Dense(proj_dim, use_bias=False)\n",
    "            self.proj_G = layers.Dense(proj_dim, use_bias=False)\n",
    "        \n",
    "        self.temperature = tf.Variable(0.1, trainable=True)\n",
    "    \n",
    "    def call(self, x_accel, x_gyro, return_feat=False, training=False):\n",
    "        f_accel = self.enc_A(x_accel, training=training)\n",
    "        f_gyro = self.enc_G(x_gyro, training=training)\n",
    "        \n",
    "        if self.proj_dim > 0:\n",
    "            e_accel = self.proj_A(f_accel)\n",
    "            e_gyro = self.proj_G(f_gyro)\n",
    "        else:\n",
    "            e_accel = f_accel\n",
    "            e_gyro = f_gyro\n",
    "        \n",
    "        e_accel = tf.math.l2_normalize(e_accel, axis=1)\n",
    "        e_gyro = tf.math.l2_normalize(e_gyro, axis=1)\n",
    "        \n",
    "        sim_matrix = tf.matmul(e_accel, e_gyro, transpose_b=True) / self.temperature\n",
    "        \n",
    "        if return_feat:\n",
    "            return sim_matrix, (e_accel, e_gyro)\n",
    "        \n",
    "        return sim_matrix"
   ]
  },
  {
   "cell_type": "code",
   "execution_count": 128,
   "id": "e76cde45",
   "metadata": {
    "ExecuteTime": {
     "end_time": "2025-02-02T15:30:05.106296Z",
     "start_time": "2025-02-02T15:30:05.081883Z"
    }
   },
   "outputs": [],
   "source": [
    "model = CAGE(proj_dim=PROJ_DIM)\n",
    "optimizer = tf.keras.optimizers.Adam(\n",
    "    learning_rate=LEARNING_RATE\n",
    ")"
   ]
  },
  {
   "cell_type": "code",
   "execution_count": 129,
   "id": "6ce13c9d",
   "metadata": {
    "ExecuteTime": {
     "end_time": "2025-02-02T15:30:05.112752Z",
     "start_time": "2025-02-02T15:30:05.108325Z"
    }
   },
   "outputs": [],
   "source": [
    "# @tf.function\n",
    "# def contrastive_loss(logits):\n",
    "#     \"\"\"NT-Xent Loss\"\"\"\n",
    "#     batch_size = tf.shape(logits)[0]\n",
    "    \n",
    "#     labels = tf.eye(batch_size) # diagonal matrix \n",
    "    \n",
    "#     '''\n",
    "#         loss calculating using CrossEntropy\n",
    "#     '''\n",
    "#     loss = tf.keras.losses.categorical_crossentropy(\n",
    "#         labels, \n",
    "#         tf.nn.softmax(logits, axis=-1), \n",
    "#         from_logits=False\n",
    "#     )\n",
    "    \n",
    "#     return tf.reduce_mean(loss)\n",
    "\n",
    "def contrastive_loss(sim_matrix):\n",
    "    batch_size = tf.shape(sim_matrix)[0]\n",
    "    \n",
    "    labels = tf.eye(batch_size)\n",
    "    \n",
    "    loss_1 = tf.keras.losses.categorical_crossentropy(\n",
    "        labels,\n",
    "        tf.nn.softmax(sim_matrix, axis=1),\n",
    "        from_logits=False\n",
    "    )\n",
    "    \n",
    "    loss_2 = tf.keras.losses.categorical_crossentropy(\n",
    "        labels,\n",
    "        tf.nn.softmax(sim_matrix, axis=0),\n",
    "        from_logits=False\n",
    "    )\n",
    "    \n",
    "    # Take mean of both directional losses\n",
    "    total_loss = (loss_1 + loss_2) / 2\n",
    "    return tf.reduce_mean(total_loss)"
   ]
  },
  {
   "cell_type": "code",
   "execution_count": 130,
   "id": "9e1e12a0",
   "metadata": {
    "ExecuteTime": {
     "end_time": "2025-02-02T15:30:05.167630Z",
     "start_time": "2025-02-02T15:30:05.114686Z"
    }
   },
   "outputs": [],
   "source": [
    "@tf.function\n",
    "def train_step(model, optimizer, x_accel, x_gyro):\n",
    "    with tf.GradientTape() as tape:\n",
    "        sim_matrix, (e_accel, e_gyro) = model(x_accel, x_gyro, return_feat=True, training=True)\n",
    "        loss = contrastive_loss(sim_matrix)\n",
    "    \n",
    "    gradients = tape.gradient(loss, model.trainable_variables)\n",
    "    gradients = [tf.clip_by_norm(g, 1.0) if g is not None else g for g in gradients]\n",
    "    optimizer.apply_gradients(zip(gradients, model.trainable_variables))\n",
    "    \n",
    "    return loss"
   ]
  },
  {
   "cell_type": "markdown",
   "id": "17866465",
   "metadata": {},
   "source": [
    "----"
   ]
  },
  {
   "cell_type": "code",
   "execution_count": 131,
   "id": "81059f39",
   "metadata": {
    "ExecuteTime": {
     "end_time": "2025-02-02T15:30:05.172491Z",
     "start_time": "2025-02-02T15:30:05.169748Z"
    }
   },
   "outputs": [
    {
     "name": "stdout",
     "output_type": "stream",
     "text": [
      "<_BatchDataset element_spec=(TensorSpec(shape=(None, 6, 3), dtype=tf.float64, name=None), TensorSpec(shape=(None, 6, 253), dtype=tf.float64, name=None))>\n"
     ]
    }
   ],
   "source": [
    "print (train_dataset)"
   ]
  },
  {
   "cell_type": "code",
   "execution_count": 132,
   "id": "8b185509",
   "metadata": {
    "ExecuteTime": {
     "end_time": "2025-02-02T15:30:45.336419Z",
     "start_time": "2025-02-02T15:30:05.174301Z"
    },
    "scrolled": true
   },
   "outputs": [
    {
     "name": "stderr",
     "output_type": "stream",
     "text": [
      "Epoch 1/100: 100%|██████████████████████████████| 31/31 [00:02<00:00, 11.52it/s]\n"
     ]
    },
    {
     "name": "stdout",
     "output_type": "stream",
     "text": [
      "mean value of loss : 4.5656\n",
      "best loss achieved : 4.5656\n"
     ]
    },
    {
     "name": "stderr",
     "output_type": "stream",
     "text": [
      "Epoch 2/100: 100%|██████████████████████████████| 31/31 [00:00<00:00, 54.63it/s]\n"
     ]
    },
    {
     "name": "stdout",
     "output_type": "stream",
     "text": [
      "mean value of loss : 4.2499\n",
      "best loss achieved : 4.2499\n"
     ]
    },
    {
     "name": "stderr",
     "output_type": "stream",
     "text": [
      "Epoch 3/100: 100%|██████████████████████████████| 31/31 [00:00<00:00, 55.47it/s]\n"
     ]
    },
    {
     "name": "stdout",
     "output_type": "stream",
     "text": [
      "mean value of loss : 4.0104\n",
      "best loss achieved : 4.0104\n"
     ]
    },
    {
     "name": "stderr",
     "output_type": "stream",
     "text": [
      "Epoch 4/100: 100%|██████████████████████████████| 31/31 [00:00<00:00, 82.07it/s]\n"
     ]
    },
    {
     "name": "stdout",
     "output_type": "stream",
     "text": [
      "mean value of loss : 3.8254\n",
      "best loss achieved : 3.8254\n"
     ]
    },
    {
     "name": "stderr",
     "output_type": "stream",
     "text": [
      "Epoch 5/100: 100%|██████████████████████████████| 31/31 [00:00<00:00, 82.15it/s]\n"
     ]
    },
    {
     "name": "stdout",
     "output_type": "stream",
     "text": [
      "mean value of loss : 3.6726\n",
      "best loss achieved : 3.6726\n"
     ]
    },
    {
     "name": "stderr",
     "output_type": "stream",
     "text": [
      "Epoch 6/100: 100%|██████████████████████████████| 31/31 [00:00<00:00, 71.49it/s]\n"
     ]
    },
    {
     "name": "stdout",
     "output_type": "stream",
     "text": [
      "mean value of loss : 3.5471\n",
      "best loss achieved : 3.5471\n"
     ]
    },
    {
     "name": "stderr",
     "output_type": "stream",
     "text": [
      "Epoch 7/100: 100%|██████████████████████████████| 31/31 [00:00<00:00, 83.34it/s]\n"
     ]
    },
    {
     "name": "stdout",
     "output_type": "stream",
     "text": [
      "mean value of loss : 3.5522\n"
     ]
    },
    {
     "name": "stderr",
     "output_type": "stream",
     "text": [
      "Epoch 8/100: 100%|██████████████████████████████| 31/31 [00:00<00:00, 81.83it/s]\n"
     ]
    },
    {
     "name": "stdout",
     "output_type": "stream",
     "text": [
      "mean value of loss : 3.3397\n",
      "best loss achieved : 3.3397\n"
     ]
    },
    {
     "name": "stderr",
     "output_type": "stream",
     "text": [
      "Epoch 9/100: 100%|██████████████████████████████| 31/31 [00:00<00:00, 80.34it/s]\n"
     ]
    },
    {
     "name": "stdout",
     "output_type": "stream",
     "text": [
      "mean value of loss : 3.1906\n",
      "best loss achieved : 3.1906\n"
     ]
    },
    {
     "name": "stderr",
     "output_type": "stream",
     "text": [
      "Epoch 10/100: 100%|█████████████████████████████| 31/31 [00:00<00:00, 75.15it/s]\n"
     ]
    },
    {
     "name": "stdout",
     "output_type": "stream",
     "text": [
      "mean value of loss : 3.2091\n"
     ]
    },
    {
     "name": "stderr",
     "output_type": "stream",
     "text": [
      "Epoch 11/100: 100%|█████████████████████████████| 31/31 [00:00<00:00, 67.37it/s]\n"
     ]
    },
    {
     "name": "stdout",
     "output_type": "stream",
     "text": [
      "mean value of loss : 3.1835\n",
      "best loss achieved : 3.1835\n"
     ]
    },
    {
     "name": "stderr",
     "output_type": "stream",
     "text": [
      "Epoch 12/100: 100%|█████████████████████████████| 31/31 [00:00<00:00, 71.11it/s]\n"
     ]
    },
    {
     "name": "stdout",
     "output_type": "stream",
     "text": [
      "mean value of loss : 3.1522\n",
      "best loss achieved : 3.1522\n"
     ]
    },
    {
     "name": "stderr",
     "output_type": "stream",
     "text": [
      "Epoch 13/100: 100%|█████████████████████████████| 31/31 [00:00<00:00, 62.53it/s]\n"
     ]
    },
    {
     "name": "stdout",
     "output_type": "stream",
     "text": [
      "mean value of loss : 3.1322\n",
      "best loss achieved : 3.1322\n"
     ]
    },
    {
     "name": "stderr",
     "output_type": "stream",
     "text": [
      "Epoch 14/100: 100%|█████████████████████████████| 31/31 [00:00<00:00, 69.00it/s]\n"
     ]
    },
    {
     "name": "stdout",
     "output_type": "stream",
     "text": [
      "mean value of loss : 2.9652\n",
      "best loss achieved : 2.9652\n"
     ]
    },
    {
     "name": "stderr",
     "output_type": "stream",
     "text": [
      "Epoch 15/100: 100%|█████████████████████████████| 31/31 [00:00<00:00, 75.98it/s]\n"
     ]
    },
    {
     "name": "stdout",
     "output_type": "stream",
     "text": [
      "mean value of loss : 2.8016\n",
      "best loss achieved : 2.8016\n"
     ]
    },
    {
     "name": "stderr",
     "output_type": "stream",
     "text": [
      "Epoch 16/100: 100%|█████████████████████████████| 31/31 [00:00<00:00, 96.91it/s]\n"
     ]
    },
    {
     "name": "stdout",
     "output_type": "stream",
     "text": [
      "mean value of loss : 2.7269\n",
      "best loss achieved : 2.7269\n"
     ]
    },
    {
     "name": "stderr",
     "output_type": "stream",
     "text": [
      "Epoch 17/100: 100%|████████████████████████████| 31/31 [00:00<00:00, 110.10it/s]\n"
     ]
    },
    {
     "name": "stdout",
     "output_type": "stream",
     "text": [
      "mean value of loss : 2.7487\n"
     ]
    },
    {
     "name": "stderr",
     "output_type": "stream",
     "text": [
      "Epoch 18/100: 100%|█████████████████████████████| 31/31 [00:00<00:00, 89.04it/s]\n"
     ]
    },
    {
     "name": "stdout",
     "output_type": "stream",
     "text": [
      "mean value of loss : 2.6178\n",
      "best loss achieved : 2.6178\n"
     ]
    },
    {
     "name": "stderr",
     "output_type": "stream",
     "text": [
      "Epoch 19/100: 100%|█████████████████████████████| 31/31 [00:00<00:00, 80.15it/s]\n"
     ]
    },
    {
     "name": "stdout",
     "output_type": "stream",
     "text": [
      "mean value of loss : 2.7396\n"
     ]
    },
    {
     "name": "stderr",
     "output_type": "stream",
     "text": [
      "Epoch 20/100: 100%|█████████████████████████████| 31/31 [00:00<00:00, 94.83it/s]\n"
     ]
    },
    {
     "name": "stdout",
     "output_type": "stream",
     "text": [
      "mean value of loss : 2.7040\n"
     ]
    },
    {
     "name": "stderr",
     "output_type": "stream",
     "text": [
      "Epoch 21/100: 100%|████████████████████████████| 31/31 [00:00<00:00, 104.60it/s]\n"
     ]
    },
    {
     "name": "stdout",
     "output_type": "stream",
     "text": [
      "mean value of loss : 2.4674\n",
      "best loss achieved : 2.4674\n"
     ]
    },
    {
     "name": "stderr",
     "output_type": "stream",
     "text": [
      "Epoch 22/100: 100%|█████████████████████████████| 31/31 [00:00<00:00, 77.81it/s]\n"
     ]
    },
    {
     "name": "stdout",
     "output_type": "stream",
     "text": [
      "mean value of loss : 2.5584\n"
     ]
    },
    {
     "name": "stderr",
     "output_type": "stream",
     "text": [
      "Epoch 23/100: 100%|█████████████████████████████| 31/31 [00:00<00:00, 84.15it/s]\n"
     ]
    },
    {
     "name": "stdout",
     "output_type": "stream",
     "text": [
      "mean value of loss : 2.4521\n",
      "best loss achieved : 2.4521\n"
     ]
    },
    {
     "name": "stderr",
     "output_type": "stream",
     "text": [
      "Epoch 24/100: 100%|████████████████████████████| 31/31 [00:00<00:00, 101.48it/s]\n"
     ]
    },
    {
     "name": "stdout",
     "output_type": "stream",
     "text": [
      "mean value of loss : 2.8567\n"
     ]
    },
    {
     "name": "stderr",
     "output_type": "stream",
     "text": [
      "Epoch 25/100: 100%|████████████████████████████| 31/31 [00:00<00:00, 112.45it/s]\n"
     ]
    },
    {
     "name": "stdout",
     "output_type": "stream",
     "text": [
      "mean value of loss : 2.6477\n"
     ]
    },
    {
     "name": "stderr",
     "output_type": "stream",
     "text": [
      "Epoch 26/100: 100%|████████████████████████████| 31/31 [00:00<00:00, 112.21it/s]\n"
     ]
    },
    {
     "name": "stdout",
     "output_type": "stream",
     "text": [
      "mean value of loss : 2.4614\n"
     ]
    },
    {
     "name": "stderr",
     "output_type": "stream",
     "text": [
      "Epoch 27/100: 100%|█████████████████████████████| 31/31 [00:00<00:00, 94.88it/s]\n"
     ]
    },
    {
     "name": "stdout",
     "output_type": "stream",
     "text": [
      "mean value of loss : 2.5810\n"
     ]
    },
    {
     "name": "stderr",
     "output_type": "stream",
     "text": [
      "Epoch 28/100: 100%|█████████████████████████████| 31/31 [00:00<00:00, 85.83it/s]\n"
     ]
    },
    {
     "name": "stdout",
     "output_type": "stream",
     "text": [
      "mean value of loss : 2.3163\n",
      "best loss achieved : 2.3163\n"
     ]
    },
    {
     "name": "stderr",
     "output_type": "stream",
     "text": [
      "Epoch 29/100: 100%|█████████████████████████████| 31/31 [00:00<00:00, 61.82it/s]\n"
     ]
    },
    {
     "name": "stdout",
     "output_type": "stream",
     "text": [
      "mean value of loss : 2.4559\n"
     ]
    },
    {
     "name": "stderr",
     "output_type": "stream",
     "text": [
      "Epoch 30/100: 100%|█████████████████████████████| 31/31 [00:00<00:00, 81.20it/s]\n"
     ]
    },
    {
     "name": "stdout",
     "output_type": "stream",
     "text": [
      "mean value of loss : 2.3646\n"
     ]
    },
    {
     "name": "stderr",
     "output_type": "stream",
     "text": [
      "Epoch 31/100: 100%|█████████████████████████████| 31/31 [00:00<00:00, 93.40it/s]\n"
     ]
    },
    {
     "name": "stdout",
     "output_type": "stream",
     "text": [
      "mean value of loss : 2.2697\n",
      "best loss achieved : 2.2697\n"
     ]
    },
    {
     "name": "stderr",
     "output_type": "stream",
     "text": [
      "Epoch 32/100: 100%|█████████████████████████████| 31/31 [00:00<00:00, 92.24it/s]\n"
     ]
    },
    {
     "name": "stdout",
     "output_type": "stream",
     "text": [
      "mean value of loss : 2.2262\n",
      "best loss achieved : 2.2262\n"
     ]
    },
    {
     "name": "stderr",
     "output_type": "stream",
     "text": [
      "Epoch 33/100: 100%|█████████████████████████████| 31/31 [00:00<00:00, 99.69it/s]\n"
     ]
    },
    {
     "name": "stdout",
     "output_type": "stream",
     "text": [
      "mean value of loss : 2.4296\n"
     ]
    },
    {
     "name": "stderr",
     "output_type": "stream",
     "text": [
      "Epoch 34/100: 100%|████████████████████████████| 31/31 [00:00<00:00, 100.73it/s]\n"
     ]
    },
    {
     "name": "stdout",
     "output_type": "stream",
     "text": [
      "mean value of loss : 2.3274\n"
     ]
    },
    {
     "name": "stderr",
     "output_type": "stream",
     "text": [
      "Epoch 35/100: 100%|████████████████████████████| 31/31 [00:00<00:00, 103.14it/s]\n"
     ]
    },
    {
     "name": "stdout",
     "output_type": "stream",
     "text": [
      "mean value of loss : 2.3610\n"
     ]
    },
    {
     "name": "stderr",
     "output_type": "stream",
     "text": [
      "Epoch 36/100: 100%|█████████████████████████████| 31/31 [00:00<00:00, 80.17it/s]\n"
     ]
    },
    {
     "name": "stdout",
     "output_type": "stream",
     "text": [
      "mean value of loss : 2.2445\n"
     ]
    },
    {
     "name": "stderr",
     "output_type": "stream",
     "text": [
      "Epoch 37/100: 100%|█████████████████████████████| 31/31 [00:00<00:00, 74.80it/s]\n"
     ]
    },
    {
     "name": "stdout",
     "output_type": "stream",
     "text": [
      "mean value of loss : 2.3497\n"
     ]
    },
    {
     "name": "stderr",
     "output_type": "stream",
     "text": [
      "Epoch 38/100: 100%|█████████████████████████████| 31/31 [00:00<00:00, 67.54it/s]\n"
     ]
    },
    {
     "name": "stdout",
     "output_type": "stream",
     "text": [
      "mean value of loss : 2.2360\n"
     ]
    },
    {
     "name": "stderr",
     "output_type": "stream",
     "text": [
      "Epoch 39/100: 100%|█████████████████████████████| 31/31 [00:00<00:00, 91.01it/s]\n"
     ]
    },
    {
     "name": "stdout",
     "output_type": "stream",
     "text": [
      "mean value of loss : 2.2234\n",
      "best loss achieved : 2.2234\n"
     ]
    },
    {
     "name": "stderr",
     "output_type": "stream",
     "text": [
      "Epoch 40/100: 100%|█████████████████████████████| 31/31 [00:00<00:00, 95.52it/s]\n"
     ]
    },
    {
     "name": "stdout",
     "output_type": "stream",
     "text": [
      "mean value of loss : 2.0105\n",
      "best loss achieved : 2.0105\n"
     ]
    },
    {
     "name": "stderr",
     "output_type": "stream",
     "text": [
      "Epoch 41/100: 100%|█████████████████████████████| 31/31 [00:00<00:00, 92.53it/s]\n"
     ]
    },
    {
     "name": "stdout",
     "output_type": "stream",
     "text": [
      "mean value of loss : 2.1704\n"
     ]
    },
    {
     "name": "stderr",
     "output_type": "stream",
     "text": [
      "Epoch 42/100: 100%|████████████████████████████| 31/31 [00:00<00:00, 115.76it/s]\n"
     ]
    },
    {
     "name": "stdout",
     "output_type": "stream",
     "text": [
      "mean value of loss : 2.1573\n"
     ]
    },
    {
     "name": "stderr",
     "output_type": "stream",
     "text": [
      "Epoch 43/100: 100%|█████████████████████████████| 31/31 [00:00<00:00, 95.65it/s]\n"
     ]
    },
    {
     "name": "stdout",
     "output_type": "stream",
     "text": [
      "mean value of loss : 2.2012\n"
     ]
    },
    {
     "name": "stderr",
     "output_type": "stream",
     "text": [
      "Epoch 44/100: 100%|█████████████████████████████| 31/31 [00:00<00:00, 92.24it/s]\n"
     ]
    },
    {
     "name": "stdout",
     "output_type": "stream",
     "text": [
      "mean value of loss : 1.9905\n",
      "best loss achieved : 1.9905\n"
     ]
    },
    {
     "name": "stderr",
     "output_type": "stream",
     "text": [
      "Epoch 45/100: 100%|█████████████████████████████| 31/31 [00:00<00:00, 94.58it/s]\n"
     ]
    },
    {
     "name": "stdout",
     "output_type": "stream",
     "text": [
      "mean value of loss : 1.9335\n",
      "best loss achieved : 1.9335\n"
     ]
    },
    {
     "name": "stderr",
     "output_type": "stream",
     "text": [
      "Epoch 46/100: 100%|█████████████████████████████| 31/31 [00:00<00:00, 93.02it/s]\n"
     ]
    },
    {
     "name": "stdout",
     "output_type": "stream",
     "text": [
      "mean value of loss : 1.8927\n",
      "best loss achieved : 1.8927\n"
     ]
    },
    {
     "name": "stderr",
     "output_type": "stream",
     "text": [
      "Epoch 47/100: 100%|█████████████████████████████| 31/31 [00:00<00:00, 88.56it/s]\n"
     ]
    },
    {
     "name": "stdout",
     "output_type": "stream",
     "text": [
      "mean value of loss : 1.9206\n"
     ]
    },
    {
     "name": "stderr",
     "output_type": "stream",
     "text": [
      "Epoch 48/100: 100%|█████████████████████████████| 31/31 [00:00<00:00, 87.77it/s]\n"
     ]
    },
    {
     "name": "stdout",
     "output_type": "stream",
     "text": [
      "mean value of loss : 2.0028\n"
     ]
    },
    {
     "name": "stderr",
     "output_type": "stream",
     "text": [
      "Epoch 49/100: 100%|█████████████████████████████| 31/31 [00:00<00:00, 93.17it/s]\n"
     ]
    },
    {
     "name": "stdout",
     "output_type": "stream",
     "text": [
      "mean value of loss : 2.0536\n"
     ]
    },
    {
     "name": "stderr",
     "output_type": "stream",
     "text": [
      "Epoch 50/100: 100%|█████████████████████████████| 31/31 [00:00<00:00, 81.68it/s]\n"
     ]
    },
    {
     "name": "stdout",
     "output_type": "stream",
     "text": [
      "mean value of loss : 2.0888\n"
     ]
    },
    {
     "name": "stderr",
     "output_type": "stream",
     "text": [
      "Epoch 51/100: 100%|█████████████████████████████| 31/31 [00:00<00:00, 80.82it/s]\n"
     ]
    },
    {
     "name": "stdout",
     "output_type": "stream",
     "text": [
      "mean value of loss : 1.9459\n"
     ]
    },
    {
     "name": "stderr",
     "output_type": "stream",
     "text": [
      "Epoch 52/100: 100%|█████████████████████████████| 31/31 [00:00<00:00, 85.44it/s]\n"
     ]
    },
    {
     "name": "stdout",
     "output_type": "stream",
     "text": [
      "mean value of loss : 1.9720\n"
     ]
    },
    {
     "name": "stderr",
     "output_type": "stream",
     "text": [
      "Epoch 53/100: 100%|█████████████████████████████| 31/31 [00:00<00:00, 89.11it/s]\n"
     ]
    },
    {
     "name": "stdout",
     "output_type": "stream",
     "text": [
      "mean value of loss : 1.8493\n",
      "best loss achieved : 1.8493\n"
     ]
    },
    {
     "name": "stderr",
     "output_type": "stream",
     "text": [
      "Epoch 54/100: 100%|█████████████████████████████| 31/31 [00:00<00:00, 85.98it/s]\n"
     ]
    },
    {
     "name": "stdout",
     "output_type": "stream",
     "text": [
      "mean value of loss : 1.7936\n",
      "best loss achieved : 1.7936\n"
     ]
    },
    {
     "name": "stderr",
     "output_type": "stream",
     "text": [
      "Epoch 55/100: 100%|█████████████████████████████| 31/31 [00:00<00:00, 76.31it/s]\n"
     ]
    },
    {
     "name": "stdout",
     "output_type": "stream",
     "text": [
      "mean value of loss : 1.8195\n"
     ]
    },
    {
     "name": "stderr",
     "output_type": "stream",
     "text": [
      "Epoch 56/100: 100%|█████████████████████████████| 31/31 [00:00<00:00, 64.99it/s]\n"
     ]
    },
    {
     "name": "stdout",
     "output_type": "stream",
     "text": [
      "mean value of loss : 1.7118\n",
      "best loss achieved : 1.7118\n"
     ]
    },
    {
     "name": "stderr",
     "output_type": "stream",
     "text": [
      "Epoch 57/100: 100%|█████████████████████████████| 31/31 [00:00<00:00, 65.24it/s]\n"
     ]
    },
    {
     "name": "stdout",
     "output_type": "stream",
     "text": [
      "mean value of loss : 1.8011\n"
     ]
    },
    {
     "name": "stderr",
     "output_type": "stream",
     "text": [
      "Epoch 58/100: 100%|█████████████████████████████| 31/31 [00:00<00:00, 75.50it/s]\n"
     ]
    },
    {
     "name": "stdout",
     "output_type": "stream",
     "text": [
      "mean value of loss : 1.9946\n"
     ]
    },
    {
     "name": "stderr",
     "output_type": "stream",
     "text": [
      "Epoch 59/100: 100%|█████████████████████████████| 31/31 [00:00<00:00, 92.92it/s]\n"
     ]
    },
    {
     "name": "stdout",
     "output_type": "stream",
     "text": [
      "mean value of loss : 1.8901\n"
     ]
    },
    {
     "name": "stderr",
     "output_type": "stream",
     "text": [
      "Epoch 60/100: 100%|█████████████████████████████| 31/31 [00:00<00:00, 87.25it/s]\n"
     ]
    },
    {
     "name": "stdout",
     "output_type": "stream",
     "text": [
      "mean value of loss : 1.7105\n",
      "best loss achieved : 1.7105\n"
     ]
    },
    {
     "name": "stderr",
     "output_type": "stream",
     "text": [
      "Epoch 61/100: 100%|█████████████████████████████| 31/31 [00:00<00:00, 63.91it/s]\n"
     ]
    },
    {
     "name": "stdout",
     "output_type": "stream",
     "text": [
      "mean value of loss : 1.7323\n"
     ]
    },
    {
     "name": "stderr",
     "output_type": "stream",
     "text": [
      "Epoch 62/100: 100%|█████████████████████████████| 31/31 [00:00<00:00, 79.47it/s]\n"
     ]
    },
    {
     "name": "stdout",
     "output_type": "stream",
     "text": [
      "mean value of loss : 1.8511\n"
     ]
    },
    {
     "name": "stderr",
     "output_type": "stream",
     "text": [
      "Epoch 63/100: 100%|█████████████████████████████| 31/31 [00:00<00:00, 68.00it/s]\n"
     ]
    },
    {
     "name": "stdout",
     "output_type": "stream",
     "text": [
      "mean value of loss : 1.7164\n"
     ]
    },
    {
     "name": "stderr",
     "output_type": "stream",
     "text": [
      "Epoch 64/100: 100%|█████████████████████████████| 31/31 [00:00<00:00, 60.58it/s]\n"
     ]
    },
    {
     "name": "stdout",
     "output_type": "stream",
     "text": [
      "mean value of loss : 1.7385\n"
     ]
    },
    {
     "name": "stderr",
     "output_type": "stream",
     "text": [
      "Epoch 65/100: 100%|█████████████████████████████| 31/31 [00:00<00:00, 58.59it/s]\n"
     ]
    },
    {
     "name": "stdout",
     "output_type": "stream",
     "text": [
      "mean value of loss : 1.7552\n"
     ]
    },
    {
     "name": "stderr",
     "output_type": "stream",
     "text": [
      "Epoch 66/100: 100%|█████████████████████████████| 31/31 [00:00<00:00, 88.10it/s]\n"
     ]
    },
    {
     "name": "stdout",
     "output_type": "stream",
     "text": [
      "mean value of loss : 1.5732\n",
      "best loss achieved : 1.5732\n"
     ]
    },
    {
     "name": "stderr",
     "output_type": "stream",
     "text": [
      "Epoch 67/100: 100%|█████████████████████████████| 31/31 [00:00<00:00, 77.34it/s]\n"
     ]
    },
    {
     "name": "stdout",
     "output_type": "stream",
     "text": [
      "mean value of loss : 1.6258\n"
     ]
    },
    {
     "name": "stderr",
     "output_type": "stream",
     "text": [
      "Epoch 68/100: 100%|█████████████████████████████| 31/31 [00:00<00:00, 85.90it/s]\n"
     ]
    },
    {
     "name": "stdout",
     "output_type": "stream",
     "text": [
      "mean value of loss : 1.8211\n"
     ]
    },
    {
     "name": "stderr",
     "output_type": "stream",
     "text": [
      "Epoch 69/100: 100%|█████████████████████████████| 31/31 [00:00<00:00, 83.91it/s]\n"
     ]
    },
    {
     "name": "stdout",
     "output_type": "stream",
     "text": [
      "mean value of loss : 1.7077\n"
     ]
    },
    {
     "name": "stderr",
     "output_type": "stream",
     "text": [
      "Epoch 70/100: 100%|█████████████████████████████| 31/31 [00:00<00:00, 76.75it/s]\n"
     ]
    },
    {
     "name": "stdout",
     "output_type": "stream",
     "text": [
      "mean value of loss : 1.5307\n",
      "best loss achieved : 1.5307\n"
     ]
    },
    {
     "name": "stderr",
     "output_type": "stream",
     "text": [
      "Epoch 71/100: 100%|█████████████████████████████| 31/31 [00:00<00:00, 79.78it/s]\n"
     ]
    },
    {
     "name": "stdout",
     "output_type": "stream",
     "text": [
      "mean value of loss : 1.5865\n"
     ]
    },
    {
     "name": "stderr",
     "output_type": "stream",
     "text": [
      "Epoch 72/100: 100%|█████████████████████████████| 31/31 [00:00<00:00, 91.17it/s]\n"
     ]
    },
    {
     "name": "stdout",
     "output_type": "stream",
     "text": [
      "mean value of loss : 1.5228\n",
      "best loss achieved : 1.5228\n"
     ]
    },
    {
     "name": "stderr",
     "output_type": "stream",
     "text": [
      "Epoch 73/100: 100%|█████████████████████████████| 31/31 [00:00<00:00, 83.84it/s]\n"
     ]
    },
    {
     "name": "stdout",
     "output_type": "stream",
     "text": [
      "mean value of loss : 1.6110\n"
     ]
    },
    {
     "name": "stderr",
     "output_type": "stream",
     "text": [
      "Epoch 74/100: 100%|█████████████████████████████| 31/31 [00:00<00:00, 84.29it/s]\n"
     ]
    },
    {
     "name": "stdout",
     "output_type": "stream",
     "text": [
      "mean value of loss : 1.4770\n",
      "best loss achieved : 1.4770\n"
     ]
    },
    {
     "name": "stderr",
     "output_type": "stream",
     "text": [
      "Epoch 75/100: 100%|█████████████████████████████| 31/31 [00:00<00:00, 78.25it/s]\n"
     ]
    },
    {
     "name": "stdout",
     "output_type": "stream",
     "text": [
      "mean value of loss : 1.5603\n"
     ]
    },
    {
     "name": "stderr",
     "output_type": "stream",
     "text": [
      "Epoch 76/100: 100%|█████████████████████████████| 31/31 [00:00<00:00, 68.25it/s]\n"
     ]
    },
    {
     "name": "stdout",
     "output_type": "stream",
     "text": [
      "mean value of loss : 1.5391\n"
     ]
    },
    {
     "name": "stderr",
     "output_type": "stream",
     "text": [
      "Epoch 77/100: 100%|█████████████████████████████| 31/31 [00:00<00:00, 56.80it/s]\n"
     ]
    },
    {
     "name": "stdout",
     "output_type": "stream",
     "text": [
      "mean value of loss : 1.6507\n"
     ]
    },
    {
     "name": "stderr",
     "output_type": "stream",
     "text": [
      "Epoch 78/100: 100%|█████████████████████████████| 31/31 [00:00<00:00, 66.72it/s]\n"
     ]
    },
    {
     "name": "stdout",
     "output_type": "stream",
     "text": [
      "mean value of loss : 1.5562\n"
     ]
    },
    {
     "name": "stderr",
     "output_type": "stream",
     "text": [
      "Epoch 79/100: 100%|█████████████████████████████| 31/31 [00:00<00:00, 75.57it/s]\n"
     ]
    },
    {
     "name": "stdout",
     "output_type": "stream",
     "text": [
      "mean value of loss : 1.4923\n"
     ]
    },
    {
     "name": "stderr",
     "output_type": "stream",
     "text": [
      "Epoch 80/100: 100%|█████████████████████████████| 31/31 [00:00<00:00, 78.84it/s]\n"
     ]
    },
    {
     "name": "stdout",
     "output_type": "stream",
     "text": [
      "mean value of loss : 1.6335\n"
     ]
    },
    {
     "name": "stderr",
     "output_type": "stream",
     "text": [
      "Epoch 81/100: 100%|█████████████████████████████| 31/31 [00:00<00:00, 65.93it/s]\n"
     ]
    },
    {
     "name": "stdout",
     "output_type": "stream",
     "text": [
      "mean value of loss : 1.5307\n"
     ]
    },
    {
     "name": "stderr",
     "output_type": "stream",
     "text": [
      "Epoch 82/100: 100%|█████████████████████████████| 31/31 [00:00<00:00, 91.43it/s]\n"
     ]
    },
    {
     "name": "stdout",
     "output_type": "stream",
     "text": [
      "mean value of loss : 1.7185\n"
     ]
    },
    {
     "name": "stderr",
     "output_type": "stream",
     "text": [
      "Epoch 83/100: 100%|████████████████████████████| 31/31 [00:00<00:00, 107.60it/s]\n"
     ]
    },
    {
     "name": "stdout",
     "output_type": "stream",
     "text": [
      "mean value of loss : 1.6466\n"
     ]
    },
    {
     "name": "stderr",
     "output_type": "stream",
     "text": [
      "Epoch 84/100: 100%|█████████████████████████████| 31/31 [00:00<00:00, 96.99it/s]\n"
     ]
    },
    {
     "name": "stdout",
     "output_type": "stream",
     "text": [
      "mean value of loss : 1.5451\n"
     ]
    },
    {
     "name": "stderr",
     "output_type": "stream",
     "text": [
      "Epoch 85/100: 100%|████████████████████████████| 31/31 [00:00<00:00, 110.74it/s]\n"
     ]
    },
    {
     "name": "stdout",
     "output_type": "stream",
     "text": [
      "mean value of loss : 1.6936\n"
     ]
    },
    {
     "name": "stderr",
     "output_type": "stream",
     "text": [
      "Epoch 86/100: 100%|█████████████████████████████| 31/31 [00:00<00:00, 88.50it/s]\n"
     ]
    },
    {
     "name": "stdout",
     "output_type": "stream",
     "text": [
      "mean value of loss : 1.5599\n"
     ]
    },
    {
     "name": "stderr",
     "output_type": "stream",
     "text": [
      "Epoch 87/100: 100%|█████████████████████████████| 31/31 [00:00<00:00, 94.70it/s]\n"
     ]
    },
    {
     "name": "stdout",
     "output_type": "stream",
     "text": [
      "mean value of loss : 1.3979\n",
      "best loss achieved : 1.3979\n"
     ]
    },
    {
     "name": "stderr",
     "output_type": "stream",
     "text": [
      "Epoch 88/100: 100%|████████████████████████████| 31/31 [00:00<00:00, 113.76it/s]\n"
     ]
    },
    {
     "name": "stdout",
     "output_type": "stream",
     "text": [
      "mean value of loss : 1.5776\n"
     ]
    },
    {
     "name": "stderr",
     "output_type": "stream",
     "text": [
      "Epoch 89/100: 100%|████████████████████████████| 31/31 [00:00<00:00, 101.87it/s]\n"
     ]
    },
    {
     "name": "stdout",
     "output_type": "stream",
     "text": [
      "mean value of loss : 1.5384\n"
     ]
    },
    {
     "name": "stderr",
     "output_type": "stream",
     "text": [
      "Epoch 90/100: 100%|█████████████████████████████| 31/31 [00:00<00:00, 81.80it/s]\n"
     ]
    },
    {
     "name": "stdout",
     "output_type": "stream",
     "text": [
      "mean value of loss : 1.5285\n"
     ]
    },
    {
     "name": "stderr",
     "output_type": "stream",
     "text": [
      "Epoch 91/100: 100%|████████████████████████████| 31/31 [00:00<00:00, 106.96it/s]\n"
     ]
    },
    {
     "name": "stdout",
     "output_type": "stream",
     "text": [
      "mean value of loss : 1.4491\n"
     ]
    },
    {
     "name": "stderr",
     "output_type": "stream",
     "text": [
      "Epoch 92/100: 100%|█████████████████████████████| 31/31 [00:00<00:00, 93.59it/s]\n"
     ]
    },
    {
     "name": "stdout",
     "output_type": "stream",
     "text": [
      "mean value of loss : 1.6257\n"
     ]
    },
    {
     "name": "stderr",
     "output_type": "stream",
     "text": [
      "Epoch 93/100: 100%|█████████████████████████████| 31/31 [00:00<00:00, 79.97it/s]\n"
     ]
    },
    {
     "name": "stdout",
     "output_type": "stream",
     "text": [
      "mean value of loss : 1.6592\n"
     ]
    },
    {
     "name": "stderr",
     "output_type": "stream",
     "text": [
      "Epoch 94/100: 100%|█████████████████████████████| 31/31 [00:00<00:00, 79.97it/s]\n"
     ]
    },
    {
     "name": "stdout",
     "output_type": "stream",
     "text": [
      "mean value of loss : 1.4664\n"
     ]
    },
    {
     "name": "stderr",
     "output_type": "stream",
     "text": [
      "Epoch 95/100: 100%|████████████████████████████| 31/31 [00:00<00:00, 101.73it/s]\n"
     ]
    },
    {
     "name": "stdout",
     "output_type": "stream",
     "text": [
      "mean value of loss : 1.4937\n"
     ]
    },
    {
     "name": "stderr",
     "output_type": "stream",
     "text": [
      "Epoch 96/100: 100%|█████████████████████████████| 31/31 [00:00<00:00, 93.24it/s]\n"
     ]
    },
    {
     "name": "stdout",
     "output_type": "stream",
     "text": [
      "mean value of loss : 1.5004\n"
     ]
    },
    {
     "name": "stderr",
     "output_type": "stream",
     "text": [
      "Epoch 97/100: 100%|█████████████████████████████| 31/31 [00:00<00:00, 81.57it/s]\n"
     ]
    },
    {
     "name": "stdout",
     "output_type": "stream",
     "text": [
      "mean value of loss : 1.5562\n"
     ]
    },
    {
     "name": "stderr",
     "output_type": "stream",
     "text": [
      "Epoch 98/100: 100%|████████████████████████████| 31/31 [00:00<00:00, 101.91it/s]\n"
     ]
    },
    {
     "name": "stdout",
     "output_type": "stream",
     "text": [
      "mean value of loss : 1.5026\n"
     ]
    },
    {
     "name": "stderr",
     "output_type": "stream",
     "text": [
      "Epoch 99/100: 100%|█████████████████████████████| 31/31 [00:00<00:00, 90.57it/s]\n"
     ]
    },
    {
     "name": "stdout",
     "output_type": "stream",
     "text": [
      "mean value of loss : 1.5627\n"
     ]
    },
    {
     "name": "stderr",
     "output_type": "stream",
     "text": [
      "Epoch 100/100: 100%|████████████████████████████| 31/31 [00:00<00:00, 79.26it/s]"
     ]
    },
    {
     "name": "stdout",
     "output_type": "stream",
     "text": [
      "mean value of loss : 1.4151\n",
      "END THE LEARNING\n",
      "final best loss: 1.3979\n"
     ]
    },
    {
     "name": "stderr",
     "output_type": "stream",
     "text": [
      "\n"
     ]
    }
   ],
   "source": [
    "train_losses = []\n",
    "best_loss = float('inf')\n",
    "\n",
    "for epoch in range(EPOCHS):\n",
    "    epoch_losses = []\n",
    "    \n",
    "    for acc_batch, gyro_batch in tqdm(train_dataset, desc=f'Epoch {epoch + 1}/{EPOCHS}'):\n",
    "        loss = train_step(model, optimizer, acc_batch, gyro_batch)  # 단일 값만 받음\n",
    "        epoch_losses.append(loss.numpy())\n",
    "    \n",
    "    avg_loss = np.mean(epoch_losses)\n",
    "    train_losses.append(avg_loss)\n",
    "    \n",
    "    print (f\"mean value of loss : {avg_loss:.4f}\")\n",
    "    \n",
    "    if avg_loss < best_loss:\n",
    "        best_loss = avg_loss\n",
    "        print (f\"best loss achieved : {best_loss:.4f}\")\n",
    "\n",
    "        \n",
    "print(\"END THE LEARNING\")\n",
    "print(f\"final best loss: {best_loss:.4f}\")"
   ]
  },
  {
   "cell_type": "code",
   "execution_count": 133,
   "id": "321c9915",
   "metadata": {
    "ExecuteTime": {
     "end_time": "2025-02-02T15:30:45.549915Z",
     "start_time": "2025-02-02T15:30:45.338433Z"
    }
   },
   "outputs": [
    {
     "data": {
      "image/png": "[encoded data removed]",
      "text/plain": [
       "<Figure size 1000x600 with 1 Axes>"
      ]
     },
     "metadata": {},
     "output_type": "display_data"
    }
   ],
   "source": [
    "plt.figure(figsize=(10, 6))\n",
    "plt.plot(train_losses, label='Training Loss')\n",
    "plt.xlabel('Epoch')\n",
    "plt.ylabel('Loss')\n",
    "plt.title('Training Loss over Epochs')\n",
    "plt.legend()\n",
    "plt.grid(True)\n",
    "plt.show()"
   ]
  },
  {
   "cell_type": "code",
   "execution_count": 134,
   "id": "aa4dc234",
   "metadata": {
    "ExecuteTime": {
     "end_time": "2025-02-02T15:30:45.557363Z",
     "start_time": "2025-02-02T15:30:45.552167Z"
    }
   },
   "outputs": [],
   "source": [
    "def compute_similarity_scores(model, data_loader):\n",
    "    similarities = []\n",
    "    labels = []\n",
    "    \n",
    "    for (acc_batch, gyro_batch), batch_labels in data_loader:\n",
    "        # Get embeddings\n",
    "        _, (e_accel, e_gyro) = model(acc_batch, gyro_batch, return_feat=True, training=False)\n",
    "        \n",
    "        # Compute cosine similarity between paired embeddings\n",
    "        batch_similarities = tf.reduce_sum(tf.multiply(e_accel, e_gyro), axis=1)\n",
    "        \n",
    "        similarities.extend(batch_similarities.numpy())\n",
    "        labels.extend(batch_labels.numpy())\n",
    "    \n",
    "    return np.array(similarities), np.array(labels)"
   ]
  },
  {
   "cell_type": "code",
   "execution_count": 135,
   "id": "e913403f",
   "metadata": {
    "ExecuteTime": {
     "end_time": "2025-02-02T15:30:46.283143Z",
     "start_time": "2025-02-02T15:30:45.560112Z"
    }
   },
   "outputs": [
    {
     "name": "stderr",
     "output_type": "stream",
     "text": [
      "Computing normal similarities: 100%|████████████| 31/31 [00:00<00:00, 53.38it/s]\n",
      "Computing test similarities: 100%|████████████████| 7/7 [00:00<00:00, 53.44it/s]\n"
     ]
    }
   ],
   "source": [
    "normal_similarities = []\n",
    "for acc_batch, gyro_batch in tqdm(train_dataset, desc='Computing normal similarities'):\n",
    "    _, (e_accel, e_gyro) = model(acc_batch, gyro_batch, return_feat=True, training=False)\n",
    "    sim = tf.reduce_sum(tf.multiply(e_accel, e_gyro), axis=1)\n",
    "    normal_similarities.extend(sim.numpy())\n",
    "\n",
    "test_similarities = []\n",
    "test_pred_labels = []\n",
    "for (acc_batch, gyro_batch), labels in tqdm(test_dataset, desc='Computing test similarities'):\n",
    "    _, (e_accel, e_gyro) = model(acc_batch, gyro_batch, return_feat=True, training=False)\n",
    "    sim = tf.reduce_sum(tf.multiply(e_accel, e_gyro), axis=1)\n",
    "    test_similarities.extend(sim.numpy())\n",
    "    test_pred_labels.extend(labels.numpy())"
   ]
  },
  {
   "cell_type": "code",
   "execution_count": 136,
   "id": "675d6168",
   "metadata": {
    "ExecuteTime": {
     "end_time": "2025-02-02T15:30:46.287985Z",
     "start_time": "2025-02-02T15:30:46.284975Z"
    }
   },
   "outputs": [],
   "source": [
    "threshold = np.percentile(normal_similarities, 5)"
   ]
  },
  {
   "cell_type": "code",
   "execution_count": 137,
   "id": "b40abe82",
   "metadata": {
    "ExecuteTime": {
     "end_time": "2025-02-02T15:30:46.498256Z",
     "start_time": "2025-02-02T15:30:46.290170Z"
    }
   },
   "outputs": [
    {
     "data": {
      "image/png": "[encoded data removed]",
      "text/plain": [
       "<Figure size 640x480 with 1 Axes>"
      ]
     },
     "metadata": {},
     "output_type": "display_data"
    }
   ],
   "source": [
    "indices = range(len(test_similarities))\n",
    "plt.scatter([i for i, l in zip(indices, test_pred_labels) if l == 0], \n",
    "           [s for s, l in zip(test_similarities, test_pred_labels) if l == 0],\n",
    "           c='blue', label='Normal (ADL)', alpha=0.5, s=20)\n",
    "plt.scatter([i for i, l in zip(indices, test_pred_labels) if l == 1],\n",
    "           [s for s, l in zip(test_similarities, test_pred_labels) if l == 1],\n",
    "           c='red', label='Fall', alpha=0.5, s=20)\n",
    "plt.axhline(y=threshold, color='green', linestyle='--', label=f'Threshold ({threshold:.3f})')\n",
    "# plt.ylim(0.0078100, 0.0078150)\n",
    "plt.xlabel('Sample Index')\n",
    "plt.ylabel('Similarity Score')\n",
    "plt.title('Similarity Scores')\n",
    "plt.legend()\n",
    "plt.grid(True)"
   ]
  },
  {
   "cell_type": "code",
   "execution_count": 138,
   "id": "1f74c78b",
   "metadata": {
    "ExecuteTime": {
     "end_time": "2025-02-02T15:30:46.502308Z",
     "start_time": "2025-02-02T15:30:46.499888Z"
    }
   },
   "outputs": [],
   "source": [
    "predictions = [1 if sim < threshold else 0 for sim in test_similarities] \n",
    "true_labels = test_pred_labels"
   ]
  },
  {
   "cell_type": "code",
   "execution_count": 139,
   "id": "53cf03cf",
   "metadata": {
    "ExecuteTime": {
     "end_time": "2025-02-02T15:30:46.644519Z",
     "start_time": "2025-02-02T15:30:46.503896Z"
    }
   },
   "outputs": [
    {
     "data": {
      "image/png": "[encoded data removed]",
      "text/plain": [
       "<Figure size 1000x800 with 2 Axes>"
      ]
     },
     "metadata": {},
     "output_type": "display_data"
    }
   ],
   "source": [
    "cm = confusion_matrix(true_labels, predictions)\n",
    "plt.figure(figsize=(10, 8))\n",
    "sns.heatmap(cm, annot=True, fmt='d', cmap='Blues')\n",
    "plt.title('Confusion Matrix')\n",
    "plt.ylabel('True Label')\n",
    "plt.xlabel('Predicted Label')\n",
    "labels = ['ADL', 'Fall']\n",
    "plt.xticks([0.5, 1.5], labels)\n",
    "plt.yticks([0.5, 1.5], labels)\n",
    "plt.show()"
   ]
  },
  {
   "cell_type": "code",
   "execution_count": 140,
   "id": "2e0d8e3f",
   "metadata": {
    "ExecuteTime": {
     "end_time": "2025-02-02T15:30:46.656780Z",
     "start_time": "2025-02-02T15:30:46.646083Z"
    }
   },
   "outputs": [
    {
     "name": "stdout",
     "output_type": "stream",
     "text": [
      "classification report\n",
      "              precision    recall  f1-score   support\n",
      "\n",
      "         ADL       0.80      0.60      0.68       634\n",
      "        Fall       0.25      0.47      0.33       179\n",
      "\n",
      "    accuracy                           0.57       813\n",
      "   macro avg       0.53      0.54      0.51       813\n",
      "weighted avg       0.68      0.57      0.61       813\n",
      "\n"
     ]
    }
   ],
   "source": [
    "print (\"classification report\")\n",
    "print(classification_report(true_labels, predictions, \n",
    "                          target_names=['ADL', 'Fall']))"
   ]
  },
  {
   "cell_type": "code",
   "execution_count": 141,
   "id": "d382f18e",
   "metadata": {
    "ExecuteTime": {
     "end_time": "2025-02-02T15:30:46.771308Z",
     "start_time": "2025-02-02T15:30:46.658810Z"
    }
   },
   "outputs": [
    {
     "name": "stdout",
     "output_type": "stream",
     "text": [
      "[ ADL data ]\n",
      "  Mean: 0.0078\n",
      "  Std: 0.0000\n",
      "  Min: 0.0078\n",
      "  Max: 0.0078\n",
      "ADL ind 1 : 0.0078124995\n",
      "ADL ind 2 : 0.0078125\n",
      "ADL ind 3 : 0.007812501\n",
      "ADL ind 4 : 0.0078125\n",
      "ADL ind 5 : 0.0078124995\n",
      "ADL ind 6 : 0.0078124995\n",
      "ADL ind 7 : 0.0078125\n",
      "ADL ind 8 : 0.0078125\n",
      "ADL ind 9 : 0.007812499\n",
      "ADL ind 10 : 0.007812499\n",
      "ADL ind 11 : 0.0078125\n",
      "ADL ind 12 : 0.0078125\n",
      "ADL ind 13 : 0.0078125\n",
      "ADL ind 14 : 0.0078124995\n",
      "ADL ind 15 : 0.0078125\n",
      "ADL ind 16 : 0.0078124995\n",
      "ADL ind 17 : 0.0078125\n",
      "ADL ind 18 : 0.0078125\n",
      "ADL ind 19 : 0.0078124995\n",
      "ADL ind 20 : 0.0078125\n",
      "\n",
      "[ FALL data ]\n",
      "  Mean: 0.0114\n",
      "  Std: 0.0063\n",
      "  Min: 0.0078\n",
      "  Max: 0.0222\n",
      "FALL ind 1 : 0.0078124995\n",
      "FALL ind 2 : 0.007812501\n",
      "FALL ind 3 : 0.0078124986\n",
      "FALL ind 4 : 0.0078125\n",
      "FALL ind 5 : 0.007812499\n",
      "FALL ind 6 : 0.0078125\n",
      "FALL ind 7 : 0.0078125\n",
      "FALL ind 8 : 0.0078125\n",
      "FALL ind 9 : 0.007812501\n",
      "FALL ind 10 : 0.0078125\n",
      "FALL ind 11 : 0.0078125\n",
      "FALL ind 12 : 0.0078124995\n",
      "FALL ind 13 : 0.0078125\n",
      "FALL ind 14 : 0.007812501\n",
      "FALL ind 15 : 0.007812499\n",
      "FALL ind 16 : 0.007812499\n",
      "FALL ind 17 : 0.0078125\n",
      "FALL ind 18 : 0.0078125\n",
      "FALL ind 19 : 0.007812499\n",
      "FALL ind 20 : 0.007812499\n"
     ]
    }
   ],
   "source": [
    "def calculate_similarities(model, test_dataset):\n",
    "    normal_similarities = []\n",
    "    fall_similarities = []\n",
    "    \n",
    "    for (acc_batch, gyro_batch), labels in test_dataset:\n",
    "        logits = model(acc_batch, gyro_batch, training=False)\n",
    "        sim = tf.nn.softmax(logits, axis=-1)\n",
    "        batch_similarities = tf.reduce_mean(sim, axis=1)\n",
    "        \n",
    "        for sim_score, label in zip(batch_similarities.numpy(), labels.numpy()):\n",
    "            if label == 0:  # normal\n",
    "                normal_similarities.append(sim_score)\n",
    "            else:  # fall\n",
    "                fall_similarities.append(sim_score)\n",
    "    \n",
    "    return np.array(normal_similarities), np.array(fall_similarities)\n",
    "\n",
    "normal_sims, fall_sims = calculate_similarities(model, test_dataset)\n",
    "\n",
    "print(\"[ ADL data ]\")\n",
    "print(f\"  Mean: {np.mean(normal_sims):.4f}\")\n",
    "print(f\"  Std: {np.std(normal_sims):.4f}\")\n",
    "print(f\"  Min: {np.min(normal_sims):.4f}\")\n",
    "print(f\"  Max: {np.max(normal_sims):.4f}\")\n",
    "for i in range (20) :\n",
    "    print ('ADL ind', i+1, ':', normal_sims[i])\n",
    "\n",
    "print ()\n",
    "print(\"[ FALL data ]\")\n",
    "print(f\"  Mean: {np.mean(fall_sims):.4f}\")\n",
    "print(f\"  Std: {np.std(fall_sims):.4f}\")\n",
    "print(f\"  Min: {np.min(fall_sims):.4f}\")\n",
    "print(f\"  Max: {np.max(fall_sims):.4f}\")\n",
    "for i in range (20) :\n",
    "    print ('FALL ind', i+1, ':', fall_sims[i])"
   ]
  },
  {
   "cell_type": "code",
   "execution_count": null,
   "id": "d00c1212",
   "metadata": {},
   "outputs": [],
   "source": []
  }
 ],
 "metadata": {
  "kernelspec": {
   "display_name": "Python 3 (ipykernel)",
   "language": "python",
   "name": "python3"
  },
  "language_info": {
   "codemirror_mode": {
    "name": "ipython",
    "version": 3
   },
   "file_extension": ".py",
   "mimetype": "text/x-python",
   "name": "python",
   "nbconvert_exporter": "python",
   "pygments_lexer": "ipython3",
   "version": "3.11.3"
  },
  "varInspector": {
   "cols": {
    "lenName": 16,
    "lenType": 16,
    "lenVar": 40
   },
   "kernels_config": {
    "python": {
     "delete_cmd_postfix": "",
     "delete_cmd_prefix": "del ",
     "library": "var_list.py",
     "varRefreshCmd": "print(var_dic_list())"
    },
    "r": {
     "delete_cmd_postfix": ") ",
     "delete_cmd_prefix": "rm(",
     "library": "var_list.r",
     "varRefreshCmd": "cat(var_dic_list()) "
    }
   },
   "types_to_exclude": [
    "module",
    "function",
    "builtin_function_or_method",
    "instance",
    "_Feature"
   ],
   "window_display": false
  }
 },
 "nbformat": 4,
 "nbformat_minor": 5
}
