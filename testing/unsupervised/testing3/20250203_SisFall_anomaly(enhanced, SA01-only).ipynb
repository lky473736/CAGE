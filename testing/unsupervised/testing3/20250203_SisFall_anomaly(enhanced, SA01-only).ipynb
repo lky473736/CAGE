{
 "cells": [
  {
   "cell_type": "code",
   "execution_count": 2,
   "id": "b55f2495",
   "metadata": {
    "ExecuteTime": {
     "end_time": "2025-02-05T04:11:05.278011Z",
     "start_time": "2025-02-05T04:10:58.092727Z"
    }
   },
   "outputs": [
    {
     "name": "stderr",
     "output_type": "stream",
     "text": [
      "2025-02-05 13:10:59.866395: I tensorflow/core/platform/cpu_feature_guard.cc:210] This TensorFlow binary is optimized to use available CPU instructions in performance-critical operations.\n",
      "To enable the following instructions: AVX2 FMA, in other operations, rebuild TensorFlow with the appropriate compiler flags.\n"
     ]
    }
   ],
   "source": [
    "import tensorflow as tf\n",
    "import numpy as np\n",
    "from tensorflow.keras import layers, Model\n",
    "import matplotlib.pyplot as plt \n",
    "import seaborn as sns\n",
    "import os\n",
    "import glob\n",
    "import pandas as pd\n",
    "from tqdm import tqdm\n",
    "from sklearn.metrics import confusion_matrix, classification_report\n",
    "from sklearn.preprocessing import StandardScaler"
   ]
  },
  {
   "cell_type": "code",
   "execution_count": null,
   "id": "43c4c59f",
   "metadata": {
    "ExecuteTime": {
     "end_time": "2025-02-05T04:11:05.586138Z",
     "start_time": "2025-02-05T04:11:05.586126Z"
    }
   },
   "outputs": [],
   "source": [
    "'''\n",
    "        Each file contains nine columns and a different number of rows depending on the test length.\n",
    "        \n",
    "        1st column is the acceleration data in the X axis measured by the sensor ADXL345.\n",
    "        2nd column is the acceleration data in the Y axis measured by the sensor ADXL345.\n",
    "        3rd column is the acceleration data in the Z axis measured by the sensor ADXL345.\n",
    "\n",
    "        4th column is the rotation data in the X axis measured by the sensor ITG3200.\n",
    "        5th column is the rotation data in the Y axis measured by the sensor ITG3200.\n",
    "        6th column is the rotation data in the Z axis measured by the sensor ITG3200.\n",
    "\n",
    "        7th column is the acceleration data in the X axis measured by the sensor MMA8451Q.\n",
    "        8th column is the acceleration data in the Y axis measured by the sensor MMA8451Q.\n",
    "        9th column is the acceleration data in the Z axis measured by the sensor MMA8451Q.\n",
    "        \n",
    "        Data are in bits with the following characteristics:\n",
    "\n",
    "        ADXL345:\n",
    "        Resolution: 13 bits\n",
    "        Range: +-16g\n",
    "\n",
    "        ITG3200\n",
    "        Resolution: 16 bits\n",
    "        Range: +-2000°/s\n",
    "\n",
    "        MMA8451Q:\n",
    "        Resolution: 14 bits\n",
    "        Range: +-8g\n",
    "'''"
   ]
  },
  {
   "cell_type": "code",
   "execution_count": 4,
   "id": "0fb769b8",
   "metadata": {
    "ExecuteTime": {
     "end_time": "2025-02-05T04:11:34.657136Z",
     "start_time": "2025-02-05T04:11:18.812499Z"
    }
   },
   "outputs": [
    {
     "data": {
      "text/html": [
       "<div>\n",
       "<style scoped>\n",
       "    .dataframe tbody tr th:only-of-type {\n",
       "        vertical-align: middle;\n",
       "    }\n",
       "\n",
       "    .dataframe tbody tr th {\n",
       "        vertical-align: top;\n",
       "    }\n",
       "\n",
       "    .dataframe thead th {\n",
       "        text-align: right;\n",
       "    }\n",
       "</style>\n",
       "<table border=\"1\" class=\"dataframe\">\n",
       "  <thead>\n",
       "    <tr style=\"text-align: right;\">\n",
       "      <th></th>\n",
       "      <th>ADXL_x</th>\n",
       "      <th>ADXL_y</th>\n",
       "      <th>ADXL_z</th>\n",
       "      <th>ITG_x</th>\n",
       "      <th>ITG_y</th>\n",
       "      <th>ITG_z</th>\n",
       "      <th>MMA_x</th>\n",
       "      <th>MMA_y</th>\n",
       "      <th>MMA_z</th>\n",
       "      <th>subject</th>\n",
       "      <th>activity</th>\n",
       "      <th>trial</th>\n",
       "    </tr>\n",
       "  </thead>\n",
       "  <tbody>\n",
       "    <tr>\n",
       "      <th>NaN</th>\n",
       "      <td>0.0</td>\n",
       "      <td>1.0</td>\n",
       "      <td>2.0</td>\n",
       "      <td>3.0</td>\n",
       "      <td>4.0</td>\n",
       "      <td>5.0</td>\n",
       "      <td>6.0</td>\n",
       "      <td>7.0</td>\n",
       "      <td>8.0</td>\n",
       "      <td>SA01</td>\n",
       "      <td>D01</td>\n",
       "      <td>R01</td>\n",
       "    </tr>\n",
       "    <tr>\n",
       "      <th>0.0</th>\n",
       "      <td>17.0</td>\n",
       "      <td>-179.0</td>\n",
       "      <td>-99.0</td>\n",
       "      <td>-18.0</td>\n",
       "      <td>-504.0</td>\n",
       "      <td>-352.0</td>\n",
       "      <td>76.0</td>\n",
       "      <td>-697.0</td>\n",
       "      <td>-279.0</td>\n",
       "      <td>SA01</td>\n",
       "      <td>D01</td>\n",
       "      <td>R01</td>\n",
       "    </tr>\n",
       "    <tr>\n",
       "      <th>1.0</th>\n",
       "      <td>15.0</td>\n",
       "      <td>-174.0</td>\n",
       "      <td>-90.0</td>\n",
       "      <td>-53.0</td>\n",
       "      <td>-568.0</td>\n",
       "      <td>-306.0</td>\n",
       "      <td>48.0</td>\n",
       "      <td>-675.0</td>\n",
       "      <td>-254.0</td>\n",
       "      <td>SA01</td>\n",
       "      <td>D01</td>\n",
       "      <td>R01</td>\n",
       "    </tr>\n",
       "    <tr>\n",
       "      <th>2.0</th>\n",
       "      <td>1.0</td>\n",
       "      <td>-176.0</td>\n",
       "      <td>-81.0</td>\n",
       "      <td>-84.0</td>\n",
       "      <td>-613.0</td>\n",
       "      <td>-271.0</td>\n",
       "      <td>-2.0</td>\n",
       "      <td>-668.0</td>\n",
       "      <td>-221.0</td>\n",
       "      <td>SA01</td>\n",
       "      <td>D01</td>\n",
       "      <td>R01</td>\n",
       "    </tr>\n",
       "    <tr>\n",
       "      <th>3.0</th>\n",
       "      <td>-10.0</td>\n",
       "      <td>-180.0</td>\n",
       "      <td>-77.0</td>\n",
       "      <td>-104.0</td>\n",
       "      <td>-647.0</td>\n",
       "      <td>-227.0</td>\n",
       "      <td>-34.0</td>\n",
       "      <td>-697.0</td>\n",
       "      <td>-175.0</td>\n",
       "      <td>SA01</td>\n",
       "      <td>D01</td>\n",
       "      <td>R01</td>\n",
       "    </tr>\n",
       "    <tr>\n",
       "      <th>4.0</th>\n",
       "      <td>-21.0</td>\n",
       "      <td>-191.0</td>\n",
       "      <td>-63.0</td>\n",
       "      <td>-128.0</td>\n",
       "      <td>-675.0</td>\n",
       "      <td>-191.0</td>\n",
       "      <td>-74.0</td>\n",
       "      <td>-741.0</td>\n",
       "      <td>-133.0</td>\n",
       "      <td>SA01</td>\n",
       "      <td>D01</td>\n",
       "      <td>R01</td>\n",
       "    </tr>\n",
       "    <tr>\n",
       "      <th>5.0</th>\n",
       "      <td>-37.0</td>\n",
       "      <td>-225.0</td>\n",
       "      <td>-59.0</td>\n",
       "      <td>-146.0</td>\n",
       "      <td>-700.0</td>\n",
       "      <td>-159.0</td>\n",
       "      <td>-110.0</td>\n",
       "      <td>-840.0</td>\n",
       "      <td>-103.0</td>\n",
       "      <td>SA01</td>\n",
       "      <td>D01</td>\n",
       "      <td>R01</td>\n",
       "    </tr>\n",
       "    <tr>\n",
       "      <th>6.0</th>\n",
       "      <td>-36.0</td>\n",
       "      <td>-243.0</td>\n",
       "      <td>-46.0</td>\n",
       "      <td>-166.0</td>\n",
       "      <td>-722.0</td>\n",
       "      <td>-131.0</td>\n",
       "      <td>-147.0</td>\n",
       "      <td>-948.0</td>\n",
       "      <td>-75.0</td>\n",
       "      <td>SA01</td>\n",
       "      <td>D01</td>\n",
       "      <td>R01</td>\n",
       "    </tr>\n",
       "    <tr>\n",
       "      <th>7.0</th>\n",
       "      <td>-44.0</td>\n",
       "      <td>-271.0</td>\n",
       "      <td>-38.0</td>\n",
       "      <td>-190.0</td>\n",
       "      <td>-738.0</td>\n",
       "      <td>-107.0</td>\n",
       "      <td>-171.0</td>\n",
       "      <td>-1073.0</td>\n",
       "      <td>-38.0</td>\n",
       "      <td>SA01</td>\n",
       "      <td>D01</td>\n",
       "      <td>R01</td>\n",
       "    </tr>\n",
       "    <tr>\n",
       "      <th>8.0</th>\n",
       "      <td>-51.0</td>\n",
       "      <td>-312.0</td>\n",
       "      <td>-33.0</td>\n",
       "      <td>-210.0</td>\n",
       "      <td>-752.0</td>\n",
       "      <td>-90.0</td>\n",
       "      <td>-200.0</td>\n",
       "      <td>-1191.0</td>\n",
       "      <td>3.0</td>\n",
       "      <td>SA01</td>\n",
       "      <td>D01</td>\n",
       "      <td>R01</td>\n",
       "    </tr>\n",
       "  </tbody>\n",
       "</table>\n",
       "</div>"
      ],
      "text/plain": [
       "     ADXL_x  ADXL_y  ADXL_z  ITG_x  ITG_y  ITG_z  MMA_x   MMA_y  MMA_z  \\\n",
       "NaN     0.0     1.0     2.0    3.0    4.0    5.0    6.0     7.0    8.0   \n",
       "0.0    17.0  -179.0   -99.0  -18.0 -504.0 -352.0   76.0  -697.0 -279.0   \n",
       "1.0    15.0  -174.0   -90.0  -53.0 -568.0 -306.0   48.0  -675.0 -254.0   \n",
       "2.0     1.0  -176.0   -81.0  -84.0 -613.0 -271.0   -2.0  -668.0 -221.0   \n",
       "3.0   -10.0  -180.0   -77.0 -104.0 -647.0 -227.0  -34.0  -697.0 -175.0   \n",
       "4.0   -21.0  -191.0   -63.0 -128.0 -675.0 -191.0  -74.0  -741.0 -133.0   \n",
       "5.0   -37.0  -225.0   -59.0 -146.0 -700.0 -159.0 -110.0  -840.0 -103.0   \n",
       "6.0   -36.0  -243.0   -46.0 -166.0 -722.0 -131.0 -147.0  -948.0  -75.0   \n",
       "7.0   -44.0  -271.0   -38.0 -190.0 -738.0 -107.0 -171.0 -1073.0  -38.0   \n",
       "8.0   -51.0  -312.0   -33.0 -210.0 -752.0  -90.0 -200.0 -1191.0    3.0   \n",
       "\n",
       "    subject activity trial  \n",
       "NaN    SA01      D01   R01  \n",
       "0.0    SA01      D01   R01  \n",
       "1.0    SA01      D01   R01  \n",
       "2.0    SA01      D01   R01  \n",
       "3.0    SA01      D01   R01  \n",
       "4.0    SA01      D01   R01  \n",
       "5.0    SA01      D01   R01  \n",
       "6.0    SA01      D01   R01  \n",
       "7.0    SA01      D01   R01  \n",
       "8.0    SA01      D01   R01  "
      ]
     },
     "execution_count": 4,
     "metadata": {},
     "output_type": "execute_result"
    }
   ],
   "source": [
    "datapath = \"../../../data/SisFall.csv\"\n",
    "\n",
    "df = pd.read_csv(datapath, index_col=0)\n",
    "df.head(10)"
   ]
  },
  {
   "cell_type": "code",
   "execution_count": 5,
   "id": "82deef5e",
   "metadata": {
    "ExecuteTime": {
     "end_time": "2025-02-05T04:11:43.005743Z",
     "start_time": "2025-02-05T04:11:40.638756Z"
    }
   },
   "outputs": [
    {
     "name": "stdout",
     "output_type": "stream",
     "text": [
      "Index(['ADXL_x', 'ADXL_y', 'ADXL_z', 'ITG_x', 'ITG_y', 'ITG_z', 'MMA_x',\n",
      "       'MMA_y', 'MMA_z', 'subject', 'activity', 'trial'],\n",
      "      dtype='object')\n",
      "{'SA18', 'SA15', 'SA14', 'SA02', 'SE05', 'SA07', 'SA23', 'SE01', 'SA16', 'SA05', 'SA22', 'SA04', 'SE12', 'SE10', 'SA13', 'SE07', 'SE09', 'SE08', 'SA03', 'SA06', 'SE15', 'SA17', 'SA10', 'SA21', 'SA08', 'SE11', 'SE04', 'SA09', 'SA19', 'SE13', 'SE03', 'SA12', 'SE02', 'SE06', 'SA01', 'SA20', 'SE14', 'SA11'}\n"
     ]
    }
   ],
   "source": [
    "print (df.columns)\n",
    "print (set(df['subject']))\n",
    "features = df.copy()\n",
    "\n",
    "dnum = 200\n",
    "fnum = 365"
   ]
  },
  {
   "cell_type": "code",
   "execution_count": 6,
   "id": "182660af",
   "metadata": {
    "ExecuteTime": {
     "end_time": "2025-02-05T04:12:11.771488Z",
     "start_time": "2025-02-05T04:11:55.918158Z"
    }
   },
   "outputs": [],
   "source": [
    "D01 = features[features['activity']=='D01'].head(dnum).copy()\n",
    "D02 = features[features['activity']=='D02'].head(dnum).copy()\n",
    "D03 = features[features['activity']=='D03'].head(dnum).copy()\n",
    "D04 = features[features['activity']=='D04'].head(dnum).copy()\n",
    "D05 = features[features['activity']=='D05'].head(dnum).copy()\n",
    "D06 = features[features['activity']=='D06'].head(dnum).copy()\n",
    "D07 = features[features['activity']=='D07'].head(dnum).copy()\n",
    "D08 = features[features['activity']=='D08'].head(dnum).copy()\n",
    "D09 = features[features['activity']=='D09'].head(dnum).copy()\n",
    "D10 = features[features['activity']=='D10'].head(dnum).copy()\n",
    "D11 = features[features['activity']=='D11'].head(dnum).copy()\n",
    "D12 = features[features['activity']=='D12'].head(dnum).copy()\n",
    "D13 = features[features['activity']=='D13'].head(dnum).copy()\n",
    "D14 = features[features['activity']=='D14'].head(dnum).copy()\n",
    "D15 = features[features['activity']=='D15'].head(dnum).copy()\n",
    "D16 = features[features['activity']=='D16'].head(dnum).copy()\n",
    "D17 = features[features['activity']=='D17'].head(dnum).copy()\n",
    "D18 = features[features['activity']=='D18'].head(dnum).copy()\n",
    "D19 = features[features['activity']=='D19'].head(dnum).copy()"
   ]
  },
  {
   "cell_type": "code",
   "execution_count": 7,
   "id": "694a652d",
   "metadata": {
    "ExecuteTime": {
     "end_time": "2025-02-05T04:12:34.001987Z",
     "start_time": "2025-02-05T04:12:21.939576Z"
    }
   },
   "outputs": [],
   "source": [
    "F01 = features[features['activity']=='F01'].head(fnum).copy()\n",
    "F02 = features[features['activity']=='F02'].head(fnum).copy()\n",
    "F03 = features[features['activity']=='F03'].head(fnum).copy()\n",
    "F04 = features[features['activity']=='F04'].head(fnum).copy()\n",
    "F05 = features[features['activity']=='F05'].head(fnum).copy()\n",
    "F06 = features[features['activity']=='F06'].head(fnum).copy()\n",
    "F07 = features[features['activity']=='F07'].head(fnum).copy()\n",
    "F08 = features[features['activity']=='F08'].head(fnum).copy()\n",
    "F09 = features[features['activity']=='F09'].head(fnum).copy()\n",
    "F10 = features[features['activity']=='F10'].head(fnum).copy()\n",
    "F11 = features[features['activity']=='F11'].head(fnum).copy()\n",
    "F12 = features[features['activity']=='F12'].head(fnum).copy()\n",
    "F13 = features[features['activity']=='F13'].head(fnum).copy()\n",
    "F14 = features[features['activity']=='F14'].head(fnum).copy()\n",
    "F15 = features[features['activity']=='F15'].head(fnum).copy()"
   ]
  },
  {
   "cell_type": "code",
   "execution_count": 8,
   "id": "266b503f",
   "metadata": {
    "ExecuteTime": {
     "end_time": "2025-02-05T04:12:37.134294Z",
     "start_time": "2025-02-05T04:12:37.127558Z"
    }
   },
   "outputs": [],
   "source": [
    "df = pd.DataFrame()\n",
    "df = pd.concat([df, F01, F02, F03, F04, F05, F06, F07, F08, F09, F10, F11, F12, F13, F14, F15])\n",
    "df = pd.concat([df, D01, D02, D03, D04, D05, D06, D07, D08, D09, D10, D11, D15, D16, D17, D18, D19])"
   ]
  },
  {
   "cell_type": "code",
   "execution_count": 9,
   "id": "edcbb2a4",
   "metadata": {
    "ExecuteTime": {
     "end_time": "2025-02-05T04:12:37.598346Z",
     "start_time": "2025-02-05T04:12:37.591665Z"
    }
   },
   "outputs": [
    {
     "data": {
      "text/plain": [
       "activity\n",
       "F01    365\n",
       "F09    365\n",
       "F02    365\n",
       "F15    365\n",
       "F14    365\n",
       "F13    365\n",
       "F11    365\n",
       "F10    365\n",
       "F12    365\n",
       "F08    365\n",
       "F07    365\n",
       "F06    365\n",
       "F05    365\n",
       "F04    365\n",
       "F03    365\n",
       "D09    200\n",
       "D18    200\n",
       "D17    200\n",
       "D16    200\n",
       "D15    200\n",
       "D11    200\n",
       "D10    200\n",
       "D01    200\n",
       "D08    200\n",
       "D07    200\n",
       "D06    200\n",
       "D05    200\n",
       "D04    200\n",
       "D03    200\n",
       "D02    200\n",
       "D19    200\n",
       "Name: count, dtype: int64"
      ]
     },
     "execution_count": 9,
     "metadata": {},
     "output_type": "execute_result"
    }
   ],
   "source": [
    "df['activity'].value_counts()"
   ]
  },
  {
   "cell_type": "code",
   "execution_count": 14,
   "id": "82d5f030",
   "metadata": {
    "ExecuteTime": {
     "end_time": "2025-02-05T04:55:56.106374Z",
     "start_time": "2025-02-05T04:55:56.036385Z"
    }
   },
   "outputs": [
    {
     "name": "stderr",
     "output_type": "stream",
     "text": [
      "/var/folders/_z/gryfr07n59jgb3wrd062h1ym0000gn/T/ipykernel_77910/1573906368.py:35: FutureWarning: Downcasting behavior in `replace` is deprecated and will be removed in a future version. To retain the old behavior, explicitly call `result.infer_objects(copy=False)`. To opt-in to the future behavior, set `pd.set_option('future.no_silent_downcasting', True)`\n",
      "  df = df.replace({'activity':'F15'},1)\n"
     ]
    }
   ],
   "source": [
    "df = df.replace({'activity':'D01'},0)\n",
    "df = df.replace({'activity':'D01'},0)\n",
    "df = df.replace({'activity':'D02'},0)\n",
    "df = df.replace({'activity':'D03'},0)\n",
    "df = df.replace({'activity':'D04'},0)\n",
    "df = df.replace({'activity':'D05'},0)\n",
    "df = df.replace({'activity':'D06'},0)\n",
    "df = df.replace({'activity':'D07'},0)\n",
    "df = df.replace({'activity':'D08'},0)\n",
    "df = df.replace({'activity':'D09'},0)\n",
    "df = df.replace({'activity':'D10'},0)\n",
    "df = df.replace({'activity':'D11'},0)\n",
    "df = df.replace({'activity':'D12'},0)\n",
    "df = df.replace({'activity':'D13'},0)\n",
    "df = df.replace({'activity':'D14'},0)\n",
    "df = df.replace({'activity':'D15'},0)\n",
    "df = df.replace({'activity':'D16'},0)\n",
    "df = df.replace({'activity':'D17'},0)\n",
    "df = df.replace({'activity':'D18'},0)\n",
    "df = df.replace({'activity':'D19'},0)\n",
    "df = df.replace({'activity':'F01'},1)\n",
    "df = df.replace({'activity':'F02'},1)\n",
    "df = df.replace({'activity':'F03'},1)\n",
    "df = df.replace({'activity':'F04'},1)\n",
    "df = df.replace({'activity':'F05'},1)\n",
    "df = df.replace({'activity':'F06'},1)\n",
    "df = df.replace({'activity':'F07'},1)\n",
    "df = df.replace({'activity':'F08'},1)\n",
    "df = df.replace({'activity':'F09'},1)\n",
    "df = df.replace({'activity':'F10'},1)\n",
    "df = df.replace({'activity':'F11'},1)\n",
    "df = df.replace({'activity':'F12'},1)\n",
    "df = df.replace({'activity':'F13'},1)\n",
    "df = df.replace({'activity':'F14'},1)\n",
    "df = df.replace({'activity':'F15'},1)\n",
    "df = df.replace({'activity':'F15'},1)"
   ]
  },
  {
   "cell_type": "code",
   "execution_count": 15,
   "id": "2f8c49f1",
   "metadata": {
    "ExecuteTime": {
     "end_time": "2025-02-05T04:55:58.496146Z",
     "start_time": "2025-02-05T04:55:58.491076Z"
    }
   },
   "outputs": [
    {
     "data": {
      "text/plain": [
       "activity\n",
       "1    5475\n",
       "0    3200\n",
       "Name: count, dtype: int64"
      ]
     },
     "execution_count": 15,
     "metadata": {},
     "output_type": "execute_result"
    }
   ],
   "source": [
    "df['activity'].value_counts()"
   ]
  },
  {
   "cell_type": "code",
   "execution_count": 16,
   "id": "4b869b81",
   "metadata": {
    "ExecuteTime": {
     "end_time": "2025-02-05T04:56:01.897428Z",
     "start_time": "2025-02-05T04:56:01.879183Z"
    }
   },
   "outputs": [
    {
     "data": {
      "text/html": [
       "<div>\n",
       "<style scoped>\n",
       "    .dataframe tbody tr th:only-of-type {\n",
       "        vertical-align: middle;\n",
       "    }\n",
       "\n",
       "    .dataframe tbody tr th {\n",
       "        vertical-align: top;\n",
       "    }\n",
       "\n",
       "    .dataframe thead th {\n",
       "        text-align: right;\n",
       "    }\n",
       "</style>\n",
       "<table border=\"1\" class=\"dataframe\">\n",
       "  <thead>\n",
       "    <tr style=\"text-align: right;\">\n",
       "      <th></th>\n",
       "      <th>ADXL_x</th>\n",
       "      <th>ADXL_y</th>\n",
       "      <th>ADXL_z</th>\n",
       "      <th>ITG_x</th>\n",
       "      <th>ITG_y</th>\n",
       "      <th>ITG_z</th>\n",
       "      <th>MMA_x</th>\n",
       "      <th>MMA_y</th>\n",
       "      <th>MMA_z</th>\n",
       "      <th>subject</th>\n",
       "      <th>activity</th>\n",
       "      <th>trial</th>\n",
       "    </tr>\n",
       "  </thead>\n",
       "  <tbody>\n",
       "    <tr>\n",
       "      <th>NaN</th>\n",
       "      <td>0.0</td>\n",
       "      <td>1.0</td>\n",
       "      <td>2.0</td>\n",
       "      <td>3.0</td>\n",
       "      <td>4.0</td>\n",
       "      <td>5.0</td>\n",
       "      <td>6.0</td>\n",
       "      <td>7.0</td>\n",
       "      <td>8.0</td>\n",
       "      <td>SA01</td>\n",
       "      <td>1</td>\n",
       "      <td>R01</td>\n",
       "    </tr>\n",
       "    <tr>\n",
       "      <th>0.0</th>\n",
       "      <td>-9.0</td>\n",
       "      <td>-257.0</td>\n",
       "      <td>-25.0</td>\n",
       "      <td>84.0</td>\n",
       "      <td>247.0</td>\n",
       "      <td>27.0</td>\n",
       "      <td>-120.0</td>\n",
       "      <td>-987.0</td>\n",
       "      <td>63.0</td>\n",
       "      <td>SA01</td>\n",
       "      <td>1</td>\n",
       "      <td>R01</td>\n",
       "    </tr>\n",
       "    <tr>\n",
       "      <th>1.0</th>\n",
       "      <td>-3.0</td>\n",
       "      <td>-263.0</td>\n",
       "      <td>-23.0</td>\n",
       "      <td>99.0</td>\n",
       "      <td>258.0</td>\n",
       "      <td>35.0</td>\n",
       "      <td>-110.0</td>\n",
       "      <td>-1016.0</td>\n",
       "      <td>68.0</td>\n",
       "      <td>SA01</td>\n",
       "      <td>1</td>\n",
       "      <td>R01</td>\n",
       "    </tr>\n",
       "    <tr>\n",
       "      <th>2.0</th>\n",
       "      <td>-1.0</td>\n",
       "      <td>-270.0</td>\n",
       "      <td>-22.0</td>\n",
       "      <td>114.0</td>\n",
       "      <td>272.0</td>\n",
       "      <td>45.0</td>\n",
       "      <td>-94.0</td>\n",
       "      <td>-1037.0</td>\n",
       "      <td>69.0</td>\n",
       "      <td>SA01</td>\n",
       "      <td>1</td>\n",
       "      <td>R01</td>\n",
       "    </tr>\n",
       "    <tr>\n",
       "      <th>3.0</th>\n",
       "      <td>1.0</td>\n",
       "      <td>-277.0</td>\n",
       "      <td>-24.0</td>\n",
       "      <td>127.0</td>\n",
       "      <td>286.0</td>\n",
       "      <td>57.0</td>\n",
       "      <td>-81.0</td>\n",
       "      <td>-1062.0</td>\n",
       "      <td>69.0</td>\n",
       "      <td>SA01</td>\n",
       "      <td>1</td>\n",
       "      <td>R01</td>\n",
       "    </tr>\n",
       "    <tr>\n",
       "      <th>...</th>\n",
       "      <td>...</td>\n",
       "      <td>...</td>\n",
       "      <td>...</td>\n",
       "      <td>...</td>\n",
       "      <td>...</td>\n",
       "      <td>...</td>\n",
       "      <td>...</td>\n",
       "      <td>...</td>\n",
       "      <td>...</td>\n",
       "      <td>...</td>\n",
       "      <td>...</td>\n",
       "      <td>...</td>\n",
       "    </tr>\n",
       "    <tr>\n",
       "      <th>194.0</th>\n",
       "      <td>4.0</td>\n",
       "      <td>-259.0</td>\n",
       "      <td>-21.0</td>\n",
       "      <td>-56.0</td>\n",
       "      <td>2.0</td>\n",
       "      <td>-5.0</td>\n",
       "      <td>18.0</td>\n",
       "      <td>-1008.0</td>\n",
       "      <td>35.0</td>\n",
       "      <td>SA01</td>\n",
       "      <td>0</td>\n",
       "      <td>R01</td>\n",
       "    </tr>\n",
       "    <tr>\n",
       "      <th>195.0</th>\n",
       "      <td>9.0</td>\n",
       "      <td>-261.0</td>\n",
       "      <td>-27.0</td>\n",
       "      <td>-59.0</td>\n",
       "      <td>2.0</td>\n",
       "      <td>-5.0</td>\n",
       "      <td>23.0</td>\n",
       "      <td>-1014.0</td>\n",
       "      <td>35.0</td>\n",
       "      <td>SA01</td>\n",
       "      <td>0</td>\n",
       "      <td>R01</td>\n",
       "    </tr>\n",
       "    <tr>\n",
       "      <th>196.0</th>\n",
       "      <td>4.0</td>\n",
       "      <td>-261.0</td>\n",
       "      <td>-25.0</td>\n",
       "      <td>-62.0</td>\n",
       "      <td>3.0</td>\n",
       "      <td>-5.0</td>\n",
       "      <td>20.0</td>\n",
       "      <td>-1011.0</td>\n",
       "      <td>33.0</td>\n",
       "      <td>SA01</td>\n",
       "      <td>0</td>\n",
       "      <td>R01</td>\n",
       "    </tr>\n",
       "    <tr>\n",
       "      <th>197.0</th>\n",
       "      <td>4.0</td>\n",
       "      <td>-262.0</td>\n",
       "      <td>-21.0</td>\n",
       "      <td>-65.0</td>\n",
       "      <td>3.0</td>\n",
       "      <td>-4.0</td>\n",
       "      <td>18.0</td>\n",
       "      <td>-1009.0</td>\n",
       "      <td>36.0</td>\n",
       "      <td>SA01</td>\n",
       "      <td>0</td>\n",
       "      <td>R01</td>\n",
       "    </tr>\n",
       "    <tr>\n",
       "      <th>198.0</th>\n",
       "      <td>6.0</td>\n",
       "      <td>-259.0</td>\n",
       "      <td>-20.0</td>\n",
       "      <td>-67.0</td>\n",
       "      <td>2.0</td>\n",
       "      <td>-6.0</td>\n",
       "      <td>19.0</td>\n",
       "      <td>-1012.0</td>\n",
       "      <td>33.0</td>\n",
       "      <td>SA01</td>\n",
       "      <td>0</td>\n",
       "      <td>R01</td>\n",
       "    </tr>\n",
       "  </tbody>\n",
       "</table>\n",
       "<p>8675 rows × 12 columns</p>\n",
       "</div>"
      ],
      "text/plain": [
       "       ADXL_x  ADXL_y  ADXL_z  ITG_x  ITG_y  ITG_z  MMA_x   MMA_y  MMA_z  \\\n",
       "NaN       0.0     1.0     2.0    3.0    4.0    5.0    6.0     7.0    8.0   \n",
       "0.0      -9.0  -257.0   -25.0   84.0  247.0   27.0 -120.0  -987.0   63.0   \n",
       "1.0      -3.0  -263.0   -23.0   99.0  258.0   35.0 -110.0 -1016.0   68.0   \n",
       "2.0      -1.0  -270.0   -22.0  114.0  272.0   45.0  -94.0 -1037.0   69.0   \n",
       "3.0       1.0  -277.0   -24.0  127.0  286.0   57.0  -81.0 -1062.0   69.0   \n",
       "...       ...     ...     ...    ...    ...    ...    ...     ...    ...   \n",
       "194.0     4.0  -259.0   -21.0  -56.0    2.0   -5.0   18.0 -1008.0   35.0   \n",
       "195.0     9.0  -261.0   -27.0  -59.0    2.0   -5.0   23.0 -1014.0   35.0   \n",
       "196.0     4.0  -261.0   -25.0  -62.0    3.0   -5.0   20.0 -1011.0   33.0   \n",
       "197.0     4.0  -262.0   -21.0  -65.0    3.0   -4.0   18.0 -1009.0   36.0   \n",
       "198.0     6.0  -259.0   -20.0  -67.0    2.0   -6.0   19.0 -1012.0   33.0   \n",
       "\n",
       "      subject  activity trial  \n",
       "NaN      SA01         1   R01  \n",
       "0.0      SA01         1   R01  \n",
       "1.0      SA01         1   R01  \n",
       "2.0      SA01         1   R01  \n",
       "3.0      SA01         1   R01  \n",
       "...       ...       ...   ...  \n",
       "194.0    SA01         0   R01  \n",
       "195.0    SA01         0   R01  \n",
       "196.0    SA01         0   R01  \n",
       "197.0    SA01         0   R01  \n",
       "198.0    SA01         0   R01  \n",
       "\n",
       "[8675 rows x 12 columns]"
      ]
     },
     "execution_count": 16,
     "metadata": {},
     "output_type": "execute_result"
    }
   ],
   "source": [
    "df"
   ]
  },
  {
   "cell_type": "code",
   "execution_count": 35,
   "id": "9ffc082e",
   "metadata": {
    "ExecuteTime": {
     "end_time": "2025-02-05T05:00:46.430314Z",
     "start_time": "2025-02-05T05:00:46.426715Z"
    }
   },
   "outputs": [
    {
     "name": "stdout",
     "output_type": "stream",
     "text": [
      "{'SA01'}\n"
     ]
    }
   ],
   "source": [
    "print (set(df['subject']))"
   ]
  },
  {
   "cell_type": "code",
   "execution_count": 38,
   "id": "6842788b",
   "metadata": {
    "ExecuteTime": {
     "end_time": "2025-02-05T05:01:26.114503Z",
     "start_time": "2025-02-05T05:01:26.110072Z"
    }
   },
   "outputs": [
    {
     "name": "stdout",
     "output_type": "stream",
     "text": [
      "Index(['ADXL_x', 'ADXL_y', 'ADXL_z', 'ITG_x', 'ITG_y', 'ITG_z', 'activity'], dtype='object')\n"
     ]
    }
   ],
   "source": [
    "df = df[[ft for ft in df.columns if ft not in ['subject', \n",
    "                                                                 'trial',\n",
    "                                                                'MMA_x',\n",
    "                                                                'MMA_y',\n",
    "                                                                'MMA_z']]]\n",
    "print(df.columns)"
   ]
  },
  {
   "cell_type": "code",
   "execution_count": 39,
   "id": "e221fc2b",
   "metadata": {
    "ExecuteTime": {
     "end_time": "2025-02-05T05:01:27.640651Z",
     "start_time": "2025-02-05T05:01:27.629833Z"
    }
   },
   "outputs": [
    {
     "name": "stdout",
     "output_type": "stream",
     "text": [
      "['ADXL_x', 'ADXL_y', 'ADXL_z', 'ITG_x', 'ITG_y', 'ITG_z']\n"
     ]
    }
   ],
   "source": [
    "from sklearn.preprocessing import StandardScaler\n",
    "\n",
    "feature_columns = [col for col in df.columns if col != 'activity']\n",
    "print (feature_columns)\n",
    "scaler = StandardScaler()\n",
    "\n",
    "features_scaled = df.copy()\n",
    "features_scaled[feature_columns] = scaler.fit_transform(df[feature_columns])"
   ]
  },
  {
   "cell_type": "code",
   "execution_count": 40,
   "id": "c9f1d618",
   "metadata": {
    "ExecuteTime": {
     "end_time": "2025-02-05T05:01:32.855879Z",
     "start_time": "2025-02-05T05:01:32.847231Z"
    }
   },
   "outputs": [
    {
     "name": "stdout",
     "output_type": "stream",
     "text": [
      "(1920, 7) (1280, 7) (3285, 7) (2190, 7)\n"
     ]
    }
   ],
   "source": [
    "adl_count = features_scaled['activity'].value_counts()[0]\n",
    "fall_count = features_scaled['activity'].value_counts()[1]\n",
    "\n",
    "adl_mask = features_scaled['activity'] == 0\n",
    "adl_data = features_scaled[adl_mask]\n",
    "adl1 = adl_data.iloc[:int(adl_count * 0.6)]\n",
    "adl2 = adl_data.iloc[int(adl_count * 0.6):]\n",
    "\n",
    "fall_mask = features_scaled['activity'] == 1\n",
    "fall_data = features_scaled[fall_mask]\n",
    "fall1 = fall_data.iloc[:int(fall_count * 0.6)]\n",
    "fall2 = fall_data.iloc[int(fall_count * 0.6):]\n",
    "\n",
    "print(adl1.shape, adl2.shape, fall1.shape, fall2.shape)"
   ]
  },
  {
   "cell_type": "code",
   "execution_count": 41,
   "id": "1a2a02b0",
   "metadata": {
    "ExecuteTime": {
     "end_time": "2025-02-05T05:01:35.240066Z",
     "start_time": "2025-02-05T05:01:35.231639Z"
    }
   },
   "outputs": [
    {
     "name": "stdout",
     "output_type": "stream",
     "text": [
      "(1920, 7) (1280, 7) (3285, 7) (2190, 7)\n"
     ]
    }
   ],
   "source": [
    "adl_count = features_scaled['activity'].value_counts()[0]\n",
    "fall_count = features_scaled['activity'].value_counts()[1]\n",
    "\n",
    "adl_mask = features_scaled['activity'] == 0\n",
    "adl_data = features_scaled[adl_mask]\n",
    "adl1 = adl_data.iloc[:int(adl_count * 0.6)]\n",
    "adl2 = adl_data.iloc[int(adl_count * 0.6):]\n",
    "\n",
    "fall_mask = features_scaled['activity'] == 1\n",
    "fall_data = features_scaled[fall_mask]\n",
    "fall1 = fall_data.iloc[:int(fall_count * 0.6)]\n",
    "fall2 = fall_data.iloc[int(fall_count * 0.6):]\n",
    "\n",
    "print(adl1.shape, adl2.shape, fall1.shape, fall2.shape)"
   ]
  },
  {
   "cell_type": "code",
   "execution_count": 42,
   "id": "34cebcc6",
   "metadata": {
    "ExecuteTime": {
     "end_time": "2025-02-05T05:01:37.464649Z",
     "start_time": "2025-02-05T05:01:37.460890Z"
    }
   },
   "outputs": [],
   "source": [
    "def split_sequences(sequences, n_steps):\n",
    "    X, y = [], []\n",
    "    for i in range(len(sequences) - n_steps + 1):\n",
    "        end_ix = i + n_steps\n",
    "        \n",
    "        seq_x = sequences.iloc[i:end_ix].iloc[:, :-1] \n",
    "        seq_y = sequences.iloc[end_ix-1].iloc[-1]     \n",
    "        \n",
    "        X.append(seq_x.values)  \n",
    "        y.append(seq_y)\n",
    "    \n",
    "    return np.array(X), np.array(y)"
   ]
  },
  {
   "cell_type": "code",
   "execution_count": 43,
   "id": "3c24635f",
   "metadata": {
    "ExecuteTime": {
     "end_time": "2025-02-05T05:01:40.691017Z",
     "start_time": "2025-02-05T05:01:37.927121Z"
    }
   },
   "outputs": [
    {
     "name": "stdout",
     "output_type": "stream",
     "text": [
      "after : (1901, 20, 6), (3451, 20, 6)\n"
     ]
    }
   ],
   "source": [
    "WINDOW_LENGTH = 20\n",
    "train_data, train_labels = split_sequences(adl1, WINDOW_LENGTH)\n",
    "test_data, test_labels = split_sequences(pd.concat([adl2, fall2]), WINDOW_LENGTH)\n",
    "print (f\"after : {train_data.shape}, {test_data.shape}\")"
   ]
  },
  {
   "cell_type": "code",
   "execution_count": 45,
   "id": "cf0a2ae5",
   "metadata": {
    "ExecuteTime": {
     "end_time": "2025-02-05T05:03:11.552558Z",
     "start_time": "2025-02-05T05:03:11.548414Z"
    }
   },
   "outputs": [
    {
     "name": "stdout",
     "output_type": "stream",
     "text": [
      "Accelerometer: (1901, 20, 3)\n",
      "Gyroscope: (1901, 20, 3)\n",
      "Accelerometer: (3451, 20, 3)\n",
      "Gyroscope: (3451, 20, 3)\n"
     ]
    }
   ],
   "source": [
    "train_data_accel = train_data[:, :, :3] \n",
    "train_data_gyro = train_data[:, :, 3:6]\n",
    "\n",
    "test_data_accel = test_data[:, :, :3] \n",
    "test_data_gyro = test_data[:, :, 3:6]  \n",
    "\n",
    "print(f\"Accelerometer: {train_data_accel.shape}\")\n",
    "print(f\"Gyroscope: {train_data_gyro.shape}\")\n",
    "print(f\"Accelerometer: {test_data_accel.shape}\")\n",
    "print(f\"Gyroscope: {test_data_gyro.shape}\")"
   ]
  },
  {
   "cell_type": "code",
   "execution_count": 65,
   "id": "0323cc19",
   "metadata": {
    "ExecuteTime": {
     "end_time": "2025-02-05T05:36:14.393114Z",
     "start_time": "2025-02-05T05:36:14.382351Z"
    }
   },
   "outputs": [
    {
     "name": "stdout",
     "output_type": "stream",
     "text": [
      "Train dataset spec: ((TensorSpec(shape=(None, 20, 3), dtype=tf.float32, name=None), TensorSpec(shape=(None, 20, 3), dtype=tf.float32, name=None)), TensorSpec(shape=(None,), dtype=tf.float64, name=None))\n",
      "Test dataset spec: ((TensorSpec(shape=(None, 20, 3), dtype=tf.float32, name=None), TensorSpec(shape=(None, 20, 3), dtype=tf.float32, name=None)), TensorSpec(shape=(None,), dtype=tf.float64, name=None))\n"
     ]
    }
   ],
   "source": [
    "BATCH_SIZE = 64\n",
    "\n",
    "train_data_accel = tf.cast(train_data_accel, tf.float32)\n",
    "train_data_gyro = tf.cast(train_data_gyro, tf.float32)\n",
    "test_data_accel = tf.cast(test_data_accel, tf.float32)\n",
    "test_data_gyro = tf.cast(test_data_gyro, tf.float32)\n",
    "\n",
    "train_dataset = tf.data.Dataset.from_tensor_slices((\n",
    "    (train_data_accel, train_data_gyro),  \n",
    "    train_labels  \n",
    "))\n",
    "train_dataset = train_dataset.batch(BATCH_SIZE)\n",
    "\n",
    "test_dataset = tf.data.Dataset.from_tensor_slices((\n",
    "    (test_data_accel, test_data_gyro),  \n",
    "    test_labels  \n",
    "))\n",
    "test_dataset = test_dataset.batch(BATCH_SIZE)\n",
    "\n",
    "print(\"Train dataset spec:\", train_dataset.element_spec)\n",
    "print(\"Test dataset spec:\", test_dataset.element_spec)"
   ]
  },
  {
   "cell_type": "markdown",
   "id": "0005414b",
   "metadata": {},
   "source": [
    "------"
   ]
  },
  {
   "cell_type": "code",
   "execution_count": 66,
   "id": "227d06a5",
   "metadata": {
    "ExecuteTime": {
     "end_time": "2025-02-05T05:36:16.512129Z",
     "start_time": "2025-02-05T05:36:16.508871Z"
    }
   },
   "outputs": [],
   "source": [
    "# class Encoder(Model):\n",
    "#     def __init__(self, in_feat, out_feat, num_encoders=1, use_skip=True):\n",
    "#         super(Encoder, self).__init__()\n",
    "#         self.use_skip = use_skip\n",
    "#         self.num_encoders = num_encoders\n",
    "        \n",
    "#         for i in range(num_encoders):\n",
    "#             setattr(self, f'conv1_{i}', layers.Conv1D(filters=out_feat*3, \n",
    "#                                                       kernel_size=7, padding='same', \n",
    "#                                                       activation='relu'))\n",
    "#             setattr(self, f'maxpool1_{i}', layers.MaxPooling1D(pool_size=2, padding='same'))\n",
    "#             setattr(self, f'conv2_{i}', layers.Conv1D(filters=out_feat*2, \n",
    "#                                                       kernel_size=5, padding='same', \n",
    "#                                                       activation='relu'))\n",
    "#             setattr(self, f'maxpool2_{i}', layers.MaxPooling1D(pool_size=2, padding='same'))\n",
    "#             setattr(self, f'conv3_{i}', layers.Conv1D(filters=out_feat*1, \n",
    "#                                                       kernel_size=3, padding='same', \n",
    "#                                                       activation='relu'))\n",
    "    \n",
    "#     def call(self, x, training=False):\n",
    "#         for i in range(self.num_encoders):\n",
    "#             if self.use_skip and i > 0:\n",
    "#                 identity = x\n",
    "            \n",
    "#             x = getattr(self, f'conv1_{i}')(x)\n",
    "#             x = getattr(self, f'maxpool1_{i}')(x)\n",
    "#             x = getattr(self, f'conv2_{i}')(x)\n",
    "#             x = getattr(self, f'maxpool2_{i}')(x)\n",
    "#             x = getattr(self, f'conv3_{i}')(x)\n",
    "            \n",
    "#             if self.use_skip and i > 0:\n",
    "#                 x = x + identity\n",
    "        \n",
    "#         return tf.reduce_mean(x, axis=1)"
   ]
  },
  {
   "cell_type": "code",
   "execution_count": 67,
   "id": "5c8b9acf",
   "metadata": {
    "ExecuteTime": {
     "end_time": "2025-02-05T05:36:16.956700Z",
     "start_time": "2025-02-05T05:36:16.949376Z"
    }
   },
   "outputs": [],
   "source": [
    "class Encoder(Model):\n",
    "    def __init__(self, in_feat, out_feat, num_encoders=1):\n",
    "        super(Encoder, self).__init__()\n",
    "        \n",
    "        # Initial convolution layers\n",
    "        self.conv1 = layers.Conv1D(filters=256, kernel_size=7, padding='same')\n",
    "        self.bn1 = layers.BatchNormalization()\n",
    "        self.act1 = layers.LeakyReLU(0.2)\n",
    "        self.pool1 = layers.MaxPooling1D(pool_size=2, padding='same')\n",
    "        \n",
    "        self.conv2 = layers.Conv1D(filters=128, kernel_size=5, padding='same')\n",
    "        self.bn2 = layers.BatchNormalization()\n",
    "        self.act2 = layers.LeakyReLU(0.2)\n",
    "        self.pool2 = layers.MaxPooling1D(pool_size=2, padding='same')\n",
    "        \n",
    "        self.attention = layers.MultiHeadAttention(num_heads=8, key_dim=32)\n",
    "        self.attention_norm = layers.LayerNormalization()\n",
    "        \n",
    "        self.conv3 = layers.Conv1D(filters=64, kernel_size=3, padding='same')\n",
    "        self.bn3 = layers.BatchNormalization()\n",
    "        self.act3 = layers.LeakyReLU(0.2)\n",
    "        \n",
    "        self.global_pool = layers.GlobalAveragePooling1D()\n",
    "        self.dropout = layers.Dropout(0.3)\n",
    "        self.dense = layers.Dense(out_feat)\n",
    "    \n",
    "    def call(self, x, training=False):\n",
    "        x = self.conv1(x)\n",
    "        x = self.bn1(x)\n",
    "        x = self.act1(x)\n",
    "        x = self.pool1(x)\n",
    "        \n",
    "        x = self.conv2(x)\n",
    "        x = self.bn2(x)\n",
    "        x = self.act2(x)\n",
    "        x = self.pool2(x)\n",
    "        \n",
    "        attention_output = self.attention(x, x, x)\n",
    "        x = self.attention_norm(x + attention_output)\n",
    "        \n",
    "        x = self.conv3(x)\n",
    "        x = self.bn3(x)\n",
    "        x = self.act3(x)\n",
    "        \n",
    "        x = self.global_pool(x)\n",
    "        x = self.dropout(x, training=training)\n",
    "        x = self.dense(x)\n",
    "        \n",
    "        return x"
   ]
  },
  {
   "cell_type": "code",
   "execution_count": 68,
   "id": "6a17637e",
   "metadata": {
    "ExecuteTime": {
     "end_time": "2025-02-05T05:36:17.424088Z",
     "start_time": "2025-02-05T05:36:17.421026Z"
    }
   },
   "outputs": [],
   "source": [
    "# class CAGE(Model):\n",
    "#     def __init__(self, n_feat=6, proj_dim=128):\n",
    "#         super(CAGE, self).__init__()\n",
    "#         self.proj_dim = proj_dim\n",
    "        \n",
    "#         self.enc_A = Encoder(n_feat, 64)\n",
    "#         self.enc_G = Encoder(n_feat, 64)\n",
    "        \n",
    "#         if self.proj_dim > 0:\n",
    "#             self.proj_A = layers.Dense(proj_dim, use_bias=False)\n",
    "#             self.proj_G = layers.Dense(proj_dim, use_bias=False)\n",
    "        \n",
    "#         self.temperature = tf.Variable(0.1, trainable=True)\n",
    "    \n",
    "#     def call(self, x_accel, x_gyro, return_feat=False, training=False):\n",
    "#         f_accel = self.enc_A(x_accel, training=training)\n",
    "#         f_gyro = self.enc_G(x_gyro, training=training)\n",
    "        \n",
    "#         if self.proj_dim > 0:\n",
    "#             e_accel = self.proj_A(f_accel)\n",
    "#             e_gyro = self.proj_G(f_gyro)\n",
    "#         else:\n",
    "#             e_accel = f_accel\n",
    "#             e_gyro = f_gyro\n",
    "        \n",
    "#         e_accel = tf.math.l2_normalize(e_accel, axis=1)\n",
    "#         e_gyro = tf.math.l2_normalize(e_gyro, axis=1)\n",
    "        \n",
    "#         sim_matrix = tf.matmul(e_accel, e_gyro, transpose_b=True) / self.temperature\n",
    "        \n",
    "#         if return_feat:\n",
    "#             return sim_matrix, (e_accel, e_gyro)\n",
    "        \n",
    "#         return sim_matrix"
   ]
  },
  {
   "cell_type": "code",
   "execution_count": 69,
   "id": "188d2876",
   "metadata": {
    "ExecuteTime": {
     "end_time": "2025-02-05T05:36:17.874068Z",
     "start_time": "2025-02-05T05:36:17.867979Z"
    }
   },
   "outputs": [],
   "source": [
    "class CAGE(Model):\n",
    "    def __init__(self, n_feat=3, proj_dim=128):\n",
    "        super(CAGE, self).__init__()\n",
    "        self.proj_dim = proj_dim\n",
    "        \n",
    "        # encoders\n",
    "        self.enc_A = Encoder(n_feat, 64)\n",
    "        self.enc_G = Encoder(n_feat, 64)\n",
    "        \n",
    "        if self.proj_dim > 0:\n",
    "            self.proj_A = tf.keras.Sequential([\n",
    "                layers.Dense(proj_dim * 2, use_bias=False),\n",
    "                layers.BatchNormalization(),\n",
    "                layers.ReLU(),\n",
    "                layers.Dense(proj_dim, use_bias=False)\n",
    "            ])\n",
    "            self.proj_G = tf.keras.Sequential([\n",
    "                layers.Dense(proj_dim * 2, use_bias=False),\n",
    "                layers.BatchNormalization(),\n",
    "                layers.ReLU(),\n",
    "                layers.Dense(proj_dim, use_bias=False)\n",
    "            ])\n",
    "        \n",
    "        self.temperature = tf.Variable(0.5, trainable=True) # 0.07 -> 0.5\n",
    "    \n",
    "    def call(self, x_accel, x_gyro, return_feat=False, training=False):\n",
    "        f_accel = self.enc_A(x_accel, training=training)\n",
    "        f_gyro = self.enc_G(x_gyro, training=training)\n",
    "        \n",
    "        if self.proj_dim > 0:\n",
    "            e_accel = self.proj_A(f_accel)\n",
    "            e_gyro = self.proj_G(f_gyro)\n",
    "        else:\n",
    "            e_accel = f_accel\n",
    "            e_gyro = f_gyro\n",
    "        \n",
    "        e_accel = tf.math.l2_normalize(e_accel, axis=1)\n",
    "        e_gyro = tf.math.l2_normalize(e_gyro, axis=1)\n",
    "        \n",
    "        sim_matrix = tf.matmul(e_accel, e_gyro, transpose_b=True) / self.temperature\n",
    "        \n",
    "        if return_feat:\n",
    "            return sim_matrix, (e_accel, e_gyro)\n",
    "        \n",
    "        return sim_matrix"
   ]
  },
  {
   "cell_type": "code",
   "execution_count": 70,
   "id": "070a705e",
   "metadata": {
    "ExecuteTime": {
     "end_time": "2025-02-05T05:36:18.715997Z",
     "start_time": "2025-02-05T05:36:18.712832Z"
    }
   },
   "outputs": [],
   "source": [
    "EPOCHS = 50\n",
    "INITIAL_LEARNING_RATE = 0.005\n",
    "DECAY_STEPS = 500\n",
    "DECAY_RATE = 0.95\n",
    "PROJ_DIM = 64"
   ]
  },
  {
   "cell_type": "code",
   "execution_count": 71,
   "id": "e76cde45",
   "metadata": {
    "ExecuteTime": {
     "end_time": "2025-02-05T05:36:19.399429Z",
     "start_time": "2025-02-05T05:36:19.364764Z"
    }
   },
   "outputs": [],
   "source": [
    "lr_schedule = tf.keras.optimizers.schedules.ExponentialDecay(\n",
    "    INITIAL_LEARNING_RATE,\n",
    "    decay_steps=DECAY_STEPS,\n",
    "    decay_rate=DECAY_RATE\n",
    ")\n",
    "\n",
    "model = CAGE(proj_dim=PROJ_DIM)\n",
    "optimizer = tf.keras.optimizers.Adam(learning_rate=lr_schedule)"
   ]
  },
  {
   "cell_type": "code",
   "execution_count": 72,
   "id": "6ce13c9d",
   "metadata": {
    "ExecuteTime": {
     "end_time": "2025-02-05T05:36:20.228631Z",
     "start_time": "2025-02-05T05:36:20.226110Z"
    }
   },
   "outputs": [],
   "source": [
    "# # @tf.function\n",
    "# # def contrastive_loss(logits):\n",
    "# #     \"\"\"NT-Xent Loss\"\"\"\n",
    "# #     batch_size = tf.shape(logits)[0]\n",
    "    \n",
    "# #     labels = tf.eye(batch_size) # diagonal matrix \n",
    "    \n",
    "# #     '''\n",
    "# #         loss calculating using CrossEntropy\n",
    "# #     '''\n",
    "# #     loss = tf.keras.losses.categorical_crossentropy(\n",
    "# #         labels, \n",
    "# #         tf.nn.softmax(logits, axis=-1), \n",
    "# #         from_logits=False\n",
    "# #     )\n",
    "    \n",
    "# #     return tf.reduce_mean(loss)\n",
    "\n",
    "# def contrastive_loss(sim_matrix):\n",
    "#     batch_size = tf.shape(sim_matrix)[0]\n",
    "    \n",
    "#     labels = tf.eye(batch_size)\n",
    "    \n",
    "#     loss_1 = tf.keras.losses.categorical_crossentropy(\n",
    "#         labels,\n",
    "#         tf.nn.softmax(sim_matrix, axis=1),\n",
    "#         from_logits=False\n",
    "#     )\n",
    "    \n",
    "#     loss_2 = tf.keras.losses.categorical_crossentropy(\n",
    "#         labels,\n",
    "#         tf.nn.softmax(sim_matrix, axis=0),\n",
    "#         from_logits=False\n",
    "#     )\n",
    "    \n",
    "#     total_loss = (loss_1 + loss_2) / 2\n",
    "#     return tf.reduce_mean(total_loss)"
   ]
  },
  {
   "cell_type": "code",
   "execution_count": 73,
   "id": "78b6c350",
   "metadata": {
    "ExecuteTime": {
     "end_time": "2025-02-05T05:36:21.009724Z",
     "start_time": "2025-02-05T05:36:21.005981Z"
    }
   },
   "outputs": [],
   "source": [
    "def contrastive_loss(sim_matrix, temperature=0.5):\n",
    "    batch_size = tf.shape(sim_matrix)[0]\n",
    "    \n",
    "    pos_mask = tf.eye(batch_size)\n",
    "    pos_sim = tf.reduce_sum(sim_matrix * pos_mask, axis=1)\n",
    "    \n",
    "    # Hard negative mining\n",
    "    neg_mask = 1 - pos_mask\n",
    "    neg_sim = sim_matrix * neg_mask - pos_mask * 1e9\n",
    "    hardest_neg_sim = tf.reduce_max(neg_sim, axis=1)\n",
    "    \n",
    "    # InfoNCE loss with numerical stability\n",
    "    logits = tf.concat([pos_sim[:, None], neg_sim], axis=1)\n",
    "    labels = tf.zeros(batch_size, dtype=tf.int32)\n",
    "    \n",
    "    loss = tf.nn.sparse_softmax_cross_entropy_with_logits(labels=labels, logits=logits/temperature)\n",
    "    \n",
    "    return tf.reduce_mean(loss)"
   ]
  },
  {
   "cell_type": "code",
   "execution_count": 74,
   "id": "9e1e12a0",
   "metadata": {
    "ExecuteTime": {
     "end_time": "2025-02-05T05:36:21.828633Z",
     "start_time": "2025-02-05T05:36:21.826508Z"
    }
   },
   "outputs": [],
   "source": [
    "# @tf.function\n",
    "# def train_step(model, optimizer, x_accel, x_gyro):\n",
    "#     with tf.GradientTape() as tape:\n",
    "#         sim_matrix, (e_accel, e_gyro) = model(x_accel, x_gyro, return_feat=True, training=True)\n",
    "#         loss = contrastive_loss(sim_matrix)\n",
    "    \n",
    "#     gradients = tape.gradient(loss, model.trainable_variables)\n",
    "#     gradients = [tf.clip_by_norm(g, 1.0) if g is not None else g for g in gradients]\n",
    "#     optimizer.apply_gradients(zip(gradients, model.trainable_variables))\n",
    "    \n",
    "#     return loss"
   ]
  },
  {
   "cell_type": "code",
   "execution_count": 75,
   "id": "39d478ae",
   "metadata": {
    "ExecuteTime": {
     "end_time": "2025-02-05T05:36:22.482202Z",
     "start_time": "2025-02-05T05:36:22.451226Z"
    }
   },
   "outputs": [],
   "source": [
    "@tf.function\n",
    "def train_step(model, optimizer, x_accel, x_gyro):\n",
    "    with tf.GradientTape() as tape:\n",
    "        sim_matrix, (e_accel, e_gyro) = model(x_accel, x_gyro, return_feat=True, training=True)\n",
    "        loss = contrastive_loss(sim_matrix)\n",
    "        \n",
    "        loss = tf.where(tf.math.is_finite(loss), loss, 1.0)\n",
    "    \n",
    "    gradients = tape.gradient(loss, model.trainable_variables)\n",
    "    gradients = [tf.clip_by_norm(g, 0.5) if g is not None else g for g in gradients] # <- gradient clipping\n",
    "    optimizer.apply_gradients(zip(gradients, model.trainable_variables))\n",
    "    \n",
    "    return loss"
   ]
  },
  {
   "cell_type": "markdown",
   "id": "17866465",
   "metadata": {},
   "source": [
    "----"
   ]
  },
  {
   "cell_type": "code",
   "execution_count": 76,
   "id": "81059f39",
   "metadata": {
    "ExecuteTime": {
     "end_time": "2025-02-05T05:36:24.329685Z",
     "start_time": "2025-02-05T05:36:24.327190Z"
    }
   },
   "outputs": [
    {
     "name": "stdout",
     "output_type": "stream",
     "text": [
      "<_BatchDataset element_spec=((TensorSpec(shape=(None, 20, 3), dtype=tf.float32, name=None), TensorSpec(shape=(None, 20, 3), dtype=tf.float32, name=None)), TensorSpec(shape=(None,), dtype=tf.float64, name=None))>\n"
     ]
    }
   ],
   "source": [
    "print (train_dataset)"
   ]
  },
  {
   "cell_type": "code",
   "execution_count": 77,
   "id": "8b185509",
   "metadata": {
    "ExecuteTime": {
     "end_time": "2025-02-05T05:38:27.224184Z",
     "start_time": "2025-02-05T05:36:34.475223Z"
    },
    "scrolled": true
   },
   "outputs": [
    {
     "name": "stderr",
     "output_type": "stream",
     "text": [
      "Epoch 1/50:  97%|█████████████████████████████▉ | 29/30 [00:09<00:00, 13.49it/s]2025-02-05 14:36:46.696779: W tensorflow/core/framework/local_rendezvous.cc:404] Local rendezvous is aborting with status: OUT_OF_RANGE: End of sequence\n",
      "Epoch 1/50: 100%|███████████████████████████████| 30/30 [00:12<00:00,  2.46it/s]\n"
     ]
    },
    {
     "name": "stdout",
     "output_type": "stream",
     "text": [
      "mean value of loss : 4.3278\n",
      "best loss achieved : 4.3278\n"
     ]
    },
    {
     "name": "stderr",
     "output_type": "stream",
     "text": [
      "Epoch 2/50: 100%|███████████████████████████████| 30/30 [00:02<00:00, 13.27it/s]2025-02-05 14:36:49.216803: W tensorflow/core/framework/local_rendezvous.cc:404] Local rendezvous is aborting with status: OUT_OF_RANGE: End of sequence\n",
      "Epoch 2/50: 100%|███████████████████████████████| 30/30 [00:02<00:00, 11.92it/s]\n"
     ]
    },
    {
     "name": "stdout",
     "output_type": "stream",
     "text": [
      "mean value of loss : 4.1624\n",
      "best loss achieved : 4.1624\n"
     ]
    },
    {
     "name": "stderr",
     "output_type": "stream",
     "text": [
      "Epoch 3/50: 100%|███████████████████████████████| 30/30 [00:02<00:00, 13.45it/s]2025-02-05 14:36:51.379028: W tensorflow/core/framework/local_rendezvous.cc:404] Local rendezvous is aborting with status: OUT_OF_RANGE: End of sequence\n",
      "Epoch 3/50: 100%|███████████████████████████████| 30/30 [00:02<00:00, 13.87it/s]\n"
     ]
    },
    {
     "name": "stdout",
     "output_type": "stream",
     "text": [
      "mean value of loss : 4.1227\n",
      "best loss achieved : 4.1227\n"
     ]
    },
    {
     "name": "stderr",
     "output_type": "stream",
     "text": [
      "Epoch 4/50: 100%|███████████████████████████████| 30/30 [00:02<00:00, 12.80it/s]2025-02-05 14:36:53.650339: W tensorflow/core/framework/local_rendezvous.cc:404] Local rendezvous is aborting with status: OUT_OF_RANGE: End of sequence\n",
      "Epoch 4/50: 100%|███████████████████████████████| 30/30 [00:02<00:00, 13.26it/s]\n"
     ]
    },
    {
     "name": "stdout",
     "output_type": "stream",
     "text": [
      "mean value of loss : 4.1745\n"
     ]
    },
    {
     "name": "stderr",
     "output_type": "stream",
     "text": [
      "Epoch 5/50: 100%|███████████████████████████████| 30/30 [00:02<00:00, 11.41it/s]2025-02-05 14:36:56.386188: W tensorflow/core/framework/local_rendezvous.cc:404] Local rendezvous is aborting with status: OUT_OF_RANGE: End of sequence\n",
      "Epoch 5/50: 100%|███████████████████████████████| 30/30 [00:02<00:00, 10.98it/s]\n"
     ]
    },
    {
     "name": "stdout",
     "output_type": "stream",
     "text": [
      "mean value of loss : 4.1527\n"
     ]
    },
    {
     "name": "stderr",
     "output_type": "stream",
     "text": [
      "Epoch 6/50: 100%|███████████████████████████████| 30/30 [00:02<00:00, 12.07it/s]2025-02-05 14:36:59.055904: W tensorflow/core/framework/local_rendezvous.cc:404] Local rendezvous is aborting with status: OUT_OF_RANGE: End of sequence\n",
      "Epoch 6/50: 100%|███████████████████████████████| 30/30 [00:02<00:00, 11.25it/s]\n"
     ]
    },
    {
     "name": "stdout",
     "output_type": "stream",
     "text": [
      "mean value of loss : 4.1532\n"
     ]
    },
    {
     "name": "stderr",
     "output_type": "stream",
     "text": [
      "Epoch 7/50: 100%|███████████████████████████████| 30/30 [00:02<00:00, 13.57it/s]2025-02-05 14:37:01.148728: W tensorflow/core/framework/local_rendezvous.cc:404] Local rendezvous is aborting with status: OUT_OF_RANGE: End of sequence\n",
      "Epoch 7/50: 100%|███████████████████████████████| 30/30 [00:02<00:00, 14.35it/s]\n"
     ]
    },
    {
     "name": "stdout",
     "output_type": "stream",
     "text": [
      "mean value of loss : 4.1307\n"
     ]
    },
    {
     "name": "stderr",
     "output_type": "stream",
     "text": [
      "Epoch 8/50:  93%|████████████████████████████▉  | 28/30 [00:02<00:00, 13.77it/s]2025-02-05 14:37:03.486154: W tensorflow/core/framework/local_rendezvous.cc:404] Local rendezvous is aborting with status: OUT_OF_RANGE: End of sequence\n",
      "Epoch 8/50: 100%|███████████████████████████████| 30/30 [00:02<00:00, 12.85it/s]\n"
     ]
    },
    {
     "name": "stdout",
     "output_type": "stream",
     "text": [
      "mean value of loss : 4.1126\n",
      "best loss achieved : 4.1126\n"
     ]
    },
    {
     "name": "stderr",
     "output_type": "stream",
     "text": [
      "Epoch 9/50: 100%|███████████████████████████████| 30/30 [00:02<00:00, 14.05it/s]2025-02-05 14:37:05.515571: W tensorflow/core/framework/local_rendezvous.cc:404] Local rendezvous is aborting with status: OUT_OF_RANGE: End of sequence\n",
      "Epoch 9/50: 100%|███████████████████████████████| 30/30 [00:02<00:00, 14.80it/s]\n"
     ]
    },
    {
     "name": "stdout",
     "output_type": "stream",
     "text": [
      "mean value of loss : 4.1373\n"
     ]
    },
    {
     "name": "stderr",
     "output_type": "stream",
     "text": [
      "Epoch 10/50: 100%|██████████████████████████████| 30/30 [00:02<00:00, 14.05it/s]2025-02-05 14:37:07.813781: W tensorflow/core/framework/local_rendezvous.cc:404] Local rendezvous is aborting with status: OUT_OF_RANGE: End of sequence\n",
      "Epoch 10/50: 100%|██████████████████████████████| 30/30 [00:02<00:00, 13.07it/s]\n"
     ]
    },
    {
     "name": "stdout",
     "output_type": "stream",
     "text": [
      "mean value of loss : 4.0992\n",
      "best loss achieved : 4.0992\n"
     ]
    },
    {
     "name": "stderr",
     "output_type": "stream",
     "text": [
      "Epoch 11/50: 100%|██████████████████████████████| 30/30 [00:02<00:00, 13.17it/s]2025-02-05 14:37:10.005548: W tensorflow/core/framework/local_rendezvous.cc:404] Local rendezvous is aborting with status: OUT_OF_RANGE: End of sequence\n",
      "Epoch 11/50: 100%|██████████████████████████████| 30/30 [00:02<00:00, 13.70it/s]\n"
     ]
    },
    {
     "name": "stdout",
     "output_type": "stream",
     "text": [
      "mean value of loss : 4.0627\n",
      "best loss achieved : 4.0627\n"
     ]
    },
    {
     "name": "stderr",
     "output_type": "stream",
     "text": [
      "Epoch 12/50: 100%|██████████████████████████████| 30/30 [00:02<00:00, 12.58it/s]2025-02-05 14:37:12.428577: W tensorflow/core/framework/local_rendezvous.cc:404] Local rendezvous is aborting with status: OUT_OF_RANGE: End of sequence\n",
      "Epoch 12/50: 100%|██████████████████████████████| 30/30 [00:02<00:00, 12.40it/s]\n"
     ]
    },
    {
     "name": "stdout",
     "output_type": "stream",
     "text": [
      "mean value of loss : 4.0617\n",
      "best loss achieved : 4.0617\n"
     ]
    },
    {
     "name": "stderr",
     "output_type": "stream",
     "text": [
      "Epoch 13/50: 100%|██████████████████████████████| 30/30 [00:02<00:00, 11.93it/s]2025-02-05 14:37:14.877505: W tensorflow/core/framework/local_rendezvous.cc:404] Local rendezvous is aborting with status: OUT_OF_RANGE: End of sequence\n",
      "Epoch 13/50: 100%|██████████████████████████████| 30/30 [00:02<00:00, 12.26it/s]\n"
     ]
    },
    {
     "name": "stdout",
     "output_type": "stream",
     "text": [
      "mean value of loss : 4.0641\n"
     ]
    },
    {
     "name": "stderr",
     "output_type": "stream",
     "text": [
      "Epoch 14/50: 100%|██████████████████████████████| 30/30 [00:02<00:00, 12.19it/s]2025-02-05 14:37:17.233232: W tensorflow/core/framework/local_rendezvous.cc:404] Local rendezvous is aborting with status: OUT_OF_RANGE: End of sequence\n",
      "Epoch 14/50: 100%|██████████████████████████████| 30/30 [00:02<00:00, 12.75it/s]\n"
     ]
    },
    {
     "name": "stdout",
     "output_type": "stream",
     "text": [
      "mean value of loss : 4.0499\n",
      "best loss achieved : 4.0499\n"
     ]
    },
    {
     "name": "stderr",
     "output_type": "stream",
     "text": [
      "Epoch 15/50:  97%|█████████████████████████████ | 29/30 [00:01<00:00, 16.45it/s]2025-02-05 14:37:19.148967: W tensorflow/core/framework/local_rendezvous.cc:404] Local rendezvous is aborting with status: OUT_OF_RANGE: End of sequence\n",
      "Epoch 15/50: 100%|██████████████████████████████| 30/30 [00:01<00:00, 15.69it/s]\n"
     ]
    },
    {
     "name": "stdout",
     "output_type": "stream",
     "text": [
      "mean value of loss : 4.0113\n",
      "best loss achieved : 4.0113\n"
     ]
    },
    {
     "name": "stderr",
     "output_type": "stream",
     "text": [
      "Epoch 16/50: 100%|██████████████████████████████| 30/30 [00:01<00:00, 15.55it/s]2025-02-05 14:37:21.022432: W tensorflow/core/framework/local_rendezvous.cc:404] Local rendezvous is aborting with status: OUT_OF_RANGE: End of sequence\n",
      "Epoch 16/50: 100%|██████████████████████████████| 30/30 [00:01<00:00, 16.03it/s]\n"
     ]
    },
    {
     "name": "stdout",
     "output_type": "stream",
     "text": [
      "mean value of loss : 4.0197\n"
     ]
    },
    {
     "name": "stderr",
     "output_type": "stream",
     "text": [
      "Epoch 17/50: 100%|██████████████████████████████| 30/30 [00:01<00:00, 16.71it/s]2025-02-05 14:37:22.880300: W tensorflow/core/framework/local_rendezvous.cc:404] Local rendezvous is aborting with status: OUT_OF_RANGE: End of sequence\n",
      "Epoch 17/50: 100%|██████████████████████████████| 30/30 [00:01<00:00, 16.17it/s]\n"
     ]
    },
    {
     "name": "stdout",
     "output_type": "stream",
     "text": [
      "mean value of loss : 3.9899\n",
      "best loss achieved : 3.9899\n"
     ]
    },
    {
     "name": "stderr",
     "output_type": "stream",
     "text": [
      "Epoch 18/50:  97%|█████████████████████████████ | 29/30 [00:01<00:00, 15.40it/s]2025-02-05 14:37:24.732170: W tensorflow/core/framework/local_rendezvous.cc:404] Local rendezvous is aborting with status: OUT_OF_RANGE: End of sequence\n",
      "Epoch 18/50: 100%|██████████████████████████████| 30/30 [00:01<00:00, 16.23it/s]\n"
     ]
    },
    {
     "name": "stdout",
     "output_type": "stream",
     "text": [
      "mean value of loss : 3.9720\n",
      "best loss achieved : 3.9720\n"
     ]
    },
    {
     "name": "stderr",
     "output_type": "stream",
     "text": [
      "Epoch 19/50:  97%|█████████████████████████████ | 29/30 [00:01<00:00, 17.69it/s]2025-02-05 14:37:26.402401: W tensorflow/core/framework/local_rendezvous.cc:404] Local rendezvous is aborting with status: OUT_OF_RANGE: End of sequence\n",
      "Epoch 19/50: 100%|██████████████████████████████| 30/30 [00:01<00:00, 17.99it/s]\n"
     ]
    },
    {
     "name": "stdout",
     "output_type": "stream",
     "text": [
      "mean value of loss : 3.9849\n"
     ]
    },
    {
     "name": "stderr",
     "output_type": "stream",
     "text": [
      "Epoch 20/50:  97%|█████████████████████████████ | 29/30 [00:01<00:00, 14.95it/s]2025-02-05 14:37:28.255344: W tensorflow/core/framework/local_rendezvous.cc:404] Local rendezvous is aborting with status: OUT_OF_RANGE: End of sequence\n",
      "Epoch 20/50: 100%|██████████████████████████████| 30/30 [00:01<00:00, 16.21it/s]\n"
     ]
    },
    {
     "name": "stdout",
     "output_type": "stream",
     "text": [
      "mean value of loss : 3.9512\n",
      "best loss achieved : 3.9512\n"
     ]
    },
    {
     "name": "stderr",
     "output_type": "stream",
     "text": [
      "Epoch 21/50: 100%|██████████████████████████████| 30/30 [00:02<00:00, 15.73it/s]2025-02-05 14:37:30.304787: W tensorflow/core/framework/local_rendezvous.cc:404] Local rendezvous is aborting with status: OUT_OF_RANGE: End of sequence\n",
      "Epoch 21/50: 100%|██████████████████████████████| 30/30 [00:02<00:00, 14.61it/s]\n"
     ]
    },
    {
     "name": "stdout",
     "output_type": "stream",
     "text": [
      "mean value of loss : 3.8976\n",
      "best loss achieved : 3.8976\n"
     ]
    },
    {
     "name": "stderr",
     "output_type": "stream",
     "text": [
      "Epoch 22/50: 100%|██████████████████████████████| 30/30 [00:02<00:00, 16.01it/s]2025-02-05 14:37:32.321746: W tensorflow/core/framework/local_rendezvous.cc:404] Local rendezvous is aborting with status: OUT_OF_RANGE: End of sequence\n",
      "Epoch 22/50: 100%|██████████████████████████████| 30/30 [00:02<00:00, 14.94it/s]\n"
     ]
    },
    {
     "name": "stdout",
     "output_type": "stream",
     "text": [
      "mean value of loss : 3.8634\n",
      "best loss achieved : 3.8634\n"
     ]
    },
    {
     "name": "stderr",
     "output_type": "stream",
     "text": [
      "Epoch 23/50: 100%|██████████████████████████████| 30/30 [00:01<00:00, 14.95it/s]2025-02-05 14:37:34.325566: W tensorflow/core/framework/local_rendezvous.cc:404] Local rendezvous is aborting with status: OUT_OF_RANGE: End of sequence\n",
      "Epoch 23/50: 100%|██████████████████████████████| 30/30 [00:02<00:00, 14.99it/s]\n"
     ]
    },
    {
     "name": "stdout",
     "output_type": "stream",
     "text": [
      "mean value of loss : 3.9045\n"
     ]
    },
    {
     "name": "stderr",
     "output_type": "stream",
     "text": [
      "Epoch 24/50: 100%|██████████████████████████████| 30/30 [00:01<00:00, 16.63it/s]2025-02-05 14:37:36.228399: W tensorflow/core/framework/local_rendezvous.cc:404] Local rendezvous is aborting with status: OUT_OF_RANGE: End of sequence\n",
      "Epoch 24/50: 100%|██████████████████████████████| 30/30 [00:01<00:00, 15.79it/s]\n"
     ]
    },
    {
     "name": "stdout",
     "output_type": "stream",
     "text": [
      "mean value of loss : 3.9056\n"
     ]
    },
    {
     "name": "stderr",
     "output_type": "stream",
     "text": [
      "Epoch 25/50: 100%|██████████████████████████████| 30/30 [00:02<00:00, 13.93it/s]2025-02-05 14:37:38.303186: W tensorflow/core/framework/local_rendezvous.cc:404] Local rendezvous is aborting with status: OUT_OF_RANGE: End of sequence\n",
      "Epoch 25/50: 100%|██████████████████████████████| 30/30 [00:02<00:00, 14.48it/s]\n"
     ]
    },
    {
     "name": "stdout",
     "output_type": "stream",
     "text": [
      "mean value of loss : 3.8772\n"
     ]
    },
    {
     "name": "stderr",
     "output_type": "stream",
     "text": [
      "Epoch 26/50:  93%|████████████████████████████  | 28/30 [00:02<00:00, 13.02it/s]2025-02-05 14:37:40.495797: W tensorflow/core/framework/local_rendezvous.cc:404] Local rendezvous is aborting with status: OUT_OF_RANGE: End of sequence\n",
      "Epoch 26/50: 100%|██████████████████████████████| 30/30 [00:02<00:00, 13.70it/s]\n"
     ]
    },
    {
     "name": "stdout",
     "output_type": "stream",
     "text": [
      "mean value of loss : 3.7472\n",
      "best loss achieved : 3.7472\n"
     ]
    },
    {
     "name": "stderr",
     "output_type": "stream",
     "text": [
      "Epoch 27/50: 100%|██████████████████████████████| 30/30 [00:01<00:00, 17.35it/s]2025-02-05 14:37:42.298240: W tensorflow/core/framework/local_rendezvous.cc:404] Local rendezvous is aborting with status: OUT_OF_RANGE: End of sequence\n",
      "Epoch 27/50: 100%|██████████████████████████████| 30/30 [00:01<00:00, 16.67it/s]\n"
     ]
    },
    {
     "name": "stdout",
     "output_type": "stream",
     "text": [
      "mean value of loss : 3.7695\n"
     ]
    },
    {
     "name": "stderr",
     "output_type": "stream",
     "text": [
      "Epoch 28/50: 100%|██████████████████████████████| 30/30 [00:01<00:00, 15.34it/s]2025-02-05 14:37:44.222440: W tensorflow/core/framework/local_rendezvous.cc:404] Local rendezvous is aborting with status: OUT_OF_RANGE: End of sequence\n",
      "Epoch 28/50: 100%|██████████████████████████████| 30/30 [00:01<00:00, 15.61it/s]\n"
     ]
    },
    {
     "name": "stdout",
     "output_type": "stream",
     "text": [
      "mean value of loss : 3.7170\n",
      "best loss achieved : 3.7170\n"
     ]
    },
    {
     "name": "stderr",
     "output_type": "stream",
     "text": [
      "Epoch 29/50: 100%|██████████████████████████████| 30/30 [00:01<00:00, 17.58it/s]2025-02-05 14:37:45.901780: W tensorflow/core/framework/local_rendezvous.cc:404] Local rendezvous is aborting with status: OUT_OF_RANGE: End of sequence\n",
      "Epoch 29/50: 100%|██████████████████████████████| 30/30 [00:01<00:00, 17.89it/s]\n"
     ]
    },
    {
     "name": "stdout",
     "output_type": "stream",
     "text": [
      "mean value of loss : 3.7642\n"
     ]
    },
    {
     "name": "stderr",
     "output_type": "stream",
     "text": [
      "Epoch 30/50: 100%|██████████████████████████████| 30/30 [00:01<00:00, 16.82it/s]2025-02-05 14:37:47.767226: W tensorflow/core/framework/local_rendezvous.cc:404] Local rendezvous is aborting with status: OUT_OF_RANGE: End of sequence\n",
      "Epoch 30/50: 100%|██████████████████████████████| 30/30 [00:01<00:00, 16.10it/s]\n"
     ]
    },
    {
     "name": "stdout",
     "output_type": "stream",
     "text": [
      "mean value of loss : 3.5998\n",
      "best loss achieved : 3.5998\n"
     ]
    },
    {
     "name": "stderr",
     "output_type": "stream",
     "text": [
      "Epoch 31/50: 100%|██████████████████████████████| 30/30 [00:01<00:00, 15.21it/s]2025-02-05 14:37:49.723115: W tensorflow/core/framework/local_rendezvous.cc:404] Local rendezvous is aborting with status: OUT_OF_RANGE: End of sequence\n",
      "Epoch 31/50: 100%|██████████████████████████████| 30/30 [00:01<00:00, 15.36it/s]\n"
     ]
    },
    {
     "name": "stdout",
     "output_type": "stream",
     "text": [
      "mean value of loss : 3.5655\n",
      "best loss achieved : 3.5655\n"
     ]
    },
    {
     "name": "stderr",
     "output_type": "stream",
     "text": [
      "Epoch 32/50: 100%|██████████████████████████████| 30/30 [00:01<00:00, 15.21it/s]2025-02-05 14:37:51.714704: W tensorflow/core/framework/local_rendezvous.cc:404] Local rendezvous is aborting with status: OUT_OF_RANGE: End of sequence\n",
      "Epoch 32/50: 100%|██████████████████████████████| 30/30 [00:01<00:00, 15.08it/s]\n"
     ]
    },
    {
     "name": "stdout",
     "output_type": "stream",
     "text": [
      "mean value of loss : 3.6744\n"
     ]
    },
    {
     "name": "stderr",
     "output_type": "stream",
     "text": [
      "Epoch 33/50: 100%|██████████████████████████████| 30/30 [00:01<00:00, 16.34it/s]2025-02-05 14:37:53.547156: W tensorflow/core/framework/local_rendezvous.cc:404] Local rendezvous is aborting with status: OUT_OF_RANGE: End of sequence\n",
      "Epoch 33/50: 100%|██████████████████████████████| 30/30 [00:01<00:00, 16.40it/s]\n"
     ]
    },
    {
     "name": "stdout",
     "output_type": "stream",
     "text": [
      "mean value of loss : 3.6584\n"
     ]
    },
    {
     "name": "stderr",
     "output_type": "stream",
     "text": [
      "Epoch 34/50: 100%|██████████████████████████████| 30/30 [00:02<00:00, 13.22it/s]2025-02-05 14:37:55.728247: W tensorflow/core/framework/local_rendezvous.cc:404] Local rendezvous is aborting with status: OUT_OF_RANGE: End of sequence\n",
      "Epoch 34/50: 100%|██████████████████████████████| 30/30 [00:02<00:00, 13.77it/s]\n"
     ]
    },
    {
     "name": "stdout",
     "output_type": "stream",
     "text": [
      "mean value of loss : 3.7071\n"
     ]
    },
    {
     "name": "stderr",
     "output_type": "stream",
     "text": [
      "Epoch 35/50: 100%|██████████████████████████████| 30/30 [00:02<00:00, 12.57it/s]2025-02-05 14:37:57.958721: W tensorflow/core/framework/local_rendezvous.cc:404] Local rendezvous is aborting with status: OUT_OF_RANGE: End of sequence\n",
      "Epoch 35/50: 100%|██████████████████████████████| 30/30 [00:02<00:00, 13.43it/s]\n"
     ]
    },
    {
     "name": "stdout",
     "output_type": "stream",
     "text": [
      "mean value of loss : 3.6755\n"
     ]
    },
    {
     "name": "stderr",
     "output_type": "stream",
     "text": [
      "Epoch 36/50:  97%|█████████████████████████████ | 29/30 [00:01<00:00, 16.87it/s]2025-02-05 14:37:59.929614: W tensorflow/core/framework/local_rendezvous.cc:404] Local rendezvous is aborting with status: OUT_OF_RANGE: End of sequence\n",
      "Epoch 36/50: 100%|██████████████████████████████| 30/30 [00:01<00:00, 15.31it/s]\n"
     ]
    },
    {
     "name": "stdout",
     "output_type": "stream",
     "text": [
      "mean value of loss : 3.5170\n",
      "best loss achieved : 3.5170\n"
     ]
    },
    {
     "name": "stderr",
     "output_type": "stream",
     "text": [
      "Epoch 37/50: 100%|██████████████████████████████| 30/30 [00:01<00:00, 15.76it/s]2025-02-05 14:38:01.797573: W tensorflow/core/framework/local_rendezvous.cc:404] Local rendezvous is aborting with status: OUT_OF_RANGE: End of sequence\n",
      "Epoch 37/50: 100%|██████████████████████████████| 30/30 [00:01<00:00, 16.07it/s]\n"
     ]
    },
    {
     "name": "stdout",
     "output_type": "stream",
     "text": [
      "mean value of loss : 3.4560\n",
      "best loss achieved : 3.4560\n"
     ]
    },
    {
     "name": "stderr",
     "output_type": "stream",
     "text": [
      "Epoch 38/50: 100%|██████████████████████████████| 30/30 [00:01<00:00, 16.89it/s]2025-02-05 14:38:03.718241: W tensorflow/core/framework/local_rendezvous.cc:404] Local rendezvous is aborting with status: OUT_OF_RANGE: End of sequence\n",
      "Epoch 38/50: 100%|██████████████████████████████| 30/30 [00:01<00:00, 15.59it/s]\n"
     ]
    },
    {
     "name": "stdout",
     "output_type": "stream",
     "text": [
      "mean value of loss : 3.3899\n",
      "best loss achieved : 3.3899\n"
     ]
    },
    {
     "name": "stderr",
     "output_type": "stream",
     "text": [
      "Epoch 39/50: 100%|██████████████████████████████| 30/30 [00:01<00:00, 15.10it/s]2025-02-05 14:38:05.668844: W tensorflow/core/framework/local_rendezvous.cc:404] Local rendezvous is aborting with status: OUT_OF_RANGE: End of sequence\n",
      "Epoch 39/50: 100%|██████████████████████████████| 30/30 [00:01<00:00, 15.45it/s]\n"
     ]
    },
    {
     "name": "stdout",
     "output_type": "stream",
     "text": [
      "mean value of loss : 3.4476\n"
     ]
    },
    {
     "name": "stderr",
     "output_type": "stream",
     "text": [
      "Epoch 40/50:  97%|█████████████████████████████ | 29/30 [00:01<00:00, 14.21it/s]2025-02-05 14:38:07.593883: W tensorflow/core/framework/local_rendezvous.cc:404] Local rendezvous is aborting with status: OUT_OF_RANGE: End of sequence\n",
      "Epoch 40/50: 100%|██████████████████████████████| 30/30 [00:01<00:00, 15.61it/s]\n"
     ]
    },
    {
     "name": "stdout",
     "output_type": "stream",
     "text": [
      "mean value of loss : 3.4889\n"
     ]
    },
    {
     "name": "stderr",
     "output_type": "stream",
     "text": [
      "Epoch 41/50:  93%|████████████████████████████  | 28/30 [00:01<00:00, 17.33it/s]2025-02-05 14:38:09.402939: W tensorflow/core/framework/local_rendezvous.cc:404] Local rendezvous is aborting with status: OUT_OF_RANGE: End of sequence\n",
      "Epoch 41/50: 100%|██████████████████████████████| 30/30 [00:01<00:00, 16.61it/s]\n"
     ]
    },
    {
     "name": "stdout",
     "output_type": "stream",
     "text": [
      "mean value of loss : 3.4232\n"
     ]
    },
    {
     "name": "stderr",
     "output_type": "stream",
     "text": [
      "Epoch 42/50: 100%|██████████████████████████████| 30/30 [00:01<00:00, 15.14it/s]2025-02-05 14:38:11.307059: W tensorflow/core/framework/local_rendezvous.cc:404] Local rendezvous is aborting with status: OUT_OF_RANGE: End of sequence\n",
      "Epoch 42/50: 100%|██████████████████████████████| 30/30 [00:01<00:00, 15.77it/s]\n"
     ]
    },
    {
     "name": "stdout",
     "output_type": "stream",
     "text": [
      "mean value of loss : 3.2686\n",
      "best loss achieved : 3.2686\n"
     ]
    },
    {
     "name": "stderr",
     "output_type": "stream",
     "text": [
      "Epoch 43/50: 100%|██████████████████████████████| 30/30 [00:02<00:00, 14.92it/s]2025-02-05 14:38:13.403844: W tensorflow/core/framework/local_rendezvous.cc:404] Local rendezvous is aborting with status: OUT_OF_RANGE: End of sequence\n",
      "Epoch 43/50: 100%|██████████████████████████████| 30/30 [00:02<00:00, 14.29it/s]\n"
     ]
    },
    {
     "name": "stdout",
     "output_type": "stream",
     "text": [
      "mean value of loss : 3.3873\n"
     ]
    },
    {
     "name": "stderr",
     "output_type": "stream",
     "text": [
      "Epoch 44/50: 100%|██████████████████████████████| 30/30 [00:02<00:00, 14.78it/s]2025-02-05 14:38:15.496492: W tensorflow/core/framework/local_rendezvous.cc:404] Local rendezvous is aborting with status: OUT_OF_RANGE: End of sequence\n",
      "Epoch 44/50: 100%|██████████████████████████████| 30/30 [00:02<00:00, 14.40it/s]\n"
     ]
    },
    {
     "name": "stdout",
     "output_type": "stream",
     "text": [
      "mean value of loss : 3.3969\n"
     ]
    },
    {
     "name": "stderr",
     "output_type": "stream",
     "text": [
      "Epoch 45/50: 100%|██████████████████████████████| 30/30 [00:01<00:00, 16.46it/s]2025-02-05 14:38:17.478750: W tensorflow/core/framework/local_rendezvous.cc:404] Local rendezvous is aborting with status: OUT_OF_RANGE: End of sequence\n",
      "Epoch 45/50: 100%|██████████████████████████████| 30/30 [00:01<00:00, 15.16it/s]\n"
     ]
    },
    {
     "name": "stdout",
     "output_type": "stream",
     "text": [
      "mean value of loss : 3.4043\n"
     ]
    },
    {
     "name": "stderr",
     "output_type": "stream",
     "text": [
      "Epoch 46/50: 100%|██████████████████████████████| 30/30 [00:01<00:00, 17.01it/s]2025-02-05 14:38:19.266504: W tensorflow/core/framework/local_rendezvous.cc:404] Local rendezvous is aborting with status: OUT_OF_RANGE: End of sequence\n",
      "Epoch 46/50: 100%|██████████████████████████████| 30/30 [00:01<00:00, 16.81it/s]\n"
     ]
    },
    {
     "name": "stdout",
     "output_type": "stream",
     "text": [
      "mean value of loss : 3.2762\n"
     ]
    },
    {
     "name": "stderr",
     "output_type": "stream",
     "text": [
      "Epoch 47/50: 100%|██████████████████████████████| 30/30 [00:02<00:00, 14.10it/s]2025-02-05 14:38:21.333316: W tensorflow/core/framework/local_rendezvous.cc:404] Local rendezvous is aborting with status: OUT_OF_RANGE: End of sequence\n",
      "Epoch 47/50: 100%|██████████████████████████████| 30/30 [00:02<00:00, 14.53it/s]\n"
     ]
    },
    {
     "name": "stdout",
     "output_type": "stream",
     "text": [
      "mean value of loss : 3.2093\n",
      "best loss achieved : 3.2093\n"
     ]
    },
    {
     "name": "stderr",
     "output_type": "stream",
     "text": [
      "Epoch 48/50: 100%|██████████████████████████████| 30/30 [00:01<00:00, 14.97it/s]2025-02-05 14:38:23.335200: W tensorflow/core/framework/local_rendezvous.cc:404] Local rendezvous is aborting with status: OUT_OF_RANGE: End of sequence\n",
      "Epoch 48/50: 100%|██████████████████████████████| 30/30 [00:02<00:00, 14.93it/s]\n"
     ]
    },
    {
     "name": "stdout",
     "output_type": "stream",
     "text": [
      "mean value of loss : 3.2460\n"
     ]
    },
    {
     "name": "stderr",
     "output_type": "stream",
     "text": [
      "Epoch 49/50: 100%|██████████████████████████████| 30/30 [00:01<00:00, 15.70it/s]2025-02-05 14:38:25.183566: W tensorflow/core/framework/local_rendezvous.cc:404] Local rendezvous is aborting with status: OUT_OF_RANGE: End of sequence\n",
      "Epoch 49/50: 100%|██████████████████████████████| 30/30 [00:01<00:00, 16.34it/s]\n"
     ]
    },
    {
     "name": "stdout",
     "output_type": "stream",
     "text": [
      "mean value of loss : 3.2247\n"
     ]
    },
    {
     "name": "stderr",
     "output_type": "stream",
     "text": [
      "Epoch 50/50: 100%|██████████████████████████████| 30/30 [00:02<00:00, 14.66it/s]2025-02-05 14:38:27.219884: W tensorflow/core/framework/local_rendezvous.cc:404] Local rendezvous is aborting with status: OUT_OF_RANGE: End of sequence\n",
      "Epoch 50/50: 100%|██████████████████████████████| 30/30 [00:02<00:00, 14.75it/s]"
     ]
    },
    {
     "name": "stdout",
     "output_type": "stream",
     "text": [
      "mean value of loss : 3.2339\n",
      "END THE LEARNING\n",
      "final best loss: 3.2093\n"
     ]
    },
    {
     "name": "stderr",
     "output_type": "stream",
     "text": [
      "\n"
     ]
    }
   ],
   "source": [
    "train_losses = []\n",
    "best_loss = float('inf')\n",
    "\n",
    "for epoch in range(EPOCHS):\n",
    "    epoch_losses = []\n",
    "    \n",
    "    for (acc_batch, gyro_batch), _ in tqdm(train_dataset, desc=f'Epoch {epoch + 1}/{EPOCHS}'):\n",
    "        loss = train_step(model, optimizer, acc_batch, gyro_batch)  \n",
    "        epoch_losses.append(loss.numpy())\n",
    "    \n",
    "    avg_loss = np.mean(epoch_losses)\n",
    "    train_losses.append(avg_loss)\n",
    "    \n",
    "    print (f\"mean value of loss : {avg_loss:.4f}\")\n",
    "    \n",
    "    if avg_loss < best_loss:\n",
    "        best_loss = avg_loss\n",
    "        print (f\"best loss achieved : {best_loss:.4f}\")\n",
    "\n",
    "        \n",
    "print(\"END THE LEARNING\")\n",
    "print(f\"final best loss: {best_loss:.4f}\")"
   ]
  },
  {
   "cell_type": "code",
   "execution_count": 78,
   "id": "321c9915",
   "metadata": {
    "ExecuteTime": {
     "end_time": "2025-02-05T05:44:37.174989Z",
     "start_time": "2025-02-05T05:44:36.989201Z"
    }
   },
   "outputs": [
    {
     "data": {
      "image/png": "[encoded data removed]",
      "text/plain": [
       "<Figure size 1000x600 with 1 Axes>"
      ]
     },
     "metadata": {},
     "output_type": "display_data"
    }
   ],
   "source": [
    "plt.figure(figsize=(10, 6))\n",
    "plt.plot(train_losses, label='Training Loss')\n",
    "plt.xlabel('Epoch')\n",
    "plt.ylabel('Loss')\n",
    "plt.title('Training Loss over Epochs')\n",
    "plt.legend()\n",
    "plt.grid(True)\n",
    "plt.show()"
   ]
  },
  {
   "cell_type": "markdown",
   "id": "d5bb415c",
   "metadata": {},
   "source": [
    "----"
   ]
  },
  {
   "cell_type": "code",
   "execution_count": 79,
   "id": "aa4dc234",
   "metadata": {
    "ExecuteTime": {
     "end_time": "2025-02-05T05:44:38.140416Z",
     "start_time": "2025-02-05T05:44:38.136244Z"
    }
   },
   "outputs": [],
   "source": [
    "def compute_similarity_scores(model, data_loader):\n",
    "    similarities = []\n",
    "    labels = []\n",
    "    \n",
    "    for (acc_batch, gyro_batch), batch_labels in data_loader:\n",
    "        # get embeddings\n",
    "        _, (e_accel, e_gyro) = model(acc_batch, gyro_batch, return_feat=True, training=False) \n",
    "        # get embedding of accel and gyro\n",
    "        \n",
    "        # calculate cosine similarity between paired embeddings\n",
    "        batch_similarities = tf.reduce_sum(tf.multiply(e_accel, e_gyro), axis=1)\n",
    "        \n",
    "        similarities.extend(batch_similarities.numpy())\n",
    "        labels.extend(batch_labels.numpy())\n",
    "    \n",
    "    return np.array(similarities), np.array(labels)"
   ]
  },
  {
   "cell_type": "code",
   "execution_count": 82,
   "id": "e913403f",
   "metadata": {
    "ExecuteTime": {
     "end_time": "2025-02-05T05:45:49.698846Z",
     "start_time": "2025-02-05T05:45:42.832484Z"
    }
   },
   "outputs": [
    {
     "name": "stderr",
     "output_type": "stream",
     "text": [
      "Computing normal similarities: 100%|████████████| 30/30 [00:02<00:00, 12.47it/s]2025-02-05 14:45:45.335045: W tensorflow/core/framework/local_rendezvous.cc:404] Local rendezvous is aborting with status: OUT_OF_RANGE: End of sequence\n",
      "Computing normal similarities: 100%|████████████| 30/30 [00:02<00:00, 12.01it/s]\n",
      "Computing test similarities: 100%|██████████████| 54/54 [00:04<00:00, 12.70it/s]2025-02-05 14:45:49.695663: W tensorflow/core/framework/local_rendezvous.cc:404] Local rendezvous is aborting with status: OUT_OF_RANGE: End of sequence\n",
      "Computing test similarities: 100%|██████████████| 54/54 [00:04<00:00, 12.39it/s]\n"
     ]
    }
   ],
   "source": [
    "normal_similarities = []\n",
    "for (acc_batch, gyro_batch), _ in tqdm(train_dataset, desc='Computing normal similarities'):\n",
    "    _, (e_accel, e_gyro) = model(acc_batch, gyro_batch, return_feat=True, training=False)\n",
    "    sim = tf.reduce_sum(tf.multiply(e_accel, e_gyro), axis=1)\n",
    "    normal_similarities.extend(sim.numpy())\n",
    "\n",
    "test_similarities = []\n",
    "test_pred_labels = []\n",
    "for (acc_batch, gyro_batch), labels in tqdm(test_dataset, desc='Computing test similarities'):\n",
    "    _, (e_accel, e_gyro) = model(acc_batch, gyro_batch, return_feat=True, training=False)\n",
    "    sim = tf.reduce_sum(tf.multiply(e_accel, e_gyro), axis=1)\n",
    "    test_similarities.extend(sim.numpy())\n",
    "    test_pred_labels.extend(labels.numpy())"
   ]
  },
  {
   "cell_type": "code",
   "execution_count": 84,
   "id": "d382f18e",
   "metadata": {
    "ExecuteTime": {
     "end_time": "2025-02-05T05:46:02.529480Z",
     "start_time": "2025-02-05T05:45:58.142517Z"
    }
   },
   "outputs": [
    {
     "name": "stdout",
     "output_type": "stream",
     "text": [
      "[ ADL data ]\n",
      "  Mean: 0.5166\n",
      "  Std: 0.4577\n",
      "  Min: -0.6495\n",
      "  Max: 0.9784\n",
      "ADL ind 1 : 0.2703704\n",
      "ADL ind 2 : 0.23840813\n",
      "ADL ind 3 : 0.19850215\n",
      "ADL ind 4 : 0.20198438\n",
      "ADL ind 5 : 0.20880786\n",
      "ADL ind 6 : 0.2216835\n",
      "ADL ind 7 : 0.24441774\n",
      "ADL ind 8 : 0.2555759\n",
      "ADL ind 9 : 0.254276\n",
      "ADL ind 10 : 0.26547897\n",
      "ADL ind 11 : 0.29270428\n",
      "ADL ind 12 : 0.26811075\n",
      "ADL ind 13 : 0.22185549\n",
      "ADL ind 14 : 0.2563037\n",
      "ADL ind 15 : 0.22707726\n",
      "ADL ind 16 : 0.24829464\n",
      "ADL ind 17 : 0.255745\n",
      "ADL ind 18 : 0.25828627\n",
      "ADL ind 19 : 0.2843294\n",
      "ADL ind 20 : 0.24035582\n",
      "\n",
      "[ FALL data ]\n",
      "  Mean: 0.4672\n",
      "  Std: 0.5765\n",
      "  Min: -0.4716\n",
      "  Max: 0.9798\n",
      "FALL ind 1 : 0.87831354\n",
      "FALL ind 2 : 0.81224304\n",
      "FALL ind 3 : 0.7778419\n",
      "FALL ind 4 : 0.7558639\n",
      "FALL ind 5 : 0.72648656\n",
      "FALL ind 6 : 0.57363105\n",
      "FALL ind 7 : 0.41686273\n",
      "FALL ind 8 : 0.2775564\n",
      "FALL ind 9 : 0.23706943\n",
      "FALL ind 10 : 0.47226155\n",
      "FALL ind 11 : 0.46688217\n",
      "FALL ind 12 : 0.6441959\n",
      "FALL ind 13 : 0.5605023\n",
      "FALL ind 14 : 0.61002624\n",
      "FALL ind 15 : 0.60053873\n",
      "FALL ind 16 : 0.7385618\n",
      "FALL ind 17 : 0.7483662\n",
      "FALL ind 18 : 0.7692368\n",
      "FALL ind 19 : 0.85288525\n",
      "FALL ind 20 : 0.90730643\n"
     ]
    },
    {
     "name": "stderr",
     "output_type": "stream",
     "text": [
      "2025-02-05 14:46:02.524272: W tensorflow/core/framework/local_rendezvous.cc:404] Local rendezvous is aborting with status: OUT_OF_RANGE: End of sequence\n"
     ]
    }
   ],
   "source": [
    "def calculate_similarities(model, test_dataset):\n",
    "    normal_similarities = []\n",
    "    fall_similarities = []\n",
    "    \n",
    "    for (acc_batch, gyro_batch), labels in test_dataset:\n",
    "        _, (e_accel, e_gyro) = model(acc_batch, gyro_batch, return_feat=True, training=False)\n",
    "        \n",
    "        sim = tf.reduce_sum(tf.multiply(e_accel, e_gyro), axis=1)\n",
    "        \n",
    "        for sim_score, label in zip(sim.numpy(), labels.numpy()):\n",
    "            if label == 0:  # normal\n",
    "                normal_similarities.append(sim_score)\n",
    "            else:  # fall\n",
    "                fall_similarities.append(sim_score)\n",
    "    \n",
    "    return np.array(normal_similarities), np.array(fall_similarities)\n",
    "\n",
    "normal_sims, fall_sims = calculate_similarities(model, test_dataset)\n",
    "\n",
    "print(\"[ ADL data ]\")\n",
    "print(f\"  Mean: {np.mean(normal_sims):.4f}\")\n",
    "print(f\"  Std: {np.std(normal_sims):.4f}\")\n",
    "print(f\"  Min: {np.min(normal_sims):.4f}\")\n",
    "print(f\"  Max: {np.max(normal_sims):.4f}\")\n",
    "for i in range (20) :\n",
    "    print ('ADL ind', i+1, ':', normal_sims[i])\n",
    "\n",
    "print ()\n",
    "print(\"[ FALL data ]\")\n",
    "print(f\"  Mean: {np.mean(fall_sims):.4f}\")\n",
    "print(f\"  Std: {np.std(fall_sims):.4f}\")\n",
    "print(f\"  Min: {np.min(fall_sims):.4f}\")\n",
    "print(f\"  Max: {np.max(fall_sims):.4f}\")\n",
    "for i in range (20) :\n",
    "    print ('FALL ind', i+1, ':', fall_sims[i])"
   ]
  },
  {
   "cell_type": "code",
   "execution_count": 85,
   "id": "675d6168",
   "metadata": {
    "ExecuteTime": {
     "end_time": "2025-02-05T05:46:12.599914Z",
     "start_time": "2025-02-05T05:46:12.596929Z"
    }
   },
   "outputs": [],
   "source": [
    "threshold = np.percentile(normal_similarities, 10)"
   ]
  },
  {
   "cell_type": "code",
   "execution_count": 86,
   "id": "b40abe82",
   "metadata": {
    "ExecuteTime": {
     "end_time": "2025-02-05T05:46:13.381958Z",
     "start_time": "2025-02-05T05:46:13.042290Z"
    }
   },
   "outputs": [
    {
     "data": {
      "image/png": "[encoded data removed]",
      "text/plain": [
       "<Figure size 640x480 with 1 Axes>"
      ]
     },
     "metadata": {},
     "output_type": "display_data"
    }
   ],
   "source": [
    "indices = range(len(test_similarities))\n",
    "plt.scatter([i for i, l in zip(indices, test_pred_labels) if l == 0], \n",
    "           [s for s, l in zip(test_similarities, test_pred_labels) if l == 0],\n",
    "           c='blue', label='Normal (ADL)', alpha=0.5, s=20)\n",
    "plt.scatter([i for i, l in zip(indices, test_pred_labels) if l == 1],\n",
    "           [s for s, l in zip(test_similarities, test_pred_labels) if l == 1],\n",
    "           c='red', label='Fall', alpha=0.5, s=20)\n",
    "plt.axhline(y=threshold, color='green', linestyle='--', label=f'Threshold ({threshold:.3f})')\n",
    "# plt.ylim(0.0078100, 0.0078150)\n",
    "plt.xlabel('Sample Index')\n",
    "plt.ylabel('Similarity Score')\n",
    "plt.title('Similarity Scores')\n",
    "plt.legend()\n",
    "plt.grid(True)"
   ]
  },
  {
   "cell_type": "code",
   "execution_count": 87,
   "id": "1f74c78b",
   "metadata": {
    "ExecuteTime": {
     "end_time": "2025-02-05T05:46:34.962564Z",
     "start_time": "2025-02-05T05:46:34.959144Z"
    }
   },
   "outputs": [],
   "source": [
    "predictions = [1 if sim < threshold else 0 for sim in test_similarities] \n",
    "true_labels = test_pred_labels"
   ]
  },
  {
   "cell_type": "code",
   "execution_count": 88,
   "id": "53cf03cf",
   "metadata": {
    "ExecuteTime": {
     "end_time": "2025-02-05T05:46:35.638962Z",
     "start_time": "2025-02-05T05:46:35.469832Z"
    }
   },
   "outputs": [
    {
     "data": {
      "image/png": "[encoded data removed]",
      "text/plain": [
       "<Figure size 1000x800 with 2 Axes>"
      ]
     },
     "metadata": {},
     "output_type": "display_data"
    }
   ],
   "source": [
    "cm = confusion_matrix(true_labels, predictions)\n",
    "plt.figure(figsize=(10, 8))\n",
    "sns.heatmap(cm, annot=True, fmt='d', cmap='Blues')\n",
    "plt.title('Confusion Matrix')\n",
    "plt.ylabel('True Label')\n",
    "plt.xlabel('Predicted Label')\n",
    "labels = ['ADL', 'Fall']\n",
    "plt.xticks([0.5, 1.5], labels)\n",
    "plt.yticks([0.5, 1.5], labels)\n",
    "plt.show()"
   ]
  },
  {
   "cell_type": "code",
   "execution_count": 89,
   "id": "2e0d8e3f",
   "metadata": {
    "ExecuteTime": {
     "end_time": "2025-02-05T05:46:39.116509Z",
     "start_time": "2025-02-05T05:46:39.098652Z"
    }
   },
   "outputs": [
    {
     "name": "stdout",
     "output_type": "stream",
     "text": [
      "classification report\n",
      "              precision    recall  f1-score   support\n",
      "\n",
      "         ADL       0.41      0.80      0.54      1261\n",
      "        Fall       0.74      0.33      0.45      2190\n",
      "\n",
      "    accuracy                           0.50      3451\n",
      "   macro avg       0.57      0.56      0.49      3451\n",
      "weighted avg       0.62      0.50      0.48      3451\n",
      "\n"
     ]
    }
   ],
   "source": [
    "print (\"classification report\")\n",
    "print(classification_report(true_labels, predictions, \n",
    "                          target_names=['ADL', 'Fall']))"
   ]
  },
  {
   "cell_type": "code",
   "execution_count": null,
   "id": "fc6a2743",
   "metadata": {},
   "outputs": [],
   "source": []
  }
 ],
 "metadata": {
  "kernelspec": {
   "display_name": "Python 3 (ipykernel)",
   "language": "python",
   "name": "python3"
  },
  "language_info": {
   "codemirror_mode": {
    "name": "ipython",
    "version": 3
   },
   "file_extension": ".py",
   "mimetype": "text/x-python",
   "name": "python",
   "nbconvert_exporter": "python",
   "pygments_lexer": "ipython3",
   "version": "3.11.3"
  },
  "varInspector": {
   "cols": {
    "lenName": 16,
    "lenType": 16,
    "lenVar": 40
   },
   "kernels_config": {
    "python": {
     "delete_cmd_postfix": "",
     "delete_cmd_prefix": "del ",
     "library": "var_list.py",
     "varRefreshCmd": "print(var_dic_list())"
    },
    "r": {
     "delete_cmd_postfix": ") ",
     "delete_cmd_prefix": "rm(",
     "library": "var_list.r",
     "varRefreshCmd": "cat(var_dic_list()) "
    }
   },
   "types_to_exclude": [
    "module",
    "function",
    "builtin_function_or_method",
    "instance",
    "_Feature"
   ],
   "window_display": false
  }
 },
 "nbformat": 4,
 "nbformat_minor": 5
}
